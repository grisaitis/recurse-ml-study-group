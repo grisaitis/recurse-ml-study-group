{
 "cells": [
  {
   "cell_type": "code",
   "execution_count": 1,
   "metadata": {},
   "outputs": [],
   "source": [
    "import copy"
   ]
  },
  {
   "cell_type": "code",
   "execution_count": 2,
   "metadata": {},
   "outputs": [],
   "source": [
    "import logging\n",
    "\n",
    "class LoggerMixin(object):\n",
    "    @property\n",
    "    def logger(self):\n",
    "        name = '.'.join([\n",
    "            self.__module__,\n",
    "            self.__class__.__name__,\n",
    "            str(id(self))\n",
    "        ])\n",
    "        logger = logging.getLogger(name)\n",
    "        chandler = logging.StreamHandler()\n",
    "        chandler.setLevel(logging.DEBUG)\n",
    "        formatter = logging.Formatter('%(asctime)s - %(name)s - %(levelname)s - %(message)s')\n",
    "        chandler.setFormatter(formatter)\n",
    "        logger.addHandler(chandler)\n",
    "        logger.setLevel(logging.DEBUG)\n",
    "        return logger\n"
   ]
  },
  {
   "cell_type": "code",
   "execution_count": 3,
   "metadata": {},
   "outputs": [
    {
     "name": "stderr",
     "output_type": "stream",
     "text": [
      "DEBUG:root:test\n"
     ]
    }
   ],
   "source": [
    "import logging\n",
    "logger = logging.getLogger()\n",
    "logger.setLevel(logging.DEBUG)\n",
    "logging.debug(\"test\")\n"
   ]
  },
  {
   "cell_type": "code",
   "execution_count": 4,
   "metadata": {},
   "outputs": [
    {
     "data": {
      "text/plain": [
       "[<StreamHandler stderr (NOTSET)>]"
      ]
     },
     "execution_count": 4,
     "metadata": {},
     "output_type": "execute_result"
    }
   ],
   "source": [
    "logger.handlers"
   ]
  },
  {
   "cell_type": "code",
   "execution_count": 5,
   "metadata": {},
   "outputs": [],
   "source": [
    "class Matrix(LoggerMixin, object):\n",
    "    def __init__(self, data):\n",
    "        super().__init__()\n",
    "        n = len(data)\n",
    "        m = len(data[0])\n",
    "        assert all(len(sub_array) == m for sub_array in data)\n",
    "        self.data = [[float(element) for element in row] for row in data]\n",
    "        self.shape = (n, m)\n",
    "        self.logger.info(\"hello!\")\n",
    "\n",
    "    def __len__(self):\n",
    "        return len(self.data)\n",
    "\n",
    "    def __repr__(self):\n",
    "        return \"Matrix([\\n    \" \\\n",
    "            + \"\\n    \".join(repr(row) for row in self.data) + \"\\n])\"\n",
    "\n",
    "    def __getitem__(self, item):\n",
    "        return self.data[item]\n",
    "\n",
    "    def copy(self):\n",
    "        return Matrix(copy.deepcopy(self.data))\n",
    "\n",
    "    def multiply_by(self, other):\n",
    "        assert other.shape == tuple(reversed(self.shape))\n",
    "        return Matrix([\n",
    "            [\n",
    "                float(sum(\n",
    "                    self.data[self_row][self_column] \\\n",
    "                        * other.data[other_row][other_column]\n",
    "                    for self_column, other_row in \n",
    "                        zip(range(self.shape[1]), range(other.shape[0]))\n",
    "                ))\n",
    "                for other_column in range(other.shape[1])\n",
    "            ]\n",
    "            for self_row in range(self.shape[0])\n",
    "        ])\n",
    "\n",
    "    @classmethod\n",
    "    def identity(cls, n):\n",
    "        matrix = cls([\n",
    "            [0 for _ in range(n)]\n",
    "            for _ in range(n)\n",
    "        ])\n",
    "        for j in range(n):\n",
    "            matrix[j][j] = 1.0\n",
    "        return matrix\n",
    "        \n",
    "    def is_square(self):\n",
    "        return self.shape[0] == self.shape[1]\n",
    "\n",
    "    def invert(self):\n",
    "        n = self.shape[0]\n",
    "        operations_so_far = Matrix.identity(n)\n",
    "        self_copy = self.copy()\n",
    "\n",
    "        for k in range(n):\n",
    "            print(f\"processing column {k}\")\n",
    "            print(\"self_copy =\", self_copy)\n",
    "\n",
    "            # reorder rows\n",
    "            row_reordering = \\\n",
    "                list(range(k)) + \\\n",
    "                list(reversed(sorted(\n",
    "                    range(k, n),\n",
    "                    key=lambda j: abs(self_copy[j][k])\n",
    "            )))\n",
    "            reorder_op = Matrix([Matrix.identity(n).data[j] for j in row_reordering])\n",
    "            self.logger.info(\"reorder_op =\" + str(reorder_op))\n",
    "            operations_so_far = reorder_op.multiply_by(operations_so_far)\n",
    "#             print(\"operations_so_far =\", operations_so_far)\n",
    "            self_copy = reorder_op.multiply_by(self_copy)\n",
    "            print(\"self_copy =\", self_copy)\n",
    "\n",
    "            # normalize this row\n",
    "            normalization_op = Matrix.identity(n)\n",
    "            normalization_op[k][k] = 1.0 / self_copy[k][k]\n",
    "            print(\"normalization_op = \", normalization_op)\n",
    "            operations_so_far = normalization_op.multiply_by(operations_so_far)\n",
    "#             print(\"operations_so_far =\", operations_so_far)\n",
    "            self_copy = normalization_op.multiply_by(self_copy)\n",
    "            print(\"self_copy =\", self_copy)\n",
    "\n",
    "            # eliminate the other rows\n",
    "            eliminations_op = Matrix.identity(n)\n",
    "            for j in range(n):\n",
    "                if j == k:\n",
    "                    continue\n",
    "                eliminations_op[j][k] = -1.0 * self_copy[j][k]\n",
    "            print(\"eliminations_op =\", eliminations_op)\n",
    "            operations_so_far = eliminations_op.multiply_by(operations_so_far)\n",
    "            print(\"operations_so_far =\", operations_so_far)\n",
    "            self_copy = eliminations_op.multiply_by(self_copy)\n",
    "            print(\"self_copy =\", self_copy)\n",
    "\n",
    "            print(\"\\n\")\n",
    "\n",
    "        return operations_so_far\n"
   ]
  },
  {
   "cell_type": "markdown",
   "metadata": {},
   "source": [
    "# Tests"
   ]
  },
  {
   "cell_type": "markdown",
   "metadata": {},
   "source": [
    "## matrix inversion"
   ]
  },
  {
   "cell_type": "code",
   "execution_count": 6,
   "metadata": {},
   "outputs": [
    {
     "name": "stderr",
     "output_type": "stream",
     "text": [
      "2019-10-08 13:00:56,948 - __main__.Matrix.4508182624 - INFO - hello!\n",
      "INFO:__main__.Matrix.4508182624:hello!\n"
     ]
    }
   ],
   "source": [
    "X = Matrix([\n",
    "    [1, 0],\n",
    "    [0, 1]\n",
    "])\n",
    "# X.invert()"
   ]
  },
  {
   "cell_type": "code",
   "execution_count": null,
   "metadata": {},
   "outputs": [],
   "source": [
    "X = Matrix([\n",
    "    [3, 1],\n",
    "    [4, 2]\n",
    "])\n",
    "X_inverse = X.invert()\n",
    "print(\"X_inverse = \", X_inverse)\n",
    "X_inverse.multiply_by(X)"
   ]
  },
  {
   "cell_type": "code",
   "execution_count": null,
   "metadata": {},
   "outputs": [],
   "source": [
    "Matrix([\n",
    "    [1, 0, 0],\n",
    "    [0, 2, 0],\n",
    "    [0, 0, 3]\n",
    "]).invert()"
   ]
  },
  {
   "cell_type": "code",
   "execution_count": null,
   "metadata": {},
   "outputs": [],
   "source": [
    "Matrix([\n",
    "    [2, 5, 0],\n",
    "    [1, 0, 1],\n",
    "    [1, 2, 0],\n",
    "]).invert()"
   ]
  },
  {
   "cell_type": "code",
   "execution_count": null,
   "metadata": {},
   "outputs": [],
   "source": [
    "Matrix([\n",
    "    [1, 0],\n",
    "    [0, 1]\n",
    "]).invert()"
   ]
  },
  {
   "cell_type": "code",
   "execution_count": null,
   "metadata": {},
   "outputs": [],
   "source": [
    "Matrix([\n",
    "    [2, 0],\n",
    "    [0, 1]\n",
    "]).invert()"
   ]
  },
  {
   "cell_type": "code",
   "execution_count": null,
   "metadata": {},
   "outputs": [],
   "source": [
    "Matrix([\n",
    "    [1, 0],\n",
    "    [0, 2]\n",
    "]).invert()"
   ]
  },
  {
   "cell_type": "code",
   "execution_count": null,
   "metadata": {},
   "outputs": [],
   "source": [
    "Matrix([\n",
    "    [1, 0, 0],\n",
    "    [0, 2, 0],\n",
    "    [0, 0, 1]\n",
    "]).invert().multiply_by(Matrix([\n",
    "    [1, 0, 0],\n",
    "    [0, 2, 0],\n",
    "    [0, 0, 1]\n",
    "]))"
   ]
  },
  {
   "cell_type": "markdown",
   "metadata": {},
   "source": [
    "## matrix multiplication\n"
   ]
  },
  {
   "cell_type": "code",
   "execution_count": null,
   "metadata": {},
   "outputs": [],
   "source": [
    "Matrix([[0.5]]).multiply_by(Matrix([[2]]))"
   ]
  },
  {
   "cell_type": "code",
   "execution_count": null,
   "metadata": {},
   "outputs": [],
   "source": [
    "Matrix([\n",
    "    [1, 2],\n",
    "    [3, 4]\n",
    "]).multiply_by(Matrix([\n",
    "    [1, 0],\n",
    "    [0, 1]\n",
    "]))"
   ]
  },
  {
   "cell_type": "code",
   "execution_count": null,
   "metadata": {},
   "outputs": [],
   "source": [
    "Matrix([\n",
    "    [1, 2],\n",
    "    [3, 4]\n",
    "]).multiply_by(Matrix([\n",
    "    [0, 1],\n",
    "    [1, 0]\n",
    "]))"
   ]
  },
  {
   "cell_type": "code",
   "execution_count": null,
   "metadata": {},
   "outputs": [],
   "source": [
    "Matrix([\n",
    "    [1, 2],\n",
    "    [3, 4]\n",
    "]).multiply_by(Matrix([\n",
    "    [2, 0],\n",
    "    [0, 2]\n",
    "]))"
   ]
  },
  {
   "cell_type": "code",
   "execution_count": null,
   "metadata": {},
   "outputs": [],
   "source": [
    "Matrix([\n",
    "    [1, 2],\n",
    "    [3, 4]\n",
    "]).multiply_by(Matrix([\n",
    "    [1, 0],\n",
    "    [0, 2]\n",
    "]))"
   ]
  },
  {
   "cell_type": "code",
   "execution_count": null,
   "metadata": {},
   "outputs": [],
   "source": [
    "Matrix([\n",
    "    [1, 2],\n",
    "    [3, 4]\n",
    "]).multiply_by(Matrix([\n",
    "    [1, 1],\n",
    "    [0, 1]\n",
    "]))"
   ]
  },
  {
   "cell_type": "markdown",
   "metadata": {},
   "source": [
    "### to do - matrix transpose"
   ]
  },
  {
   "cell_type": "code",
   "execution_count": null,
   "metadata": {},
   "outputs": [],
   "source": []
  },
  {
   "cell_type": "markdown",
   "metadata": {},
   "source": [
    "# Basics"
   ]
  },
  {
   "cell_type": "code",
   "execution_count": null,
   "metadata": {},
   "outputs": [],
   "source": [
    "X = Matrix([[1, 2], [3, 4], [5, 6]])\n",
    "X"
   ]
  },
  {
   "cell_type": "code",
   "execution_count": null,
   "metadata": {},
   "outputs": [],
   "source": [
    "Y = Matrix([[1, 2, 3], [4, 5, 6]])\n",
    "Y"
   ]
  },
  {
   "cell_type": "code",
   "execution_count": null,
   "metadata": {
    "scrolled": true
   },
   "outputs": [],
   "source": [
    "Y[1, 2:3, :]"
   ]
  }
 ],
 "metadata": {
  "kernelspec": {
   "display_name": "Python 3",
   "language": "python",
   "name": "python3"
  },
  "language_info": {
   "codemirror_mode": {
    "name": "ipython",
    "version": 3
   },
   "file_extension": ".py",
   "mimetype": "text/x-python",
   "name": "python",
   "nbconvert_exporter": "python",
   "pygments_lexer": "ipython3",
   "version": "3.7.2"
  }
 },
 "nbformat": 4,
 "nbformat_minor": 2
}

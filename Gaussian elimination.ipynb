{
 "cells": [
  {
   "cell_type": "code",
   "execution_count": 68,
   "metadata": {},
   "outputs": [],
   "source": [
    "import copy"
   ]
  },
  {
   "cell_type": "code",
   "execution_count": 122,
   "metadata": {},
   "outputs": [],
   "source": [
    "class Matrix(object):\n",
    "    def __init__(self, data):\n",
    "        n = len(data)\n",
    "        m = len(data[0])\n",
    "        assert all(len(sub_array) == m for sub_array in data)\n",
    "        self.data = [[float(element) for element in row] for row in data]\n",
    "        self.shape = (n, m)\n",
    "\n",
    "    def __len__(self):\n",
    "        return len(self.data)\n",
    "\n",
    "    def __repr__(self):\n",
    "        return \"Matrix([\\n    \" \\\n",
    "            + \"\\n    \".join(repr(row) for row in self.data) + \"\\n])\"\n",
    "\n",
    "    def __getitem__(self, item):\n",
    "        return self.data[item]\n",
    "\n",
    "    def copy(self):\n",
    "        return Matrix(copy.deepcopy(self.data))\n",
    "\n",
    "    def multiply_by(self, other):\n",
    "        assert other.shape == tuple(reversed(self.shape))\n",
    "        return Matrix([\n",
    "            [\n",
    "                float(sum(\n",
    "                    self.data[self_row][self_column] \\\n",
    "                        * other.data[other_row][other_column]\n",
    "                    for self_column, other_row in \n",
    "                        zip(range(self.shape[1]), range(other.shape[0]))\n",
    "                ))\n",
    "                for other_column in range(other.shape[1])\n",
    "            ]\n",
    "            for self_row in range(self.shape[0])\n",
    "        ])\n",
    "\n",
    "    @classmethod\n",
    "    def identity(cls, n):\n",
    "        matrix = cls([\n",
    "            [0 for _ in range(n)]\n",
    "            for _ in range(n)\n",
    "        ])\n",
    "        for j in range(n):\n",
    "            matrix[j][j] = 1\n",
    "        return matrix\n",
    "        \n",
    "    def is_square(self):\n",
    "        return self.shape[0] == self.shape[1]\n",
    "\n",
    "    def invert(self):\n",
    "        n = self.shape[0]\n",
    "        operations_so_far = Matrix.identity(n)\n",
    "        self_copy = self.copy()\n",
    "\n",
    "        for k in range(n):\n",
    "            print(f\"processing column {k}\")\n",
    "            print(\"self_copy =\", self_copy)\n",
    "\n",
    "            # reorder rows\n",
    "            row_reordering = \\\n",
    "                list(range(k)) + \\\n",
    "                list(reversed(sorted(\n",
    "                    range(k, n),\n",
    "                    key=lambda j: abs(self_copy[j][k])\n",
    "            )))\n",
    "            reorder_op = Matrix([Matrix.identity(n).data[j] for j in row_reordering])\n",
    "            print(\"reorder_op =\", reorder_op)\n",
    "            operations_so_far = reorder_op.multiply_by(operations_so_far)\n",
    "#             print(\"operations_so_far =\", operations_so_far)\n",
    "            self_copy = reorder_op.multiply_by(self_copy)\n",
    "            print(\"self_copy =\", self_copy)\n",
    "\n",
    "            # normalize this row\n",
    "            normalization_op = Matrix.identity(n)\n",
    "            normalization_op[k][k] = 1.0 / self_copy[k][k]\n",
    "            print(\"normalization_op = \", normalization_op)\n",
    "            operations_so_far = normalization_op.multiply_by(operations_so_far)\n",
    "#             print(\"operations_so_far =\", operations_so_far)\n",
    "            self_copy = normalization_op.multiply_by(self_copy)\n",
    "            print(\"self_copy =\", self_copy)\n",
    "\n",
    "            # eliminate the other rows\n",
    "            eliminations_op = Matrix.identity(n)\n",
    "            for j in range(n):\n",
    "                if j == k:\n",
    "                    continue\n",
    "                eliminations_op[j][k] = -1.0 * self_copy[j][k]\n",
    "            print(\"eliminations_op =\", eliminations_op)\n",
    "            operations_so_far = eliminations_op.multiply_by(operations_so_far)\n",
    "            print(\"operations_so_far =\", operations_so_far)\n",
    "            self_copy = eliminations_op.multiply_by(self_copy)\n",
    "            print(\"self_copy =\", self_copy)\n",
    "\n",
    "            print(\"\\n\")\n",
    "\n",
    "        return operations_so_far\n"
   ]
  },
  {
   "cell_type": "markdown",
   "metadata": {},
   "source": [
    "# Tests"
   ]
  },
  {
   "cell_type": "markdown",
   "metadata": {},
   "source": [
    "## matrix inversion"
   ]
  },
  {
   "cell_type": "code",
   "execution_count": 123,
   "metadata": {},
   "outputs": [
    {
     "name": "stdout",
     "output_type": "stream",
     "text": [
      "processing column 0\n",
      "self_copy = Matrix([\n",
      "    [3.0, 1.0]\n",
      "    [4.0, 2.0]\n",
      "])\n",
      "reorder_op = Matrix([\n",
      "    [0.0, 1.0]\n",
      "    [1.0, 0.0]\n",
      "])\n",
      "self_copy = Matrix([\n",
      "    [4.0, 2.0]\n",
      "    [3.0, 1.0]\n",
      "])\n",
      "normalization_op =  Matrix([\n",
      "    [0.25, 0.0]\n",
      "    [0.0, 1]\n",
      "])\n",
      "self_copy = Matrix([\n",
      "    [1.0, 0.5]\n",
      "    [3.0, 1.0]\n",
      "])\n",
      "eliminations_op = Matrix([\n",
      "    [1, 0.0]\n",
      "    [-3.0, 1]\n",
      "])\n",
      "operations_so_far = Matrix([\n",
      "    [0.0, 0.25]\n",
      "    [1.0, -0.75]\n",
      "])\n",
      "self_copy = Matrix([\n",
      "    [1.0, 0.5]\n",
      "    [0.0, -0.5]\n",
      "])\n",
      "\n",
      "\n",
      "processing column 1\n",
      "self_copy = Matrix([\n",
      "    [1.0, 0.5]\n",
      "    [0.0, -0.5]\n",
      "])\n",
      "reorder_op = Matrix([\n",
      "    [1.0, 0.0]\n",
      "    [0.0, 1.0]\n",
      "])\n",
      "self_copy = Matrix([\n",
      "    [1.0, 0.5]\n",
      "    [0.0, -0.5]\n",
      "])\n",
      "normalization_op =  Matrix([\n",
      "    [1, 0.0]\n",
      "    [0.0, -2.0]\n",
      "])\n",
      "self_copy = Matrix([\n",
      "    [1.0, 0.5]\n",
      "    [0.0, 1.0]\n",
      "])\n",
      "eliminations_op = Matrix([\n",
      "    [1, -0.5]\n",
      "    [0.0, 1]\n",
      "])\n",
      "operations_so_far = Matrix([\n",
      "    [1.0, -0.5]\n",
      "    [-2.0, 1.5]\n",
      "])\n",
      "self_copy = Matrix([\n",
      "    [1.0, 0.0]\n",
      "    [0.0, 1.0]\n",
      "])\n",
      "\n",
      "\n",
      "X_inverse =  Matrix([\n",
      "    [1.0, -0.5]\n",
      "    [-2.0, 1.5]\n",
      "])\n"
     ]
    },
    {
     "data": {
      "text/plain": [
       "Matrix([\n",
       "    [1.0, 0.0]\n",
       "    [0.0, 1.0]\n",
       "])"
      ]
     },
     "execution_count": 123,
     "metadata": {},
     "output_type": "execute_result"
    }
   ],
   "source": [
    "X = Matrix([\n",
    "    [3, 1],\n",
    "    [4, 2]\n",
    "])\n",
    "X_inverse = X.invert()\n",
    "print(\"X_inverse = \", X_inverse)\n",
    "X_inverse.multiply_by(X)"
   ]
  },
  {
   "cell_type": "code",
   "execution_count": 78,
   "metadata": {},
   "outputs": [
    {
     "name": "stdout",
     "output_type": "stream",
     "text": [
      "new_row_ordering [2, 1, 0]\n",
      "result = Matrix([\n",
      "    [0, 0, 1]\n",
      "    [0, 1, 0]\n",
      "    [1, 0, 0]\n",
      "])\n",
      "self_changed = Matrix([\n",
      "    [3.0, 0.0, 1.0]\n",
      "    [2.0, 1.0, 0.0]\n",
      "    [1.0, 2.0, 0.0]\n",
      "])\n",
      "new_row_ordering [0, 2, 1]\n",
      "result = Matrix([\n",
      "    [0, 0, 1]\n",
      "    [1, 0, 0]\n",
      "    [0, 1, 0]\n",
      "])\n",
      "self_changed = Matrix([\n",
      "    [3.0, 0.0, 1.0]\n",
      "    [1.0, 2.0, 0.0]\n",
      "    [2.0, 1.0, 0.0]\n",
      "])\n",
      "new_row_ordering [0, 1, 2]\n",
      "result = Matrix([\n",
      "    [0, 0, 1]\n",
      "    [1, 0, 0]\n",
      "    [0, 1, 0]\n",
      "])\n",
      "self_changed = Matrix([\n",
      "    [3.0, 0.0, 1.0]\n",
      "    [1.0, 2.0, 0.0]\n",
      "    [2.0, 1.0, 0.0]\n",
      "])\n"
     ]
    },
    {
     "data": {
      "text/plain": [
       "Matrix([\n",
       "    [0, 0, 1]\n",
       "    [1, 0, 0]\n",
       "    [0, 1, 0]\n",
       "])"
      ]
     },
     "execution_count": 78,
     "metadata": {},
     "output_type": "execute_result"
    }
   ],
   "source": [
    "Matrix([\n",
    "    [1, 2, 0],\n",
    "    [2, 1, 0],\n",
    "    [3, 0, 1]\n",
    "]).invert()"
   ]
  },
  {
   "cell_type": "code",
   "execution_count": 54,
   "metadata": {},
   "outputs": [
    {
     "name": "stdout",
     "output_type": "stream",
     "text": [
      "[0, 2, 1]\n",
      "[0, 1, 2]\n",
      "[0, 1, 2]\n"
     ]
    },
    {
     "data": {
      "text/plain": [
       "Matrix([\n",
       "    [1, 0, 0]\n",
       "    [0, 1, 0]\n",
       "    [0, 0, 1]\n",
       "])"
      ]
     },
     "execution_count": 54,
     "metadata": {},
     "output_type": "execute_result"
    }
   ],
   "source": [
    "Matrix([\n",
    "    [1, 0, 0],\n",
    "    [0, 2, 0],\n",
    "    [0, 0, 3]\n",
    "]).invert()"
   ]
  },
  {
   "cell_type": "code",
   "execution_count": 48,
   "metadata": {},
   "outputs": [
    {
     "name": "stdout",
     "output_type": "stream",
     "text": [
      "Matrix([\n",
      "    [1, 0]\n",
      "    [0, 1]\n",
      "])\n",
      "Matrix([\n",
      "    [1, 0]\n",
      "    [0, 1]\n",
      "])\n",
      "Matrix([\n",
      "    [1, 0]\n",
      "    [0, 1]\n",
      "])\n"
     ]
    },
    {
     "data": {
      "text/plain": [
       "Matrix([\n",
       "    [1, 0]\n",
       "    [0, 1]\n",
       "])"
      ]
     },
     "execution_count": 48,
     "metadata": {},
     "output_type": "execute_result"
    }
   ],
   "source": [
    "Matrix([\n",
    "    [1, 0],\n",
    "    [0, 1]\n",
    "]).invert()"
   ]
  },
  {
   "cell_type": "code",
   "execution_count": 32,
   "metadata": {},
   "outputs": [
    {
     "name": "stdout",
     "output_type": "stream",
     "text": [
      "<list_reverseiterator object at 0x104c99cf8>\n",
      "Matrix([\n",
      "    [1, 0]\n",
      "    [0, 1]\n",
      "])\n"
     ]
    },
    {
     "data": {
      "text/plain": [
       "Matrix([\n",
       "    [1, 0]\n",
       "    [0, 1]\n",
       "])"
      ]
     },
     "execution_count": 32,
     "metadata": {},
     "output_type": "execute_result"
    }
   ],
   "source": [
    "Matrix([\n",
    "    [2, 0],\n",
    "    [0, 1]\n",
    "]).invert()"
   ]
  },
  {
   "cell_type": "code",
   "execution_count": 33,
   "metadata": {},
   "outputs": [
    {
     "name": "stdout",
     "output_type": "stream",
     "text": [
      "<list_reverseiterator object at 0x104ca2320>\n",
      "Matrix([\n",
      "    [0, 1]\n",
      "    [1, 0]\n",
      "])\n"
     ]
    },
    {
     "data": {
      "text/plain": [
       "Matrix([\n",
       "    [0, 1]\n",
       "    [1, 0]\n",
       "])"
      ]
     },
     "execution_count": 33,
     "metadata": {},
     "output_type": "execute_result"
    }
   ],
   "source": [
    "Matrix([\n",
    "    [1, 0],\n",
    "    [0, 2]\n",
    "]).invert()"
   ]
  },
  {
   "cell_type": "code",
   "execution_count": 36,
   "metadata": {},
   "outputs": [
    {
     "name": "stdout",
     "output_type": "stream",
     "text": [
      "<list_reverseiterator object at 0x1042e2f98>\n",
      "Matrix([\n",
      "    [0, 1, 0]\n",
      "    [0, 0, 1]\n",
      "    [1, 0, 0]\n",
      "])\n"
     ]
    },
    {
     "data": {
      "text/plain": [
       "Matrix([\n",
       "    [0.0, 2.0, 0.0]\n",
       "    [0.0, 0.0, 1.0]\n",
       "    [1.0, 0.0, 0.0]\n",
       "])"
      ]
     },
     "execution_count": 36,
     "metadata": {},
     "output_type": "execute_result"
    }
   ],
   "source": [
    "Matrix([\n",
    "    [1, 0, 0],\n",
    "    [0, 2, 0],\n",
    "    [0, 0, 1]\n",
    "]).invert().multiply_by(Matrix([\n",
    "    [1, 0, 0],\n",
    "    [0, 2, 0],\n",
    "    [0, 0, 1]\n",
    "]))"
   ]
  },
  {
   "cell_type": "markdown",
   "metadata": {},
   "source": [
    "## matrix multiplication\n"
   ]
  },
  {
   "cell_type": "code",
   "execution_count": 100,
   "metadata": {},
   "outputs": [
    {
     "data": {
      "text/plain": [
       "Matrix([\n",
       "    [1.0]\n",
       "])"
      ]
     },
     "execution_count": 100,
     "metadata": {},
     "output_type": "execute_result"
    }
   ],
   "source": [
    "Matrix([[0.5]]).multiply_by(Matrix([[2]]))"
   ]
  },
  {
   "cell_type": "code",
   "execution_count": 101,
   "metadata": {},
   "outputs": [
    {
     "data": {
      "text/plain": [
       "Matrix([\n",
       "    [1.0, 2.0]\n",
       "    [3.0, 4.0]\n",
       "])"
      ]
     },
     "execution_count": 101,
     "metadata": {},
     "output_type": "execute_result"
    }
   ],
   "source": [
    "Matrix([\n",
    "    [1, 2],\n",
    "    [3, 4]\n",
    "]).multiply_by(Matrix([\n",
    "    [1, 0],\n",
    "    [0, 1]\n",
    "]))"
   ]
  },
  {
   "cell_type": "code",
   "execution_count": 102,
   "metadata": {},
   "outputs": [
    {
     "data": {
      "text/plain": [
       "Matrix([\n",
       "    [2.0, 1.0]\n",
       "    [4.0, 3.0]\n",
       "])"
      ]
     },
     "execution_count": 102,
     "metadata": {},
     "output_type": "execute_result"
    }
   ],
   "source": [
    "Matrix([\n",
    "    [1, 2],\n",
    "    [3, 4]\n",
    "]).multiply_by(Matrix([\n",
    "    [0, 1],\n",
    "    [1, 0]\n",
    "]))"
   ]
  },
  {
   "cell_type": "code",
   "execution_count": 103,
   "metadata": {},
   "outputs": [
    {
     "data": {
      "text/plain": [
       "Matrix([\n",
       "    [2.0, 4.0]\n",
       "    [6.0, 8.0]\n",
       "])"
      ]
     },
     "execution_count": 103,
     "metadata": {},
     "output_type": "execute_result"
    }
   ],
   "source": [
    "Matrix([\n",
    "    [1, 2],\n",
    "    [3, 4]\n",
    "]).multiply_by(Matrix([\n",
    "    [2, 0],\n",
    "    [0, 2]\n",
    "]))"
   ]
  },
  {
   "cell_type": "code",
   "execution_count": 104,
   "metadata": {},
   "outputs": [
    {
     "data": {
      "text/plain": [
       "Matrix([\n",
       "    [1.0, 4.0]\n",
       "    [3.0, 8.0]\n",
       "])"
      ]
     },
     "execution_count": 104,
     "metadata": {},
     "output_type": "execute_result"
    }
   ],
   "source": [
    "Matrix([\n",
    "    [1, 2],\n",
    "    [3, 4]\n",
    "]).multiply_by(Matrix([\n",
    "    [1, 0],\n",
    "    [0, 2]\n",
    "]))"
   ]
  },
  {
   "cell_type": "code",
   "execution_count": null,
   "metadata": {},
   "outputs": [],
   "source": [
    "Matrix([\n",
    "    [1, 2],\n",
    "    [3, 4]\n",
    "]).multiply_by(Matrix([\n",
    "    [1, 1],\n",
    "    [0, 1]\n",
    "]))"
   ]
  },
  {
   "cell_type": "markdown",
   "metadata": {},
   "source": [
    "### to do - matrix transpose"
   ]
  },
  {
   "cell_type": "code",
   "execution_count": null,
   "metadata": {},
   "outputs": [],
   "source": []
  },
  {
   "cell_type": "markdown",
   "metadata": {},
   "source": [
    "# Basics"
   ]
  },
  {
   "cell_type": "code",
   "execution_count": null,
   "metadata": {},
   "outputs": [],
   "source": [
    "X = Matrix([[1, 2], [3, 4], [5, 6]])\n",
    "X"
   ]
  },
  {
   "cell_type": "code",
   "execution_count": null,
   "metadata": {},
   "outputs": [],
   "source": [
    "Y = Matrix([[1, 2, 3], [4, 5, 6]])\n",
    "Y"
   ]
  },
  {
   "cell_type": "code",
   "execution_count": null,
   "metadata": {
    "scrolled": true
   },
   "outputs": [],
   "source": [
    "Y[1, 2:3, :]"
   ]
  }
 ],
 "metadata": {
  "kernelspec": {
   "display_name": "Python 3",
   "language": "python",
   "name": "python3"
  },
  "language_info": {
   "codemirror_mode": {
    "name": "ipython",
    "version": 3
   },
   "file_extension": ".py",
   "mimetype": "text/x-python",
   "name": "python",
   "nbconvert_exporter": "python",
   "pygments_lexer": "ipython3",
   "version": "3.7.2"
  }
 },
 "nbformat": 4,
 "nbformat_minor": 2
}

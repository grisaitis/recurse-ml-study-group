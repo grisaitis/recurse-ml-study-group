{
 "cells": [
  {
   "cell_type": "code",
   "execution_count": 1,
   "metadata": {},
   "outputs": [],
   "source": [
    "import copy\n",
    "import itertools\n",
    "import logging"
   ]
  },
  {
   "cell_type": "code",
   "execution_count": 2,
   "metadata": {},
   "outputs": [],
   "source": [
    "class LoggerMixin(object):\n",
    "    logger_level = logging.INFO\n",
    "\n",
    "    @property\n",
    "    def logger(self):\n",
    "        logger = logging.getLogger(self.__class__.__name__)\n",
    "        if (logger.hasHandlers()):\n",
    "            logger.handlers.clear()\n",
    "        handler = logging.StreamHandler()\n",
    "        formatter = logging.Formatter('%(name)s - %(levelname)s \\n%(message)s')\n",
    "        handler.setFormatter(formatter)\n",
    "        logger.addHandler(handler)\n",
    "        logger.setLevel(self.logger_level)\n",
    "        return logger\n"
   ]
  },
  {
   "cell_type": "code",
   "execution_count": 3,
   "metadata": {},
   "outputs": [],
   "source": [
    "class Matrix(LoggerMixin, object):\n",
    "    def __init__(self, data):\n",
    "        n = len(data)  # number of rows\n",
    "        m = len(data[0])  # number of columns\n",
    "        self.shape = (n, m)\n",
    "        self.data = [[float(element) for element in row] for row in data]\n",
    "\n",
    "    @classmethod\n",
    "    def zeros(cls, shape):\n",
    "        n, m = shape\n",
    "        matrix = cls([\n",
    "            [0 for k in range(m)]\n",
    "            for j in range(n)\n",
    "        ])\n",
    "        return matrix\n",
    "\n",
    "    @classmethod\n",
    "    def identity(cls, n):\n",
    "        matrix = cls.zeros((n, n))\n",
    "        for j in range(n): matrix[j][j] = 1.0\n",
    "        return matrix\n",
    "\n",
    "    def is_square(self):\n",
    "        return self.shape[0] == self.shape[1]\n",
    "\n",
    "    def copy(self):\n",
    "        return Matrix(copy.deepcopy(self.data))\n",
    "\n",
    "    def __len__(self):\n",
    "        return self.n\n",
    "\n",
    "    def __repr__(self):\n",
    "        return \"Matrix([\\n    \" \\\n",
    "            + \",\\n    \".join(repr(row) for row in self.data) + \"\\n])\"\n",
    "\n",
    "    def __getitem__(self, item):\n",
    "        return self.data[item]\n",
    "\n",
    "    def __add__(self, other):\n",
    "        result = Matrix.zeros(self.shape)\n",
    "        for j, k in itertools.product(range(result.shape[0]), range(result.shape[1])):\n",
    "            try:\n",
    "                assert self.shape == other.shape\n",
    "                result[j][k] = self[j][k] + other[j][k]\n",
    "            except AttributeError:\n",
    "                result[j][k] = self[j][k] + other\n",
    "        return result\n",
    "\n",
    "    def __sub__(self, other):\n",
    "        result = Matrix.zeros(self.shape)\n",
    "        for j, k in itertools.product(range(result.shape[0]), range(result.shape[1])):\n",
    "            try:\n",
    "                assert self.shape == other.shape\n",
    "                result[j][k] = self[j][k] - other[j][k]\n",
    "            except AttributeError:\n",
    "                result[j][k] = self[j][k] - other\n",
    "        return result\n",
    "\n",
    "    def __mul__(self, other):\n",
    "        result = self.copy()\n",
    "        for j, k in itertools.product(range(result.shape[0]), range(result.shape[1])):\n",
    "            try:\n",
    "                assert self.shape == other.shape\n",
    "                result[j][k] *= other[j][k]\n",
    "            except AttributeError:\n",
    "                result[j][k] *= other\n",
    "        return result\n",
    "    \n",
    "    def __matmul__(self, other):\n",
    "        return self.multiply_by(other)\n",
    "\n",
    "    def add(self, other):\n",
    "        assert self.shape == other.shape\n",
    "        new = self.copy()\n",
    "        for j, k in itertools.product(range(self.shape[0]), range(self.shape[1])):\n",
    "            new[j][k] += other[j][k]\n",
    "        return new\n",
    "\n",
    "    def multiply_by(self, other):\n",
    "        assert self.shape[1] == other.shape[0]\n",
    "        return Matrix([\n",
    "            [\n",
    "                float(sum(\n",
    "                    self.data[self_row][self_column] \\\n",
    "                        * other.data[other_row][other_column]\n",
    "                    for self_column, other_row in \n",
    "                        zip(range(self.shape[1]), range(other.shape[0]))\n",
    "                ))\n",
    "                for other_column in range(other.shape[1])\n",
    "            ]\n",
    "            for self_row in range(self.shape[0])\n",
    "        ])\n",
    "\n",
    "    def transpose(self):\n",
    "        new = Matrix.zeros((self.shape[1], self.shape[0]))\n",
    "        for j, k in itertools.product(range(self.shape[0]), range(self.shape[1])):\n",
    "            new[k][j] = self[j][k]\n",
    "        return new\n",
    "\n",
    "    def invert(self):\n",
    "        n = self.shape[0]\n",
    "        operations_so_far = Matrix.identity(n)\n",
    "        self_copy = self.copy()\n",
    "\n",
    "        for k in range(n):\n",
    "            self.logger.debug(f\"processing column {k}\")\n",
    "            self.logger.debug(\"self_copy = \" + str(self_copy))\n",
    "\n",
    "            # reorder rows\n",
    "            row_reordering = \\\n",
    "                list(range(k)) + \\\n",
    "                list(reversed(sorted(\n",
    "                    range(k, n),\n",
    "                    key=lambda j: abs(self_copy[j][k])\n",
    "            )))\n",
    "            reorder_op = Matrix([Matrix.identity(n).data[j] for j in row_reordering])\n",
    "            self.logger.debug(\"reorder_op = \" + str(reorder_op))\n",
    "            operations_so_far = reorder_op.multiply_by(operations_so_far)\n",
    "            self_copy = reorder_op.multiply_by(self_copy)\n",
    "            self.logger.debug(\"self_copy = \" + str(self_copy))\n",
    "\n",
    "            # normalize this row\n",
    "            normalization_op = Matrix.identity(n)\n",
    "            normalization_op[k][k] = 1.0 / self_copy[k][k]\n",
    "            self.logger.debug(\"normalization_op = \" + str(normalization_op))\n",
    "            operations_so_far = normalization_op.multiply_by(operations_so_far)\n",
    "            self_copy = normalization_op.multiply_by(self_copy)\n",
    "            self.logger.debug(\"self_copy = \" + str(self_copy))\n",
    "\n",
    "            # eliminate the other rows\n",
    "            eliminations_op = Matrix.identity(n)\n",
    "            for j in range(n):\n",
    "                if j == k:\n",
    "                    continue\n",
    "                eliminations_op[j][k] = -1.0 * self_copy[j][k]\n",
    "            self.logger.debug(\"eliminations_op = \" + str(eliminations_op))\n",
    "            operations_so_far = eliminations_op.multiply_by(operations_so_far)\n",
    "            self.logger.debug(\"operations_so_far = \" + str(operations_so_far))\n",
    "            self_copy = eliminations_op.multiply_by(self_copy)\n",
    "            self.logger.debug(\"self_copy = \" + str(self_copy))\n",
    "\n",
    "            self.logger.debug(f\"done with column {k}\\n\")\n",
    "            \n",
    "        return operations_so_far\n"
   ]
  },
  {
   "cell_type": "markdown",
   "metadata": {},
   "source": [
    "# Basics"
   ]
  },
  {
   "cell_type": "code",
   "execution_count": 4,
   "metadata": {},
   "outputs": [
    {
     "data": {
      "text/plain": [
       "Matrix([\n",
       "    [1.0, 2.0],\n",
       "    [3.0, 4.0],\n",
       "    [5.0, 6.0]\n",
       "])"
      ]
     },
     "execution_count": 4,
     "metadata": {},
     "output_type": "execute_result"
    }
   ],
   "source": [
    "X = Matrix([[1, 2], [3, 4], [5, 6]])\n",
    "X"
   ]
  },
  {
   "cell_type": "code",
   "execution_count": 5,
   "metadata": {},
   "outputs": [
    {
     "data": {
      "text/plain": [
       "Matrix([\n",
       "    [1.0, 2.0, 3.0],\n",
       "    [4.0, 5.0, 6.0]\n",
       "])"
      ]
     },
     "execution_count": 5,
     "metadata": {},
     "output_type": "execute_result"
    }
   ],
   "source": [
    "Y = Matrix([[1, 2, 3], [4, 5, 6]])\n",
    "Y"
   ]
  },
  {
   "cell_type": "code",
   "execution_count": 6,
   "metadata": {},
   "outputs": [
    {
     "data": {
      "text/plain": [
       "Matrix([\n",
       "    [0.0, 0.0, 0.0],\n",
       "    [0.0, 0.0, 0.0]\n",
       "])"
      ]
     },
     "execution_count": 6,
     "metadata": {},
     "output_type": "execute_result"
    }
   ],
   "source": [
    "Matrix.zeros((2, 3))"
   ]
  },
  {
   "cell_type": "code",
   "execution_count": 7,
   "metadata": {},
   "outputs": [
    {
     "data": {
      "text/plain": [
       "Matrix([\n",
       "    [1.0, 0.0, 0.0, 0.0, 0.0, 0.0, 0.0, 0.0],\n",
       "    [0.0, 1.0, 0.0, 0.0, 0.0, 0.0, 0.0, 0.0],\n",
       "    [0.0, 0.0, 1.0, 0.0, 0.0, 0.0, 0.0, 0.0],\n",
       "    [0.0, 0.0, 0.0, 1.0, 0.0, 0.0, 0.0, 0.0],\n",
       "    [0.0, 0.0, 0.0, 0.0, 1.0, 0.0, 0.0, 0.0],\n",
       "    [0.0, 0.0, 0.0, 0.0, 0.0, 1.0, 0.0, 0.0],\n",
       "    [0.0, 0.0, 0.0, 0.0, 0.0, 0.0, 1.0, 0.0],\n",
       "    [0.0, 0.0, 0.0, 0.0, 0.0, 0.0, 0.0, 1.0]\n",
       "])"
      ]
     },
     "execution_count": 7,
     "metadata": {},
     "output_type": "execute_result"
    }
   ],
   "source": [
    "Matrix.identity(8)"
   ]
  },
  {
   "cell_type": "markdown",
   "metadata": {},
   "source": [
    "# Matrix addition"
   ]
  },
  {
   "cell_type": "code",
   "execution_count": 8,
   "metadata": {
    "scrolled": true
   },
   "outputs": [],
   "source": [
    "X = Matrix([\n",
    "    [1, 3]\n",
    "])\n",
    "Y = Matrix([\n",
    "    [5, 11]\n",
    "])"
   ]
  },
  {
   "cell_type": "code",
   "execution_count": 9,
   "metadata": {},
   "outputs": [
    {
     "data": {
      "text/plain": [
       "Matrix([\n",
       "    [6.0, 14.0]\n",
       "])"
      ]
     },
     "execution_count": 9,
     "metadata": {},
     "output_type": "execute_result"
    }
   ],
   "source": [
    "X.add(Y)"
   ]
  },
  {
   "cell_type": "code",
   "execution_count": 10,
   "metadata": {
    "scrolled": true
   },
   "outputs": [
    {
     "data": {
      "text/plain": [
       "Matrix([\n",
       "    [6.0, 14.0]\n",
       "])"
      ]
     },
     "execution_count": 10,
     "metadata": {},
     "output_type": "execute_result"
    }
   ],
   "source": [
    "Y.add(X)"
   ]
  },
  {
   "cell_type": "markdown",
   "metadata": {},
   "source": [
    "# Matrix multiplication"
   ]
  },
  {
   "cell_type": "code",
   "execution_count": 11,
   "metadata": {},
   "outputs": [
    {
     "data": {
      "text/plain": [
       "Matrix([\n",
       "    [6.0]\n",
       "])"
      ]
     },
     "execution_count": 11,
     "metadata": {},
     "output_type": "execute_result"
    }
   ],
   "source": [
    "Matrix([\n",
    "    [2]\n",
    "]).multiply_by(Matrix([\n",
    "    [3]\n",
    "]))"
   ]
  },
  {
   "cell_type": "code",
   "execution_count": 12,
   "metadata": {},
   "outputs": [
    {
     "data": {
      "text/plain": [
       "Matrix([\n",
       "    [1.0, 2.0],\n",
       "    [3.0, 4.0]\n",
       "])"
      ]
     },
     "execution_count": 12,
     "metadata": {},
     "output_type": "execute_result"
    }
   ],
   "source": [
    "Matrix([\n",
    "    [1, 2],\n",
    "    [3, 4]\n",
    "]).multiply_by(Matrix([\n",
    "    [1, 0],\n",
    "    [0, 1]\n",
    "]))"
   ]
  },
  {
   "cell_type": "code",
   "execution_count": 13,
   "metadata": {},
   "outputs": [
    {
     "data": {
      "text/plain": [
       "Matrix([\n",
       "    [2.0, 1.0],\n",
       "    [4.0, 3.0]\n",
       "])"
      ]
     },
     "execution_count": 13,
     "metadata": {},
     "output_type": "execute_result"
    }
   ],
   "source": [
    "Matrix([\n",
    "    [1, 2],\n",
    "    [3, 4]\n",
    "]).multiply_by(Matrix([\n",
    "    [0, 1],\n",
    "    [1, 0]\n",
    "]))"
   ]
  },
  {
   "cell_type": "code",
   "execution_count": 14,
   "metadata": {},
   "outputs": [
    {
     "data": {
      "text/plain": [
       "Matrix([\n",
       "    [2.0, 4.0],\n",
       "    [6.0, 8.0]\n",
       "])"
      ]
     },
     "execution_count": 14,
     "metadata": {},
     "output_type": "execute_result"
    }
   ],
   "source": [
    "Matrix([\n",
    "    [1, 2],\n",
    "    [3, 4]\n",
    "]).multiply_by(Matrix([\n",
    "    [2, 0],\n",
    "    [0, 2]\n",
    "]))"
   ]
  },
  {
   "cell_type": "code",
   "execution_count": 15,
   "metadata": {},
   "outputs": [
    {
     "data": {
      "text/plain": [
       "Matrix([\n",
       "    [1.0, 4.0],\n",
       "    [3.0, 8.0]\n",
       "])"
      ]
     },
     "execution_count": 15,
     "metadata": {},
     "output_type": "execute_result"
    }
   ],
   "source": [
    "Matrix([\n",
    "    [1, 2],\n",
    "    [3, 4]\n",
    "]).multiply_by(Matrix([\n",
    "    [1, 0],\n",
    "    [0, 2]\n",
    "]))"
   ]
  },
  {
   "cell_type": "code",
   "execution_count": 16,
   "metadata": {
    "scrolled": true
   },
   "outputs": [
    {
     "data": {
      "text/plain": [
       "Matrix([\n",
       "    [1.0, 3.0],\n",
       "    [3.0, 7.0]\n",
       "])"
      ]
     },
     "execution_count": 16,
     "metadata": {},
     "output_type": "execute_result"
    }
   ],
   "source": [
    "Matrix([\n",
    "    [1, 2],\n",
    "    [3, 4]\n",
    "]).multiply_by(Matrix([\n",
    "    [1, 1],\n",
    "    [0, 1]\n",
    "]))"
   ]
  },
  {
   "cell_type": "markdown",
   "metadata": {},
   "source": [
    "# Matrix transpose"
   ]
  },
  {
   "cell_type": "code",
   "execution_count": 17,
   "metadata": {},
   "outputs": [
    {
     "name": "stdout",
     "output_type": "stream",
     "text": [
      "Matrix([\n",
      "    [1.0]\n",
      "])\n",
      "(1, 1)\n",
      "Matrix([\n",
      "    [1.0]\n",
      "])\n",
      "(1, 1)\n"
     ]
    }
   ],
   "source": [
    "X = Matrix([\n",
    "    [1]\n",
    "])\n",
    "print(X)\n",
    "print(X.shape)\n",
    "X_t = X.transpose()\n",
    "print(X_t)\n",
    "print(X_t.shape)\n"
   ]
  },
  {
   "cell_type": "code",
   "execution_count": 18,
   "metadata": {},
   "outputs": [
    {
     "name": "stdout",
     "output_type": "stream",
     "text": [
      "Matrix([\n",
      "    [1.0, 0.0]\n",
      "])\n",
      "(1, 2)\n",
      "Matrix([\n",
      "    [1.0],\n",
      "    [0.0]\n",
      "])\n",
      "(2, 1)\n"
     ]
    }
   ],
   "source": [
    "X = Matrix([\n",
    "    [1, 0]\n",
    "])\n",
    "print(X)\n",
    "print(X.shape)\n",
    "X_t = X.transpose()\n",
    "print(X_t)\n",
    "print(X_t.shape)\n"
   ]
  },
  {
   "cell_type": "code",
   "execution_count": 19,
   "metadata": {
    "scrolled": true
   },
   "outputs": [
    {
     "name": "stdout",
     "output_type": "stream",
     "text": [
      "Matrix([\n",
      "    [1.0, 2.0, 3.0],\n",
      "    [4.0, 5.0, 6.0]\n",
      "])\n",
      "(2, 3)\n",
      "Matrix([\n",
      "    [1.0, 4.0],\n",
      "    [2.0, 5.0],\n",
      "    [3.0, 6.0]\n",
      "])\n",
      "(3, 2)\n"
     ]
    }
   ],
   "source": [
    "X = Matrix([\n",
    "    [1, 2, 3],\n",
    "    [4, 5, 6]\n",
    "])\n",
    "print(X)\n",
    "print(X.shape)\n",
    "X_t = X.transpose()\n",
    "print(X_t)\n",
    "print(X_t.shape)\n"
   ]
  },
  {
   "cell_type": "markdown",
   "metadata": {},
   "source": [
    "# Matrix inversion"
   ]
  },
  {
   "cell_type": "code",
   "execution_count": 20,
   "metadata": {},
   "outputs": [
    {
     "name": "stdout",
     "output_type": "stream",
     "text": [
      "X = Matrix([\n",
      "    [1.0, 0.0],\n",
      "    [0.0, 1.0]\n",
      "])\n",
      "X_inv = Matrix([\n",
      "    [1.0, 0.0],\n",
      "    [0.0, 1.0]\n",
      "])\n",
      "X_inv X = Matrix([\n",
      "    [1.0, 0.0],\n",
      "    [0.0, 1.0]\n",
      "])\n",
      "X X_inv = Matrix([\n",
      "    [1.0, 0.0],\n",
      "    [0.0, 1.0]\n",
      "])\n"
     ]
    }
   ],
   "source": [
    "X = Matrix([\n",
    "    [1, 0],\n",
    "    [0, 1]\n",
    "])\n",
    "X_inv = X.invert()\n",
    "\n",
    "print(\"X =\", X)\n",
    "print(\"X_inv =\", X_inv)\n",
    "print(\"X_inv X =\", X_inv.multiply_by(X))\n",
    "print(\"X X_inv =\", X.multiply_by(X_inv))"
   ]
  },
  {
   "cell_type": "code",
   "execution_count": 21,
   "metadata": {},
   "outputs": [
    {
     "name": "stdout",
     "output_type": "stream",
     "text": [
      "X = Matrix([\n",
      "    [1.0, 0.0],\n",
      "    [0.0, 2.0]\n",
      "])\n",
      "X_inv = Matrix([\n",
      "    [1.0, 0.0],\n",
      "    [0.0, 0.5]\n",
      "])\n",
      "X_inv X = Matrix([\n",
      "    [1.0, 0.0],\n",
      "    [0.0, 1.0]\n",
      "])\n",
      "X X_inv = Matrix([\n",
      "    [1.0, 0.0],\n",
      "    [0.0, 1.0]\n",
      "])\n"
     ]
    }
   ],
   "source": [
    "X = Matrix([\n",
    "    [1, 0],\n",
    "    [0, 2]\n",
    "])\n",
    "X_inv = X.invert()\n",
    "\n",
    "print(\"X =\", X)\n",
    "print(\"X_inv =\", X_inv)\n",
    "print(\"X_inv X =\", X_inv.multiply_by(X))\n",
    "print(\"X X_inv =\", X.multiply_by(X_inv))"
   ]
  },
  {
   "cell_type": "code",
   "execution_count": 22,
   "metadata": {},
   "outputs": [
    {
     "name": "stdout",
     "output_type": "stream",
     "text": [
      "X = Matrix([\n",
      "    [2.0, 0.0],\n",
      "    [0.0, 1.0]\n",
      "])\n",
      "X_inv = Matrix([\n",
      "    [0.5, 0.0],\n",
      "    [0.0, 1.0]\n",
      "])\n",
      "X_inv X = Matrix([\n",
      "    [1.0, 0.0],\n",
      "    [0.0, 1.0]\n",
      "])\n",
      "X X_inv = Matrix([\n",
      "    [1.0, 0.0],\n",
      "    [0.0, 1.0]\n",
      "])\n"
     ]
    }
   ],
   "source": [
    "X = Matrix([\n",
    "    [2, 0],\n",
    "    [0, 1]\n",
    "])\n",
    "X_inv = X.invert()\n",
    "\n",
    "print(\"X =\", X)\n",
    "print(\"X_inv =\", X_inv)\n",
    "print(\"X_inv X =\", X_inv.multiply_by(X))\n",
    "print(\"X X_inv =\", X.multiply_by(X_inv))"
   ]
  },
  {
   "cell_type": "code",
   "execution_count": 23,
   "metadata": {},
   "outputs": [
    {
     "name": "stdout",
     "output_type": "stream",
     "text": [
      "X = Matrix([\n",
      "    [1.0, 0.0, 0.0],\n",
      "    [0.0, 2.0, 0.0],\n",
      "    [0.0, 0.0, 3.0]\n",
      "])\n",
      "X_inv = Matrix([\n",
      "    [1.0, 0.0, 0.0],\n",
      "    [0.0, 0.5, 0.0],\n",
      "    [0.0, 0.0, 0.3333333333333333]\n",
      "])\n",
      "X_inv X = Matrix([\n",
      "    [1.0, 0.0, 0.0],\n",
      "    [0.0, 1.0, 0.0],\n",
      "    [0.0, 0.0, 1.0]\n",
      "])\n",
      "X X_inv = Matrix([\n",
      "    [1.0, 0.0, 0.0],\n",
      "    [0.0, 1.0, 0.0],\n",
      "    [0.0, 0.0, 1.0]\n",
      "])\n"
     ]
    }
   ],
   "source": [
    "X = Matrix([\n",
    "    [1, 0, 0],\n",
    "    [0, 2, 0],\n",
    "    [0, 0, 3]\n",
    "])\n",
    "X_inv = X.invert()\n",
    "\n",
    "print(\"X =\", X)\n",
    "print(\"X_inv =\", X_inv)\n",
    "print(\"X_inv X =\", X_inv.multiply_by(X))\n",
    "print(\"X X_inv =\", X.multiply_by(X_inv))"
   ]
  },
  {
   "cell_type": "code",
   "execution_count": 24,
   "metadata": {},
   "outputs": [
    {
     "name": "stdout",
     "output_type": "stream",
     "text": [
      "X = Matrix([\n",
      "    [1.0, 0.0, 0.0],\n",
      "    [0.0, 2.0, 0.0],\n",
      "    [0.0, 0.0, 1.0]\n",
      "])\n",
      "X_inv = Matrix([\n",
      "    [1.0, 0.0, 0.0],\n",
      "    [0.0, 0.5, 0.0],\n",
      "    [0.0, 0.0, 1.0]\n",
      "])\n",
      "X_inv X = Matrix([\n",
      "    [1.0, 0.0, 0.0],\n",
      "    [0.0, 1.0, 0.0],\n",
      "    [0.0, 0.0, 1.0]\n",
      "])\n",
      "X X_inv = Matrix([\n",
      "    [1.0, 0.0, 0.0],\n",
      "    [0.0, 1.0, 0.0],\n",
      "    [0.0, 0.0, 1.0]\n",
      "])\n"
     ]
    }
   ],
   "source": [
    "X = Matrix([\n",
    "    [1, 0, 0],\n",
    "    [0, 2, 0],\n",
    "    [0, 0, 1]\n",
    "])\n",
    "X_inv = X.invert()\n",
    "\n",
    "print(\"X =\", X)\n",
    "print(\"X_inv =\", X_inv)\n",
    "print(\"X_inv X =\", X_inv.multiply_by(X))\n",
    "print(\"X X_inv =\", X.multiply_by(X_inv))"
   ]
  },
  {
   "cell_type": "code",
   "execution_count": 25,
   "metadata": {
    "scrolled": true
   },
   "outputs": [
    {
     "name": "stderr",
     "output_type": "stream",
     "text": [
      "Matrix - DEBUG \n",
      "processing column 0\n",
      "Matrix - DEBUG \n",
      "self_copy = Matrix([\n",
      "    [3.0, 1.0],\n",
      "    [4.0, 2.0]\n",
      "])\n",
      "Matrix - DEBUG \n",
      "reorder_op = Matrix([\n",
      "    [0.0, 1.0],\n",
      "    [1.0, 0.0]\n",
      "])\n",
      "Matrix - DEBUG \n",
      "self_copy = Matrix([\n",
      "    [4.0, 2.0],\n",
      "    [3.0, 1.0]\n",
      "])\n",
      "Matrix - DEBUG \n",
      "normalization_op = Matrix([\n",
      "    [0.25, 0.0],\n",
      "    [0.0, 1.0]\n",
      "])\n",
      "Matrix - DEBUG \n",
      "self_copy = Matrix([\n",
      "    [1.0, 0.5],\n",
      "    [3.0, 1.0]\n",
      "])\n",
      "Matrix - DEBUG \n",
      "eliminations_op = Matrix([\n",
      "    [1.0, 0.0],\n",
      "    [-3.0, 1.0]\n",
      "])\n",
      "Matrix - DEBUG \n",
      "operations_so_far = Matrix([\n",
      "    [0.0, 0.25],\n",
      "    [1.0, -0.75]\n",
      "])\n",
      "Matrix - DEBUG \n",
      "self_copy = Matrix([\n",
      "    [1.0, 0.5],\n",
      "    [0.0, -0.5]\n",
      "])\n",
      "Matrix - DEBUG \n",
      "done with column 0\n",
      "\n",
      "Matrix - DEBUG \n",
      "processing column 1\n",
      "Matrix - DEBUG \n",
      "self_copy = Matrix([\n",
      "    [1.0, 0.5],\n",
      "    [0.0, -0.5]\n",
      "])\n",
      "Matrix - DEBUG \n",
      "reorder_op = Matrix([\n",
      "    [1.0, 0.0],\n",
      "    [0.0, 1.0]\n",
      "])\n",
      "Matrix - DEBUG \n",
      "self_copy = Matrix([\n",
      "    [1.0, 0.5],\n",
      "    [0.0, -0.5]\n",
      "])\n",
      "Matrix - DEBUG \n",
      "normalization_op = Matrix([\n",
      "    [1.0, 0.0],\n",
      "    [0.0, -2.0]\n",
      "])\n",
      "Matrix - DEBUG \n",
      "self_copy = Matrix([\n",
      "    [1.0, 0.5],\n",
      "    [0.0, 1.0]\n",
      "])\n",
      "Matrix - DEBUG \n",
      "eliminations_op = Matrix([\n",
      "    [1.0, -0.5],\n",
      "    [0.0, 1.0]\n",
      "])\n",
      "Matrix - DEBUG \n",
      "operations_so_far = Matrix([\n",
      "    [1.0, -0.5],\n",
      "    [-2.0, 1.5]\n",
      "])\n",
      "Matrix - DEBUG \n",
      "self_copy = Matrix([\n",
      "    [1.0, 0.0],\n",
      "    [0.0, 1.0]\n",
      "])\n",
      "Matrix - DEBUG \n",
      "done with column 1\n",
      "\n"
     ]
    },
    {
     "name": "stdout",
     "output_type": "stream",
     "text": [
      "X = Matrix([\n",
      "    [3.0, 1.0],\n",
      "    [4.0, 2.0]\n",
      "])\n",
      "X_inv = Matrix([\n",
      "    [1.0, -0.5],\n",
      "    [-2.0, 1.5]\n",
      "])\n",
      "X_inv X = Matrix([\n",
      "    [1.0, 0.0],\n",
      "    [0.0, 1.0]\n",
      "])\n",
      "X X_inv = Matrix([\n",
      "    [1.0, 0.0],\n",
      "    [0.0, 1.0]\n",
      "])\n"
     ]
    }
   ],
   "source": [
    "X = Matrix([\n",
    "    [3, 1],\n",
    "    [4, 2]\n",
    "])\n",
    "X.logger_level = logging.DEBUG\n",
    "\n",
    "X_inv = X.invert()\n",
    "\n",
    "print(\"X =\", X)\n",
    "print(\"X_inv =\", X_inv)\n",
    "print(\"X_inv X =\", X_inv.multiply_by(X))\n",
    "print(\"X X_inv =\", X.multiply_by(X_inv))"
   ]
  },
  {
   "cell_type": "code",
   "execution_count": 26,
   "metadata": {},
   "outputs": [
    {
     "data": {
      "text/plain": [
       "Matrix([\n",
       "    [1.0, 0.0],\n",
       "    [0.0, 1.0]\n",
       "])"
      ]
     },
     "execution_count": 26,
     "metadata": {},
     "output_type": "execute_result"
    }
   ],
   "source": [
    "Matrix([\n",
    "    [1.0, -0.5],\n",
    "    [-2.0, 1.5]\n",
    "]).multiply_by(X)"
   ]
  },
  {
   "cell_type": "code",
   "execution_count": 27,
   "metadata": {},
   "outputs": [
    {
     "name": "stdout",
     "output_type": "stream",
     "text": [
      "X = Matrix([\n",
      "    [3.0, 1.0],\n",
      "    [4.0, 2.0]\n",
      "])\n",
      "X_inv = Matrix([\n",
      "    [1.0, -0.5],\n",
      "    [-2.0, 1.5]\n",
      "])\n",
      "X_inv X = Matrix([\n",
      "    [1.0, 0.0],\n",
      "    [0.0, 1.0]\n",
      "])\n",
      "X X_inv = Matrix([\n",
      "    [1.0, 0.0],\n",
      "    [0.0, 1.0]\n",
      "])\n"
     ]
    }
   ],
   "source": [
    "X = Matrix([\n",
    "    [3, 1],\n",
    "    [4, 2]\n",
    "])\n",
    "X_inv = X.invert()\n",
    "\n",
    "print(\"X =\", X)\n",
    "print(\"X_inv =\", X_inv)\n",
    "print(\"X_inv X =\", X_inv.multiply_by(X))\n",
    "print(\"X X_inv =\", X.multiply_by(X_inv))"
   ]
  },
  {
   "cell_type": "code",
   "execution_count": 28,
   "metadata": {},
   "outputs": [
    {
     "name": "stdout",
     "output_type": "stream",
     "text": [
      "Matrix([\n",
      "    [2.0, 5.0, 0.0],\n",
      "    [1.0, 0.0, 1.0],\n",
      "    [1.0, 2.0, 0.0]\n",
      "])\n",
      "Matrix([\n",
      "    [-2.0, 0.0, 5.0],\n",
      "    [1.0, 0.0, -2.0],\n",
      "    [2.0, 1.0, -5.0]\n",
      "])\n",
      "Matrix([\n",
      "    [1.0, 0.0, 0.0],\n",
      "    [0.0, 1.0, 0.0],\n",
      "    [0.0, 0.0, 1.0]\n",
      "])\n",
      "Matrix([\n",
      "    [1.0, 0.0, 0.0],\n",
      "    [0.0, 1.0, 0.0],\n",
      "    [0.0, 0.0, 1.0]\n",
      "])\n"
     ]
    }
   ],
   "source": [
    "X = Matrix([\n",
    "    [2, 5, 0],\n",
    "    [1, 0, 1],\n",
    "    [1, 2, 0],\n",
    "])\n",
    "X_inv = X.invert()\n",
    "\n",
    "print(X)\n",
    "print(X_inv)\n",
    "print(X.multiply_by(X_inv))\n",
    "print(X_inv.multiply_by(X))"
   ]
  },
  {
   "cell_type": "markdown",
   "metadata": {},
   "source": [
    "# nice syntax"
   ]
  },
  {
   "cell_type": "code",
   "execution_count": 29,
   "metadata": {},
   "outputs": [
    {
     "name": "stdout",
     "output_type": "stream",
     "text": [
      "X = Matrix([\n",
      "    [3.0, 1.0],\n",
      "    [4.0, 2.0]\n",
      "])\n",
      "X_inv = Matrix([\n",
      "    [1.0, -0.5],\n",
      "    [-2.0, 1.5]\n",
      "])\n"
     ]
    }
   ],
   "source": [
    "X = Matrix([\n",
    "    [3, 1],\n",
    "    [4, 2]\n",
    "])\n",
    "X_inv = X.invert()\n",
    "print(\"X =\", X)\n",
    "print(\"X_inv =\", X_inv)"
   ]
  },
  {
   "cell_type": "markdown",
   "metadata": {},
   "source": [
    "### verify: X_inv is the inverse"
   ]
  },
  {
   "cell_type": "code",
   "execution_count": 30,
   "metadata": {},
   "outputs": [
    {
     "data": {
      "text/plain": [
       "Matrix([\n",
       "    [1.0, 0.0],\n",
       "    [0.0, 1.0]\n",
       "])"
      ]
     },
     "execution_count": 30,
     "metadata": {},
     "output_type": "execute_result"
    }
   ],
   "source": [
    "X_inv.multiply_by(X)"
   ]
  },
  {
   "cell_type": "code",
   "execution_count": 31,
   "metadata": {},
   "outputs": [
    {
     "data": {
      "text/plain": [
       "Matrix([\n",
       "    [1.0, 0.0],\n",
       "    [0.0, 1.0]\n",
       "])"
      ]
     },
     "execution_count": 31,
     "metadata": {},
     "output_type": "execute_result"
    }
   ],
   "source": [
    "X.multiply_by(X_inv)"
   ]
  },
  {
   "cell_type": "markdown",
   "metadata": {},
   "source": [
    "### demo cute operations"
   ]
  },
  {
   "cell_type": "code",
   "execution_count": 32,
   "metadata": {},
   "outputs": [
    {
     "data": {
      "text/plain": [
       "Matrix([\n",
       "    [4.0, 0.5],\n",
       "    [2.0, 3.5]\n",
       "])"
      ]
     },
     "execution_count": 32,
     "metadata": {},
     "output_type": "execute_result"
    }
   ],
   "source": [
    "X + X_inv"
   ]
  },
  {
   "cell_type": "code",
   "execution_count": 33,
   "metadata": {},
   "outputs": [
    {
     "data": {
      "text/plain": [
       "Matrix([\n",
       "    [2.0, 1.5],\n",
       "    [6.0, 0.5]\n",
       "])"
      ]
     },
     "execution_count": 33,
     "metadata": {},
     "output_type": "execute_result"
    }
   ],
   "source": [
    "X - X_inv"
   ]
  },
  {
   "cell_type": "code",
   "execution_count": 34,
   "metadata": {},
   "outputs": [
    {
     "data": {
      "text/plain": [
       "Matrix([\n",
       "    [3.0, -0.5],\n",
       "    [-8.0, 3.0]\n",
       "])"
      ]
     },
     "execution_count": 34,
     "metadata": {},
     "output_type": "execute_result"
    }
   ],
   "source": [
    "X * X_inv"
   ]
  },
  {
   "cell_type": "code",
   "execution_count": 35,
   "metadata": {},
   "outputs": [
    {
     "data": {
      "text/plain": [
       "Matrix([\n",
       "    [1.0, 0.0],\n",
       "    [0.0, 1.0]\n",
       "])"
      ]
     },
     "execution_count": 35,
     "metadata": {},
     "output_type": "execute_result"
    }
   ],
   "source": [
    "X @ X_inv"
   ]
  },
  {
   "cell_type": "code",
   "execution_count": 36,
   "metadata": {},
   "outputs": [
    {
     "data": {
      "text/plain": [
       "Matrix([\n",
       "    [1.0, 0.0],\n",
       "    [0.0, 1.0]\n",
       "])"
      ]
     },
     "execution_count": 36,
     "metadata": {},
     "output_type": "execute_result"
    }
   ],
   "source": [
    "X_inv @ X"
   ]
  },
  {
   "cell_type": "markdown",
   "metadata": {},
   "source": [
    "### with another matrix"
   ]
  },
  {
   "cell_type": "code",
   "execution_count": 37,
   "metadata": {},
   "outputs": [
    {
     "name": "stdout",
     "output_type": "stream",
     "text": [
      "Matrix([\n",
      "    [2.0, 5.0, 0.0],\n",
      "    [1.0, 0.0, 1.0],\n",
      "    [1.0, 2.0, 0.0]\n",
      "])\n",
      "Matrix([\n",
      "    [-2.0, 0.0, 5.0],\n",
      "    [1.0, 0.0, -2.0],\n",
      "    [2.0, 1.0, -5.0]\n",
      "])\n",
      "Matrix([\n",
      "    [1.0, 0.0, 0.0],\n",
      "    [0.0, 1.0, 0.0],\n",
      "    [0.0, 0.0, 1.0]\n",
      "])\n",
      "Matrix([\n",
      "    [1.0, 0.0, 0.0],\n",
      "    [0.0, 1.0, 0.0],\n",
      "    [0.0, 0.0, 1.0]\n",
      "])\n"
     ]
    }
   ],
   "source": [
    "X = Matrix([\n",
    "    [2, 5, 0],\n",
    "    [1, 0, 1],\n",
    "    [1, 2, 0],\n",
    "])\n",
    "X_inv = X.invert()\n",
    "\n",
    "print(X)\n",
    "print(X_inv)\n",
    "print(X @ X_inv)\n",
    "print(X_inv @ X)"
   ]
  },
  {
   "cell_type": "markdown",
   "metadata": {},
   "source": [
    "# Linear regression"
   ]
  },
  {
   "cell_type": "code",
   "execution_count": 38,
   "metadata": {},
   "outputs": [
    {
     "name": "stdout",
     "output_type": "stream",
     "text": [
      "y = Matrix([\n",
      "    [1.0],\n",
      "    [2.0],\n",
      "    [3.0]\n",
      "])\n",
      "X = Matrix([\n",
      "    [1.0, 2.0],\n",
      "    [5.0, -1.0],\n",
      "    [9.0, 0.5]\n",
      "])\n"
     ]
    }
   ],
   "source": [
    "y = Matrix([\n",
    "    [1], \n",
    "    [2],\n",
    "    [3]\n",
    "])\n",
    "X = Matrix([\n",
    "    [1, 2],\n",
    "    [5, -1],\n",
    "    [9, 0.5]\n",
    "])\n",
    "\n",
    "print(\"y =\", y)\n",
    "print(\"X =\", X)"
   ]
  },
  {
   "cell_type": "code",
   "execution_count": 39,
   "metadata": {},
   "outputs": [
    {
     "data": {
      "text/plain": [
       "Matrix([\n",
       "    [0.35254691689008044],\n",
       "    [0.18498659517426275]\n",
       "])"
      ]
     },
     "execution_count": 39,
     "metadata": {},
     "output_type": "execute_result"
    }
   ],
   "source": [
    "beta_hat = (X.transpose().multiply_by(X)).invert().multiply_by(X.transpose()).multiply_by(y)\n",
    "beta_hat"
   ]
  },
  {
   "cell_type": "code",
   "execution_count": 40,
   "metadata": {},
   "outputs": [
    {
     "data": {
      "text/plain": [
       "Matrix([\n",
       "    [0.35254691689008044],\n",
       "    [0.18498659517426275]\n",
       "])"
      ]
     },
     "execution_count": 40,
     "metadata": {},
     "output_type": "execute_result"
    }
   ],
   "source": [
    "beta_hat = (X.transpose() @ X).invert() @ X.transpose() @ y\n",
    "beta_hat"
   ]
  },
  {
   "cell_type": "code",
   "execution_count": 41,
   "metadata": {},
   "outputs": [],
   "source": [
    "# check...\n",
    "import sklearn as skl\n",
    "from sklearn.linear_model import LinearRegression"
   ]
  },
  {
   "cell_type": "code",
   "execution_count": 42,
   "metadata": {},
   "outputs": [
    {
     "data": {
      "text/plain": [
       "array([[0.35254692, 0.1849866 ]])"
      ]
     },
     "execution_count": 42,
     "metadata": {},
     "output_type": "execute_result"
    }
   ],
   "source": [
    "lr = LinearRegression(fit_intercept=False)\n",
    "lr.fit(X.data, y.data)\n",
    "lr.coef_"
   ]
  },
  {
   "cell_type": "code",
   "execution_count": 43,
   "metadata": {},
   "outputs": [],
   "source": [
    "import statsmodels.api as sm\n",
    "import numpy as np"
   ]
  },
  {
   "cell_type": "code",
   "execution_count": 44,
   "metadata": {},
   "outputs": [
    {
     "data": {
      "text/plain": [
       "(array([[ 1. ,  2. ],\n",
       "        [ 5. , -1. ],\n",
       "        [ 9. ,  0.5]]), (3, 2))"
      ]
     },
     "execution_count": 44,
     "metadata": {},
     "output_type": "execute_result"
    }
   ],
   "source": [
    "X_np = np.array(X.data)\n",
    "X_np, X_np.shape"
   ]
  },
  {
   "cell_type": "code",
   "execution_count": 45,
   "metadata": {},
   "outputs": [
    {
     "data": {
      "text/plain": [
       "(array([[1.],\n",
       "        [2.],\n",
       "        [3.]]), (3, 1))"
      ]
     },
     "execution_count": 45,
     "metadata": {},
     "output_type": "execute_result"
    }
   ],
   "source": [
    "y_np = np.array(y.data)\n",
    "y_np, y_np.shape"
   ]
  },
  {
   "cell_type": "code",
   "execution_count": 46,
   "metadata": {},
   "outputs": [],
   "source": [
    "model = sm.OLS(y_np, X_np)"
   ]
  },
  {
   "cell_type": "code",
   "execution_count": 47,
   "metadata": {},
   "outputs": [],
   "source": [
    "results = model.fit()"
   ]
  },
  {
   "cell_type": "code",
   "execution_count": 48,
   "metadata": {},
   "outputs": [
    {
     "name": "stderr",
     "output_type": "stream",
     "text": [
      "/Users/william/.local/share/virtualenvs/ml-study-group-ExtSe04q/lib/python3.7/site-packages/statsmodels/stats/stattools.py:71: ValueWarning: omni_normtest is not valid with less than 8 observations; 3 samples were given.\n",
      "  \"samples were given.\" % int(n), ValueWarning)\n"
     ]
    },
    {
     "data": {
      "text/html": [
       "<table class=\"simpletable\">\n",
       "<caption>OLS Regression Results</caption>\n",
       "<tr>\n",
       "  <th>Dep. Variable:</th>            <td>y</td>        <th>  R-squared (uncentered):</th>      <td>   0.977</td>\n",
       "</tr>\n",
       "<tr>\n",
       "  <th>Model:</th>                   <td>OLS</td>       <th>  Adj. R-squared (uncentered):</th> <td>   0.930</td>\n",
       "</tr>\n",
       "<tr>\n",
       "  <th>Method:</th>             <td>Least Squares</td>  <th>  F-statistic:       </th>          <td>   20.99</td>\n",
       "</tr>\n",
       "<tr>\n",
       "  <th>Date:</th>             <td>Wed, 09 Oct 2019</td> <th>  Prob (F-statistic):</th>           <td> 0.153</td> \n",
       "</tr>\n",
       "<tr>\n",
       "  <th>Time:</th>                 <td>16:54:14</td>     <th>  Log-Likelihood:    </th>          <td>-0.92640</td>\n",
       "</tr>\n",
       "<tr>\n",
       "  <th>No. Observations:</th>      <td>     3</td>      <th>  AIC:               </th>          <td>   5.853</td>\n",
       "</tr>\n",
       "<tr>\n",
       "  <th>Df Residuals:</th>          <td>     1</td>      <th>  BIC:               </th>          <td>   4.050</td>\n",
       "</tr>\n",
       "<tr>\n",
       "  <th>Df Model:</th>              <td>     2</td>      <th>                     </th>              <td> </td>   \n",
       "</tr>\n",
       "<tr>\n",
       "  <th>Covariance Type:</th>      <td>nonrobust</td>    <th>                     </th>              <td> </td>   \n",
       "</tr>\n",
       "</table>\n",
       "<table class=\"simpletable\">\n",
       "<tr>\n",
       "   <td></td>     <th>coef</th>     <th>std err</th>      <th>t</th>      <th>P>|t|</th>  <th>[0.025</th>    <th>0.975]</th>  \n",
       "</tr>\n",
       "<tr>\n",
       "  <th>x1</th> <td>    0.3525</td> <td>    0.055</td> <td>    6.377</td> <td> 0.099</td> <td>   -0.350</td> <td>    1.055</td>\n",
       "</tr>\n",
       "<tr>\n",
       "  <th>x2</th> <td>    0.1850</td> <td>    0.250</td> <td>    0.741</td> <td> 0.594</td> <td>   -2.986</td> <td>    3.356</td>\n",
       "</tr>\n",
       "</table>\n",
       "<table class=\"simpletable\">\n",
       "<tr>\n",
       "  <th>Omnibus:</th>       <td>   nan</td> <th>  Durbin-Watson:     </th> <td>   1.516</td>\n",
       "</tr>\n",
       "<tr>\n",
       "  <th>Prob(Omnibus):</th> <td>   nan</td> <th>  Jarque-Bera (JB):  </th> <td>   0.451</td>\n",
       "</tr>\n",
       "<tr>\n",
       "  <th>Skew:</th>          <td>-0.582</td> <th>  Prob(JB):          </th> <td>   0.798</td>\n",
       "</tr>\n",
       "<tr>\n",
       "  <th>Kurtosis:</th>      <td> 1.500</td> <th>  Cond. No.          </th> <td>    4.52</td>\n",
       "</tr>\n",
       "</table><br/><br/>Warnings:<br/>[1] Standard Errors assume that the covariance matrix of the errors is correctly specified."
      ],
      "text/plain": [
       "<class 'statsmodels.iolib.summary.Summary'>\n",
       "\"\"\"\n",
       "                                 OLS Regression Results                                \n",
       "=======================================================================================\n",
       "Dep. Variable:                      y   R-squared (uncentered):                   0.977\n",
       "Model:                            OLS   Adj. R-squared (uncentered):              0.930\n",
       "Method:                 Least Squares   F-statistic:                              20.99\n",
       "Date:                Wed, 09 Oct 2019   Prob (F-statistic):                       0.153\n",
       "Time:                        16:54:14   Log-Likelihood:                        -0.92640\n",
       "No. Observations:                   3   AIC:                                      5.853\n",
       "Df Residuals:                       1   BIC:                                      4.050\n",
       "Df Model:                           2                                                  \n",
       "Covariance Type:            nonrobust                                                  \n",
       "==============================================================================\n",
       "                 coef    std err          t      P>|t|      [0.025      0.975]\n",
       "------------------------------------------------------------------------------\n",
       "x1             0.3525      0.055      6.377      0.099      -0.350       1.055\n",
       "x2             0.1850      0.250      0.741      0.594      -2.986       3.356\n",
       "==============================================================================\n",
       "Omnibus:                          nan   Durbin-Watson:                   1.516\n",
       "Prob(Omnibus):                    nan   Jarque-Bera (JB):                0.451\n",
       "Skew:                          -0.582   Prob(JB):                        0.798\n",
       "Kurtosis:                       1.500   Cond. No.                         4.52\n",
       "==============================================================================\n",
       "\n",
       "Warnings:\n",
       "[1] Standard Errors assume that the covariance matrix of the errors is correctly specified.\n",
       "\"\"\""
      ]
     },
     "execution_count": 48,
     "metadata": {},
     "output_type": "execute_result"
    }
   ],
   "source": [
    "results.summary()"
   ]
  },
  {
   "cell_type": "markdown",
   "metadata": {},
   "source": [
    "## covariance of beta_hat"
   ]
  },
  {
   "cell_type": "markdown",
   "metadata": {},
   "source": [
    "Var(beta_hat) = (X.transpose().multiply_by(X)).inverse().multiply_by(sigma_hat_squared)\n",
    "sigma_hat_squared = residuals.transpose().multiply_by(residuals)\n",
    "residuals = y - X.multiply_by(beta_hat)"
   ]
  },
  {
   "cell_type": "code",
   "execution_count": 49,
   "metadata": {},
   "outputs": [],
   "source": [
    "# (X.transpose().multiply_by(X).invert()) * (y - X.multiply_by(beta_hat)).transpose()\n",
    "# lol, screw this"
   ]
  },
  {
   "cell_type": "code",
   "execution_count": 50,
   "metadata": {},
   "outputs": [
    {
     "data": {
      "text/plain": [
       "Matrix([\n",
       "    [0.7225201072386059],\n",
       "    [1.5777479892761397],\n",
       "    [3.2654155495978556]\n",
       "])"
      ]
     },
     "execution_count": 50,
     "metadata": {},
     "output_type": "execute_result"
    }
   ],
   "source": [
    "y_hat = X @ beta_hat\n",
    "y_hat"
   ]
  },
  {
   "cell_type": "code",
   "execution_count": 51,
   "metadata": {},
   "outputs": [
    {
     "data": {
      "text/plain": [
       "Matrix([\n",
       "    [0.27747989276139406],\n",
       "    [0.4222520107238603],\n",
       "    [-0.2654155495978556]\n",
       "])"
      ]
     },
     "execution_count": 51,
     "metadata": {},
     "output_type": "execute_result"
    }
   ],
   "source": [
    "residual = y - y_hat\n",
    "residual"
   ]
  },
  {
   "cell_type": "code",
   "execution_count": 52,
   "metadata": {},
   "outputs": [
    {
     "data": {
      "text/plain": [
       "Matrix([\n",
       "    [0.32573726541554954]\n",
       "])"
      ]
     },
     "execution_count": 52,
     "metadata": {},
     "output_type": "execute_result"
    }
   ],
   "source": [
    "residual_sum_of_squares = residual.transpose() @ residual\n",
    "residual_sum_of_squares"
   ]
  },
  {
   "cell_type": "code",
   "execution_count": 53,
   "metadata": {},
   "outputs": [],
   "source": [
    "cov_beta_hat = (X.transpose() @ X).invert() * residual_sum_of_squares.data[0][0]"
   ]
  },
  {
   "cell_type": "code",
   "execution_count": 54,
   "metadata": {},
   "outputs": [
    {
     "data": {
      "text/plain": [
       "Matrix([\n",
       "    [0.0030565158953201697, -0.0008732902558057627],\n",
       "    [-0.0008732902558057627, 0.06229470491414441]\n",
       "])"
      ]
     },
     "execution_count": 54,
     "metadata": {},
     "output_type": "execute_result"
    }
   ],
   "source": [
    "cov_beta_hat"
   ]
  },
  {
   "cell_type": "code",
   "execution_count": 55,
   "metadata": {},
   "outputs": [
    {
     "data": {
      "text/plain": [
       "0.05528576575683988"
      ]
     },
     "execution_count": 55,
     "metadata": {},
     "output_type": "execute_result"
    }
   ],
   "source": [
    "cov_beta_hat[0][0] ** 0.5"
   ]
  },
  {
   "cell_type": "code",
   "execution_count": 56,
   "metadata": {},
   "outputs": [
    {
     "data": {
      "text/plain": [
       "0.24958907210481876"
      ]
     },
     "execution_count": 56,
     "metadata": {},
     "output_type": "execute_result"
    }
   ],
   "source": [
    "cov_beta_hat[1][1] ** 0.5"
   ]
  },
  {
   "cell_type": "markdown",
   "metadata": {},
   "source": [
    "and these match the results in the `statsmodels` summary"
   ]
  }
 ],
 "metadata": {
  "kernelspec": {
   "display_name": "Python 3",
   "language": "python",
   "name": "python3"
  },
  "language_info": {
   "codemirror_mode": {
    "name": "ipython",
    "version": 3
   },
   "file_extension": ".py",
   "mimetype": "text/x-python",
   "name": "python",
   "nbconvert_exporter": "python",
   "pygments_lexer": "ipython3",
   "version": "3.7.2"
  },
  "varInspector": {
   "cols": {
    "lenName": 16,
    "lenType": 16,
    "lenVar": 40
   },
   "kernels_config": {
    "python": {
     "delete_cmd_postfix": "",
     "delete_cmd_prefix": "del ",
     "library": "var_list.py",
     "varRefreshCmd": "print(var_dic_list())"
    },
    "r": {
     "delete_cmd_postfix": ") ",
     "delete_cmd_prefix": "rm(",
     "library": "var_list.r",
     "varRefreshCmd": "cat(var_dic_list()) "
    }
   },
   "types_to_exclude": [
    "module",
    "function",
    "builtin_function_or_method",
    "instance",
    "_Feature"
   ],
   "window_display": false
  }
 },
 "nbformat": 4,
 "nbformat_minor": 2
}

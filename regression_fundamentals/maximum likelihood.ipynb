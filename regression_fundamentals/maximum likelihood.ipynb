{
 "cells": [
  {
   "cell_type": "markdown",
   "metadata": {},
   "source": [
    "# Learning Regressions with Maximum Likelihood Estimation (MLE)"
   ]
  },
  {
   "cell_type": "code",
   "execution_count": 1,
   "metadata": {
    "ExecuteTime": {
     "end_time": "2019-10-15T04:15:37.144770Z",
     "start_time": "2019-10-15T04:15:36.321953Z"
    }
   },
   "outputs": [],
   "source": [
    "import time\n",
    "\n",
    "import numpy as np\n",
    "import pandas as pd"
   ]
  },
  {
   "cell_type": "code",
   "execution_count": 2,
   "metadata": {
    "ExecuteTime": {
     "end_time": "2019-10-15T04:15:37.162900Z",
     "start_time": "2019-10-15T04:15:37.153150Z"
    }
   },
   "outputs": [],
   "source": [
    "N = 200\n",
    "beta = np.array([3.0, -5.0, 1.0])\n",
    "p = len(beta)\n",
    "beta = beta.reshape((p, 1))\n",
    "sigma_squared = 10.0\n",
    "theta_truth = tuple(float(b) for b in beta) + (sigma_squared,)"
   ]
  },
  {
   "cell_type": "code",
   "execution_count": 3,
   "metadata": {
    "ExecuteTime": {
     "end_time": "2019-10-15T04:15:37.211073Z",
     "start_time": "2019-10-15T04:15:37.169251Z"
    }
   },
   "outputs": [
    {
     "data": {
      "text/html": [
       "<div>\n",
       "<style scoped>\n",
       "    .dataframe tbody tr th:only-of-type {\n",
       "        vertical-align: middle;\n",
       "    }\n",
       "\n",
       "    .dataframe tbody tr th {\n",
       "        vertical-align: top;\n",
       "    }\n",
       "\n",
       "    .dataframe thead th {\n",
       "        text-align: right;\n",
       "    }\n",
       "</style>\n",
       "<table border=\"1\" class=\"dataframe\">\n",
       "  <thead>\n",
       "    <tr style=\"text-align: right;\">\n",
       "      <th></th>\n",
       "      <th>β[0]</th>\n",
       "      <th>β[1]</th>\n",
       "      <th>β[2]</th>\n",
       "      <th>σ²</th>\n",
       "    </tr>\n",
       "  </thead>\n",
       "  <tbody>\n",
       "    <tr>\n",
       "      <td>Truth</td>\n",
       "      <td>3.0</td>\n",
       "      <td>-5.0</td>\n",
       "      <td>1.0</td>\n",
       "      <td>10.0</td>\n",
       "    </tr>\n",
       "  </tbody>\n",
       "</table>\n",
       "</div>"
      ],
      "text/plain": [
       "       β[0]  β[1]  β[2]    σ²\n",
       "Truth   3.0  -5.0   1.0  10.0"
      ]
     },
     "execution_count": 3,
     "metadata": {},
     "output_type": "execute_result"
    }
   ],
   "source": [
    "columns = tuple(f\"β[{p_}]\" for p_ in range(p)) + (\"σ²\",)\n",
    "results = pd.DataFrame(columns=columns)\n",
    "results.loc['Truth'] = theta_truth\n",
    "results"
   ]
  },
  {
   "cell_type": "markdown",
   "metadata": {},
   "source": [
    "## Make fake data"
   ]
  },
  {
   "cell_type": "code",
   "execution_count": 4,
   "metadata": {
    "ExecuteTime": {
     "end_time": "2019-10-15T04:15:37.231488Z",
     "start_time": "2019-10-15T04:15:37.221743Z"
    }
   },
   "outputs": [],
   "source": [
    "class FakeData(object):\n",
    "    def __init__(self, N, p, beta, sigma_squared, rng=None):\n",
    "        if not rng: \n",
    "            rng = np.random.RandomState()\n",
    "        X = rng.uniform(size=N * p).reshape((N, p))\n",
    "        error = rng.normal(loc=0, scale=sigma_squared ** 0.5, size=N).reshape((N, 1))\n",
    "        X_times_beta = X @ beta\n",
    "        assert X_times_beta.shape == (N, 1), X_times_beta.shape\n",
    "        y = X_times_beta + error\n",
    "        assert y.shape == (N, 1), y.shape\n",
    "        self.X = X\n",
    "        self.y = y\n",
    "        return\n"
   ]
  },
  {
   "cell_type": "code",
   "execution_count": 5,
   "metadata": {
    "ExecuteTime": {
     "end_time": "2019-10-15T04:15:37.244606Z",
     "start_time": "2019-10-15T04:15:37.234709Z"
    }
   },
   "outputs": [
    {
     "data": {
      "text/plain": [
       "((200, 1), (200, 3))"
      ]
     },
     "execution_count": 5,
     "metadata": {},
     "output_type": "execute_result"
    }
   ],
   "source": [
    "# make y, X\n",
    "rng = np.random.RandomState(seed=0)\n",
    "fake_data = FakeData(N, p, beta, sigma_squared, rng=rng)\n",
    "y, X = fake_data.y, fake_data.X\n",
    "y.shape, X.shape"
   ]
  },
  {
   "cell_type": "markdown",
   "metadata": {},
   "source": [
    "## Least Squares"
   ]
  },
  {
   "cell_type": "code",
   "execution_count": 6,
   "metadata": {
    "ExecuteTime": {
     "end_time": "2019-10-15T04:15:37.257594Z",
     "start_time": "2019-10-15T04:15:37.247414Z"
    }
   },
   "outputs": [],
   "source": [
    "beta_hat_ols = np.linalg.inv(X.T @ X) @ X.T @ y\n",
    "beta_hat_ols = np.linalg.inv(X.T @ X) @ X.T @ y\n",
    "residual_ols = y - X @ beta_hat_ols\n",
    "rss_ols = residual_ols.T @ residual_ols\n",
    "sigma_squared_hat_ols = rss_ols[0, 0] / (N - p)\n",
    "# sigma_hat_ols = sigma_squared_hat_ols ** 0.5\n",
    "theta_ols = tuple(float(b) for b in beta_hat_ols) + (sigma_squared_hat_ols,)"
   ]
  },
  {
   "cell_type": "code",
   "execution_count": 7,
   "metadata": {
    "ExecuteTime": {
     "end_time": "2019-10-15T04:15:37.272753Z",
     "start_time": "2019-10-15T04:15:37.262943Z"
    }
   },
   "outputs": [],
   "source": [
    "results.loc['least squares'] = theta_ols"
   ]
  },
  {
   "cell_type": "code",
   "execution_count": 8,
   "metadata": {
    "ExecuteTime": {
     "end_time": "2019-10-15T04:15:37.298170Z",
     "start_time": "2019-10-15T04:15:37.276381Z"
    }
   },
   "outputs": [
    {
     "name": "stdout",
     "output_type": "stream",
     "text": [
      "====Results so far====\n"
     ]
    },
    {
     "data": {
      "text/html": [
       "<div>\n",
       "<style scoped>\n",
       "    .dataframe tbody tr th:only-of-type {\n",
       "        vertical-align: middle;\n",
       "    }\n",
       "\n",
       "    .dataframe tbody tr th {\n",
       "        vertical-align: top;\n",
       "    }\n",
       "\n",
       "    .dataframe thead th {\n",
       "        text-align: right;\n",
       "    }\n",
       "</style>\n",
       "<table border=\"1\" class=\"dataframe\">\n",
       "  <thead>\n",
       "    <tr style=\"text-align: right;\">\n",
       "      <th></th>\n",
       "      <th>β[0]</th>\n",
       "      <th>β[1]</th>\n",
       "      <th>β[2]</th>\n",
       "      <th>σ²</th>\n",
       "    </tr>\n",
       "  </thead>\n",
       "  <tbody>\n",
       "    <tr>\n",
       "      <td>Truth</td>\n",
       "      <td>3.000000</td>\n",
       "      <td>-5.000000</td>\n",
       "      <td>1.000000</td>\n",
       "      <td>10.000000</td>\n",
       "    </tr>\n",
       "    <tr>\n",
       "      <td>least squares</td>\n",
       "      <td>3.865276</td>\n",
       "      <td>-6.848503</td>\n",
       "      <td>1.257617</td>\n",
       "      <td>10.015444</td>\n",
       "    </tr>\n",
       "  </tbody>\n",
       "</table>\n",
       "</div>"
      ],
      "text/plain": [
       "                   β[0]      β[1]      β[2]         σ²\n",
       "Truth          3.000000 -5.000000  1.000000  10.000000\n",
       "least squares  3.865276 -6.848503  1.257617  10.015444"
      ]
     },
     "execution_count": 8,
     "metadata": {},
     "output_type": "execute_result"
    }
   ],
   "source": [
    "print(\"====Results so far====\")\n",
    "results"
   ]
  },
  {
   "cell_type": "markdown",
   "metadata": {},
   "source": [
    "## MLE: likelihood + scipy.optimize.fmin"
   ]
  },
  {
   "cell_type": "markdown",
   "metadata": {},
   "source": [
    "### define likelihood"
   ]
  },
  {
   "cell_type": "code",
   "execution_count": 9,
   "metadata": {
    "ExecuteTime": {
     "end_time": "2019-10-15T04:15:37.694261Z",
     "start_time": "2019-10-15T04:15:37.301317Z"
    }
   },
   "outputs": [],
   "source": [
    "from scipy import optimize\n",
    "from scipy.stats import norm\n",
    "from scipy.stats import multivariate_normal"
   ]
  },
  {
   "cell_type": "code",
   "execution_count": 10,
   "metadata": {
    "ExecuteTime": {
     "end_time": "2019-10-15T04:15:37.705333Z",
     "start_time": "2019-10-15T04:15:37.696875Z"
    }
   },
   "outputs": [],
   "source": [
    "class Likelihood(object):\n",
    "    def __init__(self, X, y):\n",
    "        self.X = X\n",
    "        self.y = y\n",
    "\n",
    "    def __call__(self, theta):\n",
    "        N, p = self.X.shape\n",
    "        if N > 250:\n",
    "            print(\"Not evaluating. N is too big:\", N)\n",
    "            return 0\n",
    "        sigma_squared = theta[-1]\n",
    "        beta = np.array(theta[0:p]).reshape((p, 1))\n",
    "        mu = self.X @ beta\n",
    "        joint_probability = multivariate_normal.pdf(\n",
    "            y[:, 0],\n",
    "            mu[:, 0],\n",
    "            sigma_squared)\n",
    "        return joint_probability\n"
   ]
  },
  {
   "cell_type": "code",
   "execution_count": 11,
   "metadata": {
    "ExecuteTime": {
     "end_time": "2019-10-15T04:15:37.721204Z",
     "start_time": "2019-10-15T04:15:37.707890Z"
    }
   },
   "outputs": [],
   "source": [
    "class LoggedFunction(object):\n",
    "    def __init__(self, f, every_s=1):\n",
    "        self.f = f\n",
    "        self.every_s = every_s\n",
    "        self.n_calls = 0\n",
    "        self.time_of_last_log = time.time()\n",
    "\n",
    "    def __call__(self, *args, **kwargs):\n",
    "        self.n_calls += 1\n",
    "        start = time.time()\n",
    "        if (start - self.time_of_last_log) > 5:\n",
    "            return \"giving up!\"\n",
    "        its_been_a_while = (start - self.time_of_last_log) > self.every_s\n",
    "        lets_log = its_been_a_while or self.n_calls == 1\n",
    "        if lets_log:\n",
    "            print(f\"Call #{self.n_calls}:\")\n",
    "            print(*args, **kwargs)\n",
    "        result = self.f(*args, **kwargs)\n",
    "        if lets_log:\n",
    "            print(result)\n",
    "            end = time.time()\n",
    "            print(\"wall time (s):\", end - start)\n",
    "            self.time_of_last_log = start\n",
    "        return result\n"
   ]
  },
  {
   "cell_type": "code",
   "execution_count": 12,
   "metadata": {
    "ExecuteTime": {
     "end_time": "2019-10-15T04:15:37.728456Z",
     "start_time": "2019-10-15T04:15:37.724083Z"
    }
   },
   "outputs": [],
   "source": [
    "likelihood = Likelihood(X, y)"
   ]
  },
  {
   "cell_type": "markdown",
   "metadata": {},
   "source": [
    "### optimize likelihood"
   ]
  },
  {
   "cell_type": "code",
   "execution_count": 13,
   "metadata": {
    "ExecuteTime": {
     "end_time": "2019-10-15T04:15:37.737200Z",
     "start_time": "2019-10-15T04:15:37.732419Z"
    }
   },
   "outputs": [],
   "source": [
    "initial_guess = tuple(0.0 for _ in range(p)) + (1.0,)"
   ]
  },
  {
   "cell_type": "code",
   "execution_count": 14,
   "metadata": {
    "ExecuteTime": {
     "end_time": "2019-10-15T04:15:37.763608Z",
     "start_time": "2019-10-15T04:15:37.740007Z"
    }
   },
   "outputs": [
    {
     "data": {
      "text/plain": [
       "9.733278699026264e-226"
      ]
     },
     "execution_count": 14,
     "metadata": {},
     "output_type": "execute_result"
    }
   ],
   "source": [
    "# test out the function\n",
    "likelihood(theta_truth)"
   ]
  },
  {
   "cell_type": "code",
   "execution_count": 15,
   "metadata": {
    "ExecuteTime": {
     "end_time": "2019-10-15T04:15:39.482144Z",
     "start_time": "2019-10-15T04:15:37.766633Z"
    },
    "scrolled": true
   },
   "outputs": [
    {
     "name": "stdout",
     "output_type": "stream",
     "text": [
      "Call #1:\n",
      "[ 3.8652763  -6.84850302  1.25761686 10.01544421]\n",
      "-2.172626528930063e-223\n",
      "wall time (s): 0.010221004486083984\n",
      "Call #121:\n",
      "[ 3.8654289  -6.84847264  1.2575046   9.86492828]\n",
      "-2.1974564232158585e-223\n",
      "wall time (s): 0.008758783340454102\n",
      "Optimization terminated successfully.\n",
      "         Current function value: -0.000000\n",
      "         Iterations: 111\n",
      "         Function evaluations: 200\n"
     ]
    }
   ],
   "source": [
    "negative_likelihood = lambda x: -1 * likelihood(x)\n",
    "# f = negative_likelihood\n",
    "f = LoggedFunction(negative_likelihood, every_s=1)\n",
    "theta_mle_likelihood = optimize.fmin(f, theta_ols, xtol=1e-6, ftol=1e-6, maxiter=1000)"
   ]
  },
  {
   "cell_type": "code",
   "execution_count": 16,
   "metadata": {
    "ExecuteTime": {
     "end_time": "2019-10-15T04:15:39.491962Z",
     "start_time": "2019-10-15T04:15:39.484308Z"
    }
   },
   "outputs": [],
   "source": [
    "results.loc['MLE w/ likelihood'] = theta_mle_likelihood"
   ]
  },
  {
   "cell_type": "code",
   "execution_count": 18,
   "metadata": {
    "ExecuteTime": {
     "end_time": "2019-10-15T04:16:05.451499Z",
     "start_time": "2019-10-15T04:16:05.440666Z"
    }
   },
   "outputs": [
    {
     "name": "stdout",
     "output_type": "stream",
     "text": [
      "====Results so far====\n"
     ]
    },
    {
     "data": {
      "text/html": [
       "<div>\n",
       "<style scoped>\n",
       "    .dataframe tbody tr th:only-of-type {\n",
       "        vertical-align: middle;\n",
       "    }\n",
       "\n",
       "    .dataframe tbody tr th {\n",
       "        vertical-align: top;\n",
       "    }\n",
       "\n",
       "    .dataframe thead th {\n",
       "        text-align: right;\n",
       "    }\n",
       "</style>\n",
       "<table border=\"1\" class=\"dataframe\">\n",
       "  <thead>\n",
       "    <tr style=\"text-align: right;\">\n",
       "      <th></th>\n",
       "      <th>β[0]</th>\n",
       "      <th>β[1]</th>\n",
       "      <th>β[2]</th>\n",
       "      <th>σ²</th>\n",
       "    </tr>\n",
       "  </thead>\n",
       "  <tbody>\n",
       "    <tr>\n",
       "      <td>Truth</td>\n",
       "      <td>3.000000</td>\n",
       "      <td>-5.000000</td>\n",
       "      <td>1.000000</td>\n",
       "      <td>10.000000</td>\n",
       "    </tr>\n",
       "    <tr>\n",
       "      <td>least squares</td>\n",
       "      <td>3.865276</td>\n",
       "      <td>-6.848503</td>\n",
       "      <td>1.257617</td>\n",
       "      <td>10.015444</td>\n",
       "    </tr>\n",
       "    <tr>\n",
       "      <td>MLE w/ likelihood</td>\n",
       "      <td>3.865277</td>\n",
       "      <td>-6.848503</td>\n",
       "      <td>1.257617</td>\n",
       "      <td>9.865213</td>\n",
       "    </tr>\n",
       "  </tbody>\n",
       "</table>\n",
       "</div>"
      ],
      "text/plain": [
       "                       β[0]      β[1]      β[2]         σ²\n",
       "Truth              3.000000 -5.000000  1.000000  10.000000\n",
       "least squares      3.865276 -6.848503  1.257617  10.015444\n",
       "MLE w/ likelihood  3.865277 -6.848503  1.257617   9.865213"
      ]
     },
     "execution_count": 18,
     "metadata": {},
     "output_type": "execute_result"
    }
   ],
   "source": [
    "print(\"====Results so far====\")\n",
    "results"
   ]
  },
  {
   "cell_type": "markdown",
   "metadata": {},
   "source": [
    "## MLE: negative log likelihood + scipy.optimize.fmin"
   ]
  },
  {
   "cell_type": "markdown",
   "metadata": {},
   "source": [
    "### define negative log likelihood"
   ]
  },
  {
   "cell_type": "code",
   "execution_count": 19,
   "metadata": {
    "ExecuteTime": {
     "end_time": "2019-10-15T04:16:05.467489Z",
     "start_time": "2019-10-15T04:16:05.458316Z"
    }
   },
   "outputs": [],
   "source": [
    "class NegativeLogLikelihood(object):\n",
    "    def __init__(self, X, y):\n",
    "        self.X = X\n",
    "        self.y = y\n",
    "\n",
    "    def __call__(self, theta):\n",
    "        N, p = self.X.shape\n",
    "        sigma_squared = theta[-1]\n",
    "        beta = np.array(theta[0:p]).reshape((p, 1))\n",
    "        log_probabilities = norm.logpdf(\n",
    "            x=self.y[:, 0],\n",
    "            loc=(self.X @ beta)[:, 0],\n",
    "            scale=sigma_squared ** 0.5\n",
    "        )\n",
    "        negative_log_likelihood = -1 * sum(log_probabilities)\n",
    "        return negative_log_likelihood\n",
    "\n",
    "negative_log_likelihood = NegativeLogLikelihood(X, y)"
   ]
  },
  {
   "cell_type": "code",
   "execution_count": 20,
   "metadata": {
    "ExecuteTime": {
     "end_time": "2019-10-15T04:16:05.476053Z",
     "start_time": "2019-10-15T04:16:05.470413Z"
    }
   },
   "outputs": [],
   "source": [
    "initial_guess = tuple(0.0 for _ in range(p)) + (1.0,)"
   ]
  },
  {
   "cell_type": "code",
   "execution_count": 21,
   "metadata": {
    "ExecuteTime": {
     "end_time": "2019-10-15T04:16:05.489068Z",
     "start_time": "2019-10-15T04:16:05.479024Z"
    }
   },
   "outputs": [
    {
     "data": {
      "text/plain": [
       "1842.5164426644474"
      ]
     },
     "execution_count": 21,
     "metadata": {},
     "output_type": "execute_result"
    }
   ],
   "source": [
    "negative_log_likelihood(initial_guess)"
   ]
  },
  {
   "cell_type": "code",
   "execution_count": 22,
   "metadata": {
    "ExecuteTime": {
     "end_time": "2019-10-15T04:16:05.500828Z",
     "start_time": "2019-10-15T04:16:05.491429Z"
    }
   },
   "outputs": [
    {
     "data": {
      "text/plain": [
       "518.1086802091776"
      ]
     },
     "execution_count": 22,
     "metadata": {},
     "output_type": "execute_result"
    }
   ],
   "source": [
    "negative_log_likelihood(theta_truth)"
   ]
  },
  {
   "cell_type": "code",
   "execution_count": 23,
   "metadata": {
    "ExecuteTime": {
     "end_time": "2019-10-15T04:16:05.512408Z",
     "start_time": "2019-10-15T04:16:05.503697Z"
    }
   },
   "outputs": [
    {
     "data": {
      "text/plain": [
       "512.7005389200459"
      ]
     },
     "execution_count": 23,
     "metadata": {},
     "output_type": "execute_result"
    }
   ],
   "source": [
    "negative_log_likelihood(theta_ols)"
   ]
  },
  {
   "cell_type": "code",
   "execution_count": 24,
   "metadata": {
    "ExecuteTime": {
     "end_time": "2019-10-15T04:16:05.523337Z",
     "start_time": "2019-10-15T04:16:05.514675Z"
    }
   },
   "outputs": [
    {
     "data": {
      "text/plain": [
       "512.6891751390416"
      ]
     },
     "execution_count": 24,
     "metadata": {},
     "output_type": "execute_result"
    }
   ],
   "source": [
    "negative_log_likelihood(theta_mle_likelihood)"
   ]
  },
  {
   "cell_type": "markdown",
   "metadata": {},
   "source": [
    "### optimize negative log likelihood"
   ]
  },
  {
   "cell_type": "code",
   "execution_count": 25,
   "metadata": {
    "ExecuteTime": {
     "end_time": "2019-10-15T04:16:05.535256Z",
     "start_time": "2019-10-15T04:16:05.526376Z"
    }
   },
   "outputs": [
    {
     "data": {
      "text/plain": [
       "512.7005389200459"
      ]
     },
     "execution_count": 25,
     "metadata": {},
     "output_type": "execute_result"
    }
   ],
   "source": [
    "negative_log_likelihood(theta_ols)"
   ]
  },
  {
   "cell_type": "code",
   "execution_count": 26,
   "metadata": {
    "ExecuteTime": {
     "end_time": "2019-10-15T04:16:05.800842Z",
     "start_time": "2019-10-15T04:16:05.538257Z"
    },
    "scrolled": true
   },
   "outputs": [
    {
     "name": "stdout",
     "output_type": "stream",
     "text": [
      "Call #1:\n",
      "[0. 0. 0. 1.]\n",
      "1842.5164426644474\n",
      "wall time (s): 0.0008199214935302734\n",
      "Optimization terminated successfully.\n",
      "         Current function value: 512.689175\n",
      "         Iterations: 518\n",
      "         Function evaluations: 878\n",
      "\n",
      "solution:\n",
      "[ 3.86527621 -6.84850285  1.25761718  9.86521207]\n",
      "512.6891751390419\n"
     ]
    }
   ],
   "source": [
    "f = LoggedFunction(negative_log_likelihood, every_s=1)\n",
    "theta_mle_negloglikelihood = optimize.fmin(f, initial_guess, ftol=1e-6, xtol=1e-6, maxiter=3000)\n",
    "print(\"\")\n",
    "print(\"solution:\")\n",
    "print(theta_mle_negloglikelihood)\n",
    "print(f(theta_mle_negloglikelihood))"
   ]
  },
  {
   "cell_type": "code",
   "execution_count": 27,
   "metadata": {
    "ExecuteTime": {
     "end_time": "2019-10-15T04:16:05.810553Z",
     "start_time": "2019-10-15T04:16:05.803338Z"
    }
   },
   "outputs": [],
   "source": [
    "results.loc['MLE w/ negative log likelihood'] = theta_mle_negloglikelihood"
   ]
  },
  {
   "cell_type": "code",
   "execution_count": 28,
   "metadata": {
    "ExecuteTime": {
     "end_time": "2019-10-15T04:16:05.845342Z",
     "start_time": "2019-10-15T04:16:05.814668Z"
    }
   },
   "outputs": [
    {
     "name": "stdout",
     "output_type": "stream",
     "text": [
      "====Results so far====\n",
      "                                    β[0]      β[1]      β[2]         σ²\n",
      "Truth                           3.000000 -5.000000  1.000000  10.000000\n",
      "least squares                   3.865276 -6.848503  1.257617  10.015444\n",
      "MLE w/ likelihood               3.865277 -6.848503  1.257617   9.865213\n",
      "MLE w/ negative log likelihood  3.865276 -6.848503  1.257617   9.865212\n"
     ]
    },
    {
     "data": {
      "text/html": [
       "<div>\n",
       "<style scoped>\n",
       "    .dataframe tbody tr th:only-of-type {\n",
       "        vertical-align: middle;\n",
       "    }\n",
       "\n",
       "    .dataframe tbody tr th {\n",
       "        vertical-align: top;\n",
       "    }\n",
       "\n",
       "    .dataframe thead th {\n",
       "        text-align: right;\n",
       "    }\n",
       "</style>\n",
       "<table border=\"1\" class=\"dataframe\">\n",
       "  <thead>\n",
       "    <tr style=\"text-align: right;\">\n",
       "      <th></th>\n",
       "      <th>β[0]</th>\n",
       "      <th>β[1]</th>\n",
       "      <th>β[2]</th>\n",
       "      <th>σ²</th>\n",
       "    </tr>\n",
       "  </thead>\n",
       "  <tbody>\n",
       "    <tr>\n",
       "      <td>Truth</td>\n",
       "      <td>3.000000</td>\n",
       "      <td>-5.000000</td>\n",
       "      <td>1.000000</td>\n",
       "      <td>10.000000</td>\n",
       "    </tr>\n",
       "    <tr>\n",
       "      <td>least squares</td>\n",
       "      <td>3.865276</td>\n",
       "      <td>-6.848503</td>\n",
       "      <td>1.257617</td>\n",
       "      <td>10.015444</td>\n",
       "    </tr>\n",
       "    <tr>\n",
       "      <td>MLE w/ likelihood</td>\n",
       "      <td>3.865277</td>\n",
       "      <td>-6.848503</td>\n",
       "      <td>1.257617</td>\n",
       "      <td>9.865213</td>\n",
       "    </tr>\n",
       "    <tr>\n",
       "      <td>MLE w/ negative log likelihood</td>\n",
       "      <td>3.865276</td>\n",
       "      <td>-6.848503</td>\n",
       "      <td>1.257617</td>\n",
       "      <td>9.865212</td>\n",
       "    </tr>\n",
       "  </tbody>\n",
       "</table>\n",
       "</div>"
      ],
      "text/plain": [
       "                                    β[0]      β[1]      β[2]         σ²\n",
       "Truth                           3.000000 -5.000000  1.000000  10.000000\n",
       "least squares                   3.865276 -6.848503  1.257617  10.015444\n",
       "MLE w/ likelihood               3.865277 -6.848503  1.257617   9.865213\n",
       "MLE w/ negative log likelihood  3.865276 -6.848503  1.257617   9.865212"
      ]
     },
     "execution_count": 28,
     "metadata": {},
     "output_type": "execute_result"
    }
   ],
   "source": [
    "print(\"====Results so far====\")\n",
    "print(results)\n",
    "results"
   ]
  },
  {
   "cell_type": "markdown",
   "metadata": {},
   "source": [
    "### Past results"
   ]
  },
  {
   "cell_type": "markdown",
   "metadata": {
    "ExecuteTime": {
     "end_time": "2019-10-15T00:17:43.411961Z",
     "start_time": "2019-10-15T00:17:43.406720Z"
    }
   },
   "source": [
    "```\n",
    "ftol=1e-11, xtol=1e-11, maxiter=1000\n",
    "[ 3.01147067 -5.01263143  0.99964318  1.00115215]\n",
    "142009.0002800877\n",
    "\n",
    "ftol=1e-14, xtol=1e-14, maxiter=1000\n",
    "\n",
    "Optimization terminated successfully.\n",
    "         Current function value: 142009.000280\n",
    "         Iterations: 661\n",
    "         Function evaluations: 1191\n",
    "\n",
    "solution:\n",
    "[ 3.01147067 -5.01263143  0.99964318  1.00115215]\n",
    "142009.0002800877\n",
    "\n",
    "\n",
    "N = 1000000\n",
    "ftol=1e-14, xtol=1e-14, maxiter=1000\n",
    "... took too long!\n",
    "ftol=1e-6, xtol=1e-6\n",
    "Call #796:\n",
    "[ 2.99618089 -5.00124526  1.00226668  0.99884177]\n",
    "1417772.6734368044\n",
    "wall time (s): 0.24301505088806152\n",
    "Warning: Maximum number of function evaluations has been exceeded.\n",
    "\n",
    "solution:\n",
    "[ 2.99622187 -5.0012157   1.00224932  0.99883615]\n",
    "```"
   ]
  },
  {
   "cell_type": "markdown",
   "metadata": {},
   "source": [
    "- Issue: This fails for `N = 100000` and without `xtol`. \n",
    "  - Solution: go for more iterations\n",
    "  - Solution: specify `xtol=1e-7`, everything is fine. Not sure why.\n",
    "  - Source: \"when you set ftol smaller than xtol during the search, xtol is exceeded before ftol is reached so it terminates prematurely\" (https://stackoverflow.com/questions/9667514/what-is-the-difference-between-xtol-and-ftol-to-use-fmin-of-scipy-optimize#comment12285824_9669373)\n",
    "- Issue: Fails when sigma_squared is large, e.g. 2500 (50 squared)\n",
    "\n",
    "```\n",
    "N = 100000\n",
    "beta = np.array([3.0, -5.0, 1.0])\n",
    "p = len(beta)\n",
    "beta = beta.reshape((p, 1))\n",
    "sigma = 10.0\n",
    "                                    β[0]      β[1]      β[2]          σ\n",
    "Truth                           3.000000 -5.000000  1.000000  10.000000\n",
    "least squares                   3.114704 -5.126315  0.996433  10.011672\n",
    "MLE w/ likelihood               0.000000  0.000000  0.000000   1.000000\n",
    "MLE w/ negative log likelihood  3.114709 -5.126314  0.996428  10.011522\n",
    "\n",
    "N = 100000\n",
    "beta = np.array([3.0, -5.0, 1.0])\n",
    "p = len(beta)\n",
    "beta = beta.reshape((p, 1))\n",
    "sigma = 50.0\n",
    "                                    β[0]      β[1]      β[2]          σ\n",
    "Truth                           3.000000 -5.000000  1.000000  50.000000\n",
    "least squares                   3.573520 -5.631574  0.982167  50.058358\n",
    "MLE w/ likelihood               0.000000  0.000000  0.000000   1.000000\n",
    "MLE w/ negative log likelihood  3.753647 -3.448924 -1.755966  50.068533\n",
    "```\n",
    "- Issue: fails with a large coefficient\n",
    "\n",
    "```\n",
    "N = 100000\n",
    "beta = np.array([3.0, -5.0, 1.0])\n",
    "p = len(beta)\n",
    "beta = beta.reshape((p, 1))\n",
    "sigma = 10.0\n",
    "                                    β[0]      β[1]      β[2]          σ\n",
    "Truth                           3.000000 -5.000000  1.000000  10.000000\n",
    "least squares                   3.114704 -5.126315  0.996433  10.011672\n",
    "MLE w/ likelihood               0.000000  0.000000  0.000000   1.000000\n",
    "MLE w/ negative log likelihood  3.114709 -5.126314  0.996428  10.011522\n",
    "```\n",
    "\n",
    "```\n",
    "N = 100000\n",
    "beta = np.array([3.0, -5.0, 1.0])\n",
    "p = len(beta)\n",
    "beta = beta.reshape((p, 1))\n",
    "sigma_squared = 100.0\n",
    "\n",
    "                                    β[0]      β[1]      β[2]          σ²\n",
    "Truth                           3.000000 -5.000000  1.000000  100.000000\n",
    "least squares                   3.114704 -5.126315  0.996433  100.233566\n",
    "MLE w/ likelihood               0.000000  0.000000  0.000000    1.000000\n",
    "MLE w/ negative log likelihood  3.114705 -5.126320  0.996436  100.230576\n",
    "\n",
    "```\n",
    "\n",
    "- another run...\n",
    "\n",
    "```\n",
    "N = 1000000\n",
    "beta = np.array([3.0, -5.0, 1.0])\n",
    "p = len(beta)\n",
    "beta = beta.reshape((p, 1))\n",
    "sigma_squared = 1.0\n",
    "\n",
    "Optimization terminated successfully.\n",
    "         Current function value: 1417772.672752\n",
    "         Iterations: 449\n",
    "         Function evaluations: 746\n",
    "\n",
    "solution:\n",
    "[ 2.99614446 -5.00118483  1.00229821  0.9976711 ]\n",
    "1417772.6727520851\n",
    "\n",
    "                                    β[0]      β[1]      β[2]        σ²\n",
    "Truth                           3.000000 -5.000000  1.000000  1.000000\n",
    "least squares                   2.996144 -5.001184  1.002298  0.997674\n",
    "MLE w/ likelihood               0.000000  0.000000  0.000000  1.000000\n",
    "MLE w/ negative log likelihood  2.996144 -5.001185  1.002298  0.997671\n",
    "```"
   ]
  },
  {
   "cell_type": "markdown",
   "metadata": {},
   "source": [
    "\n",
    "## MLE: negative log likelihood + scipy.optimize.newton"
   ]
  },
  {
   "cell_type": "code",
   "execution_count": 29,
   "metadata": {
    "ExecuteTime": {
     "end_time": "2019-10-15T04:16:05.862759Z",
     "start_time": "2019-10-15T04:16:05.847817Z"
    }
   },
   "outputs": [],
   "source": [
    "class NegativeLogLikelihood(object):\n",
    "    def __init__(self, X, y):\n",
    "        self.X = X\n",
    "        self.y = y\n",
    "\n",
    "    def __call__(self, theta):\n",
    "        N, p = self.X.shape\n",
    "        sigma_squared = theta[-1]\n",
    "        beta = np.array(theta[0:p]).reshape((p, 1))\n",
    "        log_probabilities = norm.logpdf(\n",
    "            x=self.y[:, 0],\n",
    "            loc=(self.X @ beta)[:, 0],\n",
    "            scale=sigma_squared ** 0.5\n",
    "        )\n",
    "        negative_log_likelihood = -1 * sum(log_probabilities)\n",
    "        return negative_log_likelihood\n",
    "    \n",
    "    def gradient_wrt_theta(self, theta):\n",
    "        N, p = self.X.shape\n",
    "        sigma_squared = theta[-1]\n",
    "        beta = np.array(theta[0:p]).reshape((p, 1))\n",
    "        beta_portion = self.X.T @ self.y - self.X.T @ self.X @ beta\n",
    "        residuals = y - X @ beta\n",
    "        sigma_squared_portion = -0.5 / sigma_squared * (1 - ((residuals.T @ residuals)[0, 0] / sigma_squared))\n",
    "        sigma_squared_portion = np.array(sigma_squared_portion).reshape((1, 1))\n",
    "        gradient_log_likelihood = np.append(beta_portion, sigma_squared_portion)\n",
    "        gradient_neg_log_likelihood = -1 * gradient_log_likelihood\n",
    "        return gradient_neg_log_likelihood\n",
    "\n",
    "\n",
    "negative_log_likelihood = NegativeLogLikelihood(X, y)"
   ]
  },
  {
   "cell_type": "code",
   "execution_count": 30,
   "metadata": {
    "ExecuteTime": {
     "end_time": "2019-10-15T04:16:05.874707Z",
     "start_time": "2019-10-15T04:16:05.866528Z"
    }
   },
   "outputs": [
    {
     "name": "stdout",
     "output_type": "stream",
     "text": [
      "(3.8652763030229442, -6.848503020860781, 1.2576168609786866, 10.015444211889589)\n"
     ]
    },
    {
     "data": {
      "text/plain": [
       "512.7005389200459"
      ]
     },
     "execution_count": 30,
     "metadata": {},
     "output_type": "execute_result"
    }
   ],
   "source": [
    "print(theta_ols)\n",
    "negative_log_likelihood(theta_ols)"
   ]
  },
  {
   "cell_type": "code",
   "execution_count": 31,
   "metadata": {
    "ExecuteTime": {
     "end_time": "2019-10-15T04:16:05.890521Z",
     "start_time": "2019-10-15T04:16:05.882142Z"
    }
   },
   "outputs": [
    {
     "data": {
      "text/plain": [
       "array([   21.79907027,    73.00804163,    33.66085906, -1031.73484847])"
      ]
     },
     "execution_count": 31,
     "metadata": {},
     "output_type": "execute_result"
    }
   ],
   "source": [
    "negative_log_likelihood.gradient_wrt_theta((2.9687765223304448, -5.003006688218203, 1.005027854371277458, 1.0036908371459068))"
   ]
  },
  {
   "cell_type": "markdown",
   "metadata": {},
   "source": [
    "# Appendix: numpy & scipy functions"
   ]
  },
  {
   "cell_type": "code",
   "execution_count": 32,
   "metadata": {
    "ExecuteTime": {
     "end_time": "2019-10-15T04:16:05.902250Z",
     "start_time": "2019-10-15T04:16:05.893694Z"
    }
   },
   "outputs": [
    {
     "data": {
      "text/plain": [
       "((10, 1), (10, 3))"
      ]
     },
     "execution_count": 32,
     "metadata": {},
     "output_type": "execute_result"
    }
   ],
   "source": [
    "# make y, X\n",
    "rng = np.random.RandomState(seed=0)\n",
    "fake_data = FakeData(10, p, beta, sigma_squared, rng=rng)\n",
    "y, X = fake_data.y, fake_data.X\n",
    "y.shape, X.shape"
   ]
  },
  {
   "cell_type": "code",
   "execution_count": 33,
   "metadata": {
    "ExecuteTime": {
     "end_time": "2019-10-15T04:16:05.913851Z",
     "start_time": "2019-10-15T04:16:05.905458Z"
    }
   },
   "outputs": [
    {
     "data": {
      "text/plain": [
       "array([0.0868254 , 0.09578631, 0.00959873, 0.04381317, 0.12602462,\n",
       "       0.12396575, 0.03897101, 0.04286333, 0.12465125, 0.11745094])"
      ]
     },
     "execution_count": 33,
     "metadata": {},
     "output_type": "execute_result"
    }
   ],
   "source": [
    "norm.pdf(\n",
    "    x=y[:, 0],\n",
    "    loc=(X @ beta)[:, 0],\n",
    "    scale=sigma_squared ** 0.5\n",
    ")"
   ]
  },
  {
   "cell_type": "code",
   "execution_count": 34,
   "metadata": {
    "ExecuteTime": {
     "end_time": "2019-10-15T04:16:05.926959Z",
     "start_time": "2019-10-15T04:16:05.918253Z"
    }
   },
   "outputs": [
    {
     "data": {
      "text/plain": [
       "array([0.0868254 , 0.09578631, 0.00959873, 0.04381317, 0.12602462,\n",
       "       0.12396575, 0.03897101, 0.04286333, 0.12465125, 0.11745094])"
      ]
     },
     "execution_count": 34,
     "metadata": {},
     "output_type": "execute_result"
    }
   ],
   "source": [
    "norm.pdf(\n",
    "    x=y[:, 0],\n",
    "    loc=(X @ beta)[:, 0],\n",
    "    scale=sigma_squared ** 0.5\n",
    ")"
   ]
  },
  {
   "cell_type": "code",
   "execution_count": 35,
   "metadata": {
    "ExecuteTime": {
     "end_time": "2019-10-15T04:16:05.939960Z",
     "start_time": "2019-10-15T04:16:05.929394Z"
    }
   },
   "outputs": [
    {
     "data": {
      "text/plain": [
       "1.3363083265147978e-12"
      ]
     },
     "execution_count": 35,
     "metadata": {},
     "output_type": "execute_result"
    }
   ],
   "source": [
    "np.prod(norm.pdf(\n",
    "    x=y[:, 0],\n",
    "    loc=(X @ beta)[:, 0],\n",
    "    scale=sigma_squared ** 0.5\n",
    "))"
   ]
  },
  {
   "cell_type": "code",
   "execution_count": 36,
   "metadata": {
    "ExecuteTime": {
     "end_time": "2019-10-15T04:16:05.956475Z",
     "start_time": "2019-10-15T04:16:05.942888Z"
    }
   },
   "outputs": [
    {
     "data": {
      "text/plain": [
       "1.3363083265147937e-12"
      ]
     },
     "execution_count": 36,
     "metadata": {},
     "output_type": "execute_result"
    }
   ],
   "source": [
    "multivariate_normal.pdf(\n",
    "    x=y[:, 0],\n",
    "    mean=(X @ beta)[:, 0],\n",
    "    cov=sigma_squared\n",
    ")"
   ]
  },
  {
   "cell_type": "code",
   "execution_count": 37,
   "metadata": {
    "ExecuteTime": {
     "end_time": "2019-10-15T04:16:05.968327Z",
     "start_time": "2019-10-15T04:16:05.959438Z"
    }
   },
   "outputs": [
    {
     "data": {
      "text/plain": [
       "array([-2.44385605, -2.34563554, -4.64612411, -3.12782084, -2.071278  ,\n",
       "       -2.08774998, -3.24493714, -3.14973868, -2.08223543, -2.14173453])"
      ]
     },
     "execution_count": 37,
     "metadata": {},
     "output_type": "execute_result"
    }
   ],
   "source": [
    "np.log(norm.pdf(\n",
    "    x=y[:, 0],\n",
    "    loc=(X @ beta)[:, 0],\n",
    "    scale=sigma_squared ** 0.5\n",
    "))"
   ]
  },
  {
   "cell_type": "code",
   "execution_count": 38,
   "metadata": {
    "ExecuteTime": {
     "end_time": "2019-10-15T04:16:05.988757Z",
     "start_time": "2019-10-15T04:16:05.973485Z"
    }
   },
   "outputs": [
    {
     "data": {
      "text/plain": [
       "array([-2.44385605, -2.34563554, -4.64612411, -3.12782084, -2.071278  ,\n",
       "       -2.08774998, -3.24493714, -3.14973868, -2.08223543, -2.14173453])"
      ]
     },
     "execution_count": 38,
     "metadata": {},
     "output_type": "execute_result"
    }
   ],
   "source": [
    "norm.logpdf(\n",
    "    x=y[:, 0],\n",
    "    loc=(X @ beta)[:, 0],\n",
    "    scale=sigma_squared ** 0.5\n",
    ")"
   ]
  },
  {
   "cell_type": "code",
   "execution_count": 39,
   "metadata": {
    "ExecuteTime": {
     "end_time": "2019-10-15T04:16:06.002131Z",
     "start_time": "2019-10-15T04:16:05.990772Z"
    }
   },
   "outputs": [
    {
     "data": {
      "text/plain": [
       "array([2.44385605, 2.34563554, 4.64612411, 3.12782084, 2.071278  ,\n",
       "       2.08774998, 3.24493714, 3.14973868, 2.08223543, 2.14173453])"
      ]
     },
     "execution_count": 39,
     "metadata": {},
     "output_type": "execute_result"
    }
   ],
   "source": [
    "-1 * norm.logpdf(\n",
    "    x=y[:, 0],\n",
    "    loc=(X @ beta)[:, 0],\n",
    "    scale=sigma_squared ** 0.5\n",
    ")"
   ]
  },
  {
   "cell_type": "code",
   "execution_count": 40,
   "metadata": {
    "ExecuteTime": {
     "end_time": "2019-10-15T04:16:06.014183Z",
     "start_time": "2019-10-15T04:16:06.004759Z"
    }
   },
   "outputs": [
    {
     "data": {
      "text/plain": [
       "27.341110284121008"
      ]
     },
     "execution_count": 40,
     "metadata": {},
     "output_type": "execute_result"
    }
   ],
   "source": [
    "# log likelihood of the truth!\n",
    "-1 * sum(norm.logpdf(\n",
    "    x=y[:, 0],\n",
    "    loc=(X @ beta)[:, 0],\n",
    "    scale=sigma_squared ** 0.5\n",
    "))"
   ]
  },
  {
   "cell_type": "markdown",
   "metadata": {},
   "source": [
    "# Other stuff"
   ]
  },
  {
   "cell_type": "markdown",
   "metadata": {},
   "source": [
    "so...\n",
    "- where is likelihood highest?\n",
    "- where is L' = 0 and L'' < 0?\n",
    "- let l = log(L)\n",
    "- where is l' = 0 and l'' < 0\n",
    "- where is -l' = 0 and -l'' > 0, in parameter space\n",
    "\n",
    "fisher scoring... using scoring function l'. then use newton raphson to find root. \n"
   ]
  },
  {
   "cell_type": "code",
   "execution_count": 41,
   "metadata": {
    "ExecuteTime": {
     "end_time": "2019-10-15T04:16:06.025063Z",
     "start_time": "2019-10-15T04:16:06.016152Z"
    }
   },
   "outputs": [
    {
     "ename": "SyntaxError",
     "evalue": "invalid syntax (<ipython-input-41-5a490a51cf19>, line 1)",
     "output_type": "error",
     "traceback": [
      "\u001b[0;36m  File \u001b[0;32m\"<ipython-input-41-5a490a51cf19>\"\u001b[0;36m, line \u001b[0;32m1\u001b[0m\n\u001b[0;31m    beta =\u001b[0m\n\u001b[0m           ^\u001b[0m\n\u001b[0;31mSyntaxError\u001b[0m\u001b[0;31m:\u001b[0m invalid syntax\n"
     ]
    }
   ],
   "source": [
    "beta = \n",
    "likelihood = lambda X, y, beta, sigma: np.prod(rng.normal(loc=X[i]@beta, scale=sigma))\n",
    "negative_log_likelihood = lambda X, y: -1 * np.log(likelihood(X, y))\n",
    "scoring_function = negative_log_likelihood.differentiate(wrt=beta)\n",
    "\n",
    "while scoring_function(y, X) < epsilon:\n",
    "    scoring_function_derivative = scoring_function.differentiate()\n",
    "    gradient_vector = scoring_function_derivative(y, X)\n",
    "    beta_update = -1 * step_size * gradient_vector\n",
    "    beta += beta_update"
   ]
  },
  {
   "cell_type": "code",
   "execution_count": null,
   "metadata": {
    "ExecuteTime": {
     "end_time": "2019-10-15T04:16:06.035740Z",
     "start_time": "2019-10-15T04:16:05.679Z"
    }
   },
   "outputs": [],
   "source": [
    "class Parameter(object):\n",
    "    def __init__(self, shape):\n",
    "        self.value = np.ones(shape=shape, dtype=np.float)\n",
    "\n",
    "class LinearModel(object):\n",
    "    def __init__(self, beta):\n",
    "        self.beta = beta\n",
    "\n",
    "    def __call__(self, X):\n",
    "        return X @ beta\n",
    "\n",
    "    def differentiate(self):\n",
    "        return self.beta\n",
    "\n",
    "class Product(object):\n",
    "    def __init__(self, x, y):\n",
    "        self.x = x\n",
    "        self.y = y\n",
    "\n",
    "    def differentiate(self, wrt=):\n",
    "        return self.x\n",
    "        "
   ]
  },
  {
   "cell_type": "code",
   "execution_count": null,
   "metadata": {
    "ExecuteTime": {
     "end_time": "2019-10-15T04:16:06.038078Z",
     "start_time": "2019-10-15T04:16:05.688Z"
    }
   },
   "outputs": [],
   "source": [
    "beta_estimate = Parameter(shape=(p,))\n",
    "linear_model = LinearModel(beta_estimate)  # takes an argument X\n",
    "sigma_squared_estimate = Parameter(shape=(1,))\n",
    "p_y = GaussianDistribution(mean=linear_model, variance=sigma_squared_estimate)\n",
    "likelihood = Product(p_y(y[i], X[i]) for i in range(N))"
   ]
  },
  {
   "cell_type": "code",
   "execution_count": null,
   "metadata": {
    "ExecuteTime": {
     "end_time": "2019-10-15T04:16:06.040084Z",
     "start_time": "2019-10-15T04:16:05.698Z"
    }
   },
   "outputs": [],
   "source": [
    "while True:\n",
    "    negative_log_likelihood"
   ]
  },
  {
   "cell_type": "markdown",
   "metadata": {},
   "source": [
    "# OLS with linear algebra"
   ]
  },
  {
   "cell_type": "code",
   "execution_count": null,
   "metadata": {
    "ExecuteTime": {
     "end_time": "2019-10-15T04:16:06.041762Z",
     "start_time": "2019-10-15T04:16:05.707Z"
    }
   },
   "outputs": [],
   "source": [
    "# compute OLS fit\n",
    "beta_hat_ols = np.linalg.inv(X.T @ X) @ X.T @ y\n",
    "residual_ols = y - X @ beta_hat_ols\n",
    "rss_ols = residual_ols.T @ residual_ols\n",
    "sigma_squared_hat_ols = rss_ols / (N - p)\n",
    "var_beta_ols = np.linalg.inv(X.T @ X) * sigma_squared_hat_ols"
   ]
  },
  {
   "cell_type": "code",
   "execution_count": null,
   "metadata": {
    "ExecuteTime": {
     "end_time": "2019-10-15T04:16:06.043793Z",
     "start_time": "2019-10-15T04:16:05.715Z"
    }
   },
   "outputs": [],
   "source": [
    "beta_hat_ols"
   ]
  },
  {
   "cell_type": "code",
   "execution_count": null,
   "metadata": {
    "ExecuteTime": {
     "end_time": "2019-10-15T04:16:06.046065Z",
     "start_time": "2019-10-15T04:16:05.726Z"
    }
   },
   "outputs": [],
   "source": [
    "# double check with scikit-learn\n",
    "from sklearn.linear_model import LinearRegression\n",
    "linear_regression = LinearRegression(fit_intercept=False)\n",
    "linear_regression.fit(X, y)\n",
    "linear_regression.coef_"
   ]
  },
  {
   "cell_type": "code",
   "execution_count": null,
   "metadata": {
    "ExecuteTime": {
     "end_time": "2019-10-15T04:16:06.048941Z",
     "start_time": "2019-10-15T04:16:05.735Z"
    }
   },
   "outputs": [],
   "source": [
    "sigma_squared_hat_ols ** 0.5"
   ]
  },
  {
   "cell_type": "code",
   "execution_count": null,
   "metadata": {
    "ExecuteTime": {
     "end_time": "2019-10-15T04:16:06.050659Z",
     "start_time": "2019-10-15T04:16:05.745Z"
    }
   },
   "outputs": [],
   "source": [
    "var_beta_ols"
   ]
  },
  {
   "cell_type": "code",
   "execution_count": null,
   "metadata": {},
   "outputs": [],
   "source": []
  }
 ],
 "metadata": {
  "kernelspec": {
   "display_name": "Python 3",
   "language": "python",
   "name": "python3"
  },
  "language_info": {
   "codemirror_mode": {
    "name": "ipython",
    "version": 3
   },
   "file_extension": ".py",
   "mimetype": "text/x-python",
   "name": "python",
   "nbconvert_exporter": "python",
   "pygments_lexer": "ipython3",
   "version": "3.7.2"
  },
  "varInspector": {
   "cols": {
    "lenName": 16,
    "lenType": 16,
    "lenVar": 40
   },
   "kernels_config": {
    "python": {
     "delete_cmd_postfix": "",
     "delete_cmd_prefix": "del ",
     "library": "var_list.py",
     "varRefreshCmd": "print(var_dic_list())"
    },
    "r": {
     "delete_cmd_postfix": ") ",
     "delete_cmd_prefix": "rm(",
     "library": "var_list.r",
     "varRefreshCmd": "cat(var_dic_list()) "
    }
   },
   "position": {
    "height": "293.2px",
    "left": "654.6px",
    "right": "20px",
    "top": "19px",
    "width": "370.2px"
   },
   "types_to_exclude": [
    "module",
    "function",
    "builtin_function_or_method",
    "instance",
    "_Feature"
   ],
   "window_display": false
  }
 },
 "nbformat": 4,
 "nbformat_minor": 2
}

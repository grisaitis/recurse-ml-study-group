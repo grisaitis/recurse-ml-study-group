{
 "cells": [
  {
   "cell_type": "markdown",
   "metadata": {},
   "source": [
    "# Learning Regressions with Maximum Likelihood Estimation (MLE)"
   ]
  },
  {
   "cell_type": "code",
   "execution_count": 1,
   "metadata": {
    "ExecuteTime": {
     "end_time": "2019-10-15T04:50:11.595151Z",
     "start_time": "2019-10-15T04:50:11.072494Z"
    }
   },
   "outputs": [],
   "source": [
    "import time\n",
    "\n",
    "import numpy as np\n",
    "import pandas as pd"
   ]
  },
  {
   "cell_type": "markdown",
   "metadata": {},
   "source": [
    "## Make fake data"
   ]
  },
  {
   "cell_type": "code",
   "execution_count": 2,
   "metadata": {
    "ExecuteTime": {
     "end_time": "2019-10-15T04:50:11.608633Z",
     "start_time": "2019-10-15T04:50:11.597527Z"
    }
   },
   "outputs": [],
   "source": [
    "N = 100\n",
    "beta = np.array([3.0, -5.0, 1.0])\n",
    "p = len(beta)\n",
    "beta = beta.reshape((p, 1))\n",
    "sigma_squared = 5.0\n",
    "theta_truth = tuple(float(b) for b in beta) + (sigma_squared,)"
   ]
  },
  {
   "cell_type": "code",
   "execution_count": 3,
   "metadata": {
    "ExecuteTime": {
     "end_time": "2019-10-15T04:50:11.626886Z",
     "start_time": "2019-10-15T04:50:11.616008Z"
    }
   },
   "outputs": [],
   "source": [
    "class FakeData(object):\n",
    "    def __init__(self, N, p, beta, sigma_squared, rng=None):\n",
    "        if not rng: \n",
    "            rng = np.random.RandomState()\n",
    "        X = rng.uniform(size=N * p).reshape((N, p))\n",
    "        error = rng.normal(loc=0, scale=sigma_squared ** 0.5, size=N).reshape((N, 1))\n",
    "        X_times_beta = X @ beta\n",
    "        assert X_times_beta.shape == (N, 1), X_times_beta.shape\n",
    "        y = X_times_beta + error\n",
    "        assert y.shape == (N, 1), y.shape\n",
    "        self.X = X\n",
    "        self.y = y\n",
    "        return\n"
   ]
  },
  {
   "cell_type": "code",
   "execution_count": 4,
   "metadata": {
    "ExecuteTime": {
     "end_time": "2019-10-15T04:50:11.652836Z",
     "start_time": "2019-10-15T04:50:11.629927Z"
    }
   },
   "outputs": [
    {
     "data": {
      "text/plain": [
       "((100, 1), (100, 3))"
      ]
     },
     "execution_count": 4,
     "metadata": {},
     "output_type": "execute_result"
    }
   ],
   "source": [
    "# make y, X\n",
    "rng = np.random.RandomState(seed=0)\n",
    "fake_data = FakeData(N, p, beta, sigma_squared, rng=rng)\n",
    "y, X = fake_data.y, fake_data.X\n",
    "y.shape, X.shape"
   ]
  },
  {
   "cell_type": "markdown",
   "metadata": {},
   "source": [
    "# Run optimizations"
   ]
  },
  {
   "cell_type": "code",
   "execution_count": 5,
   "metadata": {
    "ExecuteTime": {
     "end_time": "2019-10-15T04:50:11.682885Z",
     "start_time": "2019-10-15T04:50:11.657211Z"
    }
   },
   "outputs": [
    {
     "data": {
      "text/html": [
       "<div>\n",
       "<style scoped>\n",
       "    .dataframe tbody tr th:only-of-type {\n",
       "        vertical-align: middle;\n",
       "    }\n",
       "\n",
       "    .dataframe tbody tr th {\n",
       "        vertical-align: top;\n",
       "    }\n",
       "\n",
       "    .dataframe thead th {\n",
       "        text-align: right;\n",
       "    }\n",
       "</style>\n",
       "<table border=\"1\" class=\"dataframe\">\n",
       "  <thead>\n",
       "    <tr style=\"text-align: right;\">\n",
       "      <th></th>\n",
       "      <th>β[0]</th>\n",
       "      <th>β[1]</th>\n",
       "      <th>β[2]</th>\n",
       "      <th>σ²</th>\n",
       "    </tr>\n",
       "  </thead>\n",
       "  <tbody>\n",
       "    <tr>\n",
       "      <td>Truth</td>\n",
       "      <td>3.0</td>\n",
       "      <td>-5.0</td>\n",
       "      <td>1.0</td>\n",
       "      <td>5.0</td>\n",
       "    </tr>\n",
       "  </tbody>\n",
       "</table>\n",
       "</div>"
      ],
      "text/plain": [
       "       β[0]  β[1]  β[2]   σ²\n",
       "Truth   3.0  -5.0   1.0  5.0"
      ]
     },
     "execution_count": 5,
     "metadata": {},
     "output_type": "execute_result"
    }
   ],
   "source": [
    "columns = tuple(f\"β[{p_}]\" for p_ in range(p)) + (\"σ²\",)\n",
    "results = pd.DataFrame(columns=columns)\n",
    "results.loc['Truth'] = theta_truth\n",
    "results"
   ]
  },
  {
   "cell_type": "markdown",
   "metadata": {},
   "source": [
    "## Least Squares"
   ]
  },
  {
   "cell_type": "code",
   "execution_count": 6,
   "metadata": {
    "ExecuteTime": {
     "end_time": "2019-10-15T04:50:11.704597Z",
     "start_time": "2019-10-15T04:50:11.686685Z"
    }
   },
   "outputs": [],
   "source": [
    "beta_hat_ols = np.linalg.inv(X.T @ X) @ X.T @ y\n",
    "beta_hat_ols = np.linalg.inv(X.T @ X) @ X.T @ y\n",
    "residual_ols = y - X @ beta_hat_ols\n",
    "rss_ols = residual_ols.T @ residual_ols\n",
    "sigma_squared_hat_ols = rss_ols[0, 0] / (N - p)\n",
    "# sigma_hat_ols = sigma_squared_hat_ols ** 0.5\n",
    "theta_ols = tuple(float(b) for b in beta_hat_ols) + (sigma_squared_hat_ols,)"
   ]
  },
  {
   "cell_type": "code",
   "execution_count": 7,
   "metadata": {
    "ExecuteTime": {
     "end_time": "2019-10-15T04:50:11.719293Z",
     "start_time": "2019-10-15T04:50:11.707063Z"
    }
   },
   "outputs": [],
   "source": [
    "results.loc[f'least squares (N={N})'] = theta_ols"
   ]
  },
  {
   "cell_type": "code",
   "execution_count": 8,
   "metadata": {
    "ExecuteTime": {
     "end_time": "2019-10-15T04:50:11.751381Z",
     "start_time": "2019-10-15T04:50:11.724656Z"
    },
    "scrolled": true
   },
   "outputs": [
    {
     "name": "stdout",
     "output_type": "stream",
     "text": [
      "====Results so far====\n"
     ]
    },
    {
     "data": {
      "text/html": [
       "<div>\n",
       "<style scoped>\n",
       "    .dataframe tbody tr th:only-of-type {\n",
       "        vertical-align: middle;\n",
       "    }\n",
       "\n",
       "    .dataframe tbody tr th {\n",
       "        vertical-align: top;\n",
       "    }\n",
       "\n",
       "    .dataframe thead th {\n",
       "        text-align: right;\n",
       "    }\n",
       "</style>\n",
       "<table border=\"1\" class=\"dataframe\">\n",
       "  <thead>\n",
       "    <tr style=\"text-align: right;\">\n",
       "      <th></th>\n",
       "      <th>β[0]</th>\n",
       "      <th>β[1]</th>\n",
       "      <th>β[2]</th>\n",
       "      <th>σ²</th>\n",
       "    </tr>\n",
       "  </thead>\n",
       "  <tbody>\n",
       "    <tr>\n",
       "      <td>Truth</td>\n",
       "      <td>3.000000</td>\n",
       "      <td>-5.000000</td>\n",
       "      <td>1.000000</td>\n",
       "      <td>5.000000</td>\n",
       "    </tr>\n",
       "    <tr>\n",
       "      <td>least squares (N=100)</td>\n",
       "      <td>2.032267</td>\n",
       "      <td>-5.115539</td>\n",
       "      <td>1.492514</td>\n",
       "      <td>4.459838</td>\n",
       "    </tr>\n",
       "  </tbody>\n",
       "</table>\n",
       "</div>"
      ],
      "text/plain": [
       "                           β[0]      β[1]      β[2]        σ²\n",
       "Truth                  3.000000 -5.000000  1.000000  5.000000\n",
       "least squares (N=100)  2.032267 -5.115539  1.492514  4.459838"
      ]
     },
     "execution_count": 8,
     "metadata": {},
     "output_type": "execute_result"
    }
   ],
   "source": [
    "print(\"====Results so far====\")\n",
    "results"
   ]
  },
  {
   "cell_type": "code",
   "execution_count": 9,
   "metadata": {
    "ExecuteTime": {
     "end_time": "2019-10-15T04:50:12.185228Z",
     "start_time": "2019-10-15T04:50:11.755455Z"
    }
   },
   "outputs": [
    {
     "data": {
      "text/plain": [
       "array([[ 2.03226693, -5.11553864,  1.49251394]])"
      ]
     },
     "execution_count": 9,
     "metadata": {},
     "output_type": "execute_result"
    }
   ],
   "source": [
    "# double check with scikit-learn\n",
    "from sklearn.linear_model import LinearRegression\n",
    "linear_regression = LinearRegression(fit_intercept=False)\n",
    "linear_regression.fit(X, y)\n",
    "linear_regression.coef_"
   ]
  },
  {
   "cell_type": "markdown",
   "metadata": {},
   "source": [
    "## MLE: likelihood + scipy.optimize.fmin"
   ]
  },
  {
   "cell_type": "markdown",
   "metadata": {},
   "source": [
    "### define likelihood"
   ]
  },
  {
   "cell_type": "code",
   "execution_count": 10,
   "metadata": {
    "ExecuteTime": {
     "end_time": "2019-10-15T04:50:12.197265Z",
     "start_time": "2019-10-15T04:50:12.189151Z"
    }
   },
   "outputs": [],
   "source": [
    "from scipy import optimize\n",
    "from scipy.stats import norm\n",
    "from scipy.stats import multivariate_normal"
   ]
  },
  {
   "cell_type": "code",
   "execution_count": 11,
   "metadata": {
    "ExecuteTime": {
     "end_time": "2019-10-15T04:50:12.214995Z",
     "start_time": "2019-10-15T04:50:12.206284Z"
    }
   },
   "outputs": [],
   "source": [
    "class Likelihood(object):\n",
    "    def __init__(self, X, y):\n",
    "        self.X = X\n",
    "        self.y = y\n",
    "\n",
    "    def __call__(self, theta):\n",
    "        N, p = self.X.shape\n",
    "        if N > 1000:\n",
    "            return 0\n",
    "        sigma_squared = theta[-1]\n",
    "        beta = np.array(theta[0:p]).reshape((p, 1))\n",
    "        mu = self.X @ beta\n",
    "        joint_probability = multivariate_normal.pdf(\n",
    "            y[:, 0],\n",
    "            mu[:, 0],\n",
    "            sigma_squared)\n",
    "        return joint_probability\n"
   ]
  },
  {
   "cell_type": "code",
   "execution_count": 12,
   "metadata": {
    "ExecuteTime": {
     "end_time": "2019-10-15T04:50:12.238915Z",
     "start_time": "2019-10-15T04:50:12.218236Z"
    }
   },
   "outputs": [],
   "source": [
    "class LoggedFunction(object):\n",
    "    def __init__(self, f, every_s=1):\n",
    "        self.f = f\n",
    "        self.every_s = every_s\n",
    "        self.n_calls = 0\n",
    "        self.time_of_last_log = time.time()\n",
    "\n",
    "    def __call__(self, *args, **kwargs):\n",
    "        self.n_calls += 1\n",
    "        start = time.time()\n",
    "        if (start - self.time_of_last_log) > 5:\n",
    "            return \"giving up!\"\n",
    "        its_been_a_while = (start - self.time_of_last_log) > self.every_s\n",
    "        lets_log = its_been_a_while or self.n_calls == 1\n",
    "        if lets_log:\n",
    "            print(f\"Call #{self.n_calls}:\")\n",
    "            print(*args, **kwargs)\n",
    "        result = self.f(*args, **kwargs)\n",
    "        if lets_log:\n",
    "            print(result)\n",
    "            end = time.time()\n",
    "            print(\"wall time (s):\", end - start)\n",
    "            self.time_of_last_log = start\n",
    "        return result\n"
   ]
  },
  {
   "cell_type": "code",
   "execution_count": 13,
   "metadata": {
    "ExecuteTime": {
     "end_time": "2019-10-15T04:50:12.253318Z",
     "start_time": "2019-10-15T04:50:12.244726Z"
    }
   },
   "outputs": [],
   "source": [
    "likelihood = Likelihood(X, y)"
   ]
  },
  {
   "cell_type": "markdown",
   "metadata": {},
   "source": [
    "### optimize likelihood"
   ]
  },
  {
   "cell_type": "code",
   "execution_count": 14,
   "metadata": {
    "ExecuteTime": {
     "end_time": "2019-10-15T04:50:12.275420Z",
     "start_time": "2019-10-15T04:50:12.258934Z"
    }
   },
   "outputs": [],
   "source": [
    "initial_guess = tuple(0.0 for _ in range(p)) + (1.0,)"
   ]
  },
  {
   "cell_type": "code",
   "execution_count": 15,
   "metadata": {
    "ExecuteTime": {
     "end_time": "2019-10-15T04:50:12.291822Z",
     "start_time": "2019-10-15T04:50:12.280286Z"
    }
   },
   "outputs": [
    {
     "data": {
      "text/plain": [
       "4.0290232730964096e-95"
      ]
     },
     "execution_count": 15,
     "metadata": {},
     "output_type": "execute_result"
    }
   ],
   "source": [
    "# test out the function\n",
    "likelihood(theta_truth)"
   ]
  },
  {
   "cell_type": "code",
   "execution_count": 16,
   "metadata": {
    "ExecuteTime": {
     "end_time": "2019-10-15T04:50:13.212794Z",
     "start_time": "2019-10-15T04:50:12.294917Z"
    },
    "scrolled": false
   },
   "outputs": [
    {
     "name": "stdout",
     "output_type": "stream",
     "text": [
      "Call #1:\n",
      "[0. 0. 0. 1.]\n",
      "-8.638496939073674e-209\n",
      "wall time (s): 0.006022930145263672\n",
      "Optimization terminated successfully.\n",
      "         Current function value: -0.000000\n",
      "         Iterations: 487\n",
      "         Function evaluations: 818\n"
     ]
    }
   ],
   "source": [
    "negative_likelihood = lambda x: -1 * likelihood(x)\n",
    "# f = negative_likelihood\n",
    "f = LoggedFunction(negative_likelihood, every_s=1)\n",
    "theta_mle_likelihood = optimize.fmin(f, initial_guess, xtol=1e-6, ftol=1e-6, maxiter=1000)"
   ]
  },
  {
   "cell_type": "code",
   "execution_count": 17,
   "metadata": {
    "ExecuteTime": {
     "end_time": "2019-10-15T04:50:13.225422Z",
     "start_time": "2019-10-15T04:50:13.216281Z"
    }
   },
   "outputs": [],
   "source": [
    "results.loc[f'MLE: likelihood (N={N})'] = theta_mle_likelihood"
   ]
  },
  {
   "cell_type": "code",
   "execution_count": 18,
   "metadata": {
    "ExecuteTime": {
     "end_time": "2019-10-15T04:50:13.258677Z",
     "start_time": "2019-10-15T04:50:13.229664Z"
    }
   },
   "outputs": [
    {
     "name": "stdout",
     "output_type": "stream",
     "text": [
      "====Results so far====\n"
     ]
    },
    {
     "data": {
      "text/html": [
       "<div>\n",
       "<style scoped>\n",
       "    .dataframe tbody tr th:only-of-type {\n",
       "        vertical-align: middle;\n",
       "    }\n",
       "\n",
       "    .dataframe tbody tr th {\n",
       "        vertical-align: top;\n",
       "    }\n",
       "\n",
       "    .dataframe thead th {\n",
       "        text-align: right;\n",
       "    }\n",
       "</style>\n",
       "<table border=\"1\" class=\"dataframe\">\n",
       "  <thead>\n",
       "    <tr style=\"text-align: right;\">\n",
       "      <th></th>\n",
       "      <th>β[0]</th>\n",
       "      <th>β[1]</th>\n",
       "      <th>β[2]</th>\n",
       "      <th>σ²</th>\n",
       "    </tr>\n",
       "  </thead>\n",
       "  <tbody>\n",
       "    <tr>\n",
       "      <td>Truth</td>\n",
       "      <td>3.000000</td>\n",
       "      <td>-5.000000</td>\n",
       "      <td>1.000000</td>\n",
       "      <td>5.000000</td>\n",
       "    </tr>\n",
       "    <tr>\n",
       "      <td>least squares (N=100)</td>\n",
       "      <td>2.032267</td>\n",
       "      <td>-5.115539</td>\n",
       "      <td>1.492514</td>\n",
       "      <td>4.459838</td>\n",
       "    </tr>\n",
       "    <tr>\n",
       "      <td>MLE: likelihood (N=100)</td>\n",
       "      <td>2.032267</td>\n",
       "      <td>-5.115538</td>\n",
       "      <td>1.492514</td>\n",
       "      <td>4.326043</td>\n",
       "    </tr>\n",
       "  </tbody>\n",
       "</table>\n",
       "</div>"
      ],
      "text/plain": [
       "                             β[0]      β[1]      β[2]        σ²\n",
       "Truth                    3.000000 -5.000000  1.000000  5.000000\n",
       "least squares (N=100)    2.032267 -5.115539  1.492514  4.459838\n",
       "MLE: likelihood (N=100)  2.032267 -5.115538  1.492514  4.326043"
      ]
     },
     "execution_count": 18,
     "metadata": {},
     "output_type": "execute_result"
    }
   ],
   "source": [
    "print(\"====Results so far====\")\n",
    "results"
   ]
  },
  {
   "cell_type": "markdown",
   "metadata": {},
   "source": [
    "## MLE: negative log likelihood + scipy.optimize.fmin"
   ]
  },
  {
   "cell_type": "markdown",
   "metadata": {},
   "source": [
    "### define negative log likelihood"
   ]
  },
  {
   "cell_type": "code",
   "execution_count": 19,
   "metadata": {
    "ExecuteTime": {
     "end_time": "2019-10-15T04:50:13.275379Z",
     "start_time": "2019-10-15T04:50:13.261336Z"
    }
   },
   "outputs": [],
   "source": [
    "class NegativeLogLikelihood(object):\n",
    "    def __init__(self, X, y):\n",
    "        self.X = X\n",
    "        self.y = y\n",
    "\n",
    "    def __call__(self, theta):\n",
    "        N, p = self.X.shape\n",
    "        sigma_squared = theta[-1]\n",
    "        beta = np.array(theta[0:p]).reshape((p, 1))\n",
    "        log_probabilities = norm.logpdf(\n",
    "            x=self.y[:, 0],\n",
    "            loc=(self.X @ beta)[:, 0],\n",
    "            scale=sigma_squared ** 0.5\n",
    "        )\n",
    "        negative_log_likelihood = -1 * sum(log_probabilities)\n",
    "        return negative_log_likelihood\n",
    "\n",
    "negative_log_likelihood = NegativeLogLikelihood(X, y)"
   ]
  },
  {
   "cell_type": "code",
   "execution_count": 20,
   "metadata": {
    "ExecuteTime": {
     "end_time": "2019-10-15T04:50:13.284912Z",
     "start_time": "2019-10-15T04:50:13.278137Z"
    }
   },
   "outputs": [],
   "source": [
    "initial_guess = tuple(0.0 for _ in range(p)) + (1.0,)"
   ]
  },
  {
   "cell_type": "code",
   "execution_count": 21,
   "metadata": {
    "ExecuteTime": {
     "end_time": "2019-10-15T04:50:13.297143Z",
     "start_time": "2019-10-15T04:50:13.288089Z"
    }
   },
   "outputs": [
    {
     "data": {
      "text/plain": [
       "479.0840558334582"
      ]
     },
     "execution_count": 21,
     "metadata": {},
     "output_type": "execute_result"
    }
   ],
   "source": [
    "negative_log_likelihood(initial_guess)"
   ]
  },
  {
   "cell_type": "code",
   "execution_count": 22,
   "metadata": {
    "ExecuteTime": {
     "end_time": "2019-10-15T04:50:13.308003Z",
     "start_time": "2019-10-15T04:50:13.300115Z"
    }
   },
   "outputs": [
    {
     "data": {
      "text/plain": [
       "217.35205985184663"
      ]
     },
     "execution_count": 22,
     "metadata": {},
     "output_type": "execute_result"
    }
   ],
   "source": [
    "negative_log_likelihood(theta_truth)"
   ]
  },
  {
   "cell_type": "code",
   "execution_count": 23,
   "metadata": {
    "ExecuteTime": {
     "end_time": "2019-10-15T04:50:13.332461Z",
     "start_time": "2019-10-15T04:50:13.319766Z"
    }
   },
   "outputs": [
    {
     "data": {
      "text/plain": [
       "215.14947087529944"
      ]
     },
     "execution_count": 23,
     "metadata": {},
     "output_type": "execute_result"
    }
   ],
   "source": [
    "negative_log_likelihood(theta_ols)"
   ]
  },
  {
   "cell_type": "code",
   "execution_count": 24,
   "metadata": {
    "ExecuteTime": {
     "end_time": "2019-10-15T04:50:13.349582Z",
     "start_time": "2019-10-15T04:50:13.339737Z"
    }
   },
   "outputs": [
    {
     "data": {
      "text/plain": [
       "215.1265105010642"
      ]
     },
     "execution_count": 24,
     "metadata": {},
     "output_type": "execute_result"
    }
   ],
   "source": [
    "negative_log_likelihood(theta_mle_likelihood)"
   ]
  },
  {
   "cell_type": "markdown",
   "metadata": {},
   "source": [
    "### optimize negative log likelihood"
   ]
  },
  {
   "cell_type": "code",
   "execution_count": 25,
   "metadata": {
    "ExecuteTime": {
     "end_time": "2019-10-15T04:50:13.378798Z",
     "start_time": "2019-10-15T04:50:13.353653Z"
    }
   },
   "outputs": [
    {
     "data": {
      "text/plain": [
       "215.14947087529944"
      ]
     },
     "execution_count": 25,
     "metadata": {},
     "output_type": "execute_result"
    }
   ],
   "source": [
    "negative_log_likelihood(theta_ols)"
   ]
  },
  {
   "cell_type": "code",
   "execution_count": 26,
   "metadata": {
    "ExecuteTime": {
     "end_time": "2019-10-15T04:50:13.654919Z",
     "start_time": "2019-10-15T04:50:13.386092Z"
    },
    "scrolled": false
   },
   "outputs": [
    {
     "name": "stdout",
     "output_type": "stream",
     "text": [
      "Call #1:\n",
      "[0. 0. 0. 1.]\n",
      "479.0840558334582\n",
      "wall time (s): 0.0025451183319091797\n",
      "Optimization terminated successfully.\n",
      "         Current function value: 215.126511\n",
      "         Iterations: 488\n",
      "         Function evaluations: 820\n",
      "\n",
      "solution:\n",
      "[ 2.03226669 -5.11553874  1.49251416  4.32604225]\n",
      "215.12651050106416\n"
     ]
    }
   ],
   "source": [
    "f = LoggedFunction(negative_log_likelihood, every_s=1)\n",
    "theta_mle_negloglikelihood = optimize.fmin(f, initial_guess, ftol=1e-6, xtol=1e-6, maxiter=3000)\n",
    "print(\"\")\n",
    "print(\"solution:\")\n",
    "print(theta_mle_negloglikelihood)\n",
    "print(f(theta_mle_negloglikelihood))"
   ]
  },
  {
   "cell_type": "code",
   "execution_count": 27,
   "metadata": {
    "ExecuteTime": {
     "end_time": "2019-10-15T04:50:13.666330Z",
     "start_time": "2019-10-15T04:50:13.656981Z"
    }
   },
   "outputs": [],
   "source": [
    "results.loc[f'MLE: -log(likelihood) (N={N})'] = theta_mle_negloglikelihood"
   ]
  },
  {
   "cell_type": "code",
   "execution_count": 28,
   "metadata": {
    "ExecuteTime": {
     "end_time": "2019-10-15T04:50:13.690040Z",
     "start_time": "2019-10-15T04:50:13.669541Z"
    }
   },
   "outputs": [
    {
     "name": "stdout",
     "output_type": "stream",
     "text": [
      "====Results so far====\n",
      "                                   β[0]      β[1]      β[2]        σ²\n",
      "Truth                          3.000000 -5.000000  1.000000  5.000000\n",
      "least squares (N=100)          2.032267 -5.115539  1.492514  4.459838\n",
      "MLE: likelihood (N=100)        2.032267 -5.115538  1.492514  4.326043\n",
      "MLE: -log(likelihood) (N=100)  2.032267 -5.115539  1.492514  4.326042\n"
     ]
    },
    {
     "data": {
      "text/html": [
       "<div>\n",
       "<style scoped>\n",
       "    .dataframe tbody tr th:only-of-type {\n",
       "        vertical-align: middle;\n",
       "    }\n",
       "\n",
       "    .dataframe tbody tr th {\n",
       "        vertical-align: top;\n",
       "    }\n",
       "\n",
       "    .dataframe thead th {\n",
       "        text-align: right;\n",
       "    }\n",
       "</style>\n",
       "<table border=\"1\" class=\"dataframe\">\n",
       "  <thead>\n",
       "    <tr style=\"text-align: right;\">\n",
       "      <th></th>\n",
       "      <th>β[0]</th>\n",
       "      <th>β[1]</th>\n",
       "      <th>β[2]</th>\n",
       "      <th>σ²</th>\n",
       "    </tr>\n",
       "  </thead>\n",
       "  <tbody>\n",
       "    <tr>\n",
       "      <td>Truth</td>\n",
       "      <td>3.000000</td>\n",
       "      <td>-5.000000</td>\n",
       "      <td>1.000000</td>\n",
       "      <td>5.000000</td>\n",
       "    </tr>\n",
       "    <tr>\n",
       "      <td>least squares (N=100)</td>\n",
       "      <td>2.032267</td>\n",
       "      <td>-5.115539</td>\n",
       "      <td>1.492514</td>\n",
       "      <td>4.459838</td>\n",
       "    </tr>\n",
       "    <tr>\n",
       "      <td>MLE: likelihood (N=100)</td>\n",
       "      <td>2.032267</td>\n",
       "      <td>-5.115538</td>\n",
       "      <td>1.492514</td>\n",
       "      <td>4.326043</td>\n",
       "    </tr>\n",
       "    <tr>\n",
       "      <td>MLE: -log(likelihood) (N=100)</td>\n",
       "      <td>2.032267</td>\n",
       "      <td>-5.115539</td>\n",
       "      <td>1.492514</td>\n",
       "      <td>4.326042</td>\n",
       "    </tr>\n",
       "  </tbody>\n",
       "</table>\n",
       "</div>"
      ],
      "text/plain": [
       "                                   β[0]      β[1]      β[2]        σ²\n",
       "Truth                          3.000000 -5.000000  1.000000  5.000000\n",
       "least squares (N=100)          2.032267 -5.115539  1.492514  4.459838\n",
       "MLE: likelihood (N=100)        2.032267 -5.115538  1.492514  4.326043\n",
       "MLE: -log(likelihood) (N=100)  2.032267 -5.115539  1.492514  4.326042"
      ]
     },
     "execution_count": 28,
     "metadata": {},
     "output_type": "execute_result"
    }
   ],
   "source": [
    "print(\"====Results so far====\")\n",
    "print(results)\n",
    "results"
   ]
  },
  {
   "cell_type": "markdown",
   "metadata": {},
   "source": [
    "### With more data"
   ]
  },
  {
   "cell_type": "code",
   "execution_count": 29,
   "metadata": {
    "ExecuteTime": {
     "end_time": "2019-10-15T04:50:13.718246Z",
     "start_time": "2019-10-15T04:50:13.693649Z"
    }
   },
   "outputs": [
    {
     "data": {
      "text/plain": [
       "((100000, 1), (100000, 3))"
      ]
     },
     "execution_count": 29,
     "metadata": {},
     "output_type": "execute_result"
    }
   ],
   "source": [
    "N = 100000\n",
    "rng = np.random.RandomState(seed=0)\n",
    "fake_data = FakeData(N, p, beta, sigma_squared, rng=rng)\n",
    "y, X = fake_data.y, fake_data.X\n",
    "y.shape, X.shape"
   ]
  },
  {
   "cell_type": "markdown",
   "metadata": {},
   "source": [
    "#### Least Squares"
   ]
  },
  {
   "cell_type": "code",
   "execution_count": 30,
   "metadata": {
    "ExecuteTime": {
     "end_time": "2019-10-15T04:50:13.745386Z",
     "start_time": "2019-10-15T04:50:13.721230Z"
    }
   },
   "outputs": [],
   "source": [
    "beta_hat_ols = np.linalg.inv(X.T @ X) @ X.T @ y\n",
    "beta_hat_ols = np.linalg.inv(X.T @ X) @ X.T @ y\n",
    "residual_ols = y - X @ beta_hat_ols\n",
    "rss_ols = residual_ols.T @ residual_ols\n",
    "sigma_squared_hat_ols = rss_ols[0, 0] / (N - p)\n",
    "# sigma_hat_ols = sigma_squared_hat_ols ** 0.5\n",
    "theta_ols = tuple(float(b) for b in beta_hat_ols) + (sigma_squared_hat_ols,)"
   ]
  },
  {
   "cell_type": "code",
   "execution_count": 31,
   "metadata": {
    "ExecuteTime": {
     "end_time": "2019-10-15T04:50:13.760125Z",
     "start_time": "2019-10-15T04:50:13.750120Z"
    }
   },
   "outputs": [],
   "source": [
    "results.loc[f'least squares (N={N})'] = theta_ols"
   ]
  },
  {
   "cell_type": "code",
   "execution_count": 32,
   "metadata": {
    "ExecuteTime": {
     "end_time": "2019-10-15T04:50:13.787077Z",
     "start_time": "2019-10-15T04:50:13.762163Z"
    },
    "scrolled": true
   },
   "outputs": [
    {
     "name": "stdout",
     "output_type": "stream",
     "text": [
      "====Results so far====\n"
     ]
    },
    {
     "data": {
      "text/html": [
       "<div>\n",
       "<style scoped>\n",
       "    .dataframe tbody tr th:only-of-type {\n",
       "        vertical-align: middle;\n",
       "    }\n",
       "\n",
       "    .dataframe tbody tr th {\n",
       "        vertical-align: top;\n",
       "    }\n",
       "\n",
       "    .dataframe thead th {\n",
       "        text-align: right;\n",
       "    }\n",
       "</style>\n",
       "<table border=\"1\" class=\"dataframe\">\n",
       "  <thead>\n",
       "    <tr style=\"text-align: right;\">\n",
       "      <th></th>\n",
       "      <th>β[0]</th>\n",
       "      <th>β[1]</th>\n",
       "      <th>β[2]</th>\n",
       "      <th>σ²</th>\n",
       "    </tr>\n",
       "  </thead>\n",
       "  <tbody>\n",
       "    <tr>\n",
       "      <td>Truth</td>\n",
       "      <td>3.000000</td>\n",
       "      <td>-5.000000</td>\n",
       "      <td>1.000000</td>\n",
       "      <td>5.000000</td>\n",
       "    </tr>\n",
       "    <tr>\n",
       "      <td>least squares (N=100)</td>\n",
       "      <td>2.032267</td>\n",
       "      <td>-5.115539</td>\n",
       "      <td>1.492514</td>\n",
       "      <td>4.459838</td>\n",
       "    </tr>\n",
       "    <tr>\n",
       "      <td>MLE: likelihood (N=100)</td>\n",
       "      <td>2.032267</td>\n",
       "      <td>-5.115538</td>\n",
       "      <td>1.492514</td>\n",
       "      <td>4.326043</td>\n",
       "    </tr>\n",
       "    <tr>\n",
       "      <td>MLE: -log(likelihood) (N=100)</td>\n",
       "      <td>2.032267</td>\n",
       "      <td>-5.115539</td>\n",
       "      <td>1.492514</td>\n",
       "      <td>4.326042</td>\n",
       "    </tr>\n",
       "    <tr>\n",
       "      <td>least squares (N=100000)</td>\n",
       "      <td>3.025649</td>\n",
       "      <td>-5.028245</td>\n",
       "      <td>0.999202</td>\n",
       "      <td>5.011678</td>\n",
       "    </tr>\n",
       "  </tbody>\n",
       "</table>\n",
       "</div>"
      ],
      "text/plain": [
       "                                   β[0]      β[1]      β[2]        σ²\n",
       "Truth                          3.000000 -5.000000  1.000000  5.000000\n",
       "least squares (N=100)          2.032267 -5.115539  1.492514  4.459838\n",
       "MLE: likelihood (N=100)        2.032267 -5.115538  1.492514  4.326043\n",
       "MLE: -log(likelihood) (N=100)  2.032267 -5.115539  1.492514  4.326042\n",
       "least squares (N=100000)       3.025649 -5.028245  0.999202  5.011678"
      ]
     },
     "execution_count": 32,
     "metadata": {},
     "output_type": "execute_result"
    }
   ],
   "source": [
    "print(\"====Results so far====\")\n",
    "results"
   ]
  },
  {
   "cell_type": "code",
   "execution_count": 33,
   "metadata": {
    "ExecuteTime": {
     "end_time": "2019-10-15T04:50:13.813565Z",
     "start_time": "2019-10-15T04:50:13.793908Z"
    }
   },
   "outputs": [
    {
     "data": {
      "text/plain": [
       "array([[ 3.0256486 , -5.02824483,  0.99920249]])"
      ]
     },
     "execution_count": 33,
     "metadata": {},
     "output_type": "execute_result"
    }
   ],
   "source": [
    "# double check with scikit-learn\n",
    "from sklearn.linear_model import LinearRegression\n",
    "linear_regression = LinearRegression(fit_intercept=False)\n",
    "linear_regression.fit(X, y)\n",
    "linear_regression.coef_"
   ]
  },
  {
   "cell_type": "code",
   "execution_count": 34,
   "metadata": {
    "ExecuteTime": {
     "end_time": "2019-10-15T04:50:13.822110Z",
     "start_time": "2019-10-15T04:50:13.815854Z"
    }
   },
   "outputs": [],
   "source": [
    "negative_log_likelihood = NegativeLogLikelihood(X, y)"
   ]
  },
  {
   "cell_type": "code",
   "execution_count": 35,
   "metadata": {
    "ExecuteTime": {
     "end_time": "2019-10-15T04:50:13.877669Z",
     "start_time": "2019-10-15T04:50:13.824461Z"
    }
   },
   "outputs": [
    {
     "data": {
      "text/plain": [
       "222480.89592429655"
      ]
     },
     "execution_count": 35,
     "metadata": {},
     "output_type": "execute_result"
    }
   ],
   "source": [
    "negative_log_likelihood(theta_ols)"
   ]
  },
  {
   "cell_type": "code",
   "execution_count": 36,
   "metadata": {
    "ExecuteTime": {
     "end_time": "2019-10-15T04:50:35.362410Z",
     "start_time": "2019-10-15T04:50:13.881113Z"
    },
    "scrolled": true
   },
   "outputs": [
    {
     "name": "stdout",
     "output_type": "stream",
     "text": [
      "Call #1:\n",
      "[0. 0. 0. 1.]\n",
      "502682.670681692\n",
      "wall time (s): 0.03987598419189453\n",
      "Call #40:\n",
      "[ 1.00744944e-02 -3.73373785e-02  7.62493682e-03  1.26882833e+01]\n",
      "251117.28759407744\n",
      "wall time (s): 0.02255988121032715\n",
      "Call #82:\n",
      "[ 5.94986288e-03 -2.34328837e-02  4.26246321e-03  8.19247676e+00]\n",
      "247014.7727401743\n",
      "wall time (s): 0.023183822631835938\n",
      "Call #124:\n",
      "[-4.89896482e-02 -9.05182983e-02  4.51315823e-03  8.48663618e+00]\n",
      "246553.4127067833\n",
      "wall time (s): 0.023405075073242188\n",
      "Call #168:\n",
      "[-5.72186498e-01 -7.12604139e-01  3.62041211e-03  7.70550741e+00]\n",
      "244267.1806379409\n",
      "wall time (s): 0.024611711502075195\n",
      "Call #211:\n",
      "[-5.53024964e-01 -6.90016371e-01  3.68573162e-03  7.77943030e+00]\n",
      "244262.64736546265\n",
      "wall time (s): 0.022819042205810547\n",
      "Call #254:\n",
      "[-0.4881476  -0.62881507  0.01926741  7.72570981]\n",
      "244208.07644335687\n",
      "wall time (s): 0.022964954376220703\n",
      "Call #297:\n",
      "[-0.24113794 -1.30764069  0.9337691   6.7693763 ]\n",
      "239924.04645759435\n",
      "wall time (s): 0.022605180740356445\n",
      "Call #338:\n",
      "[-0.30058981 -3.34492148  2.77454461  6.14984661]\n",
      "235072.52740734065\n",
      "wall time (s): 0.022778987884521484\n",
      "Call #382:\n",
      "[-0.27447925 -3.36476708  2.82140319  6.42951253]\n",
      "235007.2416304471\n",
      "wall time (s): 0.023302793502807617\n",
      "Call #427:\n",
      "[-0.27244486 -3.36371574  2.8226381   6.44704863]\n",
      "235007.0231571909\n",
      "wall time (s): 0.022423982620239258\n",
      "Call #472:\n",
      "[-0.27279896 -3.36415095  2.82264981  6.44657002]\n",
      "235007.02153561453\n",
      "wall time (s): 0.02214503288269043\n",
      "Call #517:\n",
      "[-0.27199656 -3.35859176  2.81831072  6.44558581]\n",
      "235006.92774117025\n",
      "wall time (s): 0.022016048431396484\n",
      "Call #560:\n",
      "[-0.27557191 -3.36245257  2.81766359  6.42431951]\n",
      "235006.27789472634\n",
      "wall time (s): 0.022420406341552734\n",
      "Call #603:\n",
      "[-0.27826251 -3.37202736  2.82148899  6.4289465 ]\n",
      "234999.95786002703\n",
      "wall time (s): 0.022101879119873047\n",
      "Call #646:\n",
      "[-0.29834803 -3.54836014  2.90235474  6.60356301]\n",
      "234885.22251074942\n",
      "wall time (s): 0.03743886947631836\n",
      "Call #687:\n",
      "[ 0.92366124 -4.40020467  2.60432547  4.34487656]\n",
      "230165.4365295281\n",
      "wall time (s): 0.022616147994995117\n",
      "Call #733:\n",
      "[ 2.83972614 -4.89137829  0.98513909  4.91616496]\n",
      "222545.71825489475\n",
      "wall time (s): 0.02229785919189453\n",
      "Call #778:\n",
      "[ 3.01676293 -5.0188491   0.99534854  5.0079926 ]\n",
      "222481.0881382538\n",
      "wall time (s): 0.022373199462890625\n",
      "Call #823:\n",
      "[ 3.02549386 -5.02787153  0.99901056  5.01145455]\n",
      "222480.89607518667\n",
      "wall time (s): 0.022199153900146484\n",
      "Call #866:\n",
      "[ 3.02566142 -5.02824689  0.99919663  5.01156427]\n",
      "222480.89590333495\n",
      "wall time (s): 0.02204585075378418\n",
      "Call #909:\n",
      "[ 3.02564879 -5.02824469  0.99920189  5.01152823]\n",
      "222480.89590179783\n",
      "wall time (s): 0.02219390869140625\n",
      "Optimization terminated successfully.\n",
      "         Current function value: 222480.895902\n",
      "         Iterations: 543\n",
      "         Function evaluations: 917\n",
      "\n",
      "solution:\n",
      "[ 3.02564854 -5.02824437  0.999202    5.01152773]\n",
      "222480.89590179475\n"
     ]
    }
   ],
   "source": [
    "f = LoggedFunction(negative_log_likelihood, every_s=1)\n",
    "theta_mle_negloglikelihood = optimize.fmin(f, initial_guess, ftol=1e-6, xtol=1e-6, maxiter=3000)\n",
    "print(\"\")\n",
    "print(\"solution:\")\n",
    "print(theta_mle_negloglikelihood)\n",
    "print(f(theta_mle_negloglikelihood))"
   ]
  },
  {
   "cell_type": "code",
   "execution_count": 37,
   "metadata": {
    "ExecuteTime": {
     "end_time": "2019-10-15T04:50:35.373522Z",
     "start_time": "2019-10-15T04:50:35.365769Z"
    }
   },
   "outputs": [],
   "source": [
    "results.loc[f'MLE: -log(likelihood) (N={N})'] = theta_mle_negloglikelihood"
   ]
  },
  {
   "cell_type": "code",
   "execution_count": 38,
   "metadata": {
    "ExecuteTime": {
     "end_time": "2019-10-15T04:50:35.399221Z",
     "start_time": "2019-10-15T04:50:35.378486Z"
    }
   },
   "outputs": [
    {
     "name": "stdout",
     "output_type": "stream",
     "text": [
      "====Results so far====\n",
      "                                      β[0]      β[1]      β[2]        σ²\n",
      "Truth                             3.000000 -5.000000  1.000000  5.000000\n",
      "least squares (N=100)             2.032267 -5.115539  1.492514  4.459838\n",
      "MLE: likelihood (N=100)           2.032267 -5.115538  1.492514  4.326043\n",
      "MLE: -log(likelihood) (N=100)     2.032267 -5.115539  1.492514  4.326042\n",
      "least squares (N=100000)          3.025649 -5.028245  0.999202  5.011678\n",
      "MLE: -log(likelihood) (N=100000)  3.025649 -5.028244  0.999202  5.011528\n"
     ]
    },
    {
     "data": {
      "text/html": [
       "<div>\n",
       "<style scoped>\n",
       "    .dataframe tbody tr th:only-of-type {\n",
       "        vertical-align: middle;\n",
       "    }\n",
       "\n",
       "    .dataframe tbody tr th {\n",
       "        vertical-align: top;\n",
       "    }\n",
       "\n",
       "    .dataframe thead th {\n",
       "        text-align: right;\n",
       "    }\n",
       "</style>\n",
       "<table border=\"1\" class=\"dataframe\">\n",
       "  <thead>\n",
       "    <tr style=\"text-align: right;\">\n",
       "      <th></th>\n",
       "      <th>β[0]</th>\n",
       "      <th>β[1]</th>\n",
       "      <th>β[2]</th>\n",
       "      <th>σ²</th>\n",
       "    </tr>\n",
       "  </thead>\n",
       "  <tbody>\n",
       "    <tr>\n",
       "      <td>Truth</td>\n",
       "      <td>3.000000</td>\n",
       "      <td>-5.000000</td>\n",
       "      <td>1.000000</td>\n",
       "      <td>5.000000</td>\n",
       "    </tr>\n",
       "    <tr>\n",
       "      <td>least squares (N=100)</td>\n",
       "      <td>2.032267</td>\n",
       "      <td>-5.115539</td>\n",
       "      <td>1.492514</td>\n",
       "      <td>4.459838</td>\n",
       "    </tr>\n",
       "    <tr>\n",
       "      <td>MLE: likelihood (N=100)</td>\n",
       "      <td>2.032267</td>\n",
       "      <td>-5.115538</td>\n",
       "      <td>1.492514</td>\n",
       "      <td>4.326043</td>\n",
       "    </tr>\n",
       "    <tr>\n",
       "      <td>MLE: -log(likelihood) (N=100)</td>\n",
       "      <td>2.032267</td>\n",
       "      <td>-5.115539</td>\n",
       "      <td>1.492514</td>\n",
       "      <td>4.326042</td>\n",
       "    </tr>\n",
       "    <tr>\n",
       "      <td>least squares (N=100000)</td>\n",
       "      <td>3.025649</td>\n",
       "      <td>-5.028245</td>\n",
       "      <td>0.999202</td>\n",
       "      <td>5.011678</td>\n",
       "    </tr>\n",
       "    <tr>\n",
       "      <td>MLE: -log(likelihood) (N=100000)</td>\n",
       "      <td>3.025649</td>\n",
       "      <td>-5.028244</td>\n",
       "      <td>0.999202</td>\n",
       "      <td>5.011528</td>\n",
       "    </tr>\n",
       "  </tbody>\n",
       "</table>\n",
       "</div>"
      ],
      "text/plain": [
       "                                      β[0]      β[1]      β[2]        σ²\n",
       "Truth                             3.000000 -5.000000  1.000000  5.000000\n",
       "least squares (N=100)             2.032267 -5.115539  1.492514  4.459838\n",
       "MLE: likelihood (N=100)           2.032267 -5.115538  1.492514  4.326043\n",
       "MLE: -log(likelihood) (N=100)     2.032267 -5.115539  1.492514  4.326042\n",
       "least squares (N=100000)          3.025649 -5.028245  0.999202  5.011678\n",
       "MLE: -log(likelihood) (N=100000)  3.025649 -5.028244  0.999202  5.011528"
      ]
     },
     "execution_count": 38,
     "metadata": {},
     "output_type": "execute_result"
    }
   ],
   "source": [
    "print(\"====Results so far====\")\n",
    "print(results)\n",
    "results"
   ]
  },
  {
   "cell_type": "markdown",
   "metadata": {},
   "source": [
    "\n",
    "## MLE: negative log likelihood + scipy.optimize.newton"
   ]
  },
  {
   "cell_type": "code",
   "execution_count": 39,
   "metadata": {
    "ExecuteTime": {
     "end_time": "2019-10-15T04:50:35.416868Z",
     "start_time": "2019-10-15T04:50:35.403576Z"
    }
   },
   "outputs": [],
   "source": [
    "class NegativeLogLikelihood(object):\n",
    "    def __init__(self, X, y):\n",
    "        self.X = X\n",
    "        self.y = y\n",
    "\n",
    "    def __call__(self, theta):\n",
    "        N, p = self.X.shape\n",
    "        sigma_squared = theta[-1]\n",
    "        beta = np.array(theta[0:p]).reshape((p, 1))\n",
    "        log_probabilities = norm.logpdf(\n",
    "            x=self.y[:, 0],\n",
    "            loc=(self.X @ beta)[:, 0],\n",
    "            scale=sigma_squared ** 0.5\n",
    "        )\n",
    "        negative_log_likelihood = -1 * sum(log_probabilities)\n",
    "        return negative_log_likelihood\n",
    "    \n",
    "    def gradient_wrt_theta(self, theta):\n",
    "        N, p = self.X.shape\n",
    "        sigma_squared = theta[-1]\n",
    "        beta = np.array(theta[0:p]).reshape((p, 1))\n",
    "        beta_portion = self.X.T @ self.y - self.X.T @ self.X @ beta\n",
    "        residuals = y - X @ beta\n",
    "        sigma_squared_portion = -0.5 / sigma_squared * (1 - ((residuals.T @ residuals)[0, 0] / sigma_squared))\n",
    "        sigma_squared_portion = np.array(sigma_squared_portion).reshape((1, 1))\n",
    "        gradient_log_likelihood = np.append(beta_portion, sigma_squared_portion)\n",
    "        gradient_neg_log_likelihood = -1 * gradient_log_likelihood\n",
    "        return gradient_neg_log_likelihood\n",
    "\n",
    "\n",
    "negative_log_likelihood = NegativeLogLikelihood(X, y)"
   ]
  },
  {
   "cell_type": "code",
   "execution_count": 40,
   "metadata": {
    "ExecuteTime": {
     "end_time": "2019-10-15T04:50:35.491190Z",
     "start_time": "2019-10-15T04:50:35.421922Z"
    }
   },
   "outputs": [
    {
     "name": "stdout",
     "output_type": "stream",
     "text": [
      "(3.0256485975893357, -5.028244834872511, 0.9992024914920415, 5.011678315318209)\n"
     ]
    },
    {
     "data": {
      "text/plain": [
       "222480.89592429655"
      ]
     },
     "execution_count": 40,
     "metadata": {},
     "output_type": "execute_result"
    }
   ],
   "source": [
    "print(theta_ols)\n",
    "negative_log_likelihood(theta_ols)"
   ]
  },
  {
   "cell_type": "code",
   "execution_count": 42,
   "metadata": {
    "ExecuteTime": {
     "end_time": "2019-10-15T04:51:59.465405Z",
     "start_time": "2019-10-15T04:51:59.455595Z"
    }
   },
   "outputs": [
    {
     "data": {
      "text/plain": [
       "array([  -129.57115266,    320.31104121,     92.00924712, -10023.20480652])"
      ]
     },
     "execution_count": 42,
     "metadata": {},
     "output_type": "execute_result"
    }
   ],
   "source": [
    "negative_log_likelihood.gradient_wrt_theta(theta_truth)"
   ]
  },
  {
   "cell_type": "markdown",
   "metadata": {},
   "source": [
    "# Appendix"
   ]
  },
  {
   "cell_type": "markdown",
   "metadata": {},
   "source": [
    "### Past results"
   ]
  },
  {
   "cell_type": "markdown",
   "metadata": {
    "ExecuteTime": {
     "end_time": "2019-10-15T00:17:43.411961Z",
     "start_time": "2019-10-15T00:17:43.406720Z"
    }
   },
   "source": [
    "```\n",
    "ftol=1e-11, xtol=1e-11, maxiter=1000\n",
    "[ 3.01147067 -5.01263143  0.99964318  1.00115215]\n",
    "142009.0002800877\n",
    "\n",
    "ftol=1e-14, xtol=1e-14, maxiter=1000\n",
    "\n",
    "Optimization terminated successfully.\n",
    "         Current function value: 142009.000280\n",
    "         Iterations: 661\n",
    "         Function evaluations: 1191\n",
    "\n",
    "solution:\n",
    "[ 3.01147067 -5.01263143  0.99964318  1.00115215]\n",
    "142009.0002800877\n",
    "\n",
    "\n",
    "N = 1000000\n",
    "ftol=1e-14, xtol=1e-14, maxiter=1000\n",
    "... took too long!\n",
    "ftol=1e-6, xtol=1e-6\n",
    "Call #796:\n",
    "[ 2.99618089 -5.00124526  1.00226668  0.99884177]\n",
    "1417772.6734368044\n",
    "wall time (s): 0.24301505088806152\n",
    "Warning: Maximum number of function evaluations has been exceeded.\n",
    "\n",
    "solution:\n",
    "[ 2.99622187 -5.0012157   1.00224932  0.99883615]\n",
    "```"
   ]
  },
  {
   "cell_type": "markdown",
   "metadata": {},
   "source": [
    "- Issue: This fails for `N = 100000` and without `xtol`. \n",
    "  - Solution: go for more iterations\n",
    "  - Solution: specify `xtol=1e-7`, everything is fine. Not sure why.\n",
    "  - Source: \"when you set ftol smaller than xtol during the search, xtol is exceeded before ftol is reached so it terminates prematurely\" (https://stackoverflow.com/questions/9667514/what-is-the-difference-between-xtol-and-ftol-to-use-fmin-of-scipy-optimize#comment12285824_9669373)\n",
    "- Issue: Fails when sigma_squared is large, e.g. 2500 (50 squared)\n",
    "\n",
    "```\n",
    "N = 100000\n",
    "beta = np.array([3.0, -5.0, 1.0])\n",
    "p = len(beta)\n",
    "beta = beta.reshape((p, 1))\n",
    "sigma = 10.0\n",
    "                                    β[0]      β[1]      β[2]          σ\n",
    "Truth                           3.000000 -5.000000  1.000000  10.000000\n",
    "least squares                   3.114704 -5.126315  0.996433  10.011672\n",
    "MLE w/ likelihood               0.000000  0.000000  0.000000   1.000000\n",
    "MLE w/ negative log likelihood  3.114709 -5.126314  0.996428  10.011522\n",
    "\n",
    "N = 100000\n",
    "beta = np.array([3.0, -5.0, 1.0])\n",
    "p = len(beta)\n",
    "beta = beta.reshape((p, 1))\n",
    "sigma = 50.0\n",
    "                                    β[0]      β[1]      β[2]          σ\n",
    "Truth                           3.000000 -5.000000  1.000000  50.000000\n",
    "least squares                   3.573520 -5.631574  0.982167  50.058358\n",
    "MLE w/ likelihood               0.000000  0.000000  0.000000   1.000000\n",
    "MLE w/ negative log likelihood  3.753647 -3.448924 -1.755966  50.068533\n",
    "```\n",
    "- Issue: fails with a large coefficient\n",
    "\n",
    "```\n",
    "N = 100000\n",
    "beta = np.array([3.0, -5.0, 1.0])\n",
    "p = len(beta)\n",
    "beta = beta.reshape((p, 1))\n",
    "sigma = 10.0\n",
    "                                    β[0]      β[1]      β[2]          σ\n",
    "Truth                           3.000000 -5.000000  1.000000  10.000000\n",
    "least squares                   3.114704 -5.126315  0.996433  10.011672\n",
    "MLE w/ likelihood               0.000000  0.000000  0.000000   1.000000\n",
    "MLE w/ negative log likelihood  3.114709 -5.126314  0.996428  10.011522\n",
    "```\n",
    "\n",
    "```\n",
    "N = 100000\n",
    "beta = np.array([3.0, -5.0, 1.0])\n",
    "p = len(beta)\n",
    "beta = beta.reshape((p, 1))\n",
    "sigma_squared = 100.0\n",
    "\n",
    "                                    β[0]      β[1]      β[2]          σ²\n",
    "Truth                           3.000000 -5.000000  1.000000  100.000000\n",
    "least squares                   3.114704 -5.126315  0.996433  100.233566\n",
    "MLE w/ likelihood               0.000000  0.000000  0.000000    1.000000\n",
    "MLE w/ negative log likelihood  3.114705 -5.126320  0.996436  100.230576\n",
    "\n",
    "```\n",
    "\n",
    "- another run...\n",
    "\n",
    "```\n",
    "N = 1000000\n",
    "beta = np.array([3.0, -5.0, 1.0])\n",
    "p = len(beta)\n",
    "beta = beta.reshape((p, 1))\n",
    "sigma_squared = 1.0\n",
    "\n",
    "Optimization terminated successfully.\n",
    "         Current function value: 1417772.672752\n",
    "         Iterations: 449\n",
    "         Function evaluations: 746\n",
    "\n",
    "solution:\n",
    "[ 2.99614446 -5.00118483  1.00229821  0.9976711 ]\n",
    "1417772.6727520851\n",
    "\n",
    "                                    β[0]      β[1]      β[2]        σ²\n",
    "Truth                           3.000000 -5.000000  1.000000  1.000000\n",
    "least squares                   2.996144 -5.001184  1.002298  0.997674\n",
    "MLE w/ likelihood               0.000000  0.000000  0.000000  1.000000\n",
    "MLE w/ negative log likelihood  2.996144 -5.001185  1.002298  0.997671\n",
    "```"
   ]
  },
  {
   "cell_type": "code",
   "execution_count": null,
   "metadata": {},
   "outputs": [],
   "source": []
  }
 ],
 "metadata": {
  "kernelspec": {
   "display_name": "Python 3",
   "language": "python",
   "name": "python3"
  },
  "language_info": {
   "codemirror_mode": {
    "name": "ipython",
    "version": 3
   },
   "file_extension": ".py",
   "mimetype": "text/x-python",
   "name": "python",
   "nbconvert_exporter": "python",
   "pygments_lexer": "ipython3",
   "version": "3.7.2"
  },
  "varInspector": {
   "cols": {
    "lenName": 16,
    "lenType": 16,
    "lenVar": 40
   },
   "kernels_config": {
    "python": {
     "delete_cmd_postfix": "",
     "delete_cmd_prefix": "del ",
     "library": "var_list.py",
     "varRefreshCmd": "print(var_dic_list())"
    },
    "r": {
     "delete_cmd_postfix": ") ",
     "delete_cmd_prefix": "rm(",
     "library": "var_list.r",
     "varRefreshCmd": "cat(var_dic_list()) "
    }
   },
   "position": {
    "height": "293.2px",
    "left": "654.6px",
    "right": "20px",
    "top": "19px",
    "width": "370.2px"
   },
   "types_to_exclude": [
    "module",
    "function",
    "builtin_function_or_method",
    "instance",
    "_Feature"
   ],
   "window_display": false
  }
 },
 "nbformat": 4,
 "nbformat_minor": 2
}

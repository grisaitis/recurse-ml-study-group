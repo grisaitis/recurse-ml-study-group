{
 "cells": [
  {
   "cell_type": "markdown",
   "metadata": {},
   "source": [
    "# numpy & scipy functions for MLE"
   ]
  },
  {
   "cell_type": "code",
   "execution_count": 1,
   "metadata": {
    "ExecuteTime": {
     "end_time": "2019-10-15T04:53:06.859744Z",
     "start_time": "2019-10-15T04:53:06.542561Z"
    }
   },
   "outputs": [],
   "source": [
    "import numpy as np\n",
    "from scipy import optimize\n",
    "from scipy.stats import norm\n",
    "from scipy.stats import multivariate_normal"
   ]
  },
  {
   "cell_type": "code",
   "execution_count": 2,
   "metadata": {
    "ExecuteTime": {
     "end_time": "2019-10-15T04:53:06.871705Z",
     "start_time": "2019-10-15T04:53:06.863040Z"
    }
   },
   "outputs": [],
   "source": [
    "class FakeData(object):\n",
    "    def __init__(self, N, p, beta, sigma_squared, rng=None):\n",
    "        if not rng: \n",
    "            rng = np.random.RandomState()\n",
    "        X = rng.uniform(size=N * p).reshape((N, p))\n",
    "        error = rng.normal(loc=0, scale=sigma_squared ** 0.5, size=N).reshape((N, 1))\n",
    "        X_times_beta = X @ beta\n",
    "        assert X_times_beta.shape == (N, 1), X_times_beta.shape\n",
    "        y = X_times_beta + error\n",
    "        assert y.shape == (N, 1), y.shape\n",
    "        self.X = X\n",
    "        self.y = y\n",
    "        return\n"
   ]
  },
  {
   "cell_type": "code",
   "execution_count": 3,
   "metadata": {
    "ExecuteTime": {
     "end_time": "2019-10-15T04:53:06.886313Z",
     "start_time": "2019-10-15T04:53:06.875112Z"
    }
   },
   "outputs": [],
   "source": [
    "N = 10\n",
    "beta = np.array([3.0, -5.0, 1.0])\n",
    "p = len(beta)\n",
    "beta = beta.reshape((p, 1))\n",
    "sigma_squared = 5.0\n",
    "theta_truth = tuple(float(b) for b in beta) + (sigma_squared,)"
   ]
  },
  {
   "cell_type": "code",
   "execution_count": 4,
   "metadata": {
    "ExecuteTime": {
     "end_time": "2019-10-15T04:53:06.907808Z",
     "start_time": "2019-10-15T04:53:06.890285Z"
    }
   },
   "outputs": [
    {
     "data": {
      "text/plain": [
       "((10, 1), (10, 3))"
      ]
     },
     "execution_count": 4,
     "metadata": {},
     "output_type": "execute_result"
    }
   ],
   "source": [
    "# make y, X\n",
    "rng = np.random.RandomState(seed=0)\n",
    "fake_data = FakeData(N, p, beta, sigma_squared, rng=rng)\n",
    "y, X = fake_data.y, fake_data.X\n",
    "y.shape, X.shape"
   ]
  },
  {
   "cell_type": "code",
   "execution_count": 5,
   "metadata": {
    "ExecuteTime": {
     "end_time": "2019-10-15T04:53:06.942602Z",
     "start_time": "2019-10-15T04:53:06.910277Z"
    }
   },
   "outputs": [
    {
     "data": {
      "text/plain": [
       "array([0.12278966, 0.13546229, 0.01357466, 0.06196118, 0.17822573,\n",
       "       0.17531404, 0.05511334, 0.0606179 , 0.17628349, 0.16610072])"
      ]
     },
     "execution_count": 5,
     "metadata": {},
     "output_type": "execute_result"
    }
   ],
   "source": [
    "norm.pdf(\n",
    "    x=y[:, 0],\n",
    "    loc=(X @ beta)[:, 0],\n",
    "    scale=sigma_squared ** 0.5\n",
    ")"
   ]
  },
  {
   "cell_type": "code",
   "execution_count": 6,
   "metadata": {
    "ExecuteTime": {
     "end_time": "2019-10-15T04:53:06.976537Z",
     "start_time": "2019-10-15T04:53:06.946727Z"
    }
   },
   "outputs": [
    {
     "data": {
      "text/plain": [
       "array([0.12278966, 0.13546229, 0.01357466, 0.06196118, 0.17822573,\n",
       "       0.17531404, 0.05511334, 0.0606179 , 0.17628349, 0.16610072])"
      ]
     },
     "execution_count": 6,
     "metadata": {},
     "output_type": "execute_result"
    }
   ],
   "source": [
    "norm.pdf(\n",
    "    x=y[:, 0],\n",
    "    loc=(X @ beta)[:, 0],\n",
    "    scale=sigma_squared ** 0.5\n",
    ")"
   ]
  },
  {
   "cell_type": "code",
   "execution_count": 7,
   "metadata": {
    "ExecuteTime": {
     "end_time": "2019-10-15T04:53:07.000309Z",
     "start_time": "2019-10-15T04:53:06.980120Z"
    }
   },
   "outputs": [
    {
     "data": {
      "text/plain": [
       "4.2761866448473535e-11"
      ]
     },
     "execution_count": 7,
     "metadata": {},
     "output_type": "execute_result"
    }
   ],
   "source": [
    "np.prod(norm.pdf(\n",
    "    x=y[:, 0],\n",
    "    loc=(X @ beta)[:, 0],\n",
    "    scale=sigma_squared ** 0.5\n",
    "))"
   ]
  },
  {
   "cell_type": "code",
   "execution_count": 8,
   "metadata": {
    "ExecuteTime": {
     "end_time": "2019-10-15T04:53:07.030595Z",
     "start_time": "2019-10-15T04:53:07.010723Z"
    }
   },
   "outputs": [
    {
     "data": {
      "text/plain": [
       "4.2761866448473644e-11"
      ]
     },
     "execution_count": 8,
     "metadata": {},
     "output_type": "execute_result"
    }
   ],
   "source": [
    "multivariate_normal.pdf(\n",
    "    x=y[:, 0],\n",
    "    mean=(X @ beta)[:, 0],\n",
    "    cov=sigma_squared\n",
    ")"
   ]
  },
  {
   "cell_type": "code",
   "execution_count": 9,
   "metadata": {
    "ExecuteTime": {
     "end_time": "2019-10-15T04:53:07.054531Z",
     "start_time": "2019-10-15T04:53:07.041172Z"
    }
   },
   "outputs": [
    {
     "data": {
      "text/plain": [
       "array([-2.09728246, -1.99906195, -4.29955052, -2.78124725, -1.72470441,\n",
       "       -1.74117639, -2.89836355, -2.80316509, -1.73566184, -1.79516094])"
      ]
     },
     "execution_count": 9,
     "metadata": {},
     "output_type": "execute_result"
    }
   ],
   "source": [
    "np.log(norm.pdf(\n",
    "    x=y[:, 0],\n",
    "    loc=(X @ beta)[:, 0],\n",
    "    scale=sigma_squared ** 0.5\n",
    "))"
   ]
  },
  {
   "cell_type": "code",
   "execution_count": 10,
   "metadata": {
    "ExecuteTime": {
     "end_time": "2019-10-15T04:53:07.075475Z",
     "start_time": "2019-10-15T04:53:07.063354Z"
    }
   },
   "outputs": [
    {
     "data": {
      "text/plain": [
       "array([-2.09728246, -1.99906195, -4.29955052, -2.78124725, -1.72470441,\n",
       "       -1.74117639, -2.89836355, -2.80316509, -1.73566184, -1.79516094])"
      ]
     },
     "execution_count": 10,
     "metadata": {},
     "output_type": "execute_result"
    }
   ],
   "source": [
    "norm.logpdf(\n",
    "    x=y[:, 0],\n",
    "    loc=(X @ beta)[:, 0],\n",
    "    scale=sigma_squared ** 0.5\n",
    ")"
   ]
  },
  {
   "cell_type": "code",
   "execution_count": 11,
   "metadata": {
    "ExecuteTime": {
     "end_time": "2019-10-15T04:53:07.089760Z",
     "start_time": "2019-10-15T04:53:07.077167Z"
    }
   },
   "outputs": [
    {
     "data": {
      "text/plain": [
       "array([2.09728246, 1.99906195, 4.29955052, 2.78124725, 1.72470441,\n",
       "       1.74117639, 2.89836355, 2.80316509, 1.73566184, 1.79516094])"
      ]
     },
     "execution_count": 11,
     "metadata": {},
     "output_type": "execute_result"
    }
   ],
   "source": [
    "-1 * norm.logpdf(\n",
    "    x=y[:, 0],\n",
    "    loc=(X @ beta)[:, 0],\n",
    "    scale=sigma_squared ** 0.5\n",
    ")"
   ]
  },
  {
   "cell_type": "code",
   "execution_count": 12,
   "metadata": {
    "ExecuteTime": {
     "end_time": "2019-10-15T04:53:07.101996Z",
     "start_time": "2019-10-15T04:53:07.091947Z"
    }
   },
   "outputs": [
    {
     "data": {
      "text/plain": [
       "23.875374381321276"
      ]
     },
     "execution_count": 12,
     "metadata": {},
     "output_type": "execute_result"
    }
   ],
   "source": [
    "# log likelihood of the truth!\n",
    "-1 * sum(norm.logpdf(\n",
    "    x=y[:, 0],\n",
    "    loc=(X @ beta)[:, 0],\n",
    "    scale=sigma_squared ** 0.5\n",
    "))"
   ]
  },
  {
   "cell_type": "code",
   "execution_count": null,
   "metadata": {},
   "outputs": [],
   "source": []
  }
 ],
 "metadata": {
  "kernelspec": {
   "display_name": "Python 3",
   "language": "python",
   "name": "python3"
  },
  "language_info": {
   "codemirror_mode": {
    "name": "ipython",
    "version": 3
   },
   "file_extension": ".py",
   "mimetype": "text/x-python",
   "name": "python",
   "nbconvert_exporter": "python",
   "pygments_lexer": "ipython3",
   "version": "3.7.2"
  },
  "varInspector": {
   "cols": {
    "lenName": 16,
    "lenType": 16,
    "lenVar": 40
   },
   "kernels_config": {
    "python": {
     "delete_cmd_postfix": "",
     "delete_cmd_prefix": "del ",
     "library": "var_list.py",
     "varRefreshCmd": "print(var_dic_list())"
    },
    "r": {
     "delete_cmd_postfix": ") ",
     "delete_cmd_prefix": "rm(",
     "library": "var_list.r",
     "varRefreshCmd": "cat(var_dic_list()) "
    }
   },
   "position": {
    "height": "293.2px",
    "left": "654.6px",
    "right": "20px",
    "top": "19px",
    "width": "370.2px"
   },
   "types_to_exclude": [
    "module",
    "function",
    "builtin_function_or_method",
    "instance",
    "_Feature"
   ],
   "window_display": false
  }
 },
 "nbformat": 4,
 "nbformat_minor": 2
}

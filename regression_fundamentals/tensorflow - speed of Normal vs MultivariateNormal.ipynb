{
 "cells": [
  {
   "cell_type": "code",
   "execution_count": 1,
   "metadata": {
    "ExecuteTime": {
     "end_time": "2019-10-16T23:30:55.467326Z",
     "start_time": "2019-10-16T23:30:53.028076Z"
    }
   },
   "outputs": [],
   "source": [
    "import logging\n",
    "\n",
    "import numpy as np\n",
    "import tensorflow as tf\n",
    "import tensorflow_probability as tfp\n",
    "tfd = tfp.distributions"
   ]
  },
  {
   "cell_type": "code",
   "execution_count": 2,
   "metadata": {
    "ExecuteTime": {
     "end_time": "2019-10-16T23:30:55.483166Z",
     "start_time": "2019-10-16T23:30:55.471126Z"
    }
   },
   "outputs": [],
   "source": [
    "logging.getLogger(\"tensorflow\").setLevel(logging.ERROR)"
   ]
  },
  {
   "cell_type": "code",
   "execution_count": 3,
   "metadata": {
    "ExecuteTime": {
     "end_time": "2019-10-16T23:30:55.495384Z",
     "start_time": "2019-10-16T23:30:55.486765Z"
    }
   },
   "outputs": [],
   "source": [
    "dtype = tf.dtypes.float32"
   ]
  },
  {
   "cell_type": "code",
   "execution_count": 4,
   "metadata": {
    "ExecuteTime": {
     "end_time": "2019-10-16T23:30:58.460744Z",
     "start_time": "2019-10-16T23:30:55.500577Z"
    }
   },
   "outputs": [],
   "source": [
    "N = 100000\n",
    "p = 1000\n",
    "\n",
    "sigma_squared = tf.constant(1.0)\n",
    "\n",
    "X_dist = tfd.Uniform(low=-1.0, high=1.0)\n",
    "beta_dist = tfd.Uniform(-10, 10)\n",
    "error_dist = tfd.Normal(loc=0, scale=sigma_squared ** 0.5)\n",
    "\n",
    "# sample parameters\n",
    "tf.random.set_seed(0)\n",
    "beta = beta_dist.sample((p, 1), seed=0, name=\"beta\")\n",
    "X = X_dist.sample((N, p), seed=0, name=\"X\")\n",
    "error = error_dist.sample((N, 1), seed=0, name=\"error\")\n",
    "\n",
    "# generate predictions, etc.\n",
    "y = X @ beta + error\n",
    "beta_hat_ols = tf.matmul(tf.linalg.inv(tf.matmul(X, X, transpose_a=True)), tf.matmul(X, y, transpose_a=True))\n",
    "y_hat_ols = X @ beta_hat_ols\n"
   ]
  },
  {
   "cell_type": "code",
   "execution_count": 5,
   "metadata": {
    "ExecuteTime": {
     "end_time": "2019-10-16T23:30:58.468223Z",
     "start_time": "2019-10-16T23:30:58.462529Z"
    }
   },
   "outputs": [
    {
     "name": "stdout",
     "output_type": "stream",
     "text": [
      "(100000, 1000)\n"
     ]
    }
   ],
   "source": [
    "print((N, p))\n",
    "# print(beta)\n",
    "# print(sigma_squared)\n",
    "# print(X)\n",
    "# print(error)\n",
    "# print(y)"
   ]
  },
  {
   "cell_type": "code",
   "execution_count": 6,
   "metadata": {
    "ExecuteTime": {
     "end_time": "2019-10-16T23:31:06.070104Z",
     "start_time": "2019-10-16T23:30:58.470948Z"
    }
   },
   "outputs": [
    {
     "name": "stdout",
     "output_type": "stream",
     "text": [
      "9.2 ms ± 1.26 ms per loop (mean ± std. dev. of 7 runs, 100 loops each)\n"
     ]
    }
   ],
   "source": [
    "def f():\n",
    "    y_dist = tfd.MultivariateNormalDiag(y_hat_ols, scale_diag=tf.ones((N, 1)) * sigma_squared**0.5)\n",
    "    log_probs = y_dist.log_prob(y)\n",
    "    l = -1 * tf.reduce_sum(log_probs)\n",
    "    return l\n",
    "\n",
    "\n",
    "%timeit f()"
   ]
  },
  {
   "cell_type": "code",
   "execution_count": 7,
   "metadata": {
    "ExecuteTime": {
     "end_time": "2019-10-16T23:31:15.778229Z",
     "start_time": "2019-10-16T23:31:06.072235Z"
    }
   },
   "outputs": [
    {
     "name": "stdout",
     "output_type": "stream",
     "text": [
      "1.18 ms ± 112 µs per loop (mean ± std. dev. of 7 runs, 1000 loops each)\n"
     ]
    }
   ],
   "source": [
    "def f():\n",
    "    y_dist = tfd.Normal(y_hat_ols, sigma_squared**0.5)\n",
    "    log_probs = y_dist.log_prob(y)\n",
    "    l = -1 * tf.reduce_sum(log_probs)\n",
    "    return l\n",
    "\n",
    "\n",
    "%timeit f()"
   ]
  },
  {
   "cell_type": "code",
   "execution_count": 8,
   "metadata": {
    "ExecuteTime": {
     "end_time": "2019-10-16T23:31:17.095804Z",
     "start_time": "2019-10-16T23:31:15.781550Z"
    },
    "scrolled": false
   },
   "outputs": [
    {
     "name": "stdout",
     "output_type": "stream",
     "text": [
      "1.43 ms ± 186 µs per loop (mean ± std. dev. of 7 runs, 100 loops each)\n"
     ]
    }
   ],
   "source": [
    "def f():\n",
    "    y_dist = tfd.Normal(y_hat_ols[..., 0], sigma_squared**0.5)\n",
    "    log_probs = y_dist.log_prob(y[..., 0])\n",
    "    l = -1 * tf.reduce_sum(log_probs)\n",
    "    return l\n",
    "\n",
    "\n",
    "%timeit f()"
   ]
  },
  {
   "cell_type": "code",
   "execution_count": 9,
   "metadata": {
    "ExecuteTime": {
     "end_time": "2019-10-16T23:31:17.123558Z",
     "start_time": "2019-10-16T23:31:17.101664Z"
    }
   },
   "outputs": [],
   "source": [
    "y_hat_ols_vector = y_hat_ols[..., 0]\n",
    "y_vector = y[..., 0]"
   ]
  },
  {
   "cell_type": "code",
   "execution_count": 10,
   "metadata": {
    "ExecuteTime": {
     "end_time": "2019-10-16T23:31:18.317177Z",
     "start_time": "2019-10-16T23:31:17.239827Z"
    },
    "scrolled": false
   },
   "outputs": [
    {
     "name": "stdout",
     "output_type": "stream",
     "text": [
      "1.1 ms ± 54.1 µs per loop (mean ± std. dev. of 7 runs, 100 loops each)\n"
     ]
    }
   ],
   "source": [
    "def f():\n",
    "    y_dist = tfd.Normal(y_hat_ols_vector, sigma_squared**0.5)\n",
    "    log_probs = y_dist.log_prob(y_vector)\n",
    "    l = -1 * tf.reduce_sum(log_probs)\n",
    "    return l\n",
    "\n",
    "\n",
    "%timeit f()"
   ]
  }
 ],
 "metadata": {
  "kernelspec": {
   "display_name": "Python 3",
   "language": "python",
   "name": "python3"
  },
  "language_info": {
   "codemirror_mode": {
    "name": "ipython",
    "version": 3
   },
   "file_extension": ".py",
   "mimetype": "text/x-python",
   "name": "python",
   "nbconvert_exporter": "python",
   "pygments_lexer": "ipython3",
   "version": "3.7.2"
  },
  "varInspector": {
   "cols": {
    "lenName": 16,
    "lenType": 16,
    "lenVar": 40
   },
   "kernels_config": {
    "python": {
     "delete_cmd_postfix": "",
     "delete_cmd_prefix": "del ",
     "library": "var_list.py",
     "varRefreshCmd": "print(var_dic_list())"
    },
    "r": {
     "delete_cmd_postfix": ") ",
     "delete_cmd_prefix": "rm(",
     "library": "var_list.r",
     "varRefreshCmd": "cat(var_dic_list()) "
    }
   },
   "types_to_exclude": [
    "module",
    "function",
    "builtin_function_or_method",
    "instance",
    "_Feature"
   ],
   "window_display": false
  }
 },
 "nbformat": 4,
 "nbformat_minor": 2
}

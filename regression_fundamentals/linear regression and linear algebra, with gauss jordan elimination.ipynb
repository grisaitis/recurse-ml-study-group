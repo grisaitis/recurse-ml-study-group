{
 "cells": [
  {
   "cell_type": "code",
   "execution_count": 1,
   "metadata": {},
   "outputs": [],
   "source": [
    "import copy\n",
    "import itertools\n",
    "import logging"
   ]
  },
  {
   "cell_type": "code",
   "execution_count": 2,
   "metadata": {},
   "outputs": [],
   "source": [
    "class LoggerMixin(object):\n",
    "    logger_level = logging.ERROR\n",
    "\n",
    "    @property\n",
    "    def logger(self):\n",
    "        logger = logging.getLogger(self.__class__.__name__)\n",
    "        if (logger.hasHandlers()):\n",
    "            logger.handlers.clear()\n",
    "        handler = logging.StreamHandler()\n",
    "        formatter = logging.Formatter('%(name)s - %(levelname)s %(message)s')\n",
    "        handler.setFormatter(formatter)\n",
    "        logger.addHandler(handler)\n",
    "        logger.setLevel(self.logger_level)\n",
    "        return logger\n"
   ]
  },
  {
   "cell_type": "code",
   "execution_count": 3,
   "metadata": {},
   "outputs": [],
   "source": [
    "class Matrix(LoggerMixin, object):\n",
    "    def __init__(self, data):\n",
    "        n = len(data)  # number of rows\n",
    "        m = len(data[0])  # number of columns\n",
    "        self.shape = (n, m)\n",
    "        self.data = [[float(element) for element in row] for row in data]\n",
    "\n",
    "    @classmethod\n",
    "    def zeros(cls, shape):\n",
    "        n, m = shape\n",
    "        matrix = cls([\n",
    "            [0 for k in range(m)]\n",
    "            for j in range(n)\n",
    "        ])\n",
    "        return matrix\n",
    "\n",
    "    @classmethod\n",
    "    def identity(cls, n):\n",
    "        matrix = cls.zeros((n, n))\n",
    "        for j in range(n): matrix[j][j] = 1.0\n",
    "        return matrix\n",
    "\n",
    "    def is_square(self):\n",
    "        return self.shape[0] == self.shape[1]\n",
    "\n",
    "    def copy(self):\n",
    "        return Matrix(copy.deepcopy(self.data))\n",
    "\n",
    "    def __len__(self):\n",
    "        return self.n\n",
    "\n",
    "    def __repr__(self):\n",
    "        return \"Matrix([\\n    \" \\\n",
    "            + \",\\n    \".join(repr(row) for row in self.data) + \"\\n])\"\n",
    "\n",
    "    def __getitem__(self, item):\n",
    "        return self.data[item]\n",
    "\n",
    "    def __add__(self, other):\n",
    "        result = Matrix.zeros(self.shape)\n",
    "        for j, k in itertools.product(range(result.shape[0]), range(result.shape[1])):\n",
    "            try:\n",
    "                assert self.shape == other.shape\n",
    "                result[j][k] = self[j][k] + other[j][k]\n",
    "            except AttributeError:\n",
    "                result[j][k] = self[j][k] + other\n",
    "        return result\n",
    "\n",
    "    def __sub__(self, other):\n",
    "        result = Matrix.zeros(self.shape)\n",
    "        for j, k in itertools.product(range(result.shape[0]), range(result.shape[1])):\n",
    "            try:\n",
    "                assert self.shape == other.shape\n",
    "                result[j][k] = self[j][k] - other[j][k]\n",
    "            except AttributeError:\n",
    "                result[j][k] = self[j][k] - other\n",
    "        return result\n",
    "\n",
    "    def __mul__(self, other):\n",
    "        result = self.copy()\n",
    "        for j, k in itertools.product(range(result.shape[0]), range(result.shape[1])):\n",
    "            try:\n",
    "                assert self.shape == other.shape\n",
    "                result[j][k] *= other[j][k]\n",
    "            except AttributeError:\n",
    "                result[j][k] *= other\n",
    "        return result\n",
    "    \n",
    "    def __matmul__(self, other):\n",
    "        # hehehe\n",
    "        return self.multiply_by(other)\n",
    "\n",
    "    def add(self, other):\n",
    "        return self + other\n",
    "\n",
    "    def multiply_by(self, other):\n",
    "        assert self.shape[1] == other.shape[0]\n",
    "        return Matrix([\n",
    "            [\n",
    "                float(sum(\n",
    "                    self.data[self_row][self_column] \\\n",
    "                        * other.data[other_row][other_column]\n",
    "                    for self_column, other_row in \n",
    "                        zip(range(self.shape[1]), range(other.shape[0]))\n",
    "                ))\n",
    "                for other_column in range(other.shape[1])\n",
    "            ]\n",
    "            for self_row in range(self.shape[0])\n",
    "        ])\n",
    "\n",
    "    def transpose(self):\n",
    "        new = Matrix.zeros((self.shape[1], self.shape[0]))\n",
    "        for j, k in itertools.product(range(self.shape[0]), range(self.shape[1])):\n",
    "            new[k][j] = self[j][k]\n",
    "        return new\n",
    "\n",
    "    @property\n",
    "    def T(self):\n",
    "        return self.transpose()\n",
    "\n",
    "    def invert(self):\n",
    "        n = self.shape[0]\n",
    "        operations_so_far = Matrix.identity(n)\n",
    "        self_copy = self.copy()\n",
    "\n",
    "        for k in range(n):\n",
    "            self.logger.info(f\"processing column {k}\")\n",
    "            self.logger.info(\"self_copy = \" + str(self_copy))\n",
    "\n",
    "            # reorder rows\n",
    "            self.logger.info(\"reorder rows\")\n",
    "            row_reordering = \\\n",
    "                list(range(k)) + \\\n",
    "                list(reversed(sorted(\n",
    "                    range(k, n),\n",
    "                    key=lambda j: abs(self_copy[j][k])\n",
    "            )))\n",
    "            reorder_op = Matrix([Matrix.identity(n).data[j] for j in row_reordering])\n",
    "            self.logger.debug(\"reorder_op = \" + str(reorder_op))\n",
    "            operations_so_far = reorder_op.multiply_by(operations_so_far)\n",
    "            self_copy = reorder_op.multiply_by(self_copy)\n",
    "            self.logger.info(\"self_copy = \" + str(self_copy))\n",
    "\n",
    "            # normalize this row\n",
    "            self.logger.info(\"normalize this row\")\n",
    "            normalization_op = Matrix.identity(n)\n",
    "            normalization_op[k][k] = 1.0 / self_copy[k][k]\n",
    "            self.logger.debug(\"normalization_op = \" + str(normalization_op))\n",
    "            operations_so_far = normalization_op.multiply_by(operations_so_far)\n",
    "            self_copy = normalization_op.multiply_by(self_copy)\n",
    "            self.logger.info(\"self_copy = \" + str(self_copy))\n",
    "\n",
    "            # eliminate the other rows\n",
    "            self.logger.info(\"eliminate the other rows\")\n",
    "            eliminations_op = Matrix.identity(n)\n",
    "            for j in range(n):\n",
    "                if j == k:\n",
    "                    continue\n",
    "                eliminations_op[j][k] = -1.0 * self_copy[j][k]\n",
    "            self.logger.debug(\"eliminations_op = \" + str(eliminations_op))\n",
    "            operations_so_far = eliminations_op.multiply_by(operations_so_far)\n",
    "            self.logger.debug(\"operations_so_far = \" + str(operations_so_far))\n",
    "            self_copy = eliminations_op.multiply_by(self_copy)\n",
    "            self.logger.info(\"self_copy = \" + str(self_copy))\n",
    "\n",
    "            self.logger.info(f\"done with column {k}\\n\")\n",
    "            \n",
    "        return operations_so_far\n"
   ]
  },
  {
   "cell_type": "markdown",
   "metadata": {},
   "source": [
    "# Basics"
   ]
  },
  {
   "cell_type": "code",
   "execution_count": 4,
   "metadata": {},
   "outputs": [
    {
     "data": {
      "text/plain": [
       "Matrix([\n",
       "    [1.0, 2.0],\n",
       "    [3.0, 4.0],\n",
       "    [5.0, 6.0]\n",
       "])"
      ]
     },
     "execution_count": 4,
     "metadata": {},
     "output_type": "execute_result"
    }
   ],
   "source": [
    "X = Matrix([[1, 2], [3, 4], [5, 6]])\n",
    "X"
   ]
  },
  {
   "cell_type": "code",
   "execution_count": 5,
   "metadata": {},
   "outputs": [
    {
     "data": {
      "text/plain": [
       "Matrix([\n",
       "    [1.0, 2.0, 3.0],\n",
       "    [4.0, 5.0, 6.0]\n",
       "])"
      ]
     },
     "execution_count": 5,
     "metadata": {},
     "output_type": "execute_result"
    }
   ],
   "source": [
    "Y = Matrix([[1, 2, 3], [4, 5, 6]])\n",
    "Y"
   ]
  },
  {
   "cell_type": "code",
   "execution_count": 6,
   "metadata": {},
   "outputs": [
    {
     "data": {
      "text/plain": [
       "Matrix([\n",
       "    [0.0, 0.0, 0.0],\n",
       "    [0.0, 0.0, 0.0]\n",
       "])"
      ]
     },
     "execution_count": 6,
     "metadata": {},
     "output_type": "execute_result"
    }
   ],
   "source": [
    "Matrix.zeros((2, 3))"
   ]
  },
  {
   "cell_type": "code",
   "execution_count": 7,
   "metadata": {},
   "outputs": [
    {
     "data": {
      "text/plain": [
       "Matrix([\n",
       "    [1.0, 0.0, 0.0, 0.0, 0.0, 0.0, 0.0, 0.0],\n",
       "    [0.0, 1.0, 0.0, 0.0, 0.0, 0.0, 0.0, 0.0],\n",
       "    [0.0, 0.0, 1.0, 0.0, 0.0, 0.0, 0.0, 0.0],\n",
       "    [0.0, 0.0, 0.0, 1.0, 0.0, 0.0, 0.0, 0.0],\n",
       "    [0.0, 0.0, 0.0, 0.0, 1.0, 0.0, 0.0, 0.0],\n",
       "    [0.0, 0.0, 0.0, 0.0, 0.0, 1.0, 0.0, 0.0],\n",
       "    [0.0, 0.0, 0.0, 0.0, 0.0, 0.0, 1.0, 0.0],\n",
       "    [0.0, 0.0, 0.0, 0.0, 0.0, 0.0, 0.0, 1.0]\n",
       "])"
      ]
     },
     "execution_count": 7,
     "metadata": {},
     "output_type": "execute_result"
    }
   ],
   "source": [
    "Matrix.identity(8)"
   ]
  },
  {
   "cell_type": "markdown",
   "metadata": {},
   "source": [
    "# Matrix addition"
   ]
  },
  {
   "cell_type": "code",
   "execution_count": 8,
   "metadata": {
    "scrolled": true
   },
   "outputs": [],
   "source": [
    "X = Matrix([\n",
    "    [1, 3]\n",
    "])\n",
    "Y = Matrix([\n",
    "    [5, 11]\n",
    "])"
   ]
  },
  {
   "cell_type": "code",
   "execution_count": 9,
   "metadata": {},
   "outputs": [
    {
     "data": {
      "text/plain": [
       "Matrix([\n",
       "    [6.0, 14.0]\n",
       "])"
      ]
     },
     "execution_count": 9,
     "metadata": {},
     "output_type": "execute_result"
    }
   ],
   "source": [
    "X.add(Y)"
   ]
  },
  {
   "cell_type": "code",
   "execution_count": 10,
   "metadata": {
    "scrolled": true
   },
   "outputs": [
    {
     "data": {
      "text/plain": [
       "Matrix([\n",
       "    [6.0, 14.0]\n",
       "])"
      ]
     },
     "execution_count": 10,
     "metadata": {},
     "output_type": "execute_result"
    }
   ],
   "source": [
    "Y.add(X)"
   ]
  },
  {
   "cell_type": "markdown",
   "metadata": {},
   "source": [
    "# Matrix multiplication"
   ]
  },
  {
   "cell_type": "code",
   "execution_count": 11,
   "metadata": {},
   "outputs": [
    {
     "data": {
      "text/plain": [
       "Matrix([\n",
       "    [6.0]\n",
       "])"
      ]
     },
     "execution_count": 11,
     "metadata": {},
     "output_type": "execute_result"
    }
   ],
   "source": [
    "Matrix([\n",
    "    [2]\n",
    "]).multiply_by(Matrix([\n",
    "    [3]\n",
    "]))"
   ]
  },
  {
   "cell_type": "code",
   "execution_count": 12,
   "metadata": {},
   "outputs": [
    {
     "data": {
      "text/plain": [
       "Matrix([\n",
       "    [1.0, 2.0],\n",
       "    [3.0, 4.0]\n",
       "])"
      ]
     },
     "execution_count": 12,
     "metadata": {},
     "output_type": "execute_result"
    }
   ],
   "source": [
    "Matrix([\n",
    "    [1, 2],\n",
    "    [3, 4]\n",
    "]).multiply_by(Matrix([\n",
    "    [1, 0],\n",
    "    [0, 1]\n",
    "]))"
   ]
  },
  {
   "cell_type": "code",
   "execution_count": 13,
   "metadata": {},
   "outputs": [
    {
     "data": {
      "text/plain": [
       "Matrix([\n",
       "    [2.0, 1.0],\n",
       "    [4.0, 3.0]\n",
       "])"
      ]
     },
     "execution_count": 13,
     "metadata": {},
     "output_type": "execute_result"
    }
   ],
   "source": [
    "Matrix([\n",
    "    [1, 2],\n",
    "    [3, 4]\n",
    "]).multiply_by(Matrix([\n",
    "    [0, 1],\n",
    "    [1, 0]\n",
    "]))"
   ]
  },
  {
   "cell_type": "code",
   "execution_count": 14,
   "metadata": {},
   "outputs": [
    {
     "data": {
      "text/plain": [
       "Matrix([\n",
       "    [2.0, 4.0],\n",
       "    [6.0, 8.0]\n",
       "])"
      ]
     },
     "execution_count": 14,
     "metadata": {},
     "output_type": "execute_result"
    }
   ],
   "source": [
    "Matrix([\n",
    "    [1, 2],\n",
    "    [3, 4]\n",
    "]).multiply_by(Matrix([\n",
    "    [2, 0],\n",
    "    [0, 2]\n",
    "]))"
   ]
  },
  {
   "cell_type": "code",
   "execution_count": 15,
   "metadata": {},
   "outputs": [
    {
     "data": {
      "text/plain": [
       "Matrix([\n",
       "    [1.0, 4.0],\n",
       "    [3.0, 8.0]\n",
       "])"
      ]
     },
     "execution_count": 15,
     "metadata": {},
     "output_type": "execute_result"
    }
   ],
   "source": [
    "Matrix([\n",
    "    [1, 2],\n",
    "    [3, 4]\n",
    "]).multiply_by(Matrix([\n",
    "    [1, 0],\n",
    "    [0, 2]\n",
    "]))"
   ]
  },
  {
   "cell_type": "code",
   "execution_count": 16,
   "metadata": {
    "scrolled": true
   },
   "outputs": [
    {
     "data": {
      "text/plain": [
       "Matrix([\n",
       "    [1.0, 3.0],\n",
       "    [3.0, 7.0]\n",
       "])"
      ]
     },
     "execution_count": 16,
     "metadata": {},
     "output_type": "execute_result"
    }
   ],
   "source": [
    "Matrix([\n",
    "    [1, 2],\n",
    "    [3, 4]\n",
    "]).multiply_by(Matrix([\n",
    "    [1, 1],\n",
    "    [0, 1]\n",
    "]))"
   ]
  },
  {
   "cell_type": "markdown",
   "metadata": {},
   "source": [
    "# Matrix transpose"
   ]
  },
  {
   "cell_type": "code",
   "execution_count": 17,
   "metadata": {},
   "outputs": [
    {
     "name": "stdout",
     "output_type": "stream",
     "text": [
      "Matrix([\n",
      "    [1.0]\n",
      "])\n",
      "(1, 1)\n",
      "Matrix([\n",
      "    [1.0]\n",
      "])\n",
      "(1, 1)\n"
     ]
    }
   ],
   "source": [
    "X = Matrix([\n",
    "    [1]\n",
    "])\n",
    "print(X)\n",
    "print(X.shape)\n",
    "X_t = X.transpose()\n",
    "print(X_t)\n",
    "print(X_t.shape)\n"
   ]
  },
  {
   "cell_type": "code",
   "execution_count": 18,
   "metadata": {},
   "outputs": [
    {
     "name": "stdout",
     "output_type": "stream",
     "text": [
      "Matrix([\n",
      "    [1.0, 0.0]\n",
      "])\n",
      "(1, 2)\n",
      "Matrix([\n",
      "    [1.0],\n",
      "    [0.0]\n",
      "])\n",
      "(2, 1)\n"
     ]
    }
   ],
   "source": [
    "X = Matrix([\n",
    "    [1, 0]\n",
    "])\n",
    "print(X)\n",
    "print(X.shape)\n",
    "X_t = X.transpose()\n",
    "print(X_t)\n",
    "print(X_t.shape)\n"
   ]
  },
  {
   "cell_type": "code",
   "execution_count": 19,
   "metadata": {
    "scrolled": true
   },
   "outputs": [
    {
     "name": "stdout",
     "output_type": "stream",
     "text": [
      "Matrix([\n",
      "    [1.0, 2.0, 3.0],\n",
      "    [4.0, 5.0, 6.0]\n",
      "])\n",
      "(2, 3)\n",
      "Matrix([\n",
      "    [1.0, 4.0],\n",
      "    [2.0, 5.0],\n",
      "    [3.0, 6.0]\n",
      "])\n",
      "(3, 2)\n"
     ]
    }
   ],
   "source": [
    "X = Matrix([\n",
    "    [1, 2, 3],\n",
    "    [4, 5, 6]\n",
    "])\n",
    "print(X)\n",
    "print(X.shape)\n",
    "X_t = X.transpose()\n",
    "print(X_t)\n",
    "print(X_t.shape)\n"
   ]
  },
  {
   "cell_type": "markdown",
   "metadata": {},
   "source": [
    "# Matrix inversion"
   ]
  },
  {
   "cell_type": "code",
   "execution_count": 20,
   "metadata": {},
   "outputs": [
    {
     "name": "stdout",
     "output_type": "stream",
     "text": [
      "X = Matrix([\n",
      "    [1.0, 0.0],\n",
      "    [0.0, 1.0]\n",
      "])\n",
      "X_inv = Matrix([\n",
      "    [1.0, 0.0],\n",
      "    [0.0, 1.0]\n",
      "])\n",
      "X_inv X = Matrix([\n",
      "    [1.0, 0.0],\n",
      "    [0.0, 1.0]\n",
      "])\n",
      "X X_inv = Matrix([\n",
      "    [1.0, 0.0],\n",
      "    [0.0, 1.0]\n",
      "])\n"
     ]
    }
   ],
   "source": [
    "X = Matrix([\n",
    "    [1, 0],\n",
    "    [0, 1]\n",
    "])\n",
    "X_inv = X.invert()\n",
    "\n",
    "print(\"X =\", X)\n",
    "print(\"X_inv =\", X_inv)\n",
    "print(\"X_inv X =\", X_inv.multiply_by(X))\n",
    "print(\"X X_inv =\", X.multiply_by(X_inv))"
   ]
  },
  {
   "cell_type": "code",
   "execution_count": 21,
   "metadata": {},
   "outputs": [
    {
     "name": "stdout",
     "output_type": "stream",
     "text": [
      "X = Matrix([\n",
      "    [1.0, 0.0],\n",
      "    [0.0, 2.0]\n",
      "])\n",
      "X_inv = Matrix([\n",
      "    [1.0, 0.0],\n",
      "    [0.0, 0.5]\n",
      "])\n",
      "X_inv X = Matrix([\n",
      "    [1.0, 0.0],\n",
      "    [0.0, 1.0]\n",
      "])\n",
      "X X_inv = Matrix([\n",
      "    [1.0, 0.0],\n",
      "    [0.0, 1.0]\n",
      "])\n"
     ]
    }
   ],
   "source": [
    "X = Matrix([\n",
    "    [1, 0],\n",
    "    [0, 2]\n",
    "])\n",
    "X_inv = X.invert()\n",
    "\n",
    "print(\"X =\", X)\n",
    "print(\"X_inv =\", X_inv)\n",
    "print(\"X_inv X =\", X_inv.multiply_by(X))\n",
    "print(\"X X_inv =\", X.multiply_by(X_inv))"
   ]
  },
  {
   "cell_type": "code",
   "execution_count": 22,
   "metadata": {},
   "outputs": [
    {
     "name": "stdout",
     "output_type": "stream",
     "text": [
      "X = Matrix([\n",
      "    [2.0, 0.0],\n",
      "    [0.0, 1.0]\n",
      "])\n",
      "X_inv = Matrix([\n",
      "    [0.5, 0.0],\n",
      "    [0.0, 1.0]\n",
      "])\n",
      "X_inv X = Matrix([\n",
      "    [1.0, 0.0],\n",
      "    [0.0, 1.0]\n",
      "])\n",
      "X X_inv = Matrix([\n",
      "    [1.0, 0.0],\n",
      "    [0.0, 1.0]\n",
      "])\n"
     ]
    }
   ],
   "source": [
    "X = Matrix([\n",
    "    [2, 0],\n",
    "    [0, 1]\n",
    "])\n",
    "X_inv = X.invert()\n",
    "\n",
    "print(\"X =\", X)\n",
    "print(\"X_inv =\", X_inv)\n",
    "print(\"X_inv X =\", X_inv.multiply_by(X))\n",
    "print(\"X X_inv =\", X.multiply_by(X_inv))"
   ]
  },
  {
   "cell_type": "code",
   "execution_count": 23,
   "metadata": {},
   "outputs": [
    {
     "name": "stdout",
     "output_type": "stream",
     "text": [
      "X = Matrix([\n",
      "    [1.0, 0.0, 0.0],\n",
      "    [0.0, 2.0, 0.0],\n",
      "    [0.0, 0.0, 3.0]\n",
      "])\n",
      "X_inv = Matrix([\n",
      "    [1.0, 0.0, 0.0],\n",
      "    [0.0, 0.5, 0.0],\n",
      "    [0.0, 0.0, 0.3333333333333333]\n",
      "])\n",
      "X_inv X = Matrix([\n",
      "    [1.0, 0.0, 0.0],\n",
      "    [0.0, 1.0, 0.0],\n",
      "    [0.0, 0.0, 1.0]\n",
      "])\n",
      "X X_inv = Matrix([\n",
      "    [1.0, 0.0, 0.0],\n",
      "    [0.0, 1.0, 0.0],\n",
      "    [0.0, 0.0, 1.0]\n",
      "])\n"
     ]
    }
   ],
   "source": [
    "X = Matrix([\n",
    "    [1, 0, 0],\n",
    "    [0, 2, 0],\n",
    "    [0, 0, 3]\n",
    "])\n",
    "X_inv = X.invert()\n",
    "\n",
    "print(\"X =\", X)\n",
    "print(\"X_inv =\", X_inv)\n",
    "print(\"X_inv X =\", X_inv.multiply_by(X))\n",
    "print(\"X X_inv =\", X.multiply_by(X_inv))"
   ]
  },
  {
   "cell_type": "code",
   "execution_count": 24,
   "metadata": {},
   "outputs": [
    {
     "name": "stdout",
     "output_type": "stream",
     "text": [
      "X = Matrix([\n",
      "    [3.0, 1.0],\n",
      "    [4.0, 2.0]\n",
      "])\n",
      "X_inv = Matrix([\n",
      "    [1.0, -0.5],\n",
      "    [-2.0, 1.5]\n",
      "])\n",
      "X_inv X = Matrix([\n",
      "    [1.0, 0.0],\n",
      "    [0.0, 1.0]\n",
      "])\n",
      "X X_inv = Matrix([\n",
      "    [1.0, 0.0],\n",
      "    [0.0, 1.0]\n",
      "])\n"
     ]
    }
   ],
   "source": [
    "X = Matrix([\n",
    "    [3, 1],\n",
    "    [4, 2]\n",
    "])\n",
    "X_inv = X.invert()\n",
    "\n",
    "print(\"X =\", X)\n",
    "print(\"X_inv =\", X_inv)\n",
    "print(\"X_inv X =\", X_inv.multiply_by(X))\n",
    "print(\"X X_inv =\", X.multiply_by(X_inv))"
   ]
  },
  {
   "cell_type": "code",
   "execution_count": 25,
   "metadata": {
    "scrolled": true
   },
   "outputs": [
    {
     "name": "stderr",
     "output_type": "stream",
     "text": [
      "Matrix - INFO processing column 0\n",
      "Matrix - INFO self_copy = Matrix([\n",
      "    [3.0, 1.0],\n",
      "    [4.0, 2.0]\n",
      "])\n",
      "Matrix - INFO reorder rows\n",
      "Matrix - DEBUG reorder_op = Matrix([\n",
      "    [0.0, 1.0],\n",
      "    [1.0, 0.0]\n",
      "])\n",
      "Matrix - INFO self_copy = Matrix([\n",
      "    [4.0, 2.0],\n",
      "    [3.0, 1.0]\n",
      "])\n",
      "Matrix - INFO normalize this row\n",
      "Matrix - DEBUG normalization_op = Matrix([\n",
      "    [0.25, 0.0],\n",
      "    [0.0, 1.0]\n",
      "])\n",
      "Matrix - INFO self_copy = Matrix([\n",
      "    [1.0, 0.5],\n",
      "    [3.0, 1.0]\n",
      "])\n",
      "Matrix - INFO eliminate the other rows\n",
      "Matrix - DEBUG eliminations_op = Matrix([\n",
      "    [1.0, 0.0],\n",
      "    [-3.0, 1.0]\n",
      "])\n",
      "Matrix - DEBUG operations_so_far = Matrix([\n",
      "    [0.0, 0.25],\n",
      "    [1.0, -0.75]\n",
      "])\n",
      "Matrix - INFO self_copy = Matrix([\n",
      "    [1.0, 0.5],\n",
      "    [0.0, -0.5]\n",
      "])\n",
      "Matrix - INFO done with column 0\n",
      "\n",
      "Matrix - INFO processing column 1\n",
      "Matrix - INFO self_copy = Matrix([\n",
      "    [1.0, 0.5],\n",
      "    [0.0, -0.5]\n",
      "])\n",
      "Matrix - INFO reorder rows\n",
      "Matrix - DEBUG reorder_op = Matrix([\n",
      "    [1.0, 0.0],\n",
      "    [0.0, 1.0]\n",
      "])\n",
      "Matrix - INFO self_copy = Matrix([\n",
      "    [1.0, 0.5],\n",
      "    [0.0, -0.5]\n",
      "])\n",
      "Matrix - INFO normalize this row\n",
      "Matrix - DEBUG normalization_op = Matrix([\n",
      "    [1.0, 0.0],\n",
      "    [0.0, -2.0]\n",
      "])\n",
      "Matrix - INFO self_copy = Matrix([\n",
      "    [1.0, 0.5],\n",
      "    [0.0, 1.0]\n",
      "])\n",
      "Matrix - INFO eliminate the other rows\n",
      "Matrix - DEBUG eliminations_op = Matrix([\n",
      "    [1.0, -0.5],\n",
      "    [0.0, 1.0]\n",
      "])\n",
      "Matrix - DEBUG operations_so_far = Matrix([\n",
      "    [1.0, -0.5],\n",
      "    [-2.0, 1.5]\n",
      "])\n",
      "Matrix - INFO self_copy = Matrix([\n",
      "    [1.0, 0.0],\n",
      "    [0.0, 1.0]\n",
      "])\n",
      "Matrix - INFO done with column 1\n",
      "\n"
     ]
    },
    {
     "name": "stdout",
     "output_type": "stream",
     "text": [
      "X = Matrix([\n",
      "    [3.0, 1.0],\n",
      "    [4.0, 2.0]\n",
      "])\n",
      "X_inv = Matrix([\n",
      "    [1.0, -0.5],\n",
      "    [-2.0, 1.5]\n",
      "])\n",
      "X_inv X = Matrix([\n",
      "    [1.0, 0.0],\n",
      "    [0.0, 1.0]\n",
      "])\n",
      "X X_inv = Matrix([\n",
      "    [1.0, 0.0],\n",
      "    [0.0, 1.0]\n",
      "])\n"
     ]
    }
   ],
   "source": [
    "X = Matrix([\n",
    "    [3, 1],\n",
    "    [4, 2]\n",
    "])\n",
    "X.logger_level = logging.DEBUG\n",
    "\n",
    "X_inv = X.invert()\n",
    "\n",
    "print(\"X =\", X)\n",
    "print(\"X_inv =\", X_inv)\n",
    "print(\"X_inv X =\", X_inv.multiply_by(X))\n",
    "print(\"X X_inv =\", X.multiply_by(X_inv))"
   ]
  },
  {
   "cell_type": "code",
   "execution_count": 26,
   "metadata": {},
   "outputs": [
    {
     "name": "stdout",
     "output_type": "stream",
     "text": [
      "Matrix([\n",
      "    [2.0, 5.0, 0.0],\n",
      "    [1.0, 0.0, 1.0],\n",
      "    [1.0, 2.0, 0.0]\n",
      "])\n",
      "Matrix([\n",
      "    [-2.0, 0.0, 5.0],\n",
      "    [1.0, 0.0, -2.0],\n",
      "    [2.0, 1.0, -5.0]\n",
      "])\n",
      "Matrix([\n",
      "    [1.0, 0.0, 0.0],\n",
      "    [0.0, 1.0, 0.0],\n",
      "    [0.0, 0.0, 1.0]\n",
      "])\n",
      "Matrix([\n",
      "    [1.0, 0.0, 0.0],\n",
      "    [0.0, 1.0, 0.0],\n",
      "    [0.0, 0.0, 1.0]\n",
      "])\n"
     ]
    }
   ],
   "source": [
    "X = Matrix([\n",
    "    [2, 5, 0],\n",
    "    [1, 0, 1],\n",
    "    [1, 2, 0],\n",
    "])\n",
    "X_inv = X.invert()\n",
    "\n",
    "print(X)\n",
    "print(X_inv)\n",
    "print(X @ X_inv)\n",
    "print(X_inv @ X)"
   ]
  },
  {
   "cell_type": "code",
   "execution_count": 27,
   "metadata": {},
   "outputs": [
    {
     "name": "stderr",
     "output_type": "stream",
     "text": [
      "Matrix - INFO processing column 0\n",
      "Matrix - INFO self_copy = Matrix([\n",
      "    [2.0, 5.0, 0.0],\n",
      "    [1.0, 0.0, 1.0],\n",
      "    [1.0, 2.0, 0.0]\n",
      "])\n",
      "Matrix - INFO reorder rows\n",
      "Matrix - DEBUG reorder_op = Matrix([\n",
      "    [1.0, 0.0, 0.0],\n",
      "    [0.0, 0.0, 1.0],\n",
      "    [0.0, 1.0, 0.0]\n",
      "])\n",
      "Matrix - INFO self_copy = Matrix([\n",
      "    [2.0, 5.0, 0.0],\n",
      "    [1.0, 2.0, 0.0],\n",
      "    [1.0, 0.0, 1.0]\n",
      "])\n",
      "Matrix - INFO normalize this row\n",
      "Matrix - DEBUG normalization_op = Matrix([\n",
      "    [0.5, 0.0, 0.0],\n",
      "    [0.0, 1.0, 0.0],\n",
      "    [0.0, 0.0, 1.0]\n",
      "])\n",
      "Matrix - INFO self_copy = Matrix([\n",
      "    [1.0, 2.5, 0.0],\n",
      "    [1.0, 2.0, 0.0],\n",
      "    [1.0, 0.0, 1.0]\n",
      "])\n",
      "Matrix - INFO eliminate the other rows\n",
      "Matrix - DEBUG eliminations_op = Matrix([\n",
      "    [1.0, 0.0, 0.0],\n",
      "    [-1.0, 1.0, 0.0],\n",
      "    [-1.0, 0.0, 1.0]\n",
      "])\n",
      "Matrix - DEBUG operations_so_far = Matrix([\n",
      "    [0.5, 0.0, 0.0],\n",
      "    [-0.5, 0.0, 1.0],\n",
      "    [-0.5, 1.0, 0.0]\n",
      "])\n",
      "Matrix - INFO self_copy = Matrix([\n",
      "    [1.0, 2.5, 0.0],\n",
      "    [0.0, -0.5, 0.0],\n",
      "    [0.0, -2.5, 1.0]\n",
      "])\n",
      "Matrix - INFO done with column 0\n",
      "\n",
      "Matrix - INFO processing column 1\n",
      "Matrix - INFO self_copy = Matrix([\n",
      "    [1.0, 2.5, 0.0],\n",
      "    [0.0, -0.5, 0.0],\n",
      "    [0.0, -2.5, 1.0]\n",
      "])\n",
      "Matrix - INFO reorder rows\n",
      "Matrix - DEBUG reorder_op = Matrix([\n",
      "    [1.0, 0.0, 0.0],\n",
      "    [0.0, 0.0, 1.0],\n",
      "    [0.0, 1.0, 0.0]\n",
      "])\n",
      "Matrix - INFO self_copy = Matrix([\n",
      "    [1.0, 2.5, 0.0],\n",
      "    [0.0, -2.5, 1.0],\n",
      "    [0.0, -0.5, 0.0]\n",
      "])\n",
      "Matrix - INFO normalize this row\n",
      "Matrix - DEBUG normalization_op = Matrix([\n",
      "    [1.0, 0.0, 0.0],\n",
      "    [0.0, -0.4, 0.0],\n",
      "    [0.0, 0.0, 1.0]\n",
      "])\n",
      "Matrix - INFO self_copy = Matrix([\n",
      "    [1.0, 2.5, 0.0],\n",
      "    [0.0, 1.0, -0.4],\n",
      "    [0.0, -0.5, 0.0]\n",
      "])\n",
      "Matrix - INFO eliminate the other rows\n",
      "Matrix - DEBUG eliminations_op = Matrix([\n",
      "    [1.0, -2.5, 0.0],\n",
      "    [0.0, 1.0, 0.0],\n",
      "    [0.0, 0.5, 1.0]\n",
      "])\n",
      "Matrix - DEBUG operations_so_far = Matrix([\n",
      "    [0.0, 1.0, 0.0],\n",
      "    [0.2, -0.4, 0.0],\n",
      "    [-0.4, -0.2, 1.0]\n",
      "])\n",
      "Matrix - INFO self_copy = Matrix([\n",
      "    [1.0, 0.0, 1.0],\n",
      "    [0.0, 1.0, -0.4],\n",
      "    [0.0, 0.0, -0.2]\n",
      "])\n",
      "Matrix - INFO done with column 1\n",
      "\n",
      "Matrix - INFO processing column 2\n",
      "Matrix - INFO self_copy = Matrix([\n",
      "    [1.0, 0.0, 1.0],\n",
      "    [0.0, 1.0, -0.4],\n",
      "    [0.0, 0.0, -0.2]\n",
      "])\n",
      "Matrix - INFO reorder rows\n",
      "Matrix - DEBUG reorder_op = Matrix([\n",
      "    [1.0, 0.0, 0.0],\n",
      "    [0.0, 1.0, 0.0],\n",
      "    [0.0, 0.0, 1.0]\n",
      "])\n",
      "Matrix - INFO self_copy = Matrix([\n",
      "    [1.0, 0.0, 1.0],\n",
      "    [0.0, 1.0, -0.4],\n",
      "    [0.0, 0.0, -0.2]\n",
      "])\n",
      "Matrix - INFO normalize this row\n",
      "Matrix - DEBUG normalization_op = Matrix([\n",
      "    [1.0, 0.0, 0.0],\n",
      "    [0.0, 1.0, 0.0],\n",
      "    [0.0, 0.0, -5.0]\n",
      "])\n",
      "Matrix - INFO self_copy = Matrix([\n",
      "    [1.0, 0.0, 1.0],\n",
      "    [0.0, 1.0, -0.4],\n",
      "    [0.0, 0.0, 1.0]\n",
      "])\n",
      "Matrix - INFO eliminate the other rows\n",
      "Matrix - DEBUG eliminations_op = Matrix([\n",
      "    [1.0, 0.0, -1.0],\n",
      "    [0.0, 1.0, 0.4],\n",
      "    [0.0, 0.0, 1.0]\n",
      "])\n",
      "Matrix - DEBUG operations_so_far = Matrix([\n",
      "    [-2.0, 0.0, 5.0],\n",
      "    [1.0, 0.0, -2.0],\n",
      "    [2.0, 1.0, -5.0]\n",
      "])\n",
      "Matrix - INFO self_copy = Matrix([\n",
      "    [1.0, 0.0, 0.0],\n",
      "    [0.0, 1.0, 0.0],\n",
      "    [0.0, 0.0, 1.0]\n",
      "])\n",
      "Matrix - INFO done with column 2\n",
      "\n"
     ]
    },
    {
     "name": "stdout",
     "output_type": "stream",
     "text": [
      "Matrix([\n",
      "    [2.0, 5.0, 0.0],\n",
      "    [1.0, 0.0, 1.0],\n",
      "    [1.0, 2.0, 0.0]\n",
      "])\n",
      "Matrix([\n",
      "    [-2.0, 0.0, 5.0],\n",
      "    [1.0, 0.0, -2.0],\n",
      "    [2.0, 1.0, -5.0]\n",
      "])\n",
      "Matrix([\n",
      "    [1.0, 0.0, 0.0],\n",
      "    [0.0, 1.0, 0.0],\n",
      "    [0.0, 0.0, 1.0]\n",
      "])\n",
      "Matrix([\n",
      "    [1.0, 0.0, 0.0],\n",
      "    [0.0, 1.0, 0.0],\n",
      "    [0.0, 0.0, 1.0]\n",
      "])\n"
     ]
    }
   ],
   "source": [
    "X = Matrix([\n",
    "    [2, 5, 0],\n",
    "    [1, 0, 1],\n",
    "    [1, 2, 0],\n",
    "])\n",
    "X.logger_level = logging.DEBUG\n",
    "X_inv = X.invert()\n",
    "\n",
    "print(X)\n",
    "print(X_inv)\n",
    "print(X.multiply_by(X_inv))\n",
    "print(X_inv.multiply_by(X))"
   ]
  },
  {
   "cell_type": "markdown",
   "metadata": {},
   "source": [
    "### demo cute operations"
   ]
  },
  {
   "cell_type": "code",
   "execution_count": 28,
   "metadata": {},
   "outputs": [],
   "source": [
    "X = Matrix([\n",
    "    [3, 1],\n",
    "    [4, 2]\n",
    "])\n",
    "X_inv = X.invert()"
   ]
  },
  {
   "cell_type": "code",
   "execution_count": 29,
   "metadata": {},
   "outputs": [
    {
     "data": {
      "text/plain": [
       "Matrix([\n",
       "    [4.0, 0.5],\n",
       "    [2.0, 3.5]\n",
       "])"
      ]
     },
     "execution_count": 29,
     "metadata": {},
     "output_type": "execute_result"
    }
   ],
   "source": [
    "X + X_inv"
   ]
  },
  {
   "cell_type": "code",
   "execution_count": 30,
   "metadata": {},
   "outputs": [
    {
     "data": {
      "text/plain": [
       "Matrix([\n",
       "    [2.0, 1.5],\n",
       "    [6.0, 0.5]\n",
       "])"
      ]
     },
     "execution_count": 30,
     "metadata": {},
     "output_type": "execute_result"
    }
   ],
   "source": [
    "X - X_inv"
   ]
  },
  {
   "cell_type": "code",
   "execution_count": 31,
   "metadata": {},
   "outputs": [
    {
     "data": {
      "text/plain": [
       "Matrix([\n",
       "    [3.0, -0.5],\n",
       "    [-8.0, 3.0]\n",
       "])"
      ]
     },
     "execution_count": 31,
     "metadata": {},
     "output_type": "execute_result"
    }
   ],
   "source": [
    "X * X_inv  # element-wise"
   ]
  },
  {
   "cell_type": "code",
   "execution_count": 32,
   "metadata": {},
   "outputs": [
    {
     "data": {
      "text/plain": [
       "Matrix([\n",
       "    [1.0, 0.0],\n",
       "    [0.0, 1.0]\n",
       "])"
      ]
     },
     "execution_count": 32,
     "metadata": {},
     "output_type": "execute_result"
    }
   ],
   "source": [
    "X @ X_inv  # matrix-wise"
   ]
  },
  {
   "cell_type": "code",
   "execution_count": 33,
   "metadata": {},
   "outputs": [
    {
     "data": {
      "text/plain": [
       "Matrix([\n",
       "    [1.0, 0.0],\n",
       "    [0.0, 1.0]\n",
       "])"
      ]
     },
     "execution_count": 33,
     "metadata": {},
     "output_type": "execute_result"
    }
   ],
   "source": [
    "X_inv @ X"
   ]
  },
  {
   "cell_type": "markdown",
   "metadata": {},
   "source": [
    "# Linear regression"
   ]
  },
  {
   "cell_type": "code",
   "execution_count": 34,
   "metadata": {},
   "outputs": [],
   "source": [
    "import numpy as np  # only for testing, silly\n",
    "\n",
    "np.set_printoptions(suppress=True, precision=6)"
   ]
  },
  {
   "cell_type": "code",
   "execution_count": 35,
   "metadata": {},
   "outputs": [],
   "source": [
    "N = 1000\n",
    "sigma = 10.0\n",
    "beta = np.array([10.0, -7.0])\n",
    "p = len(beta)"
   ]
  },
  {
   "cell_type": "code",
   "execution_count": 36,
   "metadata": {},
   "outputs": [],
   "source": [
    "# just using Matrix objects here...\n",
    "\n",
    "rng = np.random.RandomState(seed=0)\n",
    "\n",
    "beta_ = Matrix([\n",
    "    [beta[p_]]\n",
    "    for p_ in range(p)\n",
    "])\n",
    "X = Matrix([\n",
    "    [x[p_] for p_ in range(p)]\n",
    "    for x in rng.uniform(size=N*p).reshape((N, p))\n",
    "])\n",
    "error = Matrix([\n",
    "    [element] for element in rng.normal(size=N, scale=sigma)\n",
    "])"
   ]
  },
  {
   "cell_type": "code",
   "execution_count": 37,
   "metadata": {},
   "outputs": [],
   "source": [
    "X_beta = X @ beta_\n",
    "y = X_beta + error"
   ]
  },
  {
   "cell_type": "code",
   "execution_count": 38,
   "metadata": {},
   "outputs": [
    {
     "name": "stdout",
     "output_type": "stream",
     "text": [
      "X = [[0.5488135039273248, 0.7151893663724195]]\n",
      "beta_ = Matrix([\n",
      "    [10.0],\n",
      "    [-7.0]\n",
      "])\n",
      "error = [[-1.0497970101895355]]\n",
      "y = [[-0.5679875355232247]]\n"
     ]
    }
   ],
   "source": [
    "print(\"X =\", X[:1])\n",
    "print(\"beta_ =\", beta_)\n",
    "print(\"error =\", error[:1])\n",
    "print(\"y =\", y[:1])"
   ]
  },
  {
   "cell_type": "code",
   "execution_count": 39,
   "metadata": {},
   "outputs": [
    {
     "data": {
      "text/plain": [
       "Matrix([\n",
       "    [9.181662648861964],\n",
       "    [-7.119123491913385]\n",
       "])"
      ]
     },
     "execution_count": 39,
     "metadata": {},
     "output_type": "execute_result"
    }
   ],
   "source": [
    "beta_hat = (X.transpose().multiply_by(X)).invert().multiply_by(X.transpose()).multiply_by(y)\n",
    "beta_hat"
   ]
  },
  {
   "cell_type": "code",
   "execution_count": 40,
   "metadata": {},
   "outputs": [
    {
     "data": {
      "text/plain": [
       "Matrix([\n",
       "    [9.181662648861964],\n",
       "    [-7.119123491913385]\n",
       "])"
      ]
     },
     "execution_count": 40,
     "metadata": {},
     "output_type": "execute_result"
    }
   ],
   "source": [
    "beta_hat = (X.T @ X).invert() @ X.T @ y\n",
    "beta_hat"
   ]
  },
  {
   "cell_type": "code",
   "execution_count": 41,
   "metadata": {},
   "outputs": [
    {
     "data": {
      "text/plain": [
       "array([10., -7.])"
      ]
     },
     "execution_count": 41,
     "metadata": {},
     "output_type": "execute_result"
    }
   ],
   "source": [
    "# which is pretty close to the true beta\n",
    "beta"
   ]
  },
  {
   "cell_type": "code",
   "execution_count": 42,
   "metadata": {},
   "outputs": [],
   "source": [
    "# check...\n",
    "import sklearn as skl\n",
    "from sklearn.linear_model import LinearRegression"
   ]
  },
  {
   "cell_type": "code",
   "execution_count": 43,
   "metadata": {},
   "outputs": [
    {
     "data": {
      "text/plain": [
       "array([[ 9.181663, -7.119123]])"
      ]
     },
     "execution_count": 43,
     "metadata": {},
     "output_type": "execute_result"
    }
   ],
   "source": [
    "lr = LinearRegression(fit_intercept=False)\n",
    "lr.fit(X.data, y.data)\n",
    "lr.coef_"
   ]
  },
  {
   "cell_type": "code",
   "execution_count": 44,
   "metadata": {},
   "outputs": [],
   "source": [
    "import statsmodels.api as sm\n",
    "import numpy as np"
   ]
  },
  {
   "cell_type": "code",
   "execution_count": 45,
   "metadata": {},
   "outputs": [
    {
     "data": {
      "text/plain": [
       "(array([[0.548814, 0.715189],\n",
       "        [0.602763, 0.544883],\n",
       "        [0.423655, 0.645894],\n",
       "        [0.437587, 0.891773],\n",
       "        [0.963663, 0.383442],\n",
       "        [0.791725, 0.528895],\n",
       "        [0.568045, 0.925597],\n",
       "        [0.071036, 0.087129],\n",
       "        [0.020218, 0.83262 ],\n",
       "        [0.778157, 0.870012]]), (1000, 2))"
      ]
     },
     "execution_count": 45,
     "metadata": {},
     "output_type": "execute_result"
    }
   ],
   "source": [
    "X_np = np.array(X.data)\n",
    "X_np[:10], X_np.shape"
   ]
  },
  {
   "cell_type": "code",
   "execution_count": 46,
   "metadata": {},
   "outputs": [
    {
     "data": {
      "text/plain": [
       "(array([[ -0.567988],\n",
       "        [ 15.887601],\n",
       "        [-16.838151],\n",
       "        [ -0.330094],\n",
       "        [ -8.892199],\n",
       "        [ 12.659529],\n",
       "        [-12.927409],\n",
       "        [  2.938151],\n",
       "        [ -8.448114],\n",
       "        [ -9.890549]]), (1000, 1))"
      ]
     },
     "execution_count": 46,
     "metadata": {},
     "output_type": "execute_result"
    }
   ],
   "source": [
    "y_np = np.array(y.data)\n",
    "y_np[:10], y_np.shape"
   ]
  },
  {
   "cell_type": "code",
   "execution_count": 47,
   "metadata": {},
   "outputs": [
    {
     "data": {
      "text/html": [
       "<table class=\"simpletable\">\n",
       "<caption>OLS Regression Results</caption>\n",
       "<tr>\n",
       "  <th>Dep. Variable:</th>            <td>y</td>        <th>  R-squared (uncentered):</th>      <td>   0.117</td>\n",
       "</tr>\n",
       "<tr>\n",
       "  <th>Model:</th>                   <td>OLS</td>       <th>  Adj. R-squared (uncentered):</th> <td>   0.115</td>\n",
       "</tr>\n",
       "<tr>\n",
       "  <th>Method:</th>             <td>Least Squares</td>  <th>  F-statistic:       </th>          <td>   66.05</td>\n",
       "</tr>\n",
       "<tr>\n",
       "  <th>Date:</th>             <td>Thu, 10 Oct 2019</td> <th>  Prob (F-statistic):</th>          <td>1.15e-27</td>\n",
       "</tr>\n",
       "<tr>\n",
       "  <th>Time:</th>                 <td>17:57:05</td>     <th>  Log-Likelihood:    </th>          <td> -3693.3</td>\n",
       "</tr>\n",
       "<tr>\n",
       "  <th>No. Observations:</th>      <td>  1000</td>      <th>  AIC:               </th>          <td>   7391.</td>\n",
       "</tr>\n",
       "<tr>\n",
       "  <th>Df Residuals:</th>          <td>   998</td>      <th>  BIC:               </th>          <td>   7400.</td>\n",
       "</tr>\n",
       "<tr>\n",
       "  <th>Df Model:</th>              <td>     2</td>      <th>                     </th>              <td> </td>   \n",
       "</tr>\n",
       "<tr>\n",
       "  <th>Covariance Type:</th>      <td>nonrobust</td>    <th>                     </th>              <td> </td>   \n",
       "</tr>\n",
       "</table>\n",
       "<table class=\"simpletable\">\n",
       "<tr>\n",
       "   <td></td>     <th>coef</th>     <th>std err</th>      <th>t</th>      <th>P>|t|</th>  <th>[0.025</th>    <th>0.975]</th>  \n",
       "</tr>\n",
       "<tr>\n",
       "  <th>x1</th> <td>    9.1817</td> <td>    0.800</td> <td>   11.483</td> <td> 0.000</td> <td>    7.613</td> <td>   10.751</td>\n",
       "</tr>\n",
       "<tr>\n",
       "  <th>x2</th> <td>   -7.1191</td> <td>    0.797</td> <td>   -8.934</td> <td> 0.000</td> <td>   -8.683</td> <td>   -5.555</td>\n",
       "</tr>\n",
       "</table>\n",
       "<table class=\"simpletable\">\n",
       "<tr>\n",
       "  <th>Omnibus:</th>       <td> 3.203</td> <th>  Durbin-Watson:     </th> <td>   1.991</td>\n",
       "</tr>\n",
       "<tr>\n",
       "  <th>Prob(Omnibus):</th> <td> 0.202</td> <th>  Jarque-Bera (JB):  </th> <td>   2.706</td>\n",
       "</tr>\n",
       "<tr>\n",
       "  <th>Skew:</th>          <td>-0.003</td> <th>  Prob(JB):          </th> <td>   0.258</td>\n",
       "</tr>\n",
       "<tr>\n",
       "  <th>Kurtosis:</th>      <td> 2.745</td> <th>  Cond. No.          </th> <td>    2.65</td>\n",
       "</tr>\n",
       "</table><br/><br/>Warnings:<br/>[1] Standard Errors assume that the covariance matrix of the errors is correctly specified."
      ],
      "text/plain": [
       "<class 'statsmodels.iolib.summary.Summary'>\n",
       "\"\"\"\n",
       "                                 OLS Regression Results                                \n",
       "=======================================================================================\n",
       "Dep. Variable:                      y   R-squared (uncentered):                   0.117\n",
       "Model:                            OLS   Adj. R-squared (uncentered):              0.115\n",
       "Method:                 Least Squares   F-statistic:                              66.05\n",
       "Date:                Thu, 10 Oct 2019   Prob (F-statistic):                    1.15e-27\n",
       "Time:                        17:57:05   Log-Likelihood:                         -3693.3\n",
       "No. Observations:                1000   AIC:                                      7391.\n",
       "Df Residuals:                     998   BIC:                                      7400.\n",
       "Df Model:                           2                                                  \n",
       "Covariance Type:            nonrobust                                                  \n",
       "==============================================================================\n",
       "                 coef    std err          t      P>|t|      [0.025      0.975]\n",
       "------------------------------------------------------------------------------\n",
       "x1             9.1817      0.800     11.483      0.000       7.613      10.751\n",
       "x2            -7.1191      0.797     -8.934      0.000      -8.683      -5.555\n",
       "==============================================================================\n",
       "Omnibus:                        3.203   Durbin-Watson:                   1.991\n",
       "Prob(Omnibus):                  0.202   Jarque-Bera (JB):                2.706\n",
       "Skew:                          -0.003   Prob(JB):                        0.258\n",
       "Kurtosis:                       2.745   Cond. No.                         2.65\n",
       "==============================================================================\n",
       "\n",
       "Warnings:\n",
       "[1] Standard Errors assume that the covariance matrix of the errors is correctly specified.\n",
       "\"\"\""
      ]
     },
     "execution_count": 47,
     "metadata": {},
     "output_type": "execute_result"
    }
   ],
   "source": [
    "model = sm.OLS(y_np, X_np)\n",
    "results = model.fit()\n",
    "results.summary()"
   ]
  },
  {
   "cell_type": "markdown",
   "metadata": {},
   "source": [
    "which is pretty close to the true beta!"
   ]
  },
  {
   "cell_type": "code",
   "execution_count": 48,
   "metadata": {},
   "outputs": [
    {
     "name": "stdout",
     "output_type": "stream",
     "text": [
      "coefficients:\n",
      "beta_hat[0]:     9.1817\n",
      "beta_hat[1]:    -7.1191\n"
     ]
    }
   ],
   "source": [
    "print(\"coefficients:\")\n",
    "for p_ in range(p):\n",
    "    beta_hat_p = beta_hat[p_][0]\n",
    "    print(f\"beta_hat[{p_}]: {beta_hat_p:10.4f}\")\n"
   ]
  },
  {
   "cell_type": "markdown",
   "metadata": {},
   "source": [
    "## What about standard errors of the beta estimates?"
   ]
  },
  {
   "cell_type": "code",
   "execution_count": 49,
   "metadata": {
    "scrolled": true
   },
   "outputs": [
    {
     "data": {
      "text/plain": [
       "[[-0.05250096910796298],\n",
       " [1.6552793077572017],\n",
       " [-0.7083445065202598],\n",
       " [-2.3308639660514645],\n",
       " [6.118258849743972],\n",
       " [3.504083962365871],\n",
       " [-1.3738432422199924],\n",
       " [0.031944877938723026],\n",
       " [-5.7418849976759345],\n",
       " [0.9510488523220637]]"
      ]
     },
     "execution_count": 49,
     "metadata": {},
     "output_type": "execute_result"
    }
   ],
   "source": [
    "y_hat = X @ beta_hat\n",
    "y_hat[:10]"
   ]
  },
  {
   "cell_type": "code",
   "execution_count": 50,
   "metadata": {},
   "outputs": [
    {
     "data": {
      "text/plain": [
       "[[-0.5154865664152617],\n",
       " [14.232321996582545],\n",
       " [-16.129806674654066],\n",
       " [2.000769681360495],\n",
       " [-15.010457508023478],\n",
       " [9.155445046236306],\n",
       " [-11.553565776979559],\n",
       " [2.9062061499628165],\n",
       " [-2.7062287136607255],\n",
       " [-10.841598232391581]]"
      ]
     },
     "execution_count": 50,
     "metadata": {},
     "output_type": "execute_result"
    }
   ],
   "source": [
    "residual = y - y_hat\n",
    "residual[:10]"
   ]
  },
  {
   "cell_type": "code",
   "execution_count": 51,
   "metadata": {},
   "outputs": [
    {
     "data": {
      "text/plain": [
       "[[94507.18524021353]]"
      ]
     },
     "execution_count": 51,
     "metadata": {},
     "output_type": "execute_result"
    }
   ],
   "source": [
    "residual_sum_of_squares = residual.T @ residual\n",
    "residual_sum_of_squares[:10]"
   ]
  },
  {
   "cell_type": "code",
   "execution_count": 52,
   "metadata": {},
   "outputs": [
    {
     "data": {
      "text/plain": [
       "998"
      ]
     },
     "execution_count": 52,
     "metadata": {},
     "output_type": "execute_result"
    }
   ],
   "source": [
    "(X.shape[0] - X.shape[1])"
   ]
  },
  {
   "cell_type": "code",
   "execution_count": 53,
   "metadata": {},
   "outputs": [
    {
     "data": {
      "text/plain": [
       "94.69657839700754"
      ]
     },
     "execution_count": 53,
     "metadata": {},
     "output_type": "execute_result"
    }
   ],
   "source": [
    "sigma_hat_squared = residual_sum_of_squares.data[0][0] / (X.shape[0] - X.shape[1])\n",
    "sigma_hat_squared"
   ]
  },
  {
   "cell_type": "code",
   "execution_count": 54,
   "metadata": {},
   "outputs": [
    {
     "data": {
      "text/plain": [
       "9.73121669664218"
      ]
     },
     "execution_count": 54,
     "metadata": {},
     "output_type": "execute_result"
    }
   ],
   "source": [
    "sigma_hat = sigma_hat_squared ** 0.5\n",
    "sigma_hat"
   ]
  },
  {
   "cell_type": "code",
   "execution_count": 55,
   "metadata": {},
   "outputs": [
    {
     "data": {
      "text/plain": [
       "10.0"
      ]
     },
     "execution_count": 55,
     "metadata": {},
     "output_type": "execute_result"
    }
   ],
   "source": [
    "# what was sigma again?\n",
    "sigma"
   ]
  },
  {
   "cell_type": "code",
   "execution_count": 56,
   "metadata": {},
   "outputs": [],
   "source": [
    "var_beta_hat = (X.T @ X).invert() * sigma_hat_squared"
   ]
  },
  {
   "cell_type": "code",
   "execution_count": 57,
   "metadata": {},
   "outputs": [
    {
     "data": {
      "text/plain": [
       "Matrix([\n",
       "    [0.6392877363450508, -0.47837227675521693],\n",
       "    [-0.47837227675521693, 0.635052037184252]\n",
       "])"
      ]
     },
     "execution_count": 57,
     "metadata": {},
     "output_type": "execute_result"
    }
   ],
   "source": [
    "var_beta_hat"
   ]
  },
  {
   "cell_type": "code",
   "execution_count": 58,
   "metadata": {},
   "outputs": [
    {
     "data": {
      "text/plain": [
       "Matrix([\n",
       "    [9.181662648861964],\n",
       "    [-7.119123491913385]\n",
       "])"
      ]
     },
     "execution_count": 58,
     "metadata": {},
     "output_type": "execute_result"
    }
   ],
   "source": [
    "beta_hat"
   ]
  },
  {
   "cell_type": "code",
   "execution_count": 59,
   "metadata": {},
   "outputs": [
    {
     "name": "stdout",
     "output_type": "stream",
     "text": [
      "coefficients and standard errors of the coefficients:\n",
      "beta[0]:    10.0000 \t beta_hat[0]:     9.1817 \t std err:     0.7996\n",
      "beta[1]:    -7.0000 \t beta_hat[1]:    -7.1191 \t std err:     0.7969\n"
     ]
    }
   ],
   "source": [
    "print(\"coefficients and standard errors of the coefficients:\")\n",
    "for p_ in range(p):\n",
    "    beta_p = beta[p_]\n",
    "    beta_hat_p = beta_hat[p_][0]\n",
    "    sigma_hat_p = var_beta_hat[p_][p_] ** 0.5\n",
    "    print(f\"beta[{p_}]: {beta_p:10.4f} \\t beta_hat[{p_}]: {beta_hat_p:10.4f} \\t std err: {sigma_hat_p:10.4f}\")\n"
   ]
  },
  {
   "cell_type": "markdown",
   "metadata": {},
   "source": [
    "and these match the results in the `statsmodels` summary:"
   ]
  },
  {
   "cell_type": "code",
   "execution_count": 60,
   "metadata": {},
   "outputs": [
    {
     "data": {
      "text/html": [
       "<table class=\"simpletable\">\n",
       "<caption>OLS Regression Results</caption>\n",
       "<tr>\n",
       "  <th>Dep. Variable:</th>            <td>y</td>        <th>  R-squared (uncentered):</th>      <td>   0.117</td>\n",
       "</tr>\n",
       "<tr>\n",
       "  <th>Model:</th>                   <td>OLS</td>       <th>  Adj. R-squared (uncentered):</th> <td>   0.115</td>\n",
       "</tr>\n",
       "<tr>\n",
       "  <th>Method:</th>             <td>Least Squares</td>  <th>  F-statistic:       </th>          <td>   66.05</td>\n",
       "</tr>\n",
       "<tr>\n",
       "  <th>Date:</th>             <td>Thu, 10 Oct 2019</td> <th>  Prob (F-statistic):</th>          <td>1.15e-27</td>\n",
       "</tr>\n",
       "<tr>\n",
       "  <th>Time:</th>                 <td>17:57:06</td>     <th>  Log-Likelihood:    </th>          <td> -3693.3</td>\n",
       "</tr>\n",
       "<tr>\n",
       "  <th>No. Observations:</th>      <td>  1000</td>      <th>  AIC:               </th>          <td>   7391.</td>\n",
       "</tr>\n",
       "<tr>\n",
       "  <th>Df Residuals:</th>          <td>   998</td>      <th>  BIC:               </th>          <td>   7400.</td>\n",
       "</tr>\n",
       "<tr>\n",
       "  <th>Df Model:</th>              <td>     2</td>      <th>                     </th>              <td> </td>   \n",
       "</tr>\n",
       "<tr>\n",
       "  <th>Covariance Type:</th>      <td>nonrobust</td>    <th>                     </th>              <td> </td>   \n",
       "</tr>\n",
       "</table>\n",
       "<table class=\"simpletable\">\n",
       "<tr>\n",
       "   <td></td>     <th>coef</th>     <th>std err</th>      <th>t</th>      <th>P>|t|</th>  <th>[0.025</th>    <th>0.975]</th>  \n",
       "</tr>\n",
       "<tr>\n",
       "  <th>x1</th> <td>    9.1817</td> <td>    0.800</td> <td>   11.483</td> <td> 0.000</td> <td>    7.613</td> <td>   10.751</td>\n",
       "</tr>\n",
       "<tr>\n",
       "  <th>x2</th> <td>   -7.1191</td> <td>    0.797</td> <td>   -8.934</td> <td> 0.000</td> <td>   -8.683</td> <td>   -5.555</td>\n",
       "</tr>\n",
       "</table>\n",
       "<table class=\"simpletable\">\n",
       "<tr>\n",
       "  <th>Omnibus:</th>       <td> 3.203</td> <th>  Durbin-Watson:     </th> <td>   1.991</td>\n",
       "</tr>\n",
       "<tr>\n",
       "  <th>Prob(Omnibus):</th> <td> 0.202</td> <th>  Jarque-Bera (JB):  </th> <td>   2.706</td>\n",
       "</tr>\n",
       "<tr>\n",
       "  <th>Skew:</th>          <td>-0.003</td> <th>  Prob(JB):          </th> <td>   0.258</td>\n",
       "</tr>\n",
       "<tr>\n",
       "  <th>Kurtosis:</th>      <td> 2.745</td> <th>  Cond. No.          </th> <td>    2.65</td>\n",
       "</tr>\n",
       "</table><br/><br/>Warnings:<br/>[1] Standard Errors assume that the covariance matrix of the errors is correctly specified."
      ],
      "text/plain": [
       "<class 'statsmodels.iolib.summary.Summary'>\n",
       "\"\"\"\n",
       "                                 OLS Regression Results                                \n",
       "=======================================================================================\n",
       "Dep. Variable:                      y   R-squared (uncentered):                   0.117\n",
       "Model:                            OLS   Adj. R-squared (uncentered):              0.115\n",
       "Method:                 Least Squares   F-statistic:                              66.05\n",
       "Date:                Thu, 10 Oct 2019   Prob (F-statistic):                    1.15e-27\n",
       "Time:                        17:57:06   Log-Likelihood:                         -3693.3\n",
       "No. Observations:                1000   AIC:                                      7391.\n",
       "Df Residuals:                     998   BIC:                                      7400.\n",
       "Df Model:                           2                                                  \n",
       "Covariance Type:            nonrobust                                                  \n",
       "==============================================================================\n",
       "                 coef    std err          t      P>|t|      [0.025      0.975]\n",
       "------------------------------------------------------------------------------\n",
       "x1             9.1817      0.800     11.483      0.000       7.613      10.751\n",
       "x2            -7.1191      0.797     -8.934      0.000      -8.683      -5.555\n",
       "==============================================================================\n",
       "Omnibus:                        3.203   Durbin-Watson:                   1.991\n",
       "Prob(Omnibus):                  0.202   Jarque-Bera (JB):                2.706\n",
       "Skew:                          -0.003   Prob(JB):                        0.258\n",
       "Kurtosis:                       2.745   Cond. No.                         2.65\n",
       "==============================================================================\n",
       "\n",
       "Warnings:\n",
       "[1] Standard Errors assume that the covariance matrix of the errors is correctly specified.\n",
       "\"\"\""
      ]
     },
     "execution_count": 60,
     "metadata": {},
     "output_type": "execute_result"
    }
   ],
   "source": [
    "results.summary()"
   ]
  },
  {
   "cell_type": "code",
   "execution_count": null,
   "metadata": {},
   "outputs": [],
   "source": []
  },
  {
   "cell_type": "code",
   "execution_count": null,
   "metadata": {},
   "outputs": [],
   "source": []
  },
  {
   "cell_type": "code",
   "execution_count": null,
   "metadata": {},
   "outputs": [],
   "source": []
  },
  {
   "cell_type": "code",
   "execution_count": null,
   "metadata": {},
   "outputs": [],
   "source": []
  },
  {
   "cell_type": "code",
   "execution_count": null,
   "metadata": {},
   "outputs": [],
   "source": []
  }
 ],
 "metadata": {
  "kernelspec": {
   "display_name": "Python 3",
   "language": "python",
   "name": "python3"
  },
  "language_info": {
   "codemirror_mode": {
    "name": "ipython",
    "version": 3
   },
   "file_extension": ".py",
   "mimetype": "text/x-python",
   "name": "python",
   "nbconvert_exporter": "python",
   "pygments_lexer": "ipython3",
   "version": "3.7.2"
  },
  "varInspector": {
   "cols": {
    "lenName": 16,
    "lenType": 16,
    "lenVar": 40
   },
   "kernels_config": {
    "python": {
     "delete_cmd_postfix": "",
     "delete_cmd_prefix": "del ",
     "library": "var_list.py",
     "varRefreshCmd": "print(var_dic_list())"
    },
    "r": {
     "delete_cmd_postfix": ") ",
     "delete_cmd_prefix": "rm(",
     "library": "var_list.r",
     "varRefreshCmd": "cat(var_dic_list()) "
    }
   },
   "types_to_exclude": [
    "module",
    "function",
    "builtin_function_or_method",
    "instance",
    "_Feature"
   ],
   "window_display": false
  }
 },
 "nbformat": 4,
 "nbformat_minor": 2
}

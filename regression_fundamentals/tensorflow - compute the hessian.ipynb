{
 "cells": [
  {
   "cell_type": "code",
   "execution_count": 1,
   "metadata": {
    "ExecuteTime": {
     "end_time": "2019-10-16T16:42:03.028850Z",
     "start_time": "2019-10-16T16:42:00.861926Z"
    }
   },
   "outputs": [],
   "source": [
    "import logging\n",
    "\n",
    "import numpy as np\n",
    "import tensorflow as tf\n",
    "import tensorflow_probability as tfp\n",
    "tfd = tfp.distributions"
   ]
  },
  {
   "cell_type": "code",
   "execution_count": 2,
   "metadata": {
    "ExecuteTime": {
     "end_time": "2019-10-16T16:42:03.038126Z",
     "start_time": "2019-10-16T16:42:03.031397Z"
    }
   },
   "outputs": [],
   "source": [
    "logging.getLogger(\"tensorflow\").setLevel(logging.ERROR)"
   ]
  },
  {
   "cell_type": "markdown",
   "metadata": {},
   "source": [
    "https://github.com/tensorflow/tensorflow/issues/29781#issuecomment-504980912"
   ]
  },
  {
   "cell_type": "code",
   "execution_count": 3,
   "metadata": {
    "ExecuteTime": {
     "end_time": "2019-10-16T16:42:03.051275Z",
     "start_time": "2019-10-16T16:42:03.042071Z"
    }
   },
   "outputs": [],
   "source": [
    "def f(v):\n",
    "    return tf.sin(v[0] + tf.cos(v[1]))"
   ]
  },
  {
   "cell_type": "code",
   "execution_count": 4,
   "metadata": {
    "ExecuteTime": {
     "end_time": "2019-10-16T16:42:03.622845Z",
     "start_time": "2019-10-16T16:42:03.056066Z"
    }
   },
   "outputs": [
    {
     "name": "stdout",
     "output_type": "stream",
     "text": [
      "<tf.Variable 'Variable:0' shape=(2,) dtype=float32, numpy=array([1.5110626 , 0.42292204], dtype=float32)>\n",
      "tf.Tensor([-0.75270414  0.30892995], shape=(2,), dtype=float32)\n",
      "tf.Tensor(\n",
      "[[-0.65835893  0.27020815]\n",
      " [ 0.27020815  0.5754854 ]], shape=(2, 2), dtype=float32)\n"
     ]
    }
   ],
   "source": [
    "tf.random.set_seed(0)\n",
    "x = tf.Variable(tf.random.normal((2,)))\n",
    "\n",
    "with tf.GradientTape(persistent=True) as tape:\n",
    "    y = f(x)\n",
    "    grad = tape.gradient(y, x)\n",
    "hessian = tape.jacobian(grad, x)\n",
    "\n",
    "print(x)\n",
    "print(grad)\n",
    "print(hessian)"
   ]
  },
  {
   "cell_type": "code",
   "execution_count": 5,
   "metadata": {
    "ExecuteTime": {
     "end_time": "2019-10-16T16:42:04.016347Z",
     "start_time": "2019-10-16T16:42:03.627761Z"
    }
   },
   "outputs": [
    {
     "name": "stdout",
     "output_type": "stream",
     "text": [
      "<tf.Variable 'Variable:0' shape=(2,) dtype=float32, numpy=array([1.5110626 , 0.42292204], dtype=float32)>\n",
      "tf.Tensor(0.65835893, shape=(), dtype=float32)\n",
      "tf.Tensor(\n",
      "[[-0.65835893  0.27020815]\n",
      " [ 0.27020815  0.5754854 ]], shape=(2, 2), dtype=float32)\n"
     ]
    }
   ],
   "source": [
    "def hessian(f, x):\n",
    "    with tf.GradientTape(persistent=True) as tape:\n",
    "        y = f(x)\n",
    "        grad = tape.gradient(y, x)\n",
    "    hessian = tape.jacobian(grad, x)\n",
    "    return hessian\n",
    "\n",
    "tf.random.set_seed(0)\n",
    "x = tf.Variable(tf.random.normal((2,)))\n",
    "\n",
    "print(x)\n",
    "print(f(x))\n",
    "print(hessian(f, x))"
   ]
  },
  {
   "cell_type": "code",
   "execution_count": 6,
   "metadata": {
    "ExecuteTime": {
     "end_time": "2019-10-16T16:42:04.490075Z",
     "start_time": "2019-10-16T16:42:04.024062Z"
    }
   },
   "outputs": [
    {
     "name": "stdout",
     "output_type": "stream",
     "text": [
      "tf.Tensor(\n",
      "[[-0.65835893  0.27020815]\n",
      " [ 0.27020815  0.5754854 ]], shape=(2, 2), dtype=float32)\n"
     ]
    }
   ],
   "source": [
    "def hessian2(f, x):\n",
    "    with tf.GradientTape(persistent=True) as tape:\n",
    "        y = f(x)\n",
    "        grad = tape.gradient(y, x)\n",
    "    hessian = tape.jacobian(grad, x)\n",
    "    return hessian\n",
    "\n",
    "tf.random.set_seed(0)\n",
    "x = tf.Variable(tf.random.normal((2,)))\n",
    "\n",
    "print(hessian2(f, x))"
   ]
  },
  {
   "cell_type": "markdown",
   "metadata": {},
   "source": [
    "# also works, but slower"
   ]
  },
  {
   "cell_type": "code",
   "execution_count": 7,
   "metadata": {
    "ExecuteTime": {
     "end_time": "2019-10-16T16:42:04.515820Z",
     "start_time": "2019-10-16T16:42:04.494948Z"
    },
    "scrolled": true
   },
   "outputs": [
    {
     "name": "stdout",
     "output_type": "stream",
     "text": [
      "<tf.Variable 'Variable:0' shape=(2,) dtype=float32, numpy=array([1.5110626 , 0.42292204], dtype=float32)>\n",
      "tf.Tensor([-0.75270414  0.30892995], shape=(2,), dtype=float32)\n",
      "tf.Tensor(\n",
      "[[-0.65835893  0.27020815]\n",
      " [ 0.27020815  0.5754854 ]], shape=(2, 2), dtype=float32)\n"
     ]
    }
   ],
   "source": [
    "tf.random.set_seed(0)\n",
    "x = tf.Variable(tf.random.normal((2,)))\n",
    "\n",
    "with tf.GradientTape(persistent=True) as hess_tape:\n",
    "    with tf.GradientTape() as grad_tape:\n",
    "        y = f(x)\n",
    "    grad = grad_tape.gradient(y, x)\n",
    "    grad_grads = (hess_tape.gradient(g, x) for g in grad)\n",
    "    hess_columns = [gg[tf.newaxis, ...] for gg in grad_grads]\n",
    "    hessian = tf.concat(hess_columns, axis=0)\n",
    "\n",
    "print(x)\n",
    "print(grad)\n",
    "print(hessian)"
   ]
  },
  {
   "cell_type": "code",
   "execution_count": 8,
   "metadata": {
    "ExecuteTime": {
     "end_time": "2019-10-16T16:42:04.568234Z",
     "start_time": "2019-10-16T16:42:04.529845Z"
    }
   },
   "outputs": [
    {
     "name": "stdout",
     "output_type": "stream",
     "text": [
      "tf.Tensor(\n",
      "[[-0.65835893  0.27020815]\n",
      " [ 0.27020815  0.5754854 ]], shape=(2, 2), dtype=float32)\n"
     ]
    }
   ],
   "source": [
    "def hessian3(f, x):\n",
    "    with tf.GradientTape(persistent=True) as hess_tape:\n",
    "        with tf.GradientTape() as grad_tape:\n",
    "            y = f(x)\n",
    "        grad = grad_tape.gradient(y, x)\n",
    "        grad_grads = [hess_tape.gradient(g, x) for g in grad]\n",
    "    hess_rows = [gg[tf.newaxis, ...] for gg in grad_grads]\n",
    "    hessian = tf.concat(hess_rows, axis=0)\n",
    "    return hessian\n",
    "\n",
    "tf.random.set_seed(0)\n",
    "x = tf.Variable(tf.random.normal((2,)))\n",
    "\n",
    "print(hessian3(f, x))"
   ]
  },
  {
   "cell_type": "markdown",
   "metadata": {},
   "source": [
    "# Didn't work"
   ]
  },
  {
   "cell_type": "code",
   "execution_count": 9,
   "metadata": {
    "ExecuteTime": {
     "end_time": "2019-10-16T16:42:04.602199Z",
     "start_time": "2019-10-16T16:42:04.571254Z"
    }
   },
   "outputs": [
    {
     "name": "stdout",
     "output_type": "stream",
     "text": [
      "[<tf.Tensor: id=1542, shape=(2,), dtype=float32, numpy=array([-0.38815078,  0.8456935 ], dtype=float32)>]\n"
     ]
    }
   ],
   "source": [
    "tf.random.set_seed(0)\n",
    "v = tf.Variable(tf.random.normal((2,)))\n",
    "\n",
    "with tf.GradientTape(persistent=True) as tape:\n",
    "    y = tf.sin(v[0] + tf.cos(v[1]))\n",
    "    grads = tape.gradient(y, [v])\n",
    "\n",
    "hessians = tape.gradient(grads[0], [v])\n",
    "print(hessians)"
   ]
  },
  {
   "cell_type": "code",
   "execution_count": 10,
   "metadata": {
    "ExecuteTime": {
     "end_time": "2019-10-16T16:42:04.645932Z",
     "start_time": "2019-10-16T16:42:04.609349Z"
    },
    "scrolled": true
   },
   "outputs": [
    {
     "name": "stdout",
     "output_type": "stream",
     "text": [
      "tf.Tensor([-0.38815078  0.8456935 ], shape=(2,), dtype=float32)\n",
      "tf.Tensor([-0.65835893  0.27020815], shape=(2,), dtype=float32)\n",
      "tf.Tensor([0.27020815 0.5754854 ], shape=(2,), dtype=float32)\n",
      "tf.Tensor([-0.38815078  0.8456936 ], shape=(2,), dtype=float32)\n"
     ]
    }
   ],
   "source": [
    "tf.random.set_seed(0)\n",
    "v = tf.Variable(tf.random.normal((2,)))\n",
    "\n",
    "with tf.GradientTape(persistent=True) as tape:\n",
    "    y = tf.sin(v[0] + tf.cos(v[1]))\n",
    "    grad = tape.gradient(y, v)\n",
    "    hessian = tape.gradient(grad, v)\n",
    "    hessian0 = tape.gradient(grad[0], v)\n",
    "    hessian1 = tape.gradient(grad[1], v)\n",
    "\n",
    "print(hessian)\n",
    "print(hessian0)\n",
    "print(hessian1)\n",
    "print(hessian0 + hessian1)"
   ]
  },
  {
   "cell_type": "code",
   "execution_count": 11,
   "metadata": {
    "ExecuteTime": {
     "end_time": "2019-10-16T16:42:05.230966Z",
     "start_time": "2019-10-16T16:42:04.651820Z"
    },
    "scrolled": true
   },
   "outputs": [
    {
     "name": "stdout",
     "output_type": "stream",
     "text": [
      "tf.Tensor([-0.75270414  0.30892995], shape=(2,), dtype=float32)\n",
      "tf.Tensor([-0.38815078  0.8456935 ], shape=(2,), dtype=float32)\n",
      "tf.Tensor([-0.38815078  0.8456935 ], shape=(2,), dtype=float32)\n",
      "[<tf.Tensor: id=2411, shape=(), dtype=float32, numpy=-0.75270414>, <tf.Tensor: id=2412, shape=(), dtype=float32, numpy=0.30892995>]\n",
      "tf.Tensor([-0.38815078  0.8456935 ], shape=(2,), dtype=float32)\n"
     ]
    }
   ],
   "source": [
    "tf.random.set_seed(0)\n",
    "v = tf.Variable(tf.random.normal((2,)))\n",
    "\n",
    "with tf.GradientTape(persistent=True) as tape2:\n",
    "    with tf.GradientTape(persistent=True) as tape:\n",
    "        y = tf.sin(v[0] + tf.cos(v[1]))\n",
    "    jacobian = tape.jacobian(y, v)\n",
    "    print(jacobian)\n",
    "    print(tape2.gradient(jacobian, v))\n",
    "    j_t = tf.transpose(jacobian)\n",
    "    print(tape2.gradient(j_t, v))\n",
    "    j_unstacked = tf.unstack(jacobian)\n",
    "    print(j_unstacked)\n",
    "    print(tape2.gradient(j_unstacked, v))\n"
   ]
  },
  {
   "cell_type": "code",
   "execution_count": 12,
   "metadata": {
    "ExecuteTime": {
     "end_time": "2019-10-16T16:42:05.247704Z",
     "start_time": "2019-10-16T16:42:05.232728Z"
    }
   },
   "outputs": [
    {
     "name": "stdout",
     "output_type": "stream",
     "text": [
      "grad\n",
      "tf.Tensor([-0.75270414  0.30892995], shape=(2,), dtype=float32)\n",
      "hessian\n",
      "tf.Tensor([-0.38815078  0.8456935 ], shape=(2,), dtype=float32)\n"
     ]
    }
   ],
   "source": [
    "tf.random.set_seed(0)\n",
    "v = tf.Variable(tf.random.normal((2,)))\n",
    "with tf.GradientTape(persistent=True) as tape:\n",
    "    y = tf.sin(v[0] + tf.cos(v[1]))\n",
    "    grad = tape.gradient(y, v)\n",
    "\n",
    "hessian = tape.gradient(grad, v)\n",
    "\n",
    "print(\"grad\")\n",
    "print(grad)\n",
    "print(\"hessian\")\n",
    "print(hessian)"
   ]
  },
  {
   "cell_type": "code",
   "execution_count": 13,
   "metadata": {
    "ExecuteTime": {
     "end_time": "2019-10-16T16:42:05.278609Z",
     "start_time": "2019-10-16T16:42:05.249415Z"
    },
    "scrolled": true
   },
   "outputs": [
    {
     "name": "stdout",
     "output_type": "stream",
     "text": [
      "hessian: tf.Tensor([-0.38815078  0.8456935 ], shape=(2,), dtype=float32)\n",
      "hessian0: tf.Tensor([-0.65835893  0.27020815], shape=(2,), dtype=float32)\n",
      "hessian1: tf.Tensor([0.27020815 0.5754854 ], shape=(2,), dtype=float32)\n",
      "hessian0 + hessian1: tf.Tensor([-0.38815078  0.8456936 ], shape=(2,), dtype=float32)\n"
     ]
    }
   ],
   "source": [
    "tf.random.set_seed(0)\n",
    "v = tf.Variable(tf.random.normal((2,)))\n",
    "\n",
    "with tf.GradientTape(persistent=True) as tape:\n",
    "    y = tf.sin(v[0] + tf.cos(v[1]))\n",
    "    grad = tape.gradient(y, v)\n",
    "    hessian = tape.gradient(grad, v)\n",
    "    hessian0 = tape.gradient(grad[0], v)\n",
    "    hessian1 = tape.gradient(grad[1], v)\n",
    "    \n",
    "print(\"hessian:\", hessian)\n",
    "print(\"hessian0:\", hessian0)\n",
    "print(\"hessian1:\", hessian1)\n",
    "print(\"hessian0 + hessian1:\", hessian0 + hessian1)"
   ]
  },
  {
   "cell_type": "code",
   "execution_count": 14,
   "metadata": {
    "ExecuteTime": {
     "end_time": "2019-10-16T16:42:05.317803Z",
     "start_time": "2019-10-16T16:42:05.282598Z"
    },
    "scrolled": false
   },
   "outputs": [
    {
     "name": "stdout",
     "output_type": "stream",
     "text": [
      "grads [<tf.Tensor: id=2662, shape=(2,), dtype=float32, numpy=array([-0.75270414,  0.30892995], dtype=float32)>]\n",
      "hess0 [<tf.Tensor: id=2691, shape=(2,), dtype=float32, numpy=array([-0.65835893,  0.27020815], dtype=float32)>]\n",
      "hess1 [<tf.Tensor: id=2720, shape=(2,), dtype=float32, numpy=array([0.27020815, 0.5754854 ], dtype=float32)>]\n",
      "hessians [<tf.Tensor: id=2745, shape=(2,), dtype=float32, numpy=array([-0.38815078,  0.8456935 ], dtype=float32)>]\n"
     ]
    }
   ],
   "source": [
    "tf.random.set_seed(0)\n",
    "v = tf.Variable(tf.random.normal((2,)))\n",
    "\n",
    "with tf.GradientTape(persistent=True) as tape:\n",
    "    y = tf.sin(v[0] + tf.cos(v[1]))\n",
    "    grads = tape.gradient(y, [v])\n",
    "    print(\"grads\", grads)\n",
    "    hess0 = tape.gradient(grads[0][0], [v])\n",
    "    print(\"hess0\", hess0)\n",
    "    hess1 = tape.gradient(grads[0][1], [v])\n",
    "    print(\"hess1\", hess1)\n",
    "\n",
    "hessians = tape.gradient(grads[0], [v])\n",
    "print(\"hessians\", hessians)"
   ]
  },
  {
   "cell_type": "code",
   "execution_count": 15,
   "metadata": {
    "ExecuteTime": {
     "end_time": "2019-10-16T16:42:05.330646Z",
     "start_time": "2019-10-16T16:42:05.320299Z"
    }
   },
   "outputs": [],
   "source": [
    "def g(x):\n",
    "    return (x[0] + 3 * x[1]) ** 2"
   ]
  },
  {
   "cell_type": "code",
   "execution_count": 16,
   "metadata": {
    "ExecuteTime": {
     "end_time": "2019-10-16T16:42:05.902567Z",
     "start_time": "2019-10-16T16:42:05.333833Z"
    }
   },
   "outputs": [
    {
     "ename": "ValueError",
     "evalue": "Tape is already recording.",
     "output_type": "error",
     "traceback": [
      "\u001b[0;31m---------------------------------------------------------------------------\u001b[0m",
      "\u001b[0;31mValueError\u001b[0m                                Traceback (most recent call last)",
      "\u001b[0;32m<ipython-input-16-05abb3409928>\u001b[0m in \u001b[0;36m<module>\u001b[0;34m\u001b[0m\n\u001b[1;32m      4\u001b[0m \u001b[0;32mwith\u001b[0m \u001b[0mtf\u001b[0m\u001b[0;34m.\u001b[0m\u001b[0mGradientTape\u001b[0m\u001b[0;34m(\u001b[0m\u001b[0mpersistent\u001b[0m\u001b[0;34m=\u001b[0m\u001b[0;32mTrue\u001b[0m\u001b[0;34m)\u001b[0m \u001b[0;32mas\u001b[0m \u001b[0mtape\u001b[0m\u001b[0;34m:\u001b[0m\u001b[0;34m\u001b[0m\u001b[0;34m\u001b[0m\u001b[0m\n\u001b[1;32m      5\u001b[0m     \u001b[0my\u001b[0m \u001b[0;34m=\u001b[0m \u001b[0mg\u001b[0m\u001b[0;34m(\u001b[0m\u001b[0mv\u001b[0m\u001b[0;34m)\u001b[0m\u001b[0;34m\u001b[0m\u001b[0;34m\u001b[0m\u001b[0m\n\u001b[0;32m----> 6\u001b[0;31m     \u001b[0mjac\u001b[0m \u001b[0;34m=\u001b[0m \u001b[0mtape\u001b[0m\u001b[0;34m.\u001b[0m\u001b[0mjacobian\u001b[0m\u001b[0;34m(\u001b[0m\u001b[0my\u001b[0m\u001b[0;34m,\u001b[0m \u001b[0mv\u001b[0m\u001b[0;34m)\u001b[0m\u001b[0;34m\u001b[0m\u001b[0;34m\u001b[0m\u001b[0m\n\u001b[0m\u001b[1;32m      7\u001b[0m     \u001b[0mprint\u001b[0m\u001b[0;34m(\u001b[0m\u001b[0;34m\"jac\"\u001b[0m\u001b[0;34m,\u001b[0m \u001b[0mjac\u001b[0m\u001b[0;34m)\u001b[0m\u001b[0;34m\u001b[0m\u001b[0;34m\u001b[0m\u001b[0m\n\u001b[1;32m      8\u001b[0m \u001b[0;34m\u001b[0m\u001b[0m\n",
      "\u001b[0;32m~/.local/share/virtualenvs/ml-study-group-ExtSe04q/lib/python3.7/site-packages/tensorflow_core/python/eager/backprop.py\u001b[0m in \u001b[0;36mjacobian\u001b[0;34m(self, target, sources, unconnected_gradients, parallel_iterations, experimental_use_pfor)\u001b[0m\n\u001b[1;32m   1075\u001b[0m     \u001b[0;31m# Note that we push and pop the tape here and below. This is needed since we\u001b[0m\u001b[0;34m\u001b[0m\u001b[0;34m\u001b[0m\u001b[0;34m\u001b[0m\u001b[0m\n\u001b[1;32m   1076\u001b[0m     \u001b[0;31m# need gradients through the enclosed operations.\u001b[0m\u001b[0;34m\u001b[0m\u001b[0;34m\u001b[0m\u001b[0;34m\u001b[0m\u001b[0m\n\u001b[0;32m-> 1077\u001b[0;31m     \u001b[0mself\u001b[0m\u001b[0;34m.\u001b[0m\u001b[0m_push_tape\u001b[0m\u001b[0;34m(\u001b[0m\u001b[0;34m)\u001b[0m\u001b[0;34m\u001b[0m\u001b[0;34m\u001b[0m\u001b[0m\n\u001b[0m\u001b[1;32m   1078\u001b[0m     \u001b[0mtarget\u001b[0m \u001b[0;34m=\u001b[0m \u001b[0marray_ops\u001b[0m\u001b[0;34m.\u001b[0m\u001b[0mreshape\u001b[0m\u001b[0;34m(\u001b[0m\u001b[0mtarget\u001b[0m\u001b[0;34m,\u001b[0m \u001b[0;34m[\u001b[0m\u001b[0;34m-\u001b[0m\u001b[0;36m1\u001b[0m\u001b[0;34m]\u001b[0m\u001b[0;34m)\u001b[0m\u001b[0;34m\u001b[0m\u001b[0;34m\u001b[0m\u001b[0m\n\u001b[1;32m   1079\u001b[0m     \u001b[0mself\u001b[0m\u001b[0;34m.\u001b[0m\u001b[0m_pop_tape\u001b[0m\u001b[0;34m(\u001b[0m\u001b[0;34m)\u001b[0m\u001b[0;34m\u001b[0m\u001b[0;34m\u001b[0m\u001b[0m\n",
      "\u001b[0;32m~/.local/share/virtualenvs/ml-study-group-ExtSe04q/lib/python3.7/site-packages/tensorflow_core/python/eager/backprop.py\u001b[0m in \u001b[0;36m_push_tape\u001b[0;34m(self)\u001b[0m\n\u001b[1;32m    811\u001b[0m   \u001b[0;32mdef\u001b[0m \u001b[0m_push_tape\u001b[0m\u001b[0;34m(\u001b[0m\u001b[0mself\u001b[0m\u001b[0;34m)\u001b[0m\u001b[0;34m:\u001b[0m\u001b[0;34m\u001b[0m\u001b[0;34m\u001b[0m\u001b[0m\n\u001b[1;32m    812\u001b[0m     \u001b[0;32mif\u001b[0m \u001b[0mself\u001b[0m\u001b[0;34m.\u001b[0m\u001b[0m_recording\u001b[0m\u001b[0;34m:\u001b[0m\u001b[0;34m\u001b[0m\u001b[0;34m\u001b[0m\u001b[0m\n\u001b[0;32m--> 813\u001b[0;31m       \u001b[0;32mraise\u001b[0m \u001b[0mValueError\u001b[0m\u001b[0;34m(\u001b[0m\u001b[0;34m\"Tape is already recording.\"\u001b[0m\u001b[0;34m)\u001b[0m\u001b[0;34m\u001b[0m\u001b[0;34m\u001b[0m\u001b[0m\n\u001b[0m\u001b[1;32m    814\u001b[0m     \u001b[0;32mif\u001b[0m \u001b[0mself\u001b[0m\u001b[0;34m.\u001b[0m\u001b[0m_tape\u001b[0m \u001b[0;32mis\u001b[0m \u001b[0;32mNone\u001b[0m\u001b[0;34m:\u001b[0m\u001b[0;34m\u001b[0m\u001b[0;34m\u001b[0m\u001b[0m\n\u001b[1;32m    815\u001b[0m       self._tape = tape.push_new_tape(\n",
      "\u001b[0;31mValueError\u001b[0m: Tape is already recording."
     ]
    }
   ],
   "source": [
    "tf.random.set_seed(0)\n",
    "v = tf.Variable(tf.constant([1, 2], dtype=tf.dtypes.float32))\n",
    "\n",
    "with tf.GradientTape(persistent=True) as tape:\n",
    "    y = g(v)\n",
    "    jac = tape.jacobian(y, v)\n",
    "    print(\"jac\", jac)\n",
    "\n",
    "print(tape.gradient(jac, v))\n"
   ]
  },
  {
   "cell_type": "markdown",
   "metadata": {},
   "source": [
    "### did work, eventually"
   ]
  },
  {
   "cell_type": "code",
   "execution_count": 18,
   "metadata": {
    "ExecuteTime": {
     "end_time": "2019-10-16T16:42:49.117282Z",
     "start_time": "2019-10-16T16:42:48.682338Z"
    }
   },
   "outputs": [
    {
     "name": "stdout",
     "output_type": "stream",
     "text": [
      "grad tf.Tensor([14. 42.], shape=(2,), dtype=float32)\n",
      "None\n",
      "tf.Tensor([ 8. 24.], shape=(2,), dtype=float32)\n",
      "tf.Tensor(\n",
      "[[ 2.  6.]\n",
      " [ 6. 18.]], shape=(2, 2), dtype=float32)\n"
     ]
    }
   ],
   "source": [
    "tf.random.set_seed(0)\n",
    "v = tf.Variable(tf.constant([1, 2], dtype=tf.dtypes.float32))\n",
    "\n",
    "with tf.GradientTape(persistent=True) as tape:\n",
    "    y = g(v)\n",
    "    grad = tape.gradient(y, v)\n",
    "    print(\"grad\", grad)\n",
    "\n",
    "jacobian = tape.jacobian(y, v)\n",
    "print(tape.gradient(jacobian, v))\n",
    "print(tape.gradient(grad, v))\n",
    "print(tape.jacobian(grad, v))\n"
   ]
  },
  {
   "cell_type": "code",
   "execution_count": null,
   "metadata": {},
   "outputs": [],
   "source": []
  }
 ],
 "metadata": {
  "kernelspec": {
   "display_name": "Python 3",
   "language": "python",
   "name": "python3"
  },
  "language_info": {
   "codemirror_mode": {
    "name": "ipython",
    "version": 3
   },
   "file_extension": ".py",
   "mimetype": "text/x-python",
   "name": "python",
   "nbconvert_exporter": "python",
   "pygments_lexer": "ipython3",
   "version": "3.7.2"
  },
  "varInspector": {
   "cols": {
    "lenName": 16,
    "lenType": 16,
    "lenVar": 40
   },
   "kernels_config": {
    "python": {
     "delete_cmd_postfix": "",
     "delete_cmd_prefix": "del ",
     "library": "var_list.py",
     "varRefreshCmd": "print(var_dic_list())"
    },
    "r": {
     "delete_cmd_postfix": ") ",
     "delete_cmd_prefix": "rm(",
     "library": "var_list.r",
     "varRefreshCmd": "cat(var_dic_list()) "
    }
   },
   "types_to_exclude": [
    "module",
    "function",
    "builtin_function_or_method",
    "instance",
    "_Feature"
   ],
   "window_display": false
  }
 },
 "nbformat": 4,
 "nbformat_minor": 2
}

{
 "cells": [
  {
   "cell_type": "markdown",
   "metadata": {
    "colab_type": "text",
    "id": "view-in-github"
   },
   "source": [
    "<a href=\"https://colab.research.google.com/gist/grisaitis/0c59db12933b7f9537526bc37aa764cd/isl-ch-3-w-tensorflow.ipynb\" target=\"_parent\"><img src=\"https://colab.research.google.com/assets/colab-badge.svg\" alt=\"Open In Colab\"/></a>"
   ]
  },
  {
   "cell_type": "markdown",
   "metadata": {
    "colab_type": "text",
    "id": "GbR7xJLURudg"
   },
   "source": [
    "# Chapter 3 - Linear Regression"
   ]
  },
  {
   "cell_type": "code",
   "execution_count": 1,
   "metadata": {
    "colab": {
     "base_uri": "https://localhost:8080/",
     "height": 34
    },
    "colab_type": "code",
    "id": "Peq52XD7Rudj",
    "outputId": "2e835a1e-8078-4cbf-d4f4-ea4887323432"
   },
   "outputs": [
    {
     "data": {
      "text/plain": [
       "<Figure size 2160x1440 with 0 Axes>"
      ]
     },
     "metadata": {},
     "output_type": "display_data"
    }
   ],
   "source": [
    "import pandas as pd\n",
    "import numpy as np\n",
    "import matplotlib.pyplot as plt\n",
    "from mpl_toolkits.mplot3d import axes3d\n",
    "import seaborn as sns\n",
    "\n",
    "from sklearn.preprocessing import scale\n",
    "import sklearn.linear_model as skl_lm\n",
    "from sklearn.metrics import mean_squared_error, r2_score\n",
    "import statsmodels.api as sm\n",
    "import statsmodels.formula.api as smf\n",
    "\n",
    "import tensorflow as tf\n",
    "import tensorflow_probability as tfp\n",
    "\n",
    "%matplotlib inline\n",
    "plt.figure(figsize=(30, 20))\n",
    "plt.style.use('seaborn-white')"
   ]
  },
  {
   "cell_type": "markdown",
   "metadata": {
    "colab_type": "text",
    "id": "buNKMz0xRudn"
   },
   "source": [
    "## 3.1 - linear regression with one variable"
   ]
  },
  {
   "cell_type": "code",
   "execution_count": 2,
   "metadata": {
    "colab": {
     "base_uri": "https://localhost:8080/",
     "height": 170
    },
    "colab_type": "code",
    "id": "njvh05bcRudp",
    "outputId": "091ac1d1-57a5-480b-df6c-62c3d43a0f72"
   },
   "outputs": [
    {
     "name": "stdout",
     "output_type": "stream",
     "text": [
      "<class 'pandas.core.frame.DataFrame'>\n",
      "RangeIndex: 200 entries, 0 to 199\n",
      "Data columns (total 4 columns):\n",
      "TV           200 non-null float64\n",
      "radio        200 non-null float64\n",
      "newspaper    200 non-null float64\n",
      "sales        200 non-null float64\n",
      "dtypes: float64(4)\n",
      "memory usage: 6.4 KB\n"
     ]
    }
   ],
   "source": [
    "advertising = pd.read_csv('http://faculty.marshall.usc.edu/gareth-james/ISL/Advertising.csv', usecols=[1,2,3,4])\n",
    "advertising.info()"
   ]
  },
  {
   "cell_type": "code",
   "execution_count": 3,
   "metadata": {
    "colab": {
     "base_uri": "https://localhost:8080/",
     "height": 204
    },
    "colab_type": "code",
    "id": "9R15FV52Rudr",
    "outputId": "a1a731a2-08c9-4a7f-ec57-d23fa322807c"
   },
   "outputs": [
    {
     "data": {
      "text/html": [
       "<div>\n",
       "<style scoped>\n",
       "    .dataframe tbody tr th:only-of-type {\n",
       "        vertical-align: middle;\n",
       "    }\n",
       "\n",
       "    .dataframe tbody tr th {\n",
       "        vertical-align: top;\n",
       "    }\n",
       "\n",
       "    .dataframe thead th {\n",
       "        text-align: right;\n",
       "    }\n",
       "</style>\n",
       "<table border=\"1\" class=\"dataframe\">\n",
       "  <thead>\n",
       "    <tr style=\"text-align: right;\">\n",
       "      <th></th>\n",
       "      <th>TV</th>\n",
       "      <th>radio</th>\n",
       "      <th>newspaper</th>\n",
       "      <th>sales</th>\n",
       "    </tr>\n",
       "  </thead>\n",
       "  <tbody>\n",
       "    <tr>\n",
       "      <td>0</td>\n",
       "      <td>230.1</td>\n",
       "      <td>37.8</td>\n",
       "      <td>69.2</td>\n",
       "      <td>22.1</td>\n",
       "    </tr>\n",
       "    <tr>\n",
       "      <td>1</td>\n",
       "      <td>44.5</td>\n",
       "      <td>39.3</td>\n",
       "      <td>45.1</td>\n",
       "      <td>10.4</td>\n",
       "    </tr>\n",
       "    <tr>\n",
       "      <td>2</td>\n",
       "      <td>17.2</td>\n",
       "      <td>45.9</td>\n",
       "      <td>69.3</td>\n",
       "      <td>9.3</td>\n",
       "    </tr>\n",
       "    <tr>\n",
       "      <td>3</td>\n",
       "      <td>151.5</td>\n",
       "      <td>41.3</td>\n",
       "      <td>58.5</td>\n",
       "      <td>18.5</td>\n",
       "    </tr>\n",
       "    <tr>\n",
       "      <td>4</td>\n",
       "      <td>180.8</td>\n",
       "      <td>10.8</td>\n",
       "      <td>58.4</td>\n",
       "      <td>12.9</td>\n",
       "    </tr>\n",
       "  </tbody>\n",
       "</table>\n",
       "</div>"
      ],
      "text/plain": [
       "      TV  radio  newspaper  sales\n",
       "0  230.1   37.8       69.2   22.1\n",
       "1   44.5   39.3       45.1   10.4\n",
       "2   17.2   45.9       69.3    9.3\n",
       "3  151.5   41.3       58.5   18.5\n",
       "4  180.8   10.8       58.4   12.9"
      ]
     },
     "execution_count": 3,
     "metadata": {},
     "output_type": "execute_result"
    }
   ],
   "source": [
    "advertising.head()"
   ]
  },
  {
   "cell_type": "code",
   "execution_count": 4,
   "metadata": {
    "colab": {
     "base_uri": "https://localhost:8080/",
     "height": 102
    },
    "colab_type": "code",
    "id": "QcZ1OV-KRudt",
    "outputId": "7ecb3a03-3d80-4666-fe06-c373e12b4463"
   },
   "outputs": [
    {
     "data": {
      "text/plain": [
       "TV           230.1\n",
       "radio         37.8\n",
       "newspaper     69.2\n",
       "sales         22.1\n",
       "Name: 0, dtype: float64"
      ]
     },
     "execution_count": 4,
     "metadata": {},
     "output_type": "execute_result"
    }
   ],
   "source": [
    "advertising.iloc[0]"
   ]
  },
  {
   "cell_type": "markdown",
   "metadata": {
    "colab_type": "text",
    "id": "dzdBp486Rudw"
   },
   "source": [
    "### Figure 3.1"
   ]
  },
  {
   "cell_type": "code",
   "execution_count": 5,
   "metadata": {
    "colab": {
     "base_uri": "https://localhost:8080/",
     "height": 293
    },
    "colab_type": "code",
    "id": "ExqXq5CnRudx",
    "outputId": "412fe459-664c-48fe-d109-9ce455e84f32"
   },
   "outputs": [
    {
     "data": {
      "text/plain": [
       "<matplotlib.axes._subplots.AxesSubplot at 0x12c555320>"
      ]
     },
     "execution_count": 5,
     "metadata": {},
     "output_type": "execute_result"
    },
    {
     "data": {
      "image/png": "[encoded data removed]",
      "text/plain": [
       "<Figure size 432x288 with 1 Axes>"
      ]
     },
     "metadata": {
      "needs_background": "light"
     },
     "output_type": "display_data"
    }
   ],
   "source": [
    "sns.scatterplot(x=\"TV\", y=\"sales\", data=advertising)"
   ]
  },
  {
   "cell_type": "code",
   "execution_count": 6,
   "metadata": {
    "colab": {
     "base_uri": "https://localhost:8080/",
     "height": 363
    },
    "colab_type": "code",
    "id": "J3rAyTurT-zM",
    "outputId": "6172a516-ab19-4d6f-b651-98907f07abed"
   },
   "outputs": [
    {
     "data": {
      "application/vnd.vegalite.v3+json": {
       "$schema": "https://vega.github.io/schema/vega-lite/v3.4.0.json",
       "config": {
        "mark": {
         "tooltip": null
        },
        "view": {
         "height": 300,
         "width": 400
        }
       },
       "data": {
        "name": "data-a73a73df96d1b206fc48102ce5a80626"
       },
       "datasets": {
        "data-a73a73df96d1b206fc48102ce5a80626": [
         {
          "TV": 230.1,
          "newspaper": 69.2,
          "radio": 37.8,
          "sales": 22.1
         },
         {
          "TV": 44.5,
          "newspaper": 45.1,
          "radio": 39.3,
          "sales": 10.4
         },
         {
          "TV": 17.2,
          "newspaper": 69.3,
          "radio": 45.9,
          "sales": 9.3
         },
         {
          "TV": 151.5,
          "newspaper": 58.5,
          "radio": 41.3,
          "sales": 18.5
         },
         {
          "TV": 180.8,
          "newspaper": 58.4,
          "radio": 10.8,
          "sales": 12.9
         },
         {
          "TV": 8.7,
          "newspaper": 75,
          "radio": 48.9,
          "sales": 7.2
         },
         {
          "TV": 57.5,
          "newspaper": 23.5,
          "radio": 32.8,
          "sales": 11.8
         },
         {
          "TV": 120.2,
          "newspaper": 11.6,
          "radio": 19.6,
          "sales": 13.2
         },
         {
          "TV": 8.6,
          "newspaper": 1,
          "radio": 2.1,
          "sales": 4.8
         },
         {
          "TV": 199.8,
          "newspaper": 21.2,
          "radio": 2.6,
          "sales": 10.6
         },
         {
          "TV": 66.1,
          "newspaper": 24.2,
          "radio": 5.8,
          "sales": 8.6
         },
         {
          "TV": 214.7,
          "newspaper": 4,
          "radio": 24,
          "sales": 17.4
         },
         {
          "TV": 23.8,
          "newspaper": 65.9,
          "radio": 35.1,
          "sales": 9.2
         },
         {
          "TV": 97.5,
          "newspaper": 7.2,
          "radio": 7.6,
          "sales": 9.7
         },
         {
          "TV": 204.1,
          "newspaper": 46,
          "radio": 32.9,
          "sales": 19
         },
         {
          "TV": 195.4,
          "newspaper": 52.9,
          "radio": 47.7,
          "sales": 22.4
         },
         {
          "TV": 67.8,
          "newspaper": 114,
          "radio": 36.6,
          "sales": 12.5
         },
         {
          "TV": 281.4,
          "newspaper": 55.8,
          "radio": 39.6,
          "sales": 24.4
         },
         {
          "TV": 69.2,
          "newspaper": 18.3,
          "radio": 20.5,
          "sales": 11.3
         },
         {
          "TV": 147.3,
          "newspaper": 19.1,
          "radio": 23.9,
          "sales": 14.6
         },
         {
          "TV": 218.4,
          "newspaper": 53.4,
          "radio": 27.7,
          "sales": 18
         },
         {
          "TV": 237.4,
          "newspaper": 23.5,
          "radio": 5.1,
          "sales": 12.5
         },
         {
          "TV": 13.2,
          "newspaper": 49.6,
          "radio": 15.9,
          "sales": 5.6
         },
         {
          "TV": 228.3,
          "newspaper": 26.2,
          "radio": 16.9,
          "sales": 15.5
         },
         {
          "TV": 62.3,
          "newspaper": 18.3,
          "radio": 12.6,
          "sales": 9.7
         },
         {
          "TV": 262.9,
          "newspaper": 19.5,
          "radio": 3.5,
          "sales": 12
         },
         {
          "TV": 142.9,
          "newspaper": 12.6,
          "radio": 29.3,
          "sales": 15
         },
         {
          "TV": 240.1,
          "newspaper": 22.9,
          "radio": 16.7,
          "sales": 15.9
         },
         {
          "TV": 248.8,
          "newspaper": 22.9,
          "radio": 27.1,
          "sales": 18.9
         },
         {
          "TV": 70.6,
          "newspaper": 40.8,
          "radio": 16,
          "sales": 10.5
         },
         {
          "TV": 292.9,
          "newspaper": 43.2,
          "radio": 28.3,
          "sales": 21.4
         },
         {
          "TV": 112.9,
          "newspaper": 38.6,
          "radio": 17.4,
          "sales": 11.9
         },
         {
          "TV": 97.2,
          "newspaper": 30,
          "radio": 1.5,
          "sales": 9.6
         },
         {
          "TV": 265.6,
          "newspaper": 0.3,
          "radio": 20,
          "sales": 17.4
         },
         {
          "TV": 95.7,
          "newspaper": 7.4,
          "radio": 1.4,
          "sales": 9.5
         },
         {
          "TV": 290.7,
          "newspaper": 8.5,
          "radio": 4.1,
          "sales": 12.8
         },
         {
          "TV": 266.9,
          "newspaper": 5,
          "radio": 43.8,
          "sales": 25.4
         },
         {
          "TV": 74.7,
          "newspaper": 45.7,
          "radio": 49.4,
          "sales": 14.7
         },
         {
          "TV": 43.1,
          "newspaper": 35.1,
          "radio": 26.7,
          "sales": 10.1
         },
         {
          "TV": 228,
          "newspaper": 32,
          "radio": 37.7,
          "sales": 21.5
         },
         {
          "TV": 202.5,
          "newspaper": 31.6,
          "radio": 22.3,
          "sales": 16.6
         },
         {
          "TV": 177,
          "newspaper": 38.7,
          "radio": 33.4,
          "sales": 17.1
         },
         {
          "TV": 293.6,
          "newspaper": 1.8,
          "radio": 27.7,
          "sales": 20.7
         },
         {
          "TV": 206.9,
          "newspaper": 26.4,
          "radio": 8.4,
          "sales": 12.9
         },
         {
          "TV": 25.1,
          "newspaper": 43.3,
          "radio": 25.7,
          "sales": 8.5
         },
         {
          "TV": 175.1,
          "newspaper": 31.5,
          "radio": 22.5,
          "sales": 14.9
         },
         {
          "TV": 89.7,
          "newspaper": 35.7,
          "radio": 9.9,
          "sales": 10.6
         },
         {
          "TV": 239.9,
          "newspaper": 18.5,
          "radio": 41.5,
          "sales": 23.2
         },
         {
          "TV": 227.2,
          "newspaper": 49.9,
          "radio": 15.8,
          "sales": 14.8
         },
         {
          "TV": 66.9,
          "newspaper": 36.8,
          "radio": 11.7,
          "sales": 9.7
         },
         {
          "TV": 199.8,
          "newspaper": 34.6,
          "radio": 3.1,
          "sales": 11.4
         },
         {
          "TV": 100.4,
          "newspaper": 3.6,
          "radio": 9.6,
          "sales": 10.7
         },
         {
          "TV": 216.4,
          "newspaper": 39.6,
          "radio": 41.7,
          "sales": 22.6
         },
         {
          "TV": 182.6,
          "newspaper": 58.7,
          "radio": 46.2,
          "sales": 21.2
         },
         {
          "TV": 262.7,
          "newspaper": 15.9,
          "radio": 28.8,
          "sales": 20.2
         },
         {
          "TV": 198.9,
          "newspaper": 60,
          "radio": 49.4,
          "sales": 23.7
         },
         {
          "TV": 7.3,
          "newspaper": 41.4,
          "radio": 28.1,
          "sales": 5.5
         },
         {
          "TV": 136.2,
          "newspaper": 16.6,
          "radio": 19.2,
          "sales": 13.2
         },
         {
          "TV": 210.8,
          "newspaper": 37.7,
          "radio": 49.6,
          "sales": 23.8
         },
         {
          "TV": 210.7,
          "newspaper": 9.3,
          "radio": 29.5,
          "sales": 18.4
         },
         {
          "TV": 53.5,
          "newspaper": 21.4,
          "radio": 2,
          "sales": 8.1
         },
         {
          "TV": 261.3,
          "newspaper": 54.7,
          "radio": 42.7,
          "sales": 24.2
         },
         {
          "TV": 239.3,
          "newspaper": 27.3,
          "radio": 15.5,
          "sales": 15.7
         },
         {
          "TV": 102.7,
          "newspaper": 8.4,
          "radio": 29.6,
          "sales": 14
         },
         {
          "TV": 131.1,
          "newspaper": 28.9,
          "radio": 42.8,
          "sales": 18
         },
         {
          "TV": 69,
          "newspaper": 0.9,
          "radio": 9.3,
          "sales": 9.3
         },
         {
          "TV": 31.5,
          "newspaper": 2.2,
          "radio": 24.6,
          "sales": 9.5
         },
         {
          "TV": 139.3,
          "newspaper": 10.2,
          "radio": 14.5,
          "sales": 13.4
         },
         {
          "TV": 237.4,
          "newspaper": 11,
          "radio": 27.5,
          "sales": 18.9
         },
         {
          "TV": 216.8,
          "newspaper": 27.2,
          "radio": 43.9,
          "sales": 22.3
         },
         {
          "TV": 199.1,
          "newspaper": 38.7,
          "radio": 30.6,
          "sales": 18.3
         },
         {
          "TV": 109.8,
          "newspaper": 31.7,
          "radio": 14.3,
          "sales": 12.4
         },
         {
          "TV": 26.8,
          "newspaper": 19.3,
          "radio": 33,
          "sales": 8.8
         },
         {
          "TV": 129.4,
          "newspaper": 31.3,
          "radio": 5.7,
          "sales": 11
         },
         {
          "TV": 213.4,
          "newspaper": 13.1,
          "radio": 24.6,
          "sales": 17
         },
         {
          "TV": 16.9,
          "newspaper": 89.4,
          "radio": 43.7,
          "sales": 8.7
         },
         {
          "TV": 27.5,
          "newspaper": 20.7,
          "radio": 1.6,
          "sales": 6.9
         },
         {
          "TV": 120.5,
          "newspaper": 14.2,
          "radio": 28.5,
          "sales": 14.2
         },
         {
          "TV": 5.4,
          "newspaper": 9.4,
          "radio": 29.9,
          "sales": 5.3
         },
         {
          "TV": 116,
          "newspaper": 23.1,
          "radio": 7.7,
          "sales": 11
         },
         {
          "TV": 76.4,
          "newspaper": 22.3,
          "radio": 26.7,
          "sales": 11.8
         },
         {
          "TV": 239.8,
          "newspaper": 36.9,
          "radio": 4.1,
          "sales": 12.3
         },
         {
          "TV": 75.3,
          "newspaper": 32.5,
          "radio": 20.3,
          "sales": 11.3
         },
         {
          "TV": 68.4,
          "newspaper": 35.6,
          "radio": 44.5,
          "sales": 13.6
         },
         {
          "TV": 213.5,
          "newspaper": 33.8,
          "radio": 43,
          "sales": 21.7
         },
         {
          "TV": 193.2,
          "newspaper": 65.7,
          "radio": 18.4,
          "sales": 15.2
         },
         {
          "TV": 76.3,
          "newspaper": 16,
          "radio": 27.5,
          "sales": 12
         },
         {
          "TV": 110.7,
          "newspaper": 63.2,
          "radio": 40.6,
          "sales": 16
         },
         {
          "TV": 88.3,
          "newspaper": 73.4,
          "radio": 25.5,
          "sales": 12.9
         },
         {
          "TV": 109.8,
          "newspaper": 51.4,
          "radio": 47.8,
          "sales": 16.7
         },
         {
          "TV": 134.3,
          "newspaper": 9.3,
          "radio": 4.9,
          "sales": 11.2
         },
         {
          "TV": 28.6,
          "newspaper": 33,
          "radio": 1.5,
          "sales": 7.3
         },
         {
          "TV": 217.7,
          "newspaper": 59,
          "radio": 33.5,
          "sales": 19.4
         },
         {
          "TV": 250.9,
          "newspaper": 72.3,
          "radio": 36.5,
          "sales": 22.2
         },
         {
          "TV": 107.4,
          "newspaper": 10.9,
          "radio": 14,
          "sales": 11.5
         },
         {
          "TV": 163.3,
          "newspaper": 52.9,
          "radio": 31.6,
          "sales": 16.9
         },
         {
          "TV": 197.6,
          "newspaper": 5.9,
          "radio": 3.5,
          "sales": 11.7
         },
         {
          "TV": 184.9,
          "newspaper": 22,
          "radio": 21,
          "sales": 15.5
         },
         {
          "TV": 289.7,
          "newspaper": 51.2,
          "radio": 42.3,
          "sales": 25.4
         },
         {
          "TV": 135.2,
          "newspaper": 45.9,
          "radio": 41.7,
          "sales": 17.2
         },
         {
          "TV": 222.4,
          "newspaper": 49.8,
          "radio": 4.3,
          "sales": 11.7
         },
         {
          "TV": 296.4,
          "newspaper": 100.9,
          "radio": 36.3,
          "sales": 23.8
         },
         {
          "TV": 280.2,
          "newspaper": 21.4,
          "radio": 10.1,
          "sales": 14.8
         },
         {
          "TV": 187.9,
          "newspaper": 17.9,
          "radio": 17.2,
          "sales": 14.7
         },
         {
          "TV": 238.2,
          "newspaper": 5.3,
          "radio": 34.3,
          "sales": 20.7
         },
         {
          "TV": 137.9,
          "newspaper": 59,
          "radio": 46.4,
          "sales": 19.2
         },
         {
          "TV": 25,
          "newspaper": 29.7,
          "radio": 11,
          "sales": 7.2
         },
         {
          "TV": 90.4,
          "newspaper": 23.2,
          "radio": 0.3,
          "sales": 8.7
         },
         {
          "TV": 13.1,
          "newspaper": 25.6,
          "radio": 0.4,
          "sales": 5.3
         },
         {
          "TV": 255.4,
          "newspaper": 5.5,
          "radio": 26.9,
          "sales": 19.8
         },
         {
          "TV": 225.8,
          "newspaper": 56.5,
          "radio": 8.2,
          "sales": 13.4
         },
         {
          "TV": 241.7,
          "newspaper": 23.2,
          "radio": 38,
          "sales": 21.8
         },
         {
          "TV": 175.7,
          "newspaper": 2.4,
          "radio": 15.4,
          "sales": 14.1
         },
         {
          "TV": 209.6,
          "newspaper": 10.7,
          "radio": 20.6,
          "sales": 15.9
         },
         {
          "TV": 78.2,
          "newspaper": 34.5,
          "radio": 46.8,
          "sales": 14.6
         },
         {
          "TV": 75.1,
          "newspaper": 52.7,
          "radio": 35,
          "sales": 12.6
         },
         {
          "TV": 139.2,
          "newspaper": 25.6,
          "radio": 14.3,
          "sales": 12.2
         },
         {
          "TV": 76.4,
          "newspaper": 14.8,
          "radio": 0.8,
          "sales": 9.4
         },
         {
          "TV": 125.7,
          "newspaper": 79.2,
          "radio": 36.9,
          "sales": 15.9
         },
         {
          "TV": 19.4,
          "newspaper": 22.3,
          "radio": 16,
          "sales": 6.6
         },
         {
          "TV": 141.3,
          "newspaper": 46.2,
          "radio": 26.8,
          "sales": 15.5
         },
         {
          "TV": 18.8,
          "newspaper": 50.4,
          "radio": 21.7,
          "sales": 7
         },
         {
          "TV": 224,
          "newspaper": 15.6,
          "radio": 2.4,
          "sales": 11.6
         },
         {
          "TV": 123.1,
          "newspaper": 12.4,
          "radio": 34.6,
          "sales": 15.2
         },
         {
          "TV": 229.5,
          "newspaper": 74.2,
          "radio": 32.3,
          "sales": 19.7
         },
         {
          "TV": 87.2,
          "newspaper": 25.9,
          "radio": 11.8,
          "sales": 10.6
         },
         {
          "TV": 7.8,
          "newspaper": 50.6,
          "radio": 38.9,
          "sales": 6.6
         },
         {
          "TV": 80.2,
          "newspaper": 9.2,
          "radio": 0,
          "sales": 8.8
         },
         {
          "TV": 220.3,
          "newspaper": 3.2,
          "radio": 49,
          "sales": 24.7
         },
         {
          "TV": 59.6,
          "newspaper": 43.1,
          "radio": 12,
          "sales": 9.7
         },
         {
          "TV": 0.7,
          "newspaper": 8.7,
          "radio": 39.6,
          "sales": 1.6
         },
         {
          "TV": 265.2,
          "newspaper": 43,
          "radio": 2.9,
          "sales": 12.7
         },
         {
          "TV": 8.4,
          "newspaper": 2.1,
          "radio": 27.2,
          "sales": 5.7
         },
         {
          "TV": 219.8,
          "newspaper": 45.1,
          "radio": 33.5,
          "sales": 19.6
         },
         {
          "TV": 36.9,
          "newspaper": 65.6,
          "radio": 38.6,
          "sales": 10.8
         },
         {
          "TV": 48.3,
          "newspaper": 8.5,
          "radio": 47,
          "sales": 11.6
         },
         {
          "TV": 25.6,
          "newspaper": 9.3,
          "radio": 39,
          "sales": 9.5
         },
         {
          "TV": 273.7,
          "newspaper": 59.7,
          "radio": 28.9,
          "sales": 20.8
         },
         {
          "TV": 43,
          "newspaper": 20.5,
          "radio": 25.9,
          "sales": 9.6
         },
         {
          "TV": 184.9,
          "newspaper": 1.7,
          "radio": 43.9,
          "sales": 20.7
         },
         {
          "TV": 73.4,
          "newspaper": 12.9,
          "radio": 17,
          "sales": 10.9
         },
         {
          "TV": 193.7,
          "newspaper": 75.6,
          "radio": 35.4,
          "sales": 19.2
         },
         {
          "TV": 220.5,
          "newspaper": 37.9,
          "radio": 33.2,
          "sales": 20.1
         },
         {
          "TV": 104.6,
          "newspaper": 34.4,
          "radio": 5.7,
          "sales": 10.4
         },
         {
          "TV": 96.2,
          "newspaper": 38.9,
          "radio": 14.8,
          "sales": 11.4
         },
         {
          "TV": 140.3,
          "newspaper": 9,
          "radio": 1.9,
          "sales": 10.3
         },
         {
          "TV": 240.1,
          "newspaper": 8.7,
          "radio": 7.3,
          "sales": 13.2
         },
         {
          "TV": 243.2,
          "newspaper": 44.3,
          "radio": 49,
          "sales": 25.4
         },
         {
          "TV": 38,
          "newspaper": 11.9,
          "radio": 40.3,
          "sales": 10.9
         },
         {
          "TV": 44.7,
          "newspaper": 20.6,
          "radio": 25.8,
          "sales": 10.1
         },
         {
          "TV": 280.7,
          "newspaper": 37,
          "radio": 13.9,
          "sales": 16.1
         },
         {
          "TV": 121,
          "newspaper": 48.7,
          "radio": 8.4,
          "sales": 11.6
         },
         {
          "TV": 197.6,
          "newspaper": 14.2,
          "radio": 23.3,
          "sales": 16.6
         },
         {
          "TV": 171.3,
          "newspaper": 37.7,
          "radio": 39.7,
          "sales": 19
         },
         {
          "TV": 187.8,
          "newspaper": 9.5,
          "radio": 21.1,
          "sales": 15.6
         },
         {
          "TV": 4.1,
          "newspaper": 5.7,
          "radio": 11.6,
          "sales": 3.2
         },
         {
          "TV": 93.9,
          "newspaper": 50.5,
          "radio": 43.5,
          "sales": 15.3
         },
         {
          "TV": 149.8,
          "newspaper": 24.3,
          "radio": 1.3,
          "sales": 10.1
         },
         {
          "TV": 11.7,
          "newspaper": 45.2,
          "radio": 36.9,
          "sales": 7.3
         },
         {
          "TV": 131.7,
          "newspaper": 34.6,
          "radio": 18.4,
          "sales": 12.9
         },
         {
          "TV": 172.5,
          "newspaper": 30.7,
          "radio": 18.1,
          "sales": 14.4
         },
         {
          "TV": 85.7,
          "newspaper": 49.3,
          "radio": 35.8,
          "sales": 13.3
         },
         {
          "TV": 188.4,
          "newspaper": 25.6,
          "radio": 18.1,
          "sales": 14.9
         },
         {
          "TV": 163.5,
          "newspaper": 7.4,
          "radio": 36.8,
          "sales": 18
         },
         {
          "TV": 117.2,
          "newspaper": 5.4,
          "radio": 14.7,
          "sales": 11.9
         },
         {
          "TV": 234.5,
          "newspaper": 84.8,
          "radio": 3.4,
          "sales": 11.9
         },
         {
          "TV": 17.9,
          "newspaper": 21.6,
          "radio": 37.6,
          "sales": 8
         },
         {
          "TV": 206.8,
          "newspaper": 19.4,
          "radio": 5.2,
          "sales": 12.2
         },
         {
          "TV": 215.4,
          "newspaper": 57.6,
          "radio": 23.6,
          "sales": 17.1
         },
         {
          "TV": 284.3,
          "newspaper": 6.4,
          "radio": 10.6,
          "sales": 15
         },
         {
          "TV": 50,
          "newspaper": 18.4,
          "radio": 11.6,
          "sales": 8.4
         },
         {
          "TV": 164.5,
          "newspaper": 47.4,
          "radio": 20.9,
          "sales": 14.5
         },
         {
          "TV": 19.6,
          "newspaper": 17,
          "radio": 20.1,
          "sales": 7.6
         },
         {
          "TV": 168.4,
          "newspaper": 12.8,
          "radio": 7.1,
          "sales": 11.7
         },
         {
          "TV": 222.4,
          "newspaper": 13.1,
          "radio": 3.4,
          "sales": 11.5
         },
         {
          "TV": 276.9,
          "newspaper": 41.8,
          "radio": 48.9,
          "sales": 27
         },
         {
          "TV": 248.4,
          "newspaper": 20.3,
          "radio": 30.2,
          "sales": 20.2
         },
         {
          "TV": 170.2,
          "newspaper": 35.2,
          "radio": 7.8,
          "sales": 11.7
         },
         {
          "TV": 276.7,
          "newspaper": 23.7,
          "radio": 2.3,
          "sales": 11.8
         },
         {
          "TV": 165.6,
          "newspaper": 17.6,
          "radio": 10,
          "sales": 12.6
         },
         {
          "TV": 156.6,
          "newspaper": 8.3,
          "radio": 2.6,
          "sales": 10.5
         },
         {
          "TV": 218.5,
          "newspaper": 27.4,
          "radio": 5.4,
          "sales": 12.2
         },
         {
          "TV": 56.2,
          "newspaper": 29.7,
          "radio": 5.7,
          "sales": 8.7
         },
         {
          "TV": 287.6,
          "newspaper": 71.8,
          "radio": 43,
          "sales": 26.2
         },
         {
          "TV": 253.8,
          "newspaper": 30,
          "radio": 21.3,
          "sales": 17.6
         },
         {
          "TV": 205,
          "newspaper": 19.6,
          "radio": 45.1,
          "sales": 22.6
         },
         {
          "TV": 139.5,
          "newspaper": 26.6,
          "radio": 2.1,
          "sales": 10.3
         },
         {
          "TV": 191.1,
          "newspaper": 18.2,
          "radio": 28.7,
          "sales": 17.3
         },
         {
          "TV": 286,
          "newspaper": 3.7,
          "radio": 13.9,
          "sales": 15.9
         },
         {
          "TV": 18.7,
          "newspaper": 23.4,
          "radio": 12.1,
          "sales": 6.7
         },
         {
          "TV": 39.5,
          "newspaper": 5.8,
          "radio": 41.1,
          "sales": 10.8
         },
         {
          "TV": 75.5,
          "newspaper": 6,
          "radio": 10.8,
          "sales": 9.9
         },
         {
          "TV": 17.2,
          "newspaper": 31.6,
          "radio": 4.1,
          "sales": 5.9
         },
         {
          "TV": 166.8,
          "newspaper": 3.6,
          "radio": 42,
          "sales": 19.6
         },
         {
          "TV": 149.7,
          "newspaper": 6,
          "radio": 35.6,
          "sales": 17.3
         },
         {
          "TV": 38.2,
          "newspaper": 13.8,
          "radio": 3.7,
          "sales": 7.6
         },
         {
          "TV": 94.2,
          "newspaper": 8.1,
          "radio": 4.9,
          "sales": 9.7
         },
         {
          "TV": 177,
          "newspaper": 6.4,
          "radio": 9.3,
          "sales": 12.8
         },
         {
          "TV": 283.6,
          "newspaper": 66.2,
          "radio": 42,
          "sales": 25.5
         },
         {
          "TV": 232.1,
          "newspaper": 8.7,
          "radio": 8.6,
          "sales": 13.4
         }
        ]
       },
       "encoding": {
        "x": {
         "field": "TV",
         "type": "quantitative"
        },
        "y": {
         "field": "sales",
         "type": "quantitative"
        }
       },
       "mark": "point",
       "selection": {
        "selector001": {
         "bind": "scales",
         "encodings": [
          "x",
          "y"
         ],
         "type": "interval"
        }
       }
      },
      "text/plain": [
       "<VegaLite 3 object>\n",
       "\n",
       "If you see this message, it means the renderer has not been properly enabled\n",
       "for the frontend that you are using. For more information, see\n",
       "https://altair-viz.github.io/user_guide/troubleshooting.html\n"
      ]
     },
     "execution_count": 6,
     "metadata": {},
     "output_type": "execute_result"
    }
   ],
   "source": [
    "import altair as alt\n",
    "alt.Chart(advertising).mark_point().encode(\n",
    "  x='TV',\n",
    "  y='sales'\n",
    ").interactive()"
   ]
  },
  {
   "cell_type": "markdown",
   "metadata": {
    "colab_type": "text",
    "id": "IRpzDv1wRud6"
   },
   "source": [
    "### Model"
   ]
  },
  {
   "cell_type": "code",
   "execution_count": 7,
   "metadata": {
    "colab": {
     "base_uri": "https://localhost:8080/",
     "height": 34
    },
    "colab_type": "code",
    "id": "6Ia8oB6wRud7",
    "outputId": "ce9a8471-ce72-4443-bef0-0b37a954a5d0"
   },
   "outputs": [
    {
     "data": {
      "text/plain": [
       "((200, 1), (200,))"
      ]
     },
     "execution_count": 7,
     "metadata": {},
     "output_type": "execute_result"
    }
   ],
   "source": [
    "X = advertising['TV'][:, None]\n",
    "y = advertising['sales']\n",
    "X.shape, y.shape"
   ]
  },
  {
   "cell_type": "code",
   "execution_count": 8,
   "metadata": {
    "colab": {},
    "colab_type": "code",
    "id": "aJ_wCKwlRud9"
   },
   "outputs": [],
   "source": [
    "lr = skl_lm.LinearRegression(fit_intercept=True)"
   ]
  },
  {
   "cell_type": "code",
   "execution_count": 9,
   "metadata": {
    "colab": {
     "base_uri": "https://localhost:8080/",
     "height": 34
    },
    "colab_type": "code",
    "id": "dobugNDoRud_",
    "outputId": "9750d156-5569-402a-ba2a-d3f83acdbb02"
   },
   "outputs": [
    {
     "data": {
      "text/plain": [
       "LinearRegression(copy_X=True, fit_intercept=True, n_jobs=None, normalize=False)"
      ]
     },
     "execution_count": 9,
     "metadata": {},
     "output_type": "execute_result"
    }
   ],
   "source": [
    "lr.fit(X, y)"
   ]
  },
  {
   "cell_type": "code",
   "execution_count": 10,
   "metadata": {
    "colab": {},
    "colab_type": "code",
    "id": "AWc-h4VlRueB"
   },
   "outputs": [],
   "source": [
    "advertising[\"lr_predict\"] = lr.predict(X)"
   ]
  },
  {
   "cell_type": "code",
   "execution_count": 11,
   "metadata": {
    "colab": {
     "base_uri": "https://localhost:8080/",
     "height": 204
    },
    "colab_type": "code",
    "id": "pamG6afcRueF",
    "outputId": "80abd1bf-82a1-4037-f6db-b4a8f280fc6f"
   },
   "outputs": [
    {
     "data": {
      "text/html": [
       "<div>\n",
       "<style scoped>\n",
       "    .dataframe tbody tr th:only-of-type {\n",
       "        vertical-align: middle;\n",
       "    }\n",
       "\n",
       "    .dataframe tbody tr th {\n",
       "        vertical-align: top;\n",
       "    }\n",
       "\n",
       "    .dataframe thead th {\n",
       "        text-align: right;\n",
       "    }\n",
       "</style>\n",
       "<table border=\"1\" class=\"dataframe\">\n",
       "  <thead>\n",
       "    <tr style=\"text-align: right;\">\n",
       "      <th></th>\n",
       "      <th>sales</th>\n",
       "      <th>lr_predict</th>\n",
       "    </tr>\n",
       "  </thead>\n",
       "  <tbody>\n",
       "    <tr>\n",
       "      <td>0</td>\n",
       "      <td>22.1</td>\n",
       "      <td>17.970775</td>\n",
       "    </tr>\n",
       "    <tr>\n",
       "      <td>1</td>\n",
       "      <td>10.4</td>\n",
       "      <td>9.147974</td>\n",
       "    </tr>\n",
       "    <tr>\n",
       "      <td>2</td>\n",
       "      <td>9.3</td>\n",
       "      <td>7.850224</td>\n",
       "    </tr>\n",
       "    <tr>\n",
       "      <td>3</td>\n",
       "      <td>18.5</td>\n",
       "      <td>14.234395</td>\n",
       "    </tr>\n",
       "    <tr>\n",
       "      <td>4</td>\n",
       "      <td>12.9</td>\n",
       "      <td>15.627218</td>\n",
       "    </tr>\n",
       "  </tbody>\n",
       "</table>\n",
       "</div>"
      ],
      "text/plain": [
       "   sales  lr_predict\n",
       "0   22.1   17.970775\n",
       "1   10.4    9.147974\n",
       "2    9.3    7.850224\n",
       "3   18.5   14.234395\n",
       "4   12.9   15.627218"
      ]
     },
     "execution_count": 11,
     "metadata": {},
     "output_type": "execute_result"
    }
   ],
   "source": [
    "advertising[[\"sales\", \"lr_predict\"]].head()"
   ]
  },
  {
   "cell_type": "markdown",
   "metadata": {
    "colab_type": "text",
    "id": "HNijnuH_RueI"
   },
   "source": [
    "#### Plot results"
   ]
  },
  {
   "cell_type": "code",
   "execution_count": 12,
   "metadata": {
    "colab": {
     "base_uri": "https://localhost:8080/",
     "height": 276
    },
    "colab_type": "code",
    "id": "UrwLBFw5RueI",
    "outputId": "215de8b7-65e9-4b06-f1f0-28158988b3fc"
   },
   "outputs": [
    {
     "data": {
      "image/png": "[encoded data removed]",
      "text/plain": [
       "<Figure size 432x288 with 1 Axes>"
      ]
     },
     "metadata": {
      "needs_background": "light"
     },
     "output_type": "display_data"
    }
   ],
   "source": [
    "ax = advertising.plot(kind='scatter', x='TV', y='sales', color='b')\n",
    "ax = advertising.plot(ax=ax, kind='line', x='TV', y='lr_predict', color='r')"
   ]
  },
  {
   "cell_type": "code",
   "execution_count": 13,
   "metadata": {
    "colab": {
     "base_uri": "https://localhost:8080/",
     "height": 363
    },
    "colab_type": "code",
    "id": "xJ8d7-k_Uryf",
    "outputId": "0401124d-2ae0-4208-bebb-dff56cf591a2"
   },
   "outputs": [
    {
     "data": {
      "application/vnd.vegalite.v3+json": {
       "$schema": "https://vega.github.io/schema/vega-lite/v3.4.0.json",
       "config": {
        "mark": {
         "tooltip": null
        },
        "view": {
         "height": 300,
         "width": 400
        }
       },
       "data": {
        "name": "data-1526d6976bd288cf311efed38a6b53c3"
       },
       "datasets": {
        "data-1526d6976bd288cf311efed38a6b53c3": [
         {
          "TV": 230.1,
          "lr_predict": 17.970774512765537,
          "newspaper": 69.2,
          "radio": 37.8,
          "sales": 22.1
         },
         {
          "TV": 44.5,
          "lr_predict": 9.147974048397074,
          "newspaper": 45.1,
          "radio": 39.3,
          "sales": 10.4
         },
         {
          "TV": 17.2,
          "lr_predict": 7.8502237645756345,
          "newspaper": 69.3,
          "radio": 45.9,
          "sales": 9.3
         },
         {
          "TV": 151.5,
          "lr_predict": 14.234394574730187,
          "newspaper": 58.5,
          "radio": 41.3,
          "sales": 18.5
         },
         {
          "TV": 180.8,
          "lr_predict": 15.627218139417666,
          "newspaper": 58.4,
          "radio": 10.8,
          "sales": 12.9
         },
         {
          "TV": 8.7,
          "lr_predict": 7.446162320894967,
          "newspaper": 75,
          "radio": 48.9,
          "sales": 7.2
         },
         {
          "TV": 57.5,
          "lr_predict": 9.76595037402633,
          "newspaper": 23.5,
          "radio": 32.8,
          "sales": 11.8
         },
         {
          "TV": 120.2,
          "lr_predict": 12.746497729176669,
          "newspaper": 11.6,
          "radio": 19.6,
          "sales": 13.2
         },
         {
          "TV": 8.6,
          "lr_predict": 7.441408656851665,
          "newspaper": 1,
          "radio": 2.1,
          "sales": 4.8
         },
         {
          "TV": 199.8,
          "lr_predict": 16.53041430764504,
          "newspaper": 21.2,
          "radio": 2.6,
          "sales": 10.6
         },
         {
          "TV": 66.1,
          "lr_predict": 10.174765481750299,
          "newspaper": 24.2,
          "radio": 5.8,
          "sales": 8.6
         },
         {
          "TV": 214.7,
          "lr_predict": 17.238710250097036,
          "newspaper": 4,
          "radio": 24,
          "sales": 17.4
         },
         {
          "TV": 23.8,
          "lr_predict": 8.163965591433564,
          "newspaper": 65.9,
          "radio": 35.1,
          "sales": 9.2
         },
         {
          "TV": 97.5,
          "lr_predict": 11.66741599134712,
          "newspaper": 7.2,
          "radio": 7.6,
          "sales": 9.7
         },
         {
          "TV": 204.1,
          "lr_predict": 16.734821861507026,
          "newspaper": 46,
          "radio": 32.9,
          "sales": 19
         },
         {
          "TV": 195.4,
          "lr_predict": 16.321253089739756,
          "newspaper": 52.9,
          "radio": 47.7,
          "sales": 22.4
         },
         {
          "TV": 67.8,
          "lr_predict": 10.255577770486433,
          "newspaper": 114,
          "radio": 36.6,
          "sales": 12.5
         },
         {
          "TV": 281.4,
          "lr_predict": 20.40940416697945,
          "newspaper": 55.8,
          "radio": 39.6,
          "sales": 24.4
         },
         {
          "TV": 69.2,
          "lr_predict": 10.32212906709266,
          "newspaper": 18.3,
          "radio": 20.5,
          "sales": 11.3
         },
         {
          "TV": 147.3,
          "lr_predict": 14.034740684911505,
          "newspaper": 19.1,
          "radio": 23.9,
          "sales": 14.6
         },
         {
          "TV": 218.4,
          "lr_predict": 17.41459581969921,
          "newspaper": 53.4,
          "radio": 27.7,
          "sales": 18
         },
         {
          "TV": 237.4,
          "lr_predict": 18.317791987926583,
          "newspaper": 23.5,
          "radio": 5.1,
          "sales": 12.5
         },
         {
          "TV": 13.2,
          "lr_predict": 7.6600772028435555,
          "newspaper": 49.6,
          "radio": 15.9,
          "sales": 5.6
         },
         {
          "TV": 228.3,
          "lr_predict": 17.885208559986104,
          "newspaper": 26.2,
          "radio": 16.9,
          "sales": 15.5
         },
         {
          "TV": 62.3,
          "lr_predict": 9.994126248104825,
          "newspaper": 18.3,
          "radio": 12.6,
          "sales": 9.7
         },
         {
          "TV": 262.9,
          "lr_predict": 19.529976318968586,
          "newspaper": 19.5,
          "radio": 3.5,
          "sales": 12
         },
         {
          "TV": 142.9,
          "lr_predict": 13.825579467006218,
          "newspaper": 12.6,
          "radio": 29.3,
          "sales": 15
         },
         {
          "TV": 240.1,
          "lr_predict": 18.446140917095736,
          "newspaper": 22.9,
          "radio": 16.7,
          "sales": 15.9
         },
         {
          "TV": 248.8,
          "lr_predict": 18.85970968886301,
          "newspaper": 22.9,
          "radio": 27.1,
          "sales": 18.9
         },
         {
          "TV": 70.6,
          "lr_predict": 10.388680363698889,
          "newspaper": 40.8,
          "radio": 16,
          "sales": 10.5
         },
         {
          "TV": 292.9,
          "lr_predict": 20.95607553195918,
          "newspaper": 43.2,
          "radio": 28.3,
          "sales": 21.4
         },
         {
          "TV": 112.9,
          "lr_predict": 12.399480254015625,
          "newspaper": 38.6,
          "radio": 17.4,
          "sales": 11.9
         },
         {
          "TV": 97.2,
          "lr_predict": 11.653154999217215,
          "newspaper": 30,
          "radio": 1.5,
          "sales": 9.6
         },
         {
          "TV": 265.6,
          "lr_predict": 19.658325248137743,
          "newspaper": 0.3,
          "radio": 20,
          "sales": 17.4
         },
         {
          "TV": 95.7,
          "lr_predict": 11.581850038567685,
          "newspaper": 7.4,
          "radio": 1.4,
          "sales": 9.5
         },
         {
          "TV": 290.7,
          "lr_predict": 20.851494923006534,
          "newspaper": 8.5,
          "radio": 4.1,
          "sales": 12.8
         },
         {
          "TV": 266.9,
          "lr_predict": 19.720122880700664,
          "newspaper": 5,
          "radio": 43.8,
          "sales": 25.4
         },
         {
          "TV": 74.7,
          "lr_predict": 10.58358058947427,
          "newspaper": 45.7,
          "radio": 49.4,
          "sales": 14.7
         },
         {
          "TV": 43.1,
          "lr_predict": 9.081422751790846,
          "newspaper": 35.1,
          "radio": 26.7,
          "sales": 10.1
         },
         {
          "TV": 228,
          "lr_predict": 17.8709475678562,
          "newspaper": 32,
          "radio": 37.7,
          "sales": 21.5
         },
         {
          "TV": 202.5,
          "lr_predict": 16.658763236814195,
          "newspaper": 31.6,
          "radio": 22.3,
          "sales": 16.6
         },
         {
          "TV": 177,
          "lr_predict": 15.44657890577219,
          "newspaper": 38.7,
          "radio": 33.4,
          "sales": 17.1
         },
         {
          "TV": 293.6,
          "lr_predict": 20.989351180262297,
          "newspaper": 1.8,
          "radio": 27.7,
          "sales": 20.7
         },
         {
          "TV": 206.9,
          "lr_predict": 16.867924454719482,
          "newspaper": 26.4,
          "radio": 8.4,
          "sales": 12.9
         },
         {
          "TV": 25.1,
          "lr_predict": 8.225763223996491,
          "newspaper": 43.3,
          "radio": 25.7,
          "sales": 8.5
         },
         {
          "TV": 175.1,
          "lr_predict": 15.356259288949452,
          "newspaper": 31.5,
          "radio": 22.5,
          "sales": 14.9
         },
         {
          "TV": 89.7,
          "lr_predict": 11.296630195969566,
          "newspaper": 35.7,
          "radio": 9.9,
          "sales": 10.6
         },
         {
          "TV": 239.9,
          "lr_predict": 18.436633589009134,
          "newspaper": 18.5,
          "radio": 41.5,
          "sales": 23.2
         },
         {
          "TV": 227.2,
          "lr_predict": 17.83291825550978,
          "newspaper": 49.9,
          "radio": 15.8,
          "sales": 14.8
         },
         {
          "TV": 66.9,
          "lr_predict": 10.212794794096716,
          "newspaper": 36.8,
          "radio": 11.7,
          "sales": 9.7
         },
         {
          "TV": 199.8,
          "lr_predict": 16.53041430764504,
          "newspaper": 34.6,
          "radio": 3.1,
          "sales": 11.4
         },
         {
          "TV": 100.4,
          "lr_predict": 11.80527224860288,
          "newspaper": 3.6,
          "radio": 9.6,
          "sales": 10.7
         },
         {
          "TV": 216.4,
          "lr_predict": 17.31952253883317,
          "newspaper": 39.6,
          "radio": 41.7,
          "sales": 22.6
         },
         {
          "TV": 182.6,
          "lr_predict": 15.7127840921971,
          "newspaper": 58.7,
          "radio": 46.2,
          "sales": 21.2
         },
         {
          "TV": 262.7,
          "lr_predict": 19.52046899088198,
          "newspaper": 15.9,
          "radio": 28.8,
          "sales": 20.2
         },
         {
          "TV": 198.9,
          "lr_predict": 16.487631331255322,
          "newspaper": 60,
          "radio": 49.4,
          "sales": 23.7
         },
         {
          "TV": 7.3,
          "lr_predict": 7.379611024288739,
          "newspaper": 41.4,
          "radio": 28.1,
          "sales": 5.5
         },
         {
          "TV": 136.2,
          "lr_predict": 13.507083976104983,
          "newspaper": 16.6,
          "radio": 19.2,
          "sales": 13.2
         },
         {
          "TV": 210.8,
          "lr_predict": 17.053317352408257,
          "newspaper": 37.7,
          "radio": 49.6,
          "sales": 23.8
         },
         {
          "TV": 210.7,
          "lr_predict": 17.048563688364958,
          "newspaper": 9.3,
          "radio": 29.5,
          "sales": 18.4
         },
         {
          "TV": 53.5,
          "lr_predict": 9.575803812294252,
          "newspaper": 21.4,
          "radio": 2,
          "sales": 8.1
         },
         {
          "TV": 261.3,
          "lr_predict": 19.453917694275756,
          "newspaper": 54.7,
          "radio": 42.7,
          "sales": 24.2
         },
         {
          "TV": 239.3,
          "lr_predict": 18.408111604749323,
          "newspaper": 27.3,
          "radio": 15.5,
          "sales": 15.7
         },
         {
          "TV": 102.7,
          "lr_predict": 11.914606521598824,
          "newspaper": 8.4,
          "radio": 29.6,
          "sales": 14
         },
         {
          "TV": 131.1,
          "lr_predict": 13.264647109896583,
          "newspaper": 28.9,
          "radio": 42.8,
          "sales": 18
         },
         {
          "TV": 69,
          "lr_predict": 10.312621739006058,
          "newspaper": 0.9,
          "radio": 9.3,
          "sales": 9.3
         },
         {
          "TV": 31.5,
          "lr_predict": 8.529997722767817,
          "newspaper": 2.2,
          "radio": 24.6,
          "sales": 9.5
         },
         {
          "TV": 139.3,
          "lr_predict": 13.654447561447347,
          "newspaper": 10.2,
          "radio": 14.5,
          "sales": 13.4
         },
         {
          "TV": 237.4,
          "lr_predict": 18.317791987926583,
          "newspaper": 11,
          "radio": 27.5,
          "sales": 18.9
         },
         {
          "TV": 216.8,
          "lr_predict": 17.338537195006378,
          "newspaper": 27.2,
          "radio": 43.9,
          "sales": 22.3
         },
         {
          "TV": 199.1,
          "lr_predict": 16.49713865934193,
          "newspaper": 38.7,
          "radio": 30.6,
          "sales": 18.3
         },
         {
          "TV": 109.8,
          "lr_predict": 12.252116668673263,
          "newspaper": 31.7,
          "radio": 14.3,
          "sales": 12.4
         },
         {
          "TV": 26.8,
          "lr_predict": 8.306575512732625,
          "newspaper": 19.3,
          "radio": 33,
          "sales": 8.8
         },
         {
          "TV": 129.4,
          "lr_predict": 13.18383482116045,
          "newspaper": 31.3,
          "radio": 5.7,
          "sales": 11
         },
         {
          "TV": 213.4,
          "lr_predict": 17.176912617534107,
          "newspaper": 13.1,
          "radio": 24.6,
          "sales": 17
         },
         {
          "TV": 16.9,
          "lr_predict": 7.835962772445728,
          "newspaper": 89.4,
          "radio": 43.7,
          "sales": 8.7
         },
         {
          "TV": 27.5,
          "lr_predict": 8.339851161035739,
          "newspaper": 20.7,
          "radio": 1.6,
          "sales": 6.9
         },
         {
          "TV": 120.5,
          "lr_predict": 12.760758721306575,
          "newspaper": 14.2,
          "radio": 28.5,
          "sales": 14.2
         },
         {
          "TV": 5.4,
          "lr_predict": 7.289291407466002,
          "newspaper": 9.4,
          "radio": 29.9,
          "sales": 5.3
         },
         {
          "TV": 116,
          "lr_predict": 12.546843839357987,
          "newspaper": 23.1,
          "radio": 7.7,
          "sales": 11
         },
         {
          "TV": 76.4,
          "lr_predict": 10.664392878210403,
          "newspaper": 22.3,
          "radio": 26.7,
          "sales": 11.8
         },
         {
          "TV": 239.8,
          "lr_predict": 18.43187992496583,
          "newspaper": 36.9,
          "radio": 4.1,
          "sales": 12.3
         },
         {
          "TV": 75.3,
          "lr_predict": 10.61210257373408,
          "newspaper": 32.5,
          "radio": 20.3,
          "sales": 11.3
         },
         {
          "TV": 68.4,
          "lr_predict": 10.284099754746245,
          "newspaper": 35.6,
          "radio": 44.5,
          "sales": 13.6
         },
         {
          "TV": 213.5,
          "lr_predict": 17.181666281577414,
          "newspaper": 33.8,
          "radio": 43,
          "sales": 21.7
         },
         {
          "TV": 193.2,
          "lr_predict": 16.21667248078711,
          "newspaper": 65.7,
          "radio": 18.4,
          "sales": 15.2
         },
         {
          "TV": 76.3,
          "lr_predict": 10.659639214167102,
          "newspaper": 16,
          "radio": 27.5,
          "sales": 12
         },
         {
          "TV": 110.7,
          "lr_predict": 12.29489964506298,
          "newspaper": 63.2,
          "radio": 40.6,
          "sales": 16
         },
         {
          "TV": 88.3,
          "lr_predict": 11.230078899363338,
          "newspaper": 73.4,
          "radio": 25.5,
          "sales": 12.9
         },
         {
          "TV": 109.8,
          "lr_predict": 12.252116668673263,
          "newspaper": 51.4,
          "radio": 47.8,
          "sales": 16.7
         },
         {
          "TV": 134.3,
          "lr_predict": 13.416764359282247,
          "newspaper": 9.3,
          "radio": 4.9,
          "sales": 11.2
         },
         {
          "TV": 28.6,
          "lr_predict": 8.39214146551206,
          "newspaper": 33,
          "radio": 1.5,
          "sales": 7.3
         },
         {
          "TV": 217.7,
          "lr_predict": 17.381320171396094,
          "newspaper": 59,
          "radio": 33.5,
          "sales": 19.4
         },
         {
          "TV": 250.9,
          "lr_predict": 18.959536633772352,
          "newspaper": 72.3,
          "radio": 36.5,
          "sales": 22.2
         },
         {
          "TV": 107.4,
          "lr_predict": 12.138028731634016,
          "newspaper": 10.9,
          "radio": 14,
          "sales": 11.5
         },
         {
          "TV": 163.3,
          "lr_predict": 14.79532693183982,
          "newspaper": 52.9,
          "radio": 31.6,
          "sales": 16.9
         },
         {
          "TV": 197.6,
          "lr_predict": 16.425833698692397,
          "newspaper": 5.9,
          "radio": 3.5,
          "sales": 11.7
         },
         {
          "TV": 184.9,
          "lr_predict": 15.822118365193047,
          "newspaper": 22,
          "radio": 21,
          "sales": 15.5
         },
         {
          "TV": 289.7,
          "lr_predict": 20.803958282573518,
          "newspaper": 51.2,
          "radio": 42.3,
          "sales": 25.4
         },
         {
          "TV": 135.2,
          "lr_predict": 13.459547335671964,
          "newspaper": 45.9,
          "radio": 41.7,
          "sales": 17.2
         },
         {
          "TV": 222.4,
          "lr_predict": 17.604742381431286,
          "newspaper": 49.8,
          "radio": 4.3,
          "sales": 11.7
         },
         {
          "TV": 296.4,
          "lr_predict": 21.122453773474746,
          "newspaper": 100.9,
          "radio": 36.3,
          "sales": 23.8
         },
         {
          "TV": 280.2,
          "lr_predict": 20.352360198459827,
          "newspaper": 21.4,
          "radio": 10.1,
          "sales": 14.8
         },
         {
          "TV": 187.9,
          "lr_predict": 15.964728286492106,
          "newspaper": 17.9,
          "radio": 17.2,
          "sales": 14.7
         },
         {
          "TV": 238.2,
          "lr_predict": 18.355821300273,
          "newspaper": 5.3,
          "radio": 34.3,
          "sales": 20.7
         },
         {
          "TV": 137.9,
          "lr_predict": 13.587896264841119,
          "newspaper": 59,
          "radio": 46.4,
          "sales": 19.2
         },
         {
          "TV": 25,
          "lr_predict": 8.221009559953188,
          "newspaper": 29.7,
          "radio": 11,
          "sales": 7.2
         },
         {
          "TV": 90.4,
          "lr_predict": 11.32990584427268,
          "newspaper": 23.2,
          "radio": 0.3,
          "sales": 8.7
         },
         {
          "TV": 13.1,
          "lr_predict": 7.655323538800253,
          "newspaper": 25.6,
          "radio": 0.4,
          "sales": 5.3
         },
         {
          "TV": 255.4,
          "lr_predict": 19.17345151572094,
          "newspaper": 5.5,
          "radio": 26.9,
          "sales": 19.8
         },
         {
          "TV": 225.8,
          "lr_predict": 17.766366958903554,
          "newspaper": 56.5,
          "radio": 8.2,
          "sales": 13.4
         },
         {
          "TV": 241.7,
          "lr_predict": 18.522199541788567,
          "newspaper": 23.2,
          "radio": 38,
          "sales": 21.8
         },
         {
          "TV": 175.7,
          "lr_predict": 15.384781273209263,
          "newspaper": 2.4,
          "radio": 15.4,
          "sales": 14.1
         },
         {
          "TV": 209.6,
          "lr_predict": 16.996273383888635,
          "newspaper": 10.7,
          "radio": 20.6,
          "sales": 15.9
         },
         {
          "TV": 78.2,
          "lr_predict": 10.74995883098984,
          "newspaper": 34.5,
          "radio": 46.8,
          "sales": 14.6
         },
         {
          "TV": 75.1,
          "lr_predict": 10.602595245647478,
          "newspaper": 52.7,
          "radio": 35,
          "sales": 12.6
         },
         {
          "TV": 139.2,
          "lr_predict": 13.649693897404044,
          "newspaper": 25.6,
          "radio": 14.3,
          "sales": 12.2
         },
         {
          "TV": 76.4,
          "lr_predict": 10.664392878210403,
          "newspaper": 14.8,
          "radio": 0.8,
          "sales": 9.4
         },
         {
          "TV": 125.7,
          "lr_predict": 13.007949251558276,
          "newspaper": 79.2,
          "radio": 36.9,
          "sales": 15.9
         },
         {
          "TV": 19.4,
          "lr_predict": 7.954804373528278,
          "newspaper": 22.3,
          "radio": 16,
          "sales": 6.6
         },
         {
          "TV": 141.3,
          "lr_predict": 13.749520842313386,
          "newspaper": 46.2,
          "radio": 26.8,
          "sales": 15.5
         },
         {
          "TV": 18.8,
          "lr_predict": 7.926282389268466,
          "newspaper": 50.4,
          "radio": 21.7,
          "sales": 7
         },
         {
          "TV": 224,
          "lr_predict": 17.68080100612412,
          "newspaper": 15.6,
          "radio": 2.4,
          "sales": 11.6
         },
         {
          "TV": 123.1,
          "lr_predict": 12.884353986432426,
          "newspaper": 12.4,
          "radio": 34.6,
          "sales": 15.2
         },
         {
          "TV": 229.5,
          "lr_predict": 17.942252528505726,
          "newspaper": 74.2,
          "radio": 32.3,
          "sales": 19.7
         },
         {
          "TV": 87.2,
          "lr_predict": 11.177788594887017,
          "newspaper": 25.9,
          "radio": 11.8,
          "sales": 10.6
         },
         {
          "TV": 7.8,
          "lr_predict": 7.4033793445052485,
          "newspaper": 50.6,
          "radio": 38.9,
          "sales": 6.6
         },
         {
          "TV": 80.2,
          "lr_predict": 10.845032111855879,
          "newspaper": 9.2,
          "radio": 0,
          "sales": 8.8
         },
         {
          "TV": 220.3,
          "lr_predict": 17.504915436521948,
          "newspaper": 3.2,
          "radio": 49,
          "sales": 24.7
         },
         {
          "TV": 59.6,
          "lr_predict": 9.865777318935672,
          "newspaper": 43.1,
          "radio": 12,
          "sales": 9.7
         },
         {
          "TV": 0.7,
          "lr_predict": 7.065869197430809,
          "newspaper": 8.7,
          "radio": 39.6,
          "sales": 1.6
         },
         {
          "TV": 265.2,
          "lr_predict": 19.63931059196453,
          "newspaper": 43,
          "radio": 2.9,
          "sales": 12.7
         },
         {
          "TV": 8.4,
          "lr_predict": 7.43190132876506,
          "newspaper": 2.1,
          "radio": 27.2,
          "sales": 5.7
         },
         {
          "TV": 219.8,
          "lr_predict": 17.481147116305436,
          "newspaper": 45.1,
          "radio": 33.5,
          "sales": 19.6
         },
         {
          "TV": 36.9,
          "lr_predict": 8.786695581106123,
          "newspaper": 65.6,
          "radio": 38.6,
          "sales": 10.8
         },
         {
          "TV": 48.3,
          "lr_predict": 9.328613282042548,
          "newspaper": 8.5,
          "radio": 47,
          "sales": 11.6
         },
         {
          "TV": 25.6,
          "lr_predict": 8.249531544213001,
          "newspaper": 9.3,
          "radio": 39,
          "sales": 9.5
         },
         {
          "TV": 273.7,
          "lr_predict": 20.0433720356452,
          "newspaper": 59.7,
          "radio": 28.9,
          "sales": 20.8
         },
         {
          "TV": 43,
          "lr_predict": 9.076669087747543,
          "newspaper": 20.5,
          "radio": 25.9,
          "sales": 9.6
         },
         {
          "TV": 184.9,
          "lr_predict": 15.822118365193047,
          "newspaper": 1.7,
          "radio": 43.9,
          "sales": 20.7
         },
         {
          "TV": 73.4,
          "lr_predict": 10.521782956911345,
          "newspaper": 12.9,
          "radio": 17,
          "sales": 10.9
         },
         {
          "TV": 193.7,
          "lr_predict": 16.240440801003622,
          "newspaper": 75.6,
          "radio": 35.4,
          "sales": 19.2
         },
         {
          "TV": 220.5,
          "lr_predict": 17.51442276460855,
          "newspaper": 37.9,
          "radio": 33.2,
          "sales": 20.1
         },
         {
          "TV": 104.6,
          "lr_predict": 12.00492613842156,
          "newspaper": 34.4,
          "radio": 5.7,
          "sales": 10.4
         },
         {
          "TV": 96.2,
          "lr_predict": 11.605618358784195,
          "newspaper": 38.9,
          "radio": 14.8,
          "sales": 11.4
         },
         {
          "TV": 140.3,
          "lr_predict": 13.701984201880366,
          "newspaper": 9,
          "radio": 1.9,
          "sales": 10.3
         },
         {
          "TV": 240.1,
          "lr_predict": 18.446140917095736,
          "newspaper": 8.7,
          "radio": 7.3,
          "sales": 13.2
         },
         {
          "TV": 243.2,
          "lr_predict": 18.593504502438098,
          "newspaper": 44.3,
          "radio": 49,
          "sales": 25.4
         },
         {
          "TV": 38,
          "lr_predict": 8.838985885582446,
          "newspaper": 11.9,
          "radio": 40.3,
          "sales": 10.9
         },
         {
          "TV": 44.7,
          "lr_predict": 9.157481376483677,
          "newspaper": 20.6,
          "radio": 25.8,
          "sales": 10.1
         },
         {
          "TV": 280.7,
          "lr_predict": 20.37612851867634,
          "newspaper": 37,
          "radio": 13.9,
          "sales": 16.1
         },
         {
          "TV": 121,
          "lr_predict": 12.784527041523084,
          "newspaper": 48.7,
          "radio": 8.4,
          "sales": 11.6
         },
         {
          "TV": 197.6,
          "lr_predict": 16.425833698692397,
          "newspaper": 14.2,
          "radio": 23.3,
          "sales": 16.6
         },
         {
          "TV": 171.3,
          "lr_predict": 15.175620055303979,
          "newspaper": 37.7,
          "radio": 39.7,
          "sales": 19
         },
         {
          "TV": 187.8,
          "lr_predict": 15.959974622448804,
          "newspaper": 9.5,
          "radio": 21.1,
          "sales": 15.6
         },
         {
          "TV": 4.1,
          "lr_predict": 7.227493774903076,
          "newspaper": 5.7,
          "radio": 11.6,
          "sales": 3.2
         },
         {
          "TV": 93.9,
          "lr_predict": 11.49628408578825,
          "newspaper": 50.5,
          "radio": 43.5,
          "sales": 15.3
         },
         {
          "TV": 149.8,
          "lr_predict": 14.153582285994053,
          "newspaper": 24.3,
          "radio": 1.3,
          "sales": 10.1
         },
         {
          "TV": 11.7,
          "lr_predict": 7.588772242194025,
          "newspaper": 45.2,
          "radio": 36.9,
          "sales": 7.3
         },
         {
          "TV": 131.7,
          "lr_predict": 13.293169094156395,
          "newspaper": 34.6,
          "radio": 18.4,
          "sales": 12.9
         },
         {
          "TV": 172.5,
          "lr_predict": 15.232664023823602,
          "newspaper": 30.7,
          "radio": 18.1,
          "sales": 14.4
         },
         {
          "TV": 85.7,
          "lr_predict": 11.106483634237488,
          "newspaper": 49.3,
          "radio": 35.8,
          "sales": 13.3
         },
         {
          "TV": 188.4,
          "lr_predict": 15.988496606708615,
          "newspaper": 25.6,
          "radio": 18.1,
          "sales": 14.9
         },
         {
          "TV": 163.5,
          "lr_predict": 14.804834259926423,
          "newspaper": 7.4,
          "radio": 36.8,
          "sales": 18
         },
         {
          "TV": 117.2,
          "lr_predict": 12.603887807877609,
          "newspaper": 5.4,
          "radio": 14.7,
          "sales": 11.9
         },
         {
          "TV": 234.5,
          "lr_predict": 18.179935730670827,
          "newspaper": 84.8,
          "radio": 3.4,
          "sales": 11.9
         },
         {
          "TV": 17.9,
          "lr_predict": 7.883499412878749,
          "newspaper": 21.6,
          "radio": 37.6,
          "sales": 8
         },
         {
          "TV": 206.8,
          "lr_predict": 16.86317079067618,
          "newspaper": 19.4,
          "radio": 5.2,
          "sales": 12.2
         },
         {
          "TV": 215.4,
          "lr_predict": 17.27198589840015,
          "newspaper": 57.6,
          "radio": 23.6,
          "sales": 17.1
         },
         {
          "TV": 284.3,
          "lr_predict": 20.547260424235212,
          "newspaper": 6.4,
          "radio": 10.6,
          "sales": 15
         },
         {
          "TV": 50,
          "lr_predict": 9.409425570778682,
          "newspaper": 18.4,
          "radio": 11.6,
          "sales": 8.4
         },
         {
          "TV": 164.5,
          "lr_predict": 14.852370900359443,
          "newspaper": 47.4,
          "radio": 20.9,
          "sales": 14.5
         },
         {
          "TV": 19.6,
          "lr_predict": 7.964311701614882,
          "newspaper": 17,
          "radio": 20.1,
          "sales": 7.6
         },
         {
          "TV": 168.4,
          "lr_predict": 15.037763798048221,
          "newspaper": 12.8,
          "radio": 7.1,
          "sales": 11.7
         },
         {
          "TV": 222.4,
          "lr_predict": 17.604742381431286,
          "newspaper": 13.1,
          "radio": 3.4,
          "sales": 11.5
         },
         {
          "TV": 276.9,
          "lr_predict": 20.195489285030863,
          "newspaper": 41.8,
          "radio": 48.9,
          "sales": 27
         },
         {
          "TV": 248.4,
          "lr_predict": 18.8406950326898,
          "newspaper": 20.3,
          "radio": 30.2,
          "sales": 20.2
         },
         {
          "TV": 170.2,
          "lr_predict": 15.123329750827656,
          "newspaper": 35.2,
          "radio": 7.8,
          "sales": 11.7
         },
         {
          "TV": 276.7,
          "lr_predict": 20.18598195694426,
          "newspaper": 23.7,
          "radio": 2.3,
          "sales": 11.8
         },
         {
          "TV": 165.6,
          "lr_predict": 14.904661204835765,
          "newspaper": 17.6,
          "radio": 10,
          "sales": 12.6
         },
         {
          "TV": 156.6,
          "lr_predict": 14.476831440938588,
          "newspaper": 8.3,
          "radio": 2.6,
          "sales": 10.5
         },
         {
          "TV": 218.5,
          "lr_predict": 17.419349483742508,
          "newspaper": 27.4,
          "radio": 5.4,
          "sales": 12.2
         },
         {
          "TV": 56.2,
          "lr_predict": 9.704152741463405,
          "newspaper": 29.7,
          "radio": 5.7,
          "sales": 8.7
         },
         {
          "TV": 287.6,
          "lr_predict": 20.704131337664176,
          "newspaper": 71.8,
          "radio": 43,
          "sales": 26.2
         },
         {
          "TV": 253.8,
          "lr_predict": 19.097392891028107,
          "newspaper": 30,
          "radio": 21.3,
          "sales": 17.6
         },
         {
          "TV": 205,
          "lr_predict": 16.777604837896746,
          "newspaper": 19.6,
          "radio": 45.1,
          "sales": 22.6
         },
         {
          "TV": 139.5,
          "lr_predict": 13.66395488953395,
          "newspaper": 26.6,
          "radio": 2.1,
          "sales": 10.3
         },
         {
          "TV": 191.1,
          "lr_predict": 16.11684553587777,
          "newspaper": 18.2,
          "radio": 28.7,
          "sales": 17.3
         },
         {
          "TV": 286,
          "lr_predict": 20.628072712971345,
          "newspaper": 3.7,
          "radio": 13.9,
          "sales": 15.9
         },
         {
          "TV": 18.7,
          "lr_predict": 7.921528725225164,
          "newspaper": 23.4,
          "radio": 12.1,
          "sales": 6.7
         },
         {
          "TV": 39.5,
          "lr_predict": 8.910290846231975,
          "newspaper": 5.8,
          "radio": 41.1,
          "sales": 10.8
         },
         {
          "TV": 75.5,
          "lr_predict": 10.621609901820687,
          "newspaper": 6,
          "radio": 10.8,
          "sales": 9.9
         },
         {
          "TV": 17.2,
          "lr_predict": 7.8502237645756345,
          "newspaper": 31.6,
          "radio": 4.1,
          "sales": 5.9
         },
         {
          "TV": 166.8,
          "lr_predict": 14.96170517335539,
          "newspaper": 3.6,
          "radio": 42,
          "sales": 19.6
         },
         {
          "TV": 149.7,
          "lr_predict": 14.14882862195075,
          "newspaper": 6,
          "radio": 35.6,
          "sales": 17.3
         },
         {
          "TV": 38.2,
          "lr_predict": 8.84849321366905,
          "newspaper": 13.8,
          "radio": 3.7,
          "sales": 7.6
         },
         {
          "TV": 94.2,
          "lr_predict": 11.510545077918156,
          "newspaper": 8.1,
          "radio": 4.9,
          "sales": 9.7
         },
         {
          "TV": 177,
          "lr_predict": 15.44657890577219,
          "newspaper": 6.4,
          "radio": 9.3,
          "sales": 12.8
         },
         {
          "TV": 283.6,
          "lr_predict": 20.513984775932094,
          "newspaper": 66.2,
          "radio": 42,
          "sales": 25.5
         },
         {
          "TV": 232.1,
          "lr_predict": 18.065847793631576,
          "newspaper": 8.7,
          "radio": 8.6,
          "sales": 13.4
         }
        ]
       },
       "layer": [
        {
         "encoding": {
          "x": {
           "field": "TV",
           "type": "quantitative"
          },
          "y": {
           "field": "sales",
           "type": "quantitative"
          }
         },
         "mark": "point",
         "width": 800
        },
        {
         "encoding": {
          "x": {
           "field": "TV",
           "type": "quantitative"
          },
          "y": {
           "field": "lr_predict",
           "type": "quantitative"
          }
         },
         "mark": "line",
         "selection": {
          "selector002": {
           "bind": "scales",
           "encodings": [
            "x"
           ],
           "type": "interval"
          }
         },
         "width": 800
        }
       ]
      },
      "text/plain": [
       "<VegaLite 3 object>\n",
       "\n",
       "If you see this message, it means the renderer has not been properly enabled\n",
       "for the frontend that you are using. For more information, see\n",
       "https://altair-viz.github.io/user_guide/troubleshooting.html\n"
      ]
     },
     "execution_count": 13,
     "metadata": {},
     "output_type": "execute_result"
    }
   ],
   "source": [
    "points = alt.Chart(advertising).mark_point().encode(\n",
    "  x='TV',\n",
    "  y='sales',\n",
    ").properties(\n",
    "  width=800\n",
    ")\n",
    "\n",
    "lines = alt.Chart(advertising).mark_line().encode(\n",
    "  x='TV',\n",
    "  y='lr_predict',\n",
    ").properties(\n",
    "  width=800\n",
    ").interactive(bind_y=False)\n",
    "\n",
    "points + lines"
   ]
  },
  {
   "cell_type": "code",
   "execution_count": 14,
   "metadata": {
    "colab": {},
    "colab_type": "code",
    "id": "J93cW8SpU_BE"
   },
   "outputs": [],
   "source": [
    "predictions = pd.DataFrame({'xfit': np.linspace(X.min(), X.max(), 500)})\n",
    "predictions['lr_predict'] = lr.predict(predictions['xfit'][:, None])"
   ]
  },
  {
   "cell_type": "code",
   "execution_count": 15,
   "metadata": {
    "colab": {
     "base_uri": "https://localhost:8080/",
     "height": 363
    },
    "colab_type": "code",
    "id": "R33A6_LadLUU",
    "outputId": "e78e561a-ec27-4a0d-803d-d947ad5da97a"
   },
   "outputs": [
    {
     "data": {
      "application/vnd.vegalite.v3+json": {
       "$schema": "https://vega.github.io/schema/vega-lite/v3.4.0.json",
       "config": {
        "mark": {
         "tooltip": null
        },
        "view": {
         "height": 300,
         "width": 400
        }
       },
       "datasets": {
        "data-1526d6976bd288cf311efed38a6b53c3": [
         {
          "TV": 230.1,
          "lr_predict": 17.970774512765537,
          "newspaper": 69.2,
          "radio": 37.8,
          "sales": 22.1
         },
         {
          "TV": 44.5,
          "lr_predict": 9.147974048397074,
          "newspaper": 45.1,
          "radio": 39.3,
          "sales": 10.4
         },
         {
          "TV": 17.2,
          "lr_predict": 7.8502237645756345,
          "newspaper": 69.3,
          "radio": 45.9,
          "sales": 9.3
         },
         {
          "TV": 151.5,
          "lr_predict": 14.234394574730187,
          "newspaper": 58.5,
          "radio": 41.3,
          "sales": 18.5
         },
         {
          "TV": 180.8,
          "lr_predict": 15.627218139417666,
          "newspaper": 58.4,
          "radio": 10.8,
          "sales": 12.9
         },
         {
          "TV": 8.7,
          "lr_predict": 7.446162320894967,
          "newspaper": 75,
          "radio": 48.9,
          "sales": 7.2
         },
         {
          "TV": 57.5,
          "lr_predict": 9.76595037402633,
          "newspaper": 23.5,
          "radio": 32.8,
          "sales": 11.8
         },
         {
          "TV": 120.2,
          "lr_predict": 12.746497729176669,
          "newspaper": 11.6,
          "radio": 19.6,
          "sales": 13.2
         },
         {
          "TV": 8.6,
          "lr_predict": 7.441408656851665,
          "newspaper": 1,
          "radio": 2.1,
          "sales": 4.8
         },
         {
          "TV": 199.8,
          "lr_predict": 16.53041430764504,
          "newspaper": 21.2,
          "radio": 2.6,
          "sales": 10.6
         },
         {
          "TV": 66.1,
          "lr_predict": 10.174765481750299,
          "newspaper": 24.2,
          "radio": 5.8,
          "sales": 8.6
         },
         {
          "TV": 214.7,
          "lr_predict": 17.238710250097036,
          "newspaper": 4,
          "radio": 24,
          "sales": 17.4
         },
         {
          "TV": 23.8,
          "lr_predict": 8.163965591433564,
          "newspaper": 65.9,
          "radio": 35.1,
          "sales": 9.2
         },
         {
          "TV": 97.5,
          "lr_predict": 11.66741599134712,
          "newspaper": 7.2,
          "radio": 7.6,
          "sales": 9.7
         },
         {
          "TV": 204.1,
          "lr_predict": 16.734821861507026,
          "newspaper": 46,
          "radio": 32.9,
          "sales": 19
         },
         {
          "TV": 195.4,
          "lr_predict": 16.321253089739756,
          "newspaper": 52.9,
          "radio": 47.7,
          "sales": 22.4
         },
         {
          "TV": 67.8,
          "lr_predict": 10.255577770486433,
          "newspaper": 114,
          "radio": 36.6,
          "sales": 12.5
         },
         {
          "TV": 281.4,
          "lr_predict": 20.40940416697945,
          "newspaper": 55.8,
          "radio": 39.6,
          "sales": 24.4
         },
         {
          "TV": 69.2,
          "lr_predict": 10.32212906709266,
          "newspaper": 18.3,
          "radio": 20.5,
          "sales": 11.3
         },
         {
          "TV": 147.3,
          "lr_predict": 14.034740684911505,
          "newspaper": 19.1,
          "radio": 23.9,
          "sales": 14.6
         },
         {
          "TV": 218.4,
          "lr_predict": 17.41459581969921,
          "newspaper": 53.4,
          "radio": 27.7,
          "sales": 18
         },
         {
          "TV": 237.4,
          "lr_predict": 18.317791987926583,
          "newspaper": 23.5,
          "radio": 5.1,
          "sales": 12.5
         },
         {
          "TV": 13.2,
          "lr_predict": 7.6600772028435555,
          "newspaper": 49.6,
          "radio": 15.9,
          "sales": 5.6
         },
         {
          "TV": 228.3,
          "lr_predict": 17.885208559986104,
          "newspaper": 26.2,
          "radio": 16.9,
          "sales": 15.5
         },
         {
          "TV": 62.3,
          "lr_predict": 9.994126248104825,
          "newspaper": 18.3,
          "radio": 12.6,
          "sales": 9.7
         },
         {
          "TV": 262.9,
          "lr_predict": 19.529976318968586,
          "newspaper": 19.5,
          "radio": 3.5,
          "sales": 12
         },
         {
          "TV": 142.9,
          "lr_predict": 13.825579467006218,
          "newspaper": 12.6,
          "radio": 29.3,
          "sales": 15
         },
         {
          "TV": 240.1,
          "lr_predict": 18.446140917095736,
          "newspaper": 22.9,
          "radio": 16.7,
          "sales": 15.9
         },
         {
          "TV": 248.8,
          "lr_predict": 18.85970968886301,
          "newspaper": 22.9,
          "radio": 27.1,
          "sales": 18.9
         },
         {
          "TV": 70.6,
          "lr_predict": 10.388680363698889,
          "newspaper": 40.8,
          "radio": 16,
          "sales": 10.5
         },
         {
          "TV": 292.9,
          "lr_predict": 20.95607553195918,
          "newspaper": 43.2,
          "radio": 28.3,
          "sales": 21.4
         },
         {
          "TV": 112.9,
          "lr_predict": 12.399480254015625,
          "newspaper": 38.6,
          "radio": 17.4,
          "sales": 11.9
         },
         {
          "TV": 97.2,
          "lr_predict": 11.653154999217215,
          "newspaper": 30,
          "radio": 1.5,
          "sales": 9.6
         },
         {
          "TV": 265.6,
          "lr_predict": 19.658325248137743,
          "newspaper": 0.3,
          "radio": 20,
          "sales": 17.4
         },
         {
          "TV": 95.7,
          "lr_predict": 11.581850038567685,
          "newspaper": 7.4,
          "radio": 1.4,
          "sales": 9.5
         },
         {
          "TV": 290.7,
          "lr_predict": 20.851494923006534,
          "newspaper": 8.5,
          "radio": 4.1,
          "sales": 12.8
         },
         {
          "TV": 266.9,
          "lr_predict": 19.720122880700664,
          "newspaper": 5,
          "radio": 43.8,
          "sales": 25.4
         },
         {
          "TV": 74.7,
          "lr_predict": 10.58358058947427,
          "newspaper": 45.7,
          "radio": 49.4,
          "sales": 14.7
         },
         {
          "TV": 43.1,
          "lr_predict": 9.081422751790846,
          "newspaper": 35.1,
          "radio": 26.7,
          "sales": 10.1
         },
         {
          "TV": 228,
          "lr_predict": 17.8709475678562,
          "newspaper": 32,
          "radio": 37.7,
          "sales": 21.5
         },
         {
          "TV": 202.5,
          "lr_predict": 16.658763236814195,
          "newspaper": 31.6,
          "radio": 22.3,
          "sales": 16.6
         },
         {
          "TV": 177,
          "lr_predict": 15.44657890577219,
          "newspaper": 38.7,
          "radio": 33.4,
          "sales": 17.1
         },
         {
          "TV": 293.6,
          "lr_predict": 20.989351180262297,
          "newspaper": 1.8,
          "radio": 27.7,
          "sales": 20.7
         },
         {
          "TV": 206.9,
          "lr_predict": 16.867924454719482,
          "newspaper": 26.4,
          "radio": 8.4,
          "sales": 12.9
         },
         {
          "TV": 25.1,
          "lr_predict": 8.225763223996491,
          "newspaper": 43.3,
          "radio": 25.7,
          "sales": 8.5
         },
         {
          "TV": 175.1,
          "lr_predict": 15.356259288949452,
          "newspaper": 31.5,
          "radio": 22.5,
          "sales": 14.9
         },
         {
          "TV": 89.7,
          "lr_predict": 11.296630195969566,
          "newspaper": 35.7,
          "radio": 9.9,
          "sales": 10.6
         },
         {
          "TV": 239.9,
          "lr_predict": 18.436633589009134,
          "newspaper": 18.5,
          "radio": 41.5,
          "sales": 23.2
         },
         {
          "TV": 227.2,
          "lr_predict": 17.83291825550978,
          "newspaper": 49.9,
          "radio": 15.8,
          "sales": 14.8
         },
         {
          "TV": 66.9,
          "lr_predict": 10.212794794096716,
          "newspaper": 36.8,
          "radio": 11.7,
          "sales": 9.7
         },
         {
          "TV": 199.8,
          "lr_predict": 16.53041430764504,
          "newspaper": 34.6,
          "radio": 3.1,
          "sales": 11.4
         },
         {
          "TV": 100.4,
          "lr_predict": 11.80527224860288,
          "newspaper": 3.6,
          "radio": 9.6,
          "sales": 10.7
         },
         {
          "TV": 216.4,
          "lr_predict": 17.31952253883317,
          "newspaper": 39.6,
          "radio": 41.7,
          "sales": 22.6
         },
         {
          "TV": 182.6,
          "lr_predict": 15.7127840921971,
          "newspaper": 58.7,
          "radio": 46.2,
          "sales": 21.2
         },
         {
          "TV": 262.7,
          "lr_predict": 19.52046899088198,
          "newspaper": 15.9,
          "radio": 28.8,
          "sales": 20.2
         },
         {
          "TV": 198.9,
          "lr_predict": 16.487631331255322,
          "newspaper": 60,
          "radio": 49.4,
          "sales": 23.7
         },
         {
          "TV": 7.3,
          "lr_predict": 7.379611024288739,
          "newspaper": 41.4,
          "radio": 28.1,
          "sales": 5.5
         },
         {
          "TV": 136.2,
          "lr_predict": 13.507083976104983,
          "newspaper": 16.6,
          "radio": 19.2,
          "sales": 13.2
         },
         {
          "TV": 210.8,
          "lr_predict": 17.053317352408257,
          "newspaper": 37.7,
          "radio": 49.6,
          "sales": 23.8
         },
         {
          "TV": 210.7,
          "lr_predict": 17.048563688364958,
          "newspaper": 9.3,
          "radio": 29.5,
          "sales": 18.4
         },
         {
          "TV": 53.5,
          "lr_predict": 9.575803812294252,
          "newspaper": 21.4,
          "radio": 2,
          "sales": 8.1
         },
         {
          "TV": 261.3,
          "lr_predict": 19.453917694275756,
          "newspaper": 54.7,
          "radio": 42.7,
          "sales": 24.2
         },
         {
          "TV": 239.3,
          "lr_predict": 18.408111604749323,
          "newspaper": 27.3,
          "radio": 15.5,
          "sales": 15.7
         },
         {
          "TV": 102.7,
          "lr_predict": 11.914606521598824,
          "newspaper": 8.4,
          "radio": 29.6,
          "sales": 14
         },
         {
          "TV": 131.1,
          "lr_predict": 13.264647109896583,
          "newspaper": 28.9,
          "radio": 42.8,
          "sales": 18
         },
         {
          "TV": 69,
          "lr_predict": 10.312621739006058,
          "newspaper": 0.9,
          "radio": 9.3,
          "sales": 9.3
         },
         {
          "TV": 31.5,
          "lr_predict": 8.529997722767817,
          "newspaper": 2.2,
          "radio": 24.6,
          "sales": 9.5
         },
         {
          "TV": 139.3,
          "lr_predict": 13.654447561447347,
          "newspaper": 10.2,
          "radio": 14.5,
          "sales": 13.4
         },
         {
          "TV": 237.4,
          "lr_predict": 18.317791987926583,
          "newspaper": 11,
          "radio": 27.5,
          "sales": 18.9
         },
         {
          "TV": 216.8,
          "lr_predict": 17.338537195006378,
          "newspaper": 27.2,
          "radio": 43.9,
          "sales": 22.3
         },
         {
          "TV": 199.1,
          "lr_predict": 16.49713865934193,
          "newspaper": 38.7,
          "radio": 30.6,
          "sales": 18.3
         },
         {
          "TV": 109.8,
          "lr_predict": 12.252116668673263,
          "newspaper": 31.7,
          "radio": 14.3,
          "sales": 12.4
         },
         {
          "TV": 26.8,
          "lr_predict": 8.306575512732625,
          "newspaper": 19.3,
          "radio": 33,
          "sales": 8.8
         },
         {
          "TV": 129.4,
          "lr_predict": 13.18383482116045,
          "newspaper": 31.3,
          "radio": 5.7,
          "sales": 11
         },
         {
          "TV": 213.4,
          "lr_predict": 17.176912617534107,
          "newspaper": 13.1,
          "radio": 24.6,
          "sales": 17
         },
         {
          "TV": 16.9,
          "lr_predict": 7.835962772445728,
          "newspaper": 89.4,
          "radio": 43.7,
          "sales": 8.7
         },
         {
          "TV": 27.5,
          "lr_predict": 8.339851161035739,
          "newspaper": 20.7,
          "radio": 1.6,
          "sales": 6.9
         },
         {
          "TV": 120.5,
          "lr_predict": 12.760758721306575,
          "newspaper": 14.2,
          "radio": 28.5,
          "sales": 14.2
         },
         {
          "TV": 5.4,
          "lr_predict": 7.289291407466002,
          "newspaper": 9.4,
          "radio": 29.9,
          "sales": 5.3
         },
         {
          "TV": 116,
          "lr_predict": 12.546843839357987,
          "newspaper": 23.1,
          "radio": 7.7,
          "sales": 11
         },
         {
          "TV": 76.4,
          "lr_predict": 10.664392878210403,
          "newspaper": 22.3,
          "radio": 26.7,
          "sales": 11.8
         },
         {
          "TV": 239.8,
          "lr_predict": 18.43187992496583,
          "newspaper": 36.9,
          "radio": 4.1,
          "sales": 12.3
         },
         {
          "TV": 75.3,
          "lr_predict": 10.61210257373408,
          "newspaper": 32.5,
          "radio": 20.3,
          "sales": 11.3
         },
         {
          "TV": 68.4,
          "lr_predict": 10.284099754746245,
          "newspaper": 35.6,
          "radio": 44.5,
          "sales": 13.6
         },
         {
          "TV": 213.5,
          "lr_predict": 17.181666281577414,
          "newspaper": 33.8,
          "radio": 43,
          "sales": 21.7
         },
         {
          "TV": 193.2,
          "lr_predict": 16.21667248078711,
          "newspaper": 65.7,
          "radio": 18.4,
          "sales": 15.2
         },
         {
          "TV": 76.3,
          "lr_predict": 10.659639214167102,
          "newspaper": 16,
          "radio": 27.5,
          "sales": 12
         },
         {
          "TV": 110.7,
          "lr_predict": 12.29489964506298,
          "newspaper": 63.2,
          "radio": 40.6,
          "sales": 16
         },
         {
          "TV": 88.3,
          "lr_predict": 11.230078899363338,
          "newspaper": 73.4,
          "radio": 25.5,
          "sales": 12.9
         },
         {
          "TV": 109.8,
          "lr_predict": 12.252116668673263,
          "newspaper": 51.4,
          "radio": 47.8,
          "sales": 16.7
         },
         {
          "TV": 134.3,
          "lr_predict": 13.416764359282247,
          "newspaper": 9.3,
          "radio": 4.9,
          "sales": 11.2
         },
         {
          "TV": 28.6,
          "lr_predict": 8.39214146551206,
          "newspaper": 33,
          "radio": 1.5,
          "sales": 7.3
         },
         {
          "TV": 217.7,
          "lr_predict": 17.381320171396094,
          "newspaper": 59,
          "radio": 33.5,
          "sales": 19.4
         },
         {
          "TV": 250.9,
          "lr_predict": 18.959536633772352,
          "newspaper": 72.3,
          "radio": 36.5,
          "sales": 22.2
         },
         {
          "TV": 107.4,
          "lr_predict": 12.138028731634016,
          "newspaper": 10.9,
          "radio": 14,
          "sales": 11.5
         },
         {
          "TV": 163.3,
          "lr_predict": 14.79532693183982,
          "newspaper": 52.9,
          "radio": 31.6,
          "sales": 16.9
         },
         {
          "TV": 197.6,
          "lr_predict": 16.425833698692397,
          "newspaper": 5.9,
          "radio": 3.5,
          "sales": 11.7
         },
         {
          "TV": 184.9,
          "lr_predict": 15.822118365193047,
          "newspaper": 22,
          "radio": 21,
          "sales": 15.5
         },
         {
          "TV": 289.7,
          "lr_predict": 20.803958282573518,
          "newspaper": 51.2,
          "radio": 42.3,
          "sales": 25.4
         },
         {
          "TV": 135.2,
          "lr_predict": 13.459547335671964,
          "newspaper": 45.9,
          "radio": 41.7,
          "sales": 17.2
         },
         {
          "TV": 222.4,
          "lr_predict": 17.604742381431286,
          "newspaper": 49.8,
          "radio": 4.3,
          "sales": 11.7
         },
         {
          "TV": 296.4,
          "lr_predict": 21.122453773474746,
          "newspaper": 100.9,
          "radio": 36.3,
          "sales": 23.8
         },
         {
          "TV": 280.2,
          "lr_predict": 20.352360198459827,
          "newspaper": 21.4,
          "radio": 10.1,
          "sales": 14.8
         },
         {
          "TV": 187.9,
          "lr_predict": 15.964728286492106,
          "newspaper": 17.9,
          "radio": 17.2,
          "sales": 14.7
         },
         {
          "TV": 238.2,
          "lr_predict": 18.355821300273,
          "newspaper": 5.3,
          "radio": 34.3,
          "sales": 20.7
         },
         {
          "TV": 137.9,
          "lr_predict": 13.587896264841119,
          "newspaper": 59,
          "radio": 46.4,
          "sales": 19.2
         },
         {
          "TV": 25,
          "lr_predict": 8.221009559953188,
          "newspaper": 29.7,
          "radio": 11,
          "sales": 7.2
         },
         {
          "TV": 90.4,
          "lr_predict": 11.32990584427268,
          "newspaper": 23.2,
          "radio": 0.3,
          "sales": 8.7
         },
         {
          "TV": 13.1,
          "lr_predict": 7.655323538800253,
          "newspaper": 25.6,
          "radio": 0.4,
          "sales": 5.3
         },
         {
          "TV": 255.4,
          "lr_predict": 19.17345151572094,
          "newspaper": 5.5,
          "radio": 26.9,
          "sales": 19.8
         },
         {
          "TV": 225.8,
          "lr_predict": 17.766366958903554,
          "newspaper": 56.5,
          "radio": 8.2,
          "sales": 13.4
         },
         {
          "TV": 241.7,
          "lr_predict": 18.522199541788567,
          "newspaper": 23.2,
          "radio": 38,
          "sales": 21.8
         },
         {
          "TV": 175.7,
          "lr_predict": 15.384781273209263,
          "newspaper": 2.4,
          "radio": 15.4,
          "sales": 14.1
         },
         {
          "TV": 209.6,
          "lr_predict": 16.996273383888635,
          "newspaper": 10.7,
          "radio": 20.6,
          "sales": 15.9
         },
         {
          "TV": 78.2,
          "lr_predict": 10.74995883098984,
          "newspaper": 34.5,
          "radio": 46.8,
          "sales": 14.6
         },
         {
          "TV": 75.1,
          "lr_predict": 10.602595245647478,
          "newspaper": 52.7,
          "radio": 35,
          "sales": 12.6
         },
         {
          "TV": 139.2,
          "lr_predict": 13.649693897404044,
          "newspaper": 25.6,
          "radio": 14.3,
          "sales": 12.2
         },
         {
          "TV": 76.4,
          "lr_predict": 10.664392878210403,
          "newspaper": 14.8,
          "radio": 0.8,
          "sales": 9.4
         },
         {
          "TV": 125.7,
          "lr_predict": 13.007949251558276,
          "newspaper": 79.2,
          "radio": 36.9,
          "sales": 15.9
         },
         {
          "TV": 19.4,
          "lr_predict": 7.954804373528278,
          "newspaper": 22.3,
          "radio": 16,
          "sales": 6.6
         },
         {
          "TV": 141.3,
          "lr_predict": 13.749520842313386,
          "newspaper": 46.2,
          "radio": 26.8,
          "sales": 15.5
         },
         {
          "TV": 18.8,
          "lr_predict": 7.926282389268466,
          "newspaper": 50.4,
          "radio": 21.7,
          "sales": 7
         },
         {
          "TV": 224,
          "lr_predict": 17.68080100612412,
          "newspaper": 15.6,
          "radio": 2.4,
          "sales": 11.6
         },
         {
          "TV": 123.1,
          "lr_predict": 12.884353986432426,
          "newspaper": 12.4,
          "radio": 34.6,
          "sales": 15.2
         },
         {
          "TV": 229.5,
          "lr_predict": 17.942252528505726,
          "newspaper": 74.2,
          "radio": 32.3,
          "sales": 19.7
         },
         {
          "TV": 87.2,
          "lr_predict": 11.177788594887017,
          "newspaper": 25.9,
          "radio": 11.8,
          "sales": 10.6
         },
         {
          "TV": 7.8,
          "lr_predict": 7.4033793445052485,
          "newspaper": 50.6,
          "radio": 38.9,
          "sales": 6.6
         },
         {
          "TV": 80.2,
          "lr_predict": 10.845032111855879,
          "newspaper": 9.2,
          "radio": 0,
          "sales": 8.8
         },
         {
          "TV": 220.3,
          "lr_predict": 17.504915436521948,
          "newspaper": 3.2,
          "radio": 49,
          "sales": 24.7
         },
         {
          "TV": 59.6,
          "lr_predict": 9.865777318935672,
          "newspaper": 43.1,
          "radio": 12,
          "sales": 9.7
         },
         {
          "TV": 0.7,
          "lr_predict": 7.065869197430809,
          "newspaper": 8.7,
          "radio": 39.6,
          "sales": 1.6
         },
         {
          "TV": 265.2,
          "lr_predict": 19.63931059196453,
          "newspaper": 43,
          "radio": 2.9,
          "sales": 12.7
         },
         {
          "TV": 8.4,
          "lr_predict": 7.43190132876506,
          "newspaper": 2.1,
          "radio": 27.2,
          "sales": 5.7
         },
         {
          "TV": 219.8,
          "lr_predict": 17.481147116305436,
          "newspaper": 45.1,
          "radio": 33.5,
          "sales": 19.6
         },
         {
          "TV": 36.9,
          "lr_predict": 8.786695581106123,
          "newspaper": 65.6,
          "radio": 38.6,
          "sales": 10.8
         },
         {
          "TV": 48.3,
          "lr_predict": 9.328613282042548,
          "newspaper": 8.5,
          "radio": 47,
          "sales": 11.6
         },
         {
          "TV": 25.6,
          "lr_predict": 8.249531544213001,
          "newspaper": 9.3,
          "radio": 39,
          "sales": 9.5
         },
         {
          "TV": 273.7,
          "lr_predict": 20.0433720356452,
          "newspaper": 59.7,
          "radio": 28.9,
          "sales": 20.8
         },
         {
          "TV": 43,
          "lr_predict": 9.076669087747543,
          "newspaper": 20.5,
          "radio": 25.9,
          "sales": 9.6
         },
         {
          "TV": 184.9,
          "lr_predict": 15.822118365193047,
          "newspaper": 1.7,
          "radio": 43.9,
          "sales": 20.7
         },
         {
          "TV": 73.4,
          "lr_predict": 10.521782956911345,
          "newspaper": 12.9,
          "radio": 17,
          "sales": 10.9
         },
         {
          "TV": 193.7,
          "lr_predict": 16.240440801003622,
          "newspaper": 75.6,
          "radio": 35.4,
          "sales": 19.2
         },
         {
          "TV": 220.5,
          "lr_predict": 17.51442276460855,
          "newspaper": 37.9,
          "radio": 33.2,
          "sales": 20.1
         },
         {
          "TV": 104.6,
          "lr_predict": 12.00492613842156,
          "newspaper": 34.4,
          "radio": 5.7,
          "sales": 10.4
         },
         {
          "TV": 96.2,
          "lr_predict": 11.605618358784195,
          "newspaper": 38.9,
          "radio": 14.8,
          "sales": 11.4
         },
         {
          "TV": 140.3,
          "lr_predict": 13.701984201880366,
          "newspaper": 9,
          "radio": 1.9,
          "sales": 10.3
         },
         {
          "TV": 240.1,
          "lr_predict": 18.446140917095736,
          "newspaper": 8.7,
          "radio": 7.3,
          "sales": 13.2
         },
         {
          "TV": 243.2,
          "lr_predict": 18.593504502438098,
          "newspaper": 44.3,
          "radio": 49,
          "sales": 25.4
         },
         {
          "TV": 38,
          "lr_predict": 8.838985885582446,
          "newspaper": 11.9,
          "radio": 40.3,
          "sales": 10.9
         },
         {
          "TV": 44.7,
          "lr_predict": 9.157481376483677,
          "newspaper": 20.6,
          "radio": 25.8,
          "sales": 10.1
         },
         {
          "TV": 280.7,
          "lr_predict": 20.37612851867634,
          "newspaper": 37,
          "radio": 13.9,
          "sales": 16.1
         },
         {
          "TV": 121,
          "lr_predict": 12.784527041523084,
          "newspaper": 48.7,
          "radio": 8.4,
          "sales": 11.6
         },
         {
          "TV": 197.6,
          "lr_predict": 16.425833698692397,
          "newspaper": 14.2,
          "radio": 23.3,
          "sales": 16.6
         },
         {
          "TV": 171.3,
          "lr_predict": 15.175620055303979,
          "newspaper": 37.7,
          "radio": 39.7,
          "sales": 19
         },
         {
          "TV": 187.8,
          "lr_predict": 15.959974622448804,
          "newspaper": 9.5,
          "radio": 21.1,
          "sales": 15.6
         },
         {
          "TV": 4.1,
          "lr_predict": 7.227493774903076,
          "newspaper": 5.7,
          "radio": 11.6,
          "sales": 3.2
         },
         {
          "TV": 93.9,
          "lr_predict": 11.49628408578825,
          "newspaper": 50.5,
          "radio": 43.5,
          "sales": 15.3
         },
         {
          "TV": 149.8,
          "lr_predict": 14.153582285994053,
          "newspaper": 24.3,
          "radio": 1.3,
          "sales": 10.1
         },
         {
          "TV": 11.7,
          "lr_predict": 7.588772242194025,
          "newspaper": 45.2,
          "radio": 36.9,
          "sales": 7.3
         },
         {
          "TV": 131.7,
          "lr_predict": 13.293169094156395,
          "newspaper": 34.6,
          "radio": 18.4,
          "sales": 12.9
         },
         {
          "TV": 172.5,
          "lr_predict": 15.232664023823602,
          "newspaper": 30.7,
          "radio": 18.1,
          "sales": 14.4
         },
         {
          "TV": 85.7,
          "lr_predict": 11.106483634237488,
          "newspaper": 49.3,
          "radio": 35.8,
          "sales": 13.3
         },
         {
          "TV": 188.4,
          "lr_predict": 15.988496606708615,
          "newspaper": 25.6,
          "radio": 18.1,
          "sales": 14.9
         },
         {
          "TV": 163.5,
          "lr_predict": 14.804834259926423,
          "newspaper": 7.4,
          "radio": 36.8,
          "sales": 18
         },
         {
          "TV": 117.2,
          "lr_predict": 12.603887807877609,
          "newspaper": 5.4,
          "radio": 14.7,
          "sales": 11.9
         },
         {
          "TV": 234.5,
          "lr_predict": 18.179935730670827,
          "newspaper": 84.8,
          "radio": 3.4,
          "sales": 11.9
         },
         {
          "TV": 17.9,
          "lr_predict": 7.883499412878749,
          "newspaper": 21.6,
          "radio": 37.6,
          "sales": 8
         },
         {
          "TV": 206.8,
          "lr_predict": 16.86317079067618,
          "newspaper": 19.4,
          "radio": 5.2,
          "sales": 12.2
         },
         {
          "TV": 215.4,
          "lr_predict": 17.27198589840015,
          "newspaper": 57.6,
          "radio": 23.6,
          "sales": 17.1
         },
         {
          "TV": 284.3,
          "lr_predict": 20.547260424235212,
          "newspaper": 6.4,
          "radio": 10.6,
          "sales": 15
         },
         {
          "TV": 50,
          "lr_predict": 9.409425570778682,
          "newspaper": 18.4,
          "radio": 11.6,
          "sales": 8.4
         },
         {
          "TV": 164.5,
          "lr_predict": 14.852370900359443,
          "newspaper": 47.4,
          "radio": 20.9,
          "sales": 14.5
         },
         {
          "TV": 19.6,
          "lr_predict": 7.964311701614882,
          "newspaper": 17,
          "radio": 20.1,
          "sales": 7.6
         },
         {
          "TV": 168.4,
          "lr_predict": 15.037763798048221,
          "newspaper": 12.8,
          "radio": 7.1,
          "sales": 11.7
         },
         {
          "TV": 222.4,
          "lr_predict": 17.604742381431286,
          "newspaper": 13.1,
          "radio": 3.4,
          "sales": 11.5
         },
         {
          "TV": 276.9,
          "lr_predict": 20.195489285030863,
          "newspaper": 41.8,
          "radio": 48.9,
          "sales": 27
         },
         {
          "TV": 248.4,
          "lr_predict": 18.8406950326898,
          "newspaper": 20.3,
          "radio": 30.2,
          "sales": 20.2
         },
         {
          "TV": 170.2,
          "lr_predict": 15.123329750827656,
          "newspaper": 35.2,
          "radio": 7.8,
          "sales": 11.7
         },
         {
          "TV": 276.7,
          "lr_predict": 20.18598195694426,
          "newspaper": 23.7,
          "radio": 2.3,
          "sales": 11.8
         },
         {
          "TV": 165.6,
          "lr_predict": 14.904661204835765,
          "newspaper": 17.6,
          "radio": 10,
          "sales": 12.6
         },
         {
          "TV": 156.6,
          "lr_predict": 14.476831440938588,
          "newspaper": 8.3,
          "radio": 2.6,
          "sales": 10.5
         },
         {
          "TV": 218.5,
          "lr_predict": 17.419349483742508,
          "newspaper": 27.4,
          "radio": 5.4,
          "sales": 12.2
         },
         {
          "TV": 56.2,
          "lr_predict": 9.704152741463405,
          "newspaper": 29.7,
          "radio": 5.7,
          "sales": 8.7
         },
         {
          "TV": 287.6,
          "lr_predict": 20.704131337664176,
          "newspaper": 71.8,
          "radio": 43,
          "sales": 26.2
         },
         {
          "TV": 253.8,
          "lr_predict": 19.097392891028107,
          "newspaper": 30,
          "radio": 21.3,
          "sales": 17.6
         },
         {
          "TV": 205,
          "lr_predict": 16.777604837896746,
          "newspaper": 19.6,
          "radio": 45.1,
          "sales": 22.6
         },
         {
          "TV": 139.5,
          "lr_predict": 13.66395488953395,
          "newspaper": 26.6,
          "radio": 2.1,
          "sales": 10.3
         },
         {
          "TV": 191.1,
          "lr_predict": 16.11684553587777,
          "newspaper": 18.2,
          "radio": 28.7,
          "sales": 17.3
         },
         {
          "TV": 286,
          "lr_predict": 20.628072712971345,
          "newspaper": 3.7,
          "radio": 13.9,
          "sales": 15.9
         },
         {
          "TV": 18.7,
          "lr_predict": 7.921528725225164,
          "newspaper": 23.4,
          "radio": 12.1,
          "sales": 6.7
         },
         {
          "TV": 39.5,
          "lr_predict": 8.910290846231975,
          "newspaper": 5.8,
          "radio": 41.1,
          "sales": 10.8
         },
         {
          "TV": 75.5,
          "lr_predict": 10.621609901820687,
          "newspaper": 6,
          "radio": 10.8,
          "sales": 9.9
         },
         {
          "TV": 17.2,
          "lr_predict": 7.8502237645756345,
          "newspaper": 31.6,
          "radio": 4.1,
          "sales": 5.9
         },
         {
          "TV": 166.8,
          "lr_predict": 14.96170517335539,
          "newspaper": 3.6,
          "radio": 42,
          "sales": 19.6
         },
         {
          "TV": 149.7,
          "lr_predict": 14.14882862195075,
          "newspaper": 6,
          "radio": 35.6,
          "sales": 17.3
         },
         {
          "TV": 38.2,
          "lr_predict": 8.84849321366905,
          "newspaper": 13.8,
          "radio": 3.7,
          "sales": 7.6
         },
         {
          "TV": 94.2,
          "lr_predict": 11.510545077918156,
          "newspaper": 8.1,
          "radio": 4.9,
          "sales": 9.7
         },
         {
          "TV": 177,
          "lr_predict": 15.44657890577219,
          "newspaper": 6.4,
          "radio": 9.3,
          "sales": 12.8
         },
         {
          "TV": 283.6,
          "lr_predict": 20.513984775932094,
          "newspaper": 66.2,
          "radio": 42,
          "sales": 25.5
         },
         {
          "TV": 232.1,
          "lr_predict": 18.065847793631576,
          "newspaper": 8.7,
          "radio": 8.6,
          "sales": 13.4
         }
        ],
        "data-34e7e843ad0074e61184193b436bd1c3": [
         {
          "lr_predict": 7.065869197430809,
          "xfit": 0.7
         },
         {
          "lr_predict": 7.0940387055992336,
          "xfit": 1.2925851703406814
         },
         {
          "lr_predict": 7.122208213767658,
          "xfit": 1.8851703406813627
         },
         {
          "lr_predict": 7.150377721936083,
          "xfit": 2.4777555110220444
         },
         {
          "lr_predict": 7.178547230104508,
          "xfit": 3.070340681362725
         },
         {
          "lr_predict": 7.206716738272932,
          "xfit": 3.662925851703407
         },
         {
          "lr_predict": 7.234886246441357,
          "xfit": 4.255511022044089
         },
         {
          "lr_predict": 7.263055754609781,
          "xfit": 4.848096192384769
         },
         {
          "lr_predict": 7.291225262778206,
          "xfit": 5.440681362725451
         },
         {
          "lr_predict": 7.319394770946631,
          "xfit": 6.033266533066133
         },
         {
          "lr_predict": 7.347564279115056,
          "xfit": 6.625851703406814
         },
         {
          "lr_predict": 7.3757337872834805,
          "xfit": 7.218436873747495
         },
         {
          "lr_predict": 7.403903295451905,
          "xfit": 7.811022044088177
         },
         {
          "lr_predict": 7.43207280362033,
          "xfit": 8.403607214428858
         },
         {
          "lr_predict": 7.460242311788755,
          "xfit": 8.996192384769538
         },
         {
          "lr_predict": 7.48841181995718,
          "xfit": 9.58877755511022
         },
         {
          "lr_predict": 7.516581328125604,
          "xfit": 10.181362725450901
         },
         {
          "lr_predict": 7.544750836294029,
          "xfit": 10.773947895791583
         },
         {
          "lr_predict": 7.572920344462454,
          "xfit": 11.366533066132265
         },
         {
          "lr_predict": 7.601089852630878,
          "xfit": 11.959118236472944
         },
         {
          "lr_predict": 7.629259360799303,
          "xfit": 12.551703406813626
         },
         {
          "lr_predict": 7.6574288689677275,
          "xfit": 13.144288577154308
         },
         {
          "lr_predict": 7.685598377136152,
          "xfit": 13.73687374749499
         },
         {
          "lr_predict": 7.713767885304577,
          "xfit": 14.329458917835671
         },
         {
          "lr_predict": 7.741937393473002,
          "xfit": 14.922044088176353
         },
         {
          "lr_predict": 7.770106901641427,
          "xfit": 15.514629258517033
         },
         {
          "lr_predict": 7.798276409809851,
          "xfit": 16.107214428857716
         },
         {
          "lr_predict": 7.826445917978276,
          "xfit": 16.699799599198396
         },
         {
          "lr_predict": 7.854615426146701,
          "xfit": 17.292384769539076
         },
         {
          "lr_predict": 7.882784934315126,
          "xfit": 17.88496993987976
         },
         {
          "lr_predict": 7.9109544424835505,
          "xfit": 18.47755511022044
         },
         {
          "lr_predict": 7.939123950651975,
          "xfit": 19.070140280561123
         },
         {
          "lr_predict": 7.9672934588204,
          "xfit": 19.662725450901803
         },
         {
          "lr_predict": 7.995462966988825,
          "xfit": 20.255310621242483
         },
         {
          "lr_predict": 8.02363247515725,
          "xfit": 20.847895791583166
         },
         {
          "lr_predict": 8.051801983325674,
          "xfit": 21.440480961923846
         },
         {
          "lr_predict": 8.0799714914941,
          "xfit": 22.03306613226453
         },
         {
          "lr_predict": 8.108140999662524,
          "xfit": 22.62565130260521
         },
         {
          "lr_predict": 8.136310507830949,
          "xfit": 23.21823647294589
         },
         {
          "lr_predict": 8.164480015999374,
          "xfit": 23.810821643286573
         },
         {
          "lr_predict": 8.192649524167798,
          "xfit": 24.403406813627253
         },
         {
          "lr_predict": 8.220819032336223,
          "xfit": 24.995991983967937
         },
         {
          "lr_predict": 8.248988540504648,
          "xfit": 25.588577154308616
         },
         {
          "lr_predict": 8.277158048673073,
          "xfit": 26.181162324649296
         },
         {
          "lr_predict": 8.305327556841497,
          "xfit": 26.77374749498998
         },
         {
          "lr_predict": 8.333497065009922,
          "xfit": 27.36633266533066
         },
         {
          "lr_predict": 8.361666573178347,
          "xfit": 27.958917835671343
         },
         {
          "lr_predict": 8.38983608134677,
          "xfit": 28.551503006012023
         },
         {
          "lr_predict": 8.418005589515197,
          "xfit": 29.144088176352707
         },
         {
          "lr_predict": 8.44617509768362,
          "xfit": 29.736673346693387
         },
         {
          "lr_predict": 8.474344605852044,
          "xfit": 30.329258517034067
         },
         {
          "lr_predict": 8.50251411402047,
          "xfit": 30.92184368737475
         },
         {
          "lr_predict": 8.530683622188894,
          "xfit": 31.51442885771543
         },
         {
          "lr_predict": 8.558853130357319,
          "xfit": 32.10701402805611
         },
         {
          "lr_predict": 8.587022638525744,
          "xfit": 32.6995991983968
         },
         {
          "lr_predict": 8.615192146694168,
          "xfit": 33.29218436873748
         },
         {
          "lr_predict": 8.643361654862593,
          "xfit": 33.88476953907816
         },
         {
          "lr_predict": 8.671531163031018,
          "xfit": 34.47735470941884
         },
         {
          "lr_predict": 8.699700671199443,
          "xfit": 35.069939879759524
         },
         {
          "lr_predict": 8.727870179367867,
          "xfit": 35.6625250501002
         },
         {
          "lr_predict": 8.756039687536292,
          "xfit": 36.25511022044088
         },
         {
          "lr_predict": 8.784209195704717,
          "xfit": 36.84769539078157
         },
         {
          "lr_predict": 8.812378703873142,
          "xfit": 37.44028056112225
         },
         {
          "lr_predict": 8.840548212041567,
          "xfit": 38.03286573146293
         },
         {
          "lr_predict": 8.868717720209991,
          "xfit": 38.62545090180361
         },
         {
          "lr_predict": 8.896887228378416,
          "xfit": 39.218036072144294
         },
         {
          "lr_predict": 8.925056736546841,
          "xfit": 39.81062124248497
         },
         {
          "lr_predict": 8.953226244715266,
          "xfit": 40.403206412825654
         },
         {
          "lr_predict": 8.98139575288369,
          "xfit": 40.99579158316634
         },
         {
          "lr_predict": 9.009565261052115,
          "xfit": 41.58837675350702
         },
         {
          "lr_predict": 9.03773476922054,
          "xfit": 42.1809619238477
         },
         {
          "lr_predict": 9.065904277388965,
          "xfit": 42.77354709418838
         },
         {
          "lr_predict": 9.09407378555739,
          "xfit": 43.366132264529064
         },
         {
          "lr_predict": 9.122243293725814,
          "xfit": 43.95871743486974
         },
         {
          "lr_predict": 9.15041280189424,
          "xfit": 44.551302605210424
         },
         {
          "lr_predict": 9.178582310062664,
          "xfit": 45.14388777555111
         },
         {
          "lr_predict": 9.206751818231087,
          "xfit": 45.736472945891784
         },
         {
          "lr_predict": 9.234921326399512,
          "xfit": 46.32905811623247
         },
         {
          "lr_predict": 9.263090834567937,
          "xfit": 46.92164328657315
         },
         {
          "lr_predict": 9.291260342736363,
          "xfit": 47.514228456913834
         },
         {
          "lr_predict": 9.319429850904786,
          "xfit": 48.10681362725451
         },
         {
          "lr_predict": 9.347599359073211,
          "xfit": 48.699398797595194
         },
         {
          "lr_predict": 9.375768867241636,
          "xfit": 49.29198396793588
         },
         {
          "lr_predict": 9.40393837541006,
          "xfit": 49.884569138276554
         },
         {
          "lr_predict": 9.432107883578485,
          "xfit": 50.47715430861724
         },
         {
          "lr_predict": 9.46027739174691,
          "xfit": 51.06973947895792
         },
         {
          "lr_predict": 9.488446899915335,
          "xfit": 51.6623246492986
         },
         {
          "lr_predict": 9.51661640808376,
          "xfit": 52.25490981963928
         },
         {
          "lr_predict": 9.544785916252184,
          "xfit": 52.847494989979964
         },
         {
          "lr_predict": 9.57295542442061,
          "xfit": 53.44008016032065
         },
         {
          "lr_predict": 9.601124932589034,
          "xfit": 54.032665330661324
         },
         {
          "lr_predict": 9.629294440757459,
          "xfit": 54.62525050100201
         },
         {
          "lr_predict": 9.657463948925884,
          "xfit": 55.21783567134269
         },
         {
          "lr_predict": 9.685633457094308,
          "xfit": 55.81042084168337
         },
         {
          "lr_predict": 9.713802965262733,
          "xfit": 56.40300601202405
         },
         {
          "lr_predict": 9.741972473431158,
          "xfit": 56.995591182364734
         },
         {
          "lr_predict": 9.770141981599583,
          "xfit": 57.58817635270542
         },
         {
          "lr_predict": 9.798311489768007,
          "xfit": 58.180761523046094
         },
         {
          "lr_predict": 9.826480997936432,
          "xfit": 58.77334669338678
         },
         {
          "lr_predict": 9.854650506104857,
          "xfit": 59.36593186372746
         },
         {
          "lr_predict": 9.882820014273282,
          "xfit": 59.95851703406814
         },
         {
          "lr_predict": 9.910989522441707,
          "xfit": 60.55110220440882
         },
         {
          "lr_predict": 9.939159030610131,
          "xfit": 61.143687374749504
         },
         {
          "lr_predict": 9.967328538778556,
          "xfit": 61.73627254509018
         },
         {
          "lr_predict": 9.995498046946981,
          "xfit": 62.328857715430864
         },
         {
          "lr_predict": 10.023667555115406,
          "xfit": 62.92144288577155
         },
         {
          "lr_predict": 10.05183706328383,
          "xfit": 63.51402805611223
         },
         {
          "lr_predict": 10.080006571452255,
          "xfit": 64.10661322645291
         },
         {
          "lr_predict": 10.10817607962068,
          "xfit": 64.69919839679359
         },
         {
          "lr_predict": 10.136345587789105,
          "xfit": 65.29178356713427
         },
         {
          "lr_predict": 10.16451509595753,
          "xfit": 65.88436873747496
         },
         {
          "lr_predict": 10.192684604125954,
          "xfit": 66.47695390781564
         },
         {
          "lr_predict": 10.22085411229438,
          "xfit": 67.06953907815631
         },
         {
          "lr_predict": 10.249023620462804,
          "xfit": 67.662124248497
         },
         {
          "lr_predict": 10.277193128631229,
          "xfit": 68.25470941883768
         },
         {
          "lr_predict": 10.305362636799654,
          "xfit": 68.84729458917836
         },
         {
          "lr_predict": 10.333532144968078,
          "xfit": 69.43987975951904
         },
         {
          "lr_predict": 10.361701653136503,
          "xfit": 70.03246492985973
         },
         {
          "lr_predict": 10.389871161304926,
          "xfit": 70.6250501002004
         },
         {
          "lr_predict": 10.418040669473351,
          "xfit": 71.21763527054108
         },
         {
          "lr_predict": 10.446210177641776,
          "xfit": 71.81022044088176
         },
         {
          "lr_predict": 10.4743796858102,
          "xfit": 72.40280561122245
         },
         {
          "lr_predict": 10.502549193978625,
          "xfit": 72.99539078156313
         },
         {
          "lr_predict": 10.53071870214705,
          "xfit": 73.58797595190381
         },
         {
          "lr_predict": 10.558888210315475,
          "xfit": 74.1805611222445
         },
         {
          "lr_predict": 10.5870577184839,
          "xfit": 74.77314629258517
         },
         {
          "lr_predict": 10.615227226652324,
          "xfit": 75.36573146292585
         },
         {
          "lr_predict": 10.64339673482075,
          "xfit": 75.95831663326653
         },
         {
          "lr_predict": 10.671566242989174,
          "xfit": 76.55090180360722
         },
         {
          "lr_predict": 10.699735751157599,
          "xfit": 77.1434869739479
         },
         {
          "lr_predict": 10.727905259326024,
          "xfit": 77.73607214428858
         },
         {
          "lr_predict": 10.756074767494448,
          "xfit": 78.32865731462927
         },
         {
          "lr_predict": 10.784244275662873,
          "xfit": 78.92124248496994
         },
         {
          "lr_predict": 10.812413783831298,
          "xfit": 79.51382765531062
         },
         {
          "lr_predict": 10.840583291999723,
          "xfit": 80.1064128256513
         },
         {
          "lr_predict": 10.868752800168147,
          "xfit": 80.69899799599199
         },
         {
          "lr_predict": 10.896922308336572,
          "xfit": 81.29158316633267
         },
         {
          "lr_predict": 10.925091816504997,
          "xfit": 81.88416833667335
         },
         {
          "lr_predict": 10.953261324673422,
          "xfit": 82.47675350701404
         },
         {
          "lr_predict": 10.981430832841845,
          "xfit": 83.06933867735471
         },
         {
          "lr_predict": 11.00960034101027,
          "xfit": 83.66192384769539
         },
         {
          "lr_predict": 11.037769849178694,
          "xfit": 84.25450901803607
         },
         {
          "lr_predict": 11.06593935734712,
          "xfit": 84.84709418837676
         },
         {
          "lr_predict": 11.094108865515544,
          "xfit": 85.43967935871744
         },
         {
          "lr_predict": 11.122278373683969,
          "xfit": 86.03226452905812
         },
         {
          "lr_predict": 11.150447881852394,
          "xfit": 86.6248496993988
         },
         {
          "lr_predict": 11.178617390020818,
          "xfit": 87.21743486973948
         },
         {
          "lr_predict": 11.206786898189243,
          "xfit": 87.81002004008016
         },
         {
          "lr_predict": 11.234956406357668,
          "xfit": 88.40260521042084
         },
         {
          "lr_predict": 11.263125914526093,
          "xfit": 88.99519038076153
         },
         {
          "lr_predict": 11.291295422694517,
          "xfit": 89.58777555110221
         },
         {
          "lr_predict": 11.319464930862942,
          "xfit": 90.1803607214429
         },
         {
          "lr_predict": 11.347634439031367,
          "xfit": 90.77294589178356
         },
         {
          "lr_predict": 11.375803947199792,
          "xfit": 91.36553106212425
         },
         {
          "lr_predict": 11.403973455368217,
          "xfit": 91.95811623246493
         },
         {
          "lr_predict": 11.432142963536641,
          "xfit": 92.55070140280561
         },
         {
          "lr_predict": 11.460312471705066,
          "xfit": 93.1432865731463
         },
         {
          "lr_predict": 11.488481979873491,
          "xfit": 93.73587174348698
         },
         {
          "lr_predict": 11.516651488041916,
          "xfit": 94.32845691382767
         },
         {
          "lr_predict": 11.54482099621034,
          "xfit": 94.92104208416833
         },
         {
          "lr_predict": 11.572990504378765,
          "xfit": 95.51362725450902
         },
         {
          "lr_predict": 11.60116001254719,
          "xfit": 96.1062124248497
         },
         {
          "lr_predict": 11.629329520715615,
          "xfit": 96.69879759519038
         },
         {
          "lr_predict": 11.65749902888404,
          "xfit": 97.29138276553107
         },
         {
          "lr_predict": 11.685668537052464,
          "xfit": 97.88396793587175
         },
         {
          "lr_predict": 11.71383804522089,
          "xfit": 98.47655310621244
         },
         {
          "lr_predict": 11.742007553389314,
          "xfit": 99.0691382765531
         },
         {
          "lr_predict": 11.770177061557739,
          "xfit": 99.66172344689379
         },
         {
          "lr_predict": 11.798346569726164,
          "xfit": 100.25430861723447
         },
         {
          "lr_predict": 11.826516077894588,
          "xfit": 100.84689378757515
         },
         {
          "lr_predict": 11.854685586063013,
          "xfit": 101.43947895791584
         },
         {
          "lr_predict": 11.882855094231438,
          "xfit": 102.03206412825652
         },
         {
          "lr_predict": 11.911024602399863,
          "xfit": 102.62464929859719
         },
         {
          "lr_predict": 11.939194110568287,
          "xfit": 103.21723446893787
         },
         {
          "lr_predict": 11.967363618736712,
          "xfit": 103.80981963927856
         },
         {
          "lr_predict": 11.995533126905137,
          "xfit": 104.40240480961924
         },
         {
          "lr_predict": 12.023702635073562,
          "xfit": 104.99498997995993
         },
         {
          "lr_predict": 12.051872143241987,
          "xfit": 105.58757515030061
         },
         {
          "lr_predict": 12.080041651410411,
          "xfit": 106.18016032064129
         },
         {
          "lr_predict": 12.108211159578836,
          "xfit": 106.77274549098196
         },
         {
          "lr_predict": 12.136380667747261,
          "xfit": 107.36533066132264
         },
         {
          "lr_predict": 12.164550175915686,
          "xfit": 107.95791583166333
         },
         {
          "lr_predict": 12.19271968408411,
          "xfit": 108.55050100200401
         },
         {
          "lr_predict": 12.220889192252535,
          "xfit": 109.1430861723447
         },
         {
          "lr_predict": 12.24905870042096,
          "xfit": 109.73567134268538
         },
         {
          "lr_predict": 12.277228208589385,
          "xfit": 110.32825651302606
         },
         {
          "lr_predict": 12.305397716757808,
          "xfit": 110.92084168336673
         },
         {
          "lr_predict": 12.333567224926233,
          "xfit": 111.51342685370741
         },
         {
          "lr_predict": 12.361736733094657,
          "xfit": 112.1060120240481
         },
         {
          "lr_predict": 12.389906241263082,
          "xfit": 112.69859719438878
         },
         {
          "lr_predict": 12.418075749431509,
          "xfit": 113.29118236472947
         },
         {
          "lr_predict": 12.446245257599934,
          "xfit": 113.88376753507015
         },
         {
          "lr_predict": 12.474414765768358,
          "xfit": 114.47635270541083
         },
         {
          "lr_predict": 12.502584273936781,
          "xfit": 115.0689378757515
         },
         {
          "lr_predict": 12.530753782105206,
          "xfit": 115.66152304609219
         },
         {
          "lr_predict": 12.558923290273631,
          "xfit": 116.25410821643287
         },
         {
          "lr_predict": 12.587092798442056,
          "xfit": 116.84669338677355
         },
         {
          "lr_predict": 12.61526230661048,
          "xfit": 117.43927855711424
         },
         {
          "lr_predict": 12.643431814778905,
          "xfit": 118.03186372745492
         },
         {
          "lr_predict": 12.671601322947328,
          "xfit": 118.62444889779559
         },
         {
          "lr_predict": 12.699770831115755,
          "xfit": 119.21703406813627
         },
         {
          "lr_predict": 12.72794033928418,
          "xfit": 119.80961923847696
         },
         {
          "lr_predict": 12.756109847452604,
          "xfit": 120.40220440881764
         },
         {
          "lr_predict": 12.78427935562103,
          "xfit": 120.99478957915832
         },
         {
          "lr_predict": 12.812448863789454,
          "xfit": 121.587374749499
         },
         {
          "lr_predict": 12.840618371957879,
          "xfit": 122.17995991983969
         },
         {
          "lr_predict": 12.868787880126302,
          "xfit": 122.77254509018036
         },
         {
          "lr_predict": 12.896957388294727,
          "xfit": 123.36513026052104
         },
         {
          "lr_predict": 12.925126896463151,
          "xfit": 123.95771543086173
         },
         {
          "lr_predict": 12.953296404631576,
          "xfit": 124.55030060120241
         },
         {
          "lr_predict": 12.981465912800001,
          "xfit": 125.14288577154309
         },
         {
          "lr_predict": 13.009635420968426,
          "xfit": 125.73547094188378
         },
         {
          "lr_predict": 13.03780492913685,
          "xfit": 126.32805611222446
         },
         {
          "lr_predict": 13.065974437305275,
          "xfit": 126.92064128256513
         },
         {
          "lr_predict": 13.0941439454737,
          "xfit": 127.51322645290581
         },
         {
          "lr_predict": 13.122313453642125,
          "xfit": 128.1058116232465
         },
         {
          "lr_predict": 13.15048296181055,
          "xfit": 128.69839679358716
         },
         {
          "lr_predict": 13.178652469978974,
          "xfit": 129.29098196392783
         },
         {
          "lr_predict": 13.2068219781474,
          "xfit": 129.88356713426853
         },
         {
          "lr_predict": 13.234991486315824,
          "xfit": 130.4761523046092
         },
         {
          "lr_predict": 13.263160994484249,
          "xfit": 131.0687374749499
         },
         {
          "lr_predict": 13.291330502652674,
          "xfit": 131.66132264529057
         },
         {
          "lr_predict": 13.319500010821098,
          "xfit": 132.25390781563127
         },
         {
          "lr_predict": 13.347669518989523,
          "xfit": 132.84649298597193
         },
         {
          "lr_predict": 13.375839027157948,
          "xfit": 133.4390781563126
         },
         {
          "lr_predict": 13.404008535326373,
          "xfit": 134.0316633266533
         },
         {
          "lr_predict": 13.432178043494797,
          "xfit": 134.62424849699397
         },
         {
          "lr_predict": 13.460347551663222,
          "xfit": 135.21683366733467
         },
         {
          "lr_predict": 13.488517059831647,
          "xfit": 135.80941883767534
         },
         {
          "lr_predict": 13.516686568000072,
          "xfit": 136.40200400801604
         },
         {
          "lr_predict": 13.544856076168497,
          "xfit": 136.9945891783567
         },
         {
          "lr_predict": 13.573025584336921,
          "xfit": 137.58717434869737
         },
         {
          "lr_predict": 13.601195092505346,
          "xfit": 138.17975951903807
         },
         {
          "lr_predict": 13.629364600673771,
          "xfit": 138.77234468937874
         },
         {
          "lr_predict": 13.657534108842196,
          "xfit": 139.36492985971944
         },
         {
          "lr_predict": 13.68570361701062,
          "xfit": 139.9575150300601
         },
         {
          "lr_predict": 13.713873125179044,
          "xfit": 140.55010020040078
         },
         {
          "lr_predict": 13.74204263334747,
          "xfit": 141.14268537074148
         },
         {
          "lr_predict": 13.770212141515893,
          "xfit": 141.73527054108214
         },
         {
          "lr_predict": 13.79838164968432,
          "xfit": 142.32785571142284
         },
         {
          "lr_predict": 13.826551157852743,
          "xfit": 142.9204408817635
         },
         {
          "lr_predict": 13.85472066602117,
          "xfit": 143.5130260521042
         },
         {
          "lr_predict": 13.882890174189592,
          "xfit": 144.10561122244488
         },
         {
          "lr_predict": 13.911059682358017,
          "xfit": 144.69819639278555
         },
         {
          "lr_predict": 13.939229190526442,
          "xfit": 145.29078156312625
         },
         {
          "lr_predict": 13.967398698694867,
          "xfit": 145.88336673346691
         },
         {
          "lr_predict": 13.995568206863293,
          "xfit": 146.4759519038076
         },
         {
          "lr_predict": 14.023737715031716,
          "xfit": 147.06853707414828
         },
         {
          "lr_predict": 14.051907223200143,
          "xfit": 147.66112224448898
         },
         {
          "lr_predict": 14.080076731368566,
          "xfit": 148.25370741482965
         },
         {
          "lr_predict": 14.108246239536989,
          "xfit": 148.84629258517032
         },
         {
          "lr_predict": 14.136415747705415,
          "xfit": 149.43887775551102
         },
         {
          "lr_predict": 14.164585255873838,
          "xfit": 150.03146292585168
         },
         {
          "lr_predict": 14.192754764042265,
          "xfit": 150.62404809619238
         },
         {
          "lr_predict": 14.220924272210688,
          "xfit": 151.21663326653305
         },
         {
          "lr_predict": 14.249093780379114,
          "xfit": 151.80921843687375
         },
         {
          "lr_predict": 14.27726328854754,
          "xfit": 152.40180360721442
         },
         {
          "lr_predict": 14.305432796715962,
          "xfit": 152.9943887775551
         },
         {
          "lr_predict": 14.333602304884389,
          "xfit": 153.58697394789579
         },
         {
          "lr_predict": 14.361771813052812,
          "xfit": 154.17955911823645
         },
         {
          "lr_predict": 14.389941321221238,
          "xfit": 154.77214428857715
         },
         {
          "lr_predict": 14.418110829389661,
          "xfit": 155.36472945891782
         },
         {
          "lr_predict": 14.446280337558088,
          "xfit": 155.95731462925852
         },
         {
          "lr_predict": 14.474449845726511,
          "xfit": 156.5498997995992
         },
         {
          "lr_predict": 14.502619353894936,
          "xfit": 157.14248496993986
         },
         {
          "lr_predict": 14.53078886206336,
          "xfit": 157.73507014028056
         },
         {
          "lr_predict": 14.558958370231785,
          "xfit": 158.32765531062122
         },
         {
          "lr_predict": 14.58712787840021,
          "xfit": 158.92024048096192
         },
         {
          "lr_predict": 14.615297386568635,
          "xfit": 159.5128256513026
         },
         {
          "lr_predict": 14.64346689473706,
          "xfit": 160.1054108216433
         },
         {
          "lr_predict": 14.671636402905484,
          "xfit": 160.69799599198396
         },
         {
          "lr_predict": 14.69980591107391,
          "xfit": 161.29058116232463
         },
         {
          "lr_predict": 14.727975419242334,
          "xfit": 161.88316633266533
         },
         {
          "lr_predict": 14.756144927410759,
          "xfit": 162.475751503006
         },
         {
          "lr_predict": 14.784314435579184,
          "xfit": 163.0683366733467
         },
         {
          "lr_predict": 14.812483943747608,
          "xfit": 163.66092184368736
         },
         {
          "lr_predict": 14.840653451916033,
          "xfit": 164.25350701402806
         },
         {
          "lr_predict": 14.868822960084458,
          "xfit": 164.84609218436873
         },
         {
          "lr_predict": 14.896992468252883,
          "xfit": 165.4386773547094
         },
         {
          "lr_predict": 14.925161976421307,
          "xfit": 166.0312625250501
         },
         {
          "lr_predict": 14.953331484589732,
          "xfit": 166.62384769539077
         },
         {
          "lr_predict": 14.981500992758157,
          "xfit": 167.21643286573146
         },
         {
          "lr_predict": 15.009670500926582,
          "xfit": 167.80901803607213
         },
         {
          "lr_predict": 15.037840009095007,
          "xfit": 168.4016032064128
         },
         {
          "lr_predict": 15.066009517263431,
          "xfit": 168.9941883767535
         },
         {
          "lr_predict": 15.094179025431856,
          "xfit": 169.58677354709417
         },
         {
          "lr_predict": 15.122348533600281,
          "xfit": 170.17935871743487
         },
         {
          "lr_predict": 15.150518041768706,
          "xfit": 170.77194388777554
         },
         {
          "lr_predict": 15.17868754993713,
          "xfit": 171.36452905811623
         },
         {
          "lr_predict": 15.206857058105555,
          "xfit": 171.9571142284569
         },
         {
          "lr_predict": 15.235026566273978,
          "xfit": 172.54969939879757
         },
         {
          "lr_predict": 15.263196074442405,
          "xfit": 173.14228456913827
         },
         {
          "lr_predict": 15.291365582610828,
          "xfit": 173.73486973947894
         },
         {
          "lr_predict": 15.319535090779254,
          "xfit": 174.32745490981964
         },
         {
          "lr_predict": 15.347704598947677,
          "xfit": 174.9200400801603
         },
         {
          "lr_predict": 15.375874107116104,
          "xfit": 175.512625250501
         },
         {
          "lr_predict": 15.404043615284529,
          "xfit": 176.10521042084167
         },
         {
          "lr_predict": 15.432213123452952,
          "xfit": 176.69779559118234
         },
         {
          "lr_predict": 15.460382631621378,
          "xfit": 177.29038076152304
         },
         {
          "lr_predict": 15.488552139789801,
          "xfit": 177.8829659318637
         },
         {
          "lr_predict": 15.516721647958228,
          "xfit": 178.4755511022044
         },
         {
          "lr_predict": 15.544891156126651,
          "xfit": 179.06813627254508
         },
         {
          "lr_predict": 15.573060664295078,
          "xfit": 179.66072144288577
         },
         {
          "lr_predict": 15.6012301724635,
          "xfit": 180.25330661322644
         },
         {
          "lr_predict": 15.629399680631925,
          "xfit": 180.8458917835671
         },
         {
          "lr_predict": 15.65756918880035,
          "xfit": 181.4384769539078
         },
         {
          "lr_predict": 15.685738696968775,
          "xfit": 182.03106212424848
         },
         {
          "lr_predict": 15.7139082051372,
          "xfit": 182.62364729458918
         },
         {
          "lr_predict": 15.742077713305624,
          "xfit": 183.21623246492985
         },
         {
          "lr_predict": 15.770247221474051,
          "xfit": 183.80881763527054
         },
         {
          "lr_predict": 15.798416729642474,
          "xfit": 184.4014028056112
         },
         {
          "lr_predict": 15.826586237810899,
          "xfit": 184.99398797595188
         },
         {
          "lr_predict": 15.854755745979324,
          "xfit": 185.58657314629258
         },
         {
          "lr_predict": 15.882925254147748,
          "xfit": 186.17915831663325
         },
         {
          "lr_predict": 15.911094762316173,
          "xfit": 186.77174348697395
         },
         {
          "lr_predict": 15.939264270484598,
          "xfit": 187.36432865731462
         },
         {
          "lr_predict": 15.967433778653023,
          "xfit": 187.9569138276553
         },
         {
          "lr_predict": 15.995603286821447,
          "xfit": 188.54949899799598
         },
         {
          "lr_predict": 16.023772794989874,
          "xfit": 189.14208416833665
         },
         {
          "lr_predict": 16.0519423031583,
          "xfit": 189.73466933867735
         },
         {
          "lr_predict": 16.080111811326724,
          "xfit": 190.32725450901802
         },
         {
          "lr_predict": 16.10828131949515,
          "xfit": 190.91983967935872
         },
         {
          "lr_predict": 16.136450827663573,
          "xfit": 191.51242484969939
         },
         {
          "lr_predict": 16.164620335831998,
          "xfit": 192.10501002004008
         },
         {
          "lr_predict": 16.192789844000423,
          "xfit": 192.69759519038075
         },
         {
          "lr_predict": 16.220959352168844,
          "xfit": 193.29018036072142
         },
         {
          "lr_predict": 16.249128860337272,
          "xfit": 193.88276553106212
         },
         {
          "lr_predict": 16.277298368505694,
          "xfit": 194.4753507014028
         },
         {
          "lr_predict": 16.305467876674122,
          "xfit": 195.0679358717435
         },
         {
          "lr_predict": 16.333637384842547,
          "xfit": 195.66052104208416
         },
         {
          "lr_predict": 16.36180689301097,
          "xfit": 196.25310621242485
         },
         {
          "lr_predict": 16.389976401179396,
          "xfit": 196.84569138276552
         },
         {
          "lr_predict": 16.418145909347817,
          "xfit": 197.4382765531062
         },
         {
          "lr_predict": 16.446315417516246,
          "xfit": 198.0308617234469
         },
         {
          "lr_predict": 16.474484925684667,
          "xfit": 198.62344689378756
         },
         {
          "lr_predict": 16.502654433853095,
          "xfit": 199.21603206412826
         },
         {
          "lr_predict": 16.530823942021517,
          "xfit": 199.80861723446893
         },
         {
          "lr_predict": 16.55899345018994,
          "xfit": 200.4012024048096
         },
         {
          "lr_predict": 16.587162958358366,
          "xfit": 200.9937875751503
         },
         {
          "lr_predict": 16.61533246652679,
          "xfit": 201.58637274549096
         },
         {
          "lr_predict": 16.643501974695216,
          "xfit": 202.17895791583166
         },
         {
          "lr_predict": 16.67167148286364,
          "xfit": 202.77154308617233
         },
         {
          "lr_predict": 16.699840991032065,
          "xfit": 203.36412825651303
         },
         {
          "lr_predict": 16.72801049920049,
          "xfit": 203.9567134268537
         },
         {
          "lr_predict": 16.756180007368915,
          "xfit": 204.54929859719437
         },
         {
          "lr_predict": 16.78434951553734,
          "xfit": 205.14188376753506
         },
         {
          "lr_predict": 16.812519023705764,
          "xfit": 205.73446893787573
         },
         {
          "lr_predict": 16.84068853187419,
          "xfit": 206.32705410821643
         },
         {
          "lr_predict": 16.868858040042614,
          "xfit": 206.9196392785571
         },
         {
          "lr_predict": 16.89702754821104,
          "xfit": 207.5122244488978
         },
         {
          "lr_predict": 16.925197056379464,
          "xfit": 208.10480961923847
         },
         {
          "lr_predict": 16.95336656454789,
          "xfit": 208.69739478957914
         },
         {
          "lr_predict": 16.981536072716313,
          "xfit": 209.28997995991983
         },
         {
          "lr_predict": 17.009705580884738,
          "xfit": 209.8825651302605
         },
         {
          "lr_predict": 17.037875089053163,
          "xfit": 210.4751503006012
         },
         {
          "lr_predict": 17.066044597221588,
          "xfit": 211.06773547094187
         },
         {
          "lr_predict": 17.094214105390012,
          "xfit": 211.66032064128257
         },
         {
          "lr_predict": 17.122383613558437,
          "xfit": 212.25290581162324
         },
         {
          "lr_predict": 17.15055312172686,
          "xfit": 212.8454909819639
         },
         {
          "lr_predict": 17.178722629895287,
          "xfit": 213.4380761523046
         },
         {
          "lr_predict": 17.206892138063708,
          "xfit": 214.03066132264527
         },
         {
          "lr_predict": 17.235061646232136,
          "xfit": 214.62324649298597
         },
         {
          "lr_predict": 17.263231154400557,
          "xfit": 215.21583166332664
         },
         {
          "lr_predict": 17.291400662568986,
          "xfit": 215.80841683366734
         },
         {
          "lr_predict": 17.31957017073741,
          "xfit": 216.401002004008
         },
         {
          "lr_predict": 17.347739678905832,
          "xfit": 216.99358717434868
         },
         {
          "lr_predict": 17.37590918707426,
          "xfit": 217.58617234468937
         },
         {
          "lr_predict": 17.40407869524268,
          "xfit": 218.17875751503004
         },
         {
          "lr_predict": 17.43224820341111,
          "xfit": 218.77134268537074
         },
         {
          "lr_predict": 17.46041771157953,
          "xfit": 219.3639278557114
         },
         {
          "lr_predict": 17.48858721974796,
          "xfit": 219.9565130260521
         },
         {
          "lr_predict": 17.51675672791638,
          "xfit": 220.54909819639278
         },
         {
          "lr_predict": 17.544926236084805,
          "xfit": 221.14168336673345
         },
         {
          "lr_predict": 17.57309574425323,
          "xfit": 221.73426853707414
         },
         {
          "lr_predict": 17.601265252421655,
          "xfit": 222.3268537074148
         },
         {
          "lr_predict": 17.62943476059008,
          "xfit": 222.9194388777555
         },
         {
          "lr_predict": 17.657604268758504,
          "xfit": 223.51202404809618
         },
         {
          "lr_predict": 17.68577377692693,
          "xfit": 224.10460921843688
         },
         {
          "lr_predict": 17.713943285095354,
          "xfit": 224.69719438877755
         },
         {
          "lr_predict": 17.74211279326378,
          "xfit": 225.28977955911822
         },
         {
          "lr_predict": 17.770282301432204,
          "xfit": 225.8823647294589
         },
         {
          "lr_predict": 17.79845180960063,
          "xfit": 226.47494989979958
         },
         {
          "lr_predict": 17.826621317769053,
          "xfit": 227.06753507014028
         },
         {
          "lr_predict": 17.854790825937478,
          "xfit": 227.66012024048095
         },
         {
          "lr_predict": 17.882960334105903,
          "xfit": 228.25270541082165
         },
         {
          "lr_predict": 17.911129842274327,
          "xfit": 228.84529058116232
         },
         {
          "lr_predict": 17.939299350442752,
          "xfit": 229.437875751503
         },
         {
          "lr_predict": 17.967468858611177,
          "xfit": 230.03046092184368
         },
         {
          "lr_predict": 17.995638366779602,
          "xfit": 230.62304609218435
         },
         {
          "lr_predict": 18.023807874948027,
          "xfit": 231.21563126252505
         },
         {
          "lr_predict": 18.05197738311645,
          "xfit": 231.80821643286572
         },
         {
          "lr_predict": 18.080146891284876,
          "xfit": 232.4008016032064
         },
         {
          "lr_predict": 18.1083163994533,
          "xfit": 232.9933867735471
         },
         {
          "lr_predict": 18.136485907621726,
          "xfit": 233.58597194388776
         },
         {
          "lr_predict": 18.16465541579015,
          "xfit": 234.17855711422845
         },
         {
          "lr_predict": 18.192824923958575,
          "xfit": 234.77114228456912
         },
         {
          "lr_predict": 18.220994432127,
          "xfit": 235.36372745490982
         },
         {
          "lr_predict": 18.249163940295425,
          "xfit": 235.9563126252505
         },
         {
          "lr_predict": 18.27733344846385,
          "xfit": 236.54889779559116
         },
         {
          "lr_predict": 18.305502956632274,
          "xfit": 237.14148296593186
         },
         {
          "lr_predict": 18.3336724648007,
          "xfit": 237.73406813627253
         },
         {
          "lr_predict": 18.361841972969124,
          "xfit": 238.32665330661322
         },
         {
          "lr_predict": 18.39001148113755,
          "xfit": 238.9192384769539
         },
         {
          "lr_predict": 18.418180989305974,
          "xfit": 239.5118236472946
         },
         {
          "lr_predict": 18.4463504974744,
          "xfit": 240.10440881763526
         },
         {
          "lr_predict": 18.474520005642823,
          "xfit": 240.69699398797593
         },
         {
          "lr_predict": 18.502689513811248,
          "xfit": 241.28957915831663
         },
         {
          "lr_predict": 18.530859021979673,
          "xfit": 241.8821643286573
         },
         {
          "lr_predict": 18.559028530148098,
          "xfit": 242.474749498998
         },
         {
          "lr_predict": 18.587198038316522,
          "xfit": 243.06733466933866
         },
         {
          "lr_predict": 18.615367546484947,
          "xfit": 243.65991983967936
         },
         {
          "lr_predict": 18.643537054653372,
          "xfit": 244.25250501002003
         },
         {
          "lr_predict": 18.671706562821797,
          "xfit": 244.8450901803607
         },
         {
          "lr_predict": 18.69987607099022,
          "xfit": 245.4376753507014
         },
         {
          "lr_predict": 18.728045579158646,
          "xfit": 246.03026052104207
         },
         {
          "lr_predict": 18.75621508732707,
          "xfit": 246.62284569138276
         },
         {
          "lr_predict": 18.784384595495496,
          "xfit": 247.21543086172343
         },
         {
          "lr_predict": 18.81255410366392,
          "xfit": 247.80801603206413
         },
         {
          "lr_predict": 18.840723611832345,
          "xfit": 248.4006012024048
         },
         {
          "lr_predict": 18.86889312000077,
          "xfit": 248.99318637274547
         },
         {
          "lr_predict": 18.897062628169195,
          "xfit": 249.58577154308617
         },
         {
          "lr_predict": 18.92523213633762,
          "xfit": 250.17835671342684
         },
         {
          "lr_predict": 18.953401644506044,
          "xfit": 250.77094188376753
         },
         {
          "lr_predict": 18.98157115267447,
          "xfit": 251.3635270541082
         },
         {
          "lr_predict": 19.009740660842894,
          "xfit": 251.9561122244489
         },
         {
          "lr_predict": 19.03791016901132,
          "xfit": 252.54869739478957
         },
         {
          "lr_predict": 19.066079677179744,
          "xfit": 253.14128256513024
         },
         {
          "lr_predict": 19.09424918534817,
          "xfit": 253.73386773547094
         },
         {
          "lr_predict": 19.122418693516593,
          "xfit": 254.3264529058116
         },
         {
          "lr_predict": 19.150588201685018,
          "xfit": 254.9190380761523
         },
         {
          "lr_predict": 19.178757709853443,
          "xfit": 255.51162324649297
         },
         {
          "lr_predict": 19.206927218021868,
          "xfit": 256.10420841683367
         },
         {
          "lr_predict": 19.235096726190292,
          "xfit": 256.69679358717434
         },
         {
          "lr_predict": 19.263266234358717,
          "xfit": 257.289378757515
         },
         {
          "lr_predict": 19.291435742527142,
          "xfit": 257.8819639278557
         },
         {
          "lr_predict": 19.319605250695567,
          "xfit": 258.4745490981964
         },
         {
          "lr_predict": 19.34777475886399,
          "xfit": 259.0671342685371
         },
         {
          "lr_predict": 19.375944267032416,
          "xfit": 259.65971943887774
         },
         {
          "lr_predict": 19.40411377520084,
          "xfit": 260.2523046092184
         },
         {
          "lr_predict": 19.432283283369266,
          "xfit": 260.8448897795591
         },
         {
          "lr_predict": 19.46045279153769,
          "xfit": 261.4374749498998
         },
         {
          "lr_predict": 19.488622299706115,
          "xfit": 262.0300601202405
         },
         {
          "lr_predict": 19.51679180787454,
          "xfit": 262.62264529058115
         },
         {
          "lr_predict": 19.544961316042965,
          "xfit": 263.2152304609218
         },
         {
          "lr_predict": 19.57313082421139,
          "xfit": 263.80781563126254
         },
         {
          "lr_predict": 19.601300332379815,
          "xfit": 264.4004008016032
         },
         {
          "lr_predict": 19.62946984054824,
          "xfit": 264.9929859719439
         },
         {
          "lr_predict": 19.657639348716664,
          "xfit": 265.58557114228455
         },
         {
          "lr_predict": 19.685808856885085,
          "xfit": 266.1781563126252
         },
         {
          "lr_predict": 19.713978365053514,
          "xfit": 266.77074148296595
         },
         {
          "lr_predict": 19.74214787322194,
          "xfit": 267.3633266533066
         },
         {
          "lr_predict": 19.770317381390363,
          "xfit": 267.9559118236473
         },
         {
          "lr_predict": 19.798486889558784,
          "xfit": 268.54849699398795
         },
         {
          "lr_predict": 19.82665639772721,
          "xfit": 269.1410821643286
         },
         {
          "lr_predict": 19.854825905895638,
          "xfit": 269.73366733466935
         },
         {
          "lr_predict": 19.882995414064062,
          "xfit": 270.32625250501
         },
         {
          "lr_predict": 19.911164922232487,
          "xfit": 270.9188376753507
         },
         {
          "lr_predict": 19.93933443040091,
          "xfit": 271.51142284569136
         },
         {
          "lr_predict": 19.967503938569337,
          "xfit": 272.1040080160321
         },
         {
          "lr_predict": 19.99567344673776,
          "xfit": 272.69659318637275
         },
         {
          "lr_predict": 20.023842954906186,
          "xfit": 273.2891783567134
         },
         {
          "lr_predict": 20.052012463074607,
          "xfit": 273.8817635270541
         },
         {
          "lr_predict": 20.080181971243032,
          "xfit": 274.47434869739476
         },
         {
          "lr_predict": 20.10835147941146,
          "xfit": 275.0669338677355
         },
         {
          "lr_predict": 20.136520987579885,
          "xfit": 275.65951903807616
         },
         {
          "lr_predict": 20.164690495748307,
          "xfit": 276.2521042084168
         },
         {
          "lr_predict": 20.19286000391673,
          "xfit": 276.8446893787575
         },
         {
          "lr_predict": 20.221029512085156,
          "xfit": 277.43727454909816
         },
         {
          "lr_predict": 20.249199020253585,
          "xfit": 278.0298597194389
         },
         {
          "lr_predict": 20.27736852842201,
          "xfit": 278.62244488977956
         },
         {
          "lr_predict": 20.30553803659043,
          "xfit": 279.2150300601202
         },
         {
          "lr_predict": 20.333707544758855,
          "xfit": 279.8076152304609
         },
         {
          "lr_predict": 20.361877052927277,
          "xfit": 280.40020040080157
         },
         {
          "lr_predict": 20.39004656109571,
          "xfit": 280.9927855711423
         },
         {
          "lr_predict": 20.41821606926413,
          "xfit": 281.58537074148296
         },
         {
          "lr_predict": 20.446385577432554,
          "xfit": 282.17795591182363
         },
         {
          "lr_predict": 20.47455508560098,
          "xfit": 282.7705410821643
         },
         {
          "lr_predict": 20.502724593769408,
          "xfit": 283.363126252505
         },
         {
          "lr_predict": 20.53089410193783,
          "xfit": 283.9557114228457
         },
         {
          "lr_predict": 20.559063610106254,
          "xfit": 284.54829659318636
         },
         {
          "lr_predict": 20.58723311827468,
          "xfit": 285.14088176352703
         },
         {
          "lr_predict": 20.6154026264431,
          "xfit": 285.7334669338677
         },
         {
          "lr_predict": 20.64357213461153,
          "xfit": 286.32605210420843
         },
         {
          "lr_predict": 20.671741642779953,
          "xfit": 286.9186372745491
         },
         {
          "lr_predict": 20.699911150948378,
          "xfit": 287.51122244488977
         },
         {
          "lr_predict": 20.7280806591168,
          "xfit": 288.10380761523044
         },
         {
          "lr_predict": 20.756250167285224,
          "xfit": 288.6963927855711
         },
         {
          "lr_predict": 20.784419675453652,
          "xfit": 289.28897795591183
         },
         {
          "lr_predict": 20.812589183622077,
          "xfit": 289.8815631262525
         },
         {
          "lr_predict": 20.8407586917905,
          "xfit": 290.47414829659317
         },
         {
          "lr_predict": 20.868928199958923,
          "xfit": 291.06673346693384
         },
         {
          "lr_predict": 20.89709770812735,
          "xfit": 291.65931863727457
         },
         {
          "lr_predict": 20.925267216295776,
          "xfit": 292.25190380761524
         },
         {
          "lr_predict": 20.9534367244642,
          "xfit": 292.8444889779559
         },
         {
          "lr_predict": 20.981606232632622,
          "xfit": 293.4370741482966
         },
         {
          "lr_predict": 21.009775740801047,
          "xfit": 294.02965931863724
         },
         {
          "lr_predict": 21.037945248969475,
          "xfit": 294.62224448897797
         },
         {
          "lr_predict": 21.0661147571379,
          "xfit": 295.21482965931864
         },
         {
          "lr_predict": 21.09428426530632,
          "xfit": 295.8074148296593
         },
         {
          "lr_predict": 21.122453773474746,
          "xfit": 296.4
         }
        ]
       },
       "layer": [
        {
         "data": {
          "name": "data-1526d6976bd288cf311efed38a6b53c3"
         },
         "encoding": {
          "x": {
           "field": "TV",
           "type": "quantitative"
          },
          "y": {
           "field": "sales",
           "type": "quantitative"
          }
         },
         "mark": "point",
         "width": 800
        },
        {
         "data": {
          "name": "data-34e7e843ad0074e61184193b436bd1c3"
         },
         "encoding": {
          "x": {
           "field": "xfit",
           "type": "quantitative"
          },
          "y": {
           "field": "lr_predict",
           "type": "quantitative"
          }
         },
         "mark": "line",
         "selection": {
          "selector003": {
           "bind": "scales",
           "encodings": [
            "x"
           ],
           "type": "interval"
          }
         },
         "width": 800
        }
       ]
      },
      "text/plain": [
       "<VegaLite 3 object>\n",
       "\n",
       "If you see this message, it means the renderer has not been properly enabled\n",
       "for the frontend that you are using. For more information, see\n",
       "https://altair-viz.github.io/user_guide/troubleshooting.html\n"
      ]
     },
     "execution_count": 15,
     "metadata": {},
     "output_type": "execute_result"
    }
   ],
   "source": [
    "points = alt.Chart(advertising).mark_point().encode(\n",
    "  x='TV',\n",
    "  y='sales',\n",
    ").properties(\n",
    "  width=800\n",
    ")\n",
    "\n",
    "lines = alt.Chart(predictions).mark_line().encode(\n",
    "  x='xfit',\n",
    "  y='lr_predict',\n",
    ").properties(\n",
    "  width=800\n",
    ").interactive(bind_y=False)\n",
    "\n",
    "points + lines"
   ]
  },
  {
   "cell_type": "code",
   "execution_count": null,
   "metadata": {
    "colab": {},
    "colab_type": "code",
    "id": "IsIChkTddkoQ"
   },
   "outputs": [],
   "source": []
  }
 ],
 "metadata": {
  "colab": {
   "include_colab_link": true,
   "name": "ISL Ch 3 w tensorflow.ipynb",
   "provenance": [],
   "toc_visible": true
  },
  "kernelspec": {
   "display_name": "Python 3",
   "language": "python",
   "name": "python3"
  },
  "language_info": {
   "codemirror_mode": {
    "name": "ipython",
    "version": 3
   },
   "file_extension": ".py",
   "mimetype": "text/x-python",
   "name": "python",
   "nbconvert_exporter": "python",
   "pygments_lexer": "ipython3",
   "version": "3.7.2"
  }
 },
 "nbformat": 4,
 "nbformat_minor": 1
}

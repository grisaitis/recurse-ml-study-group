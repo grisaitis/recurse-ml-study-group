{
 "cells": [
  {
   "cell_type": "code",
   "execution_count": 1,
   "metadata": {},
   "outputs": [],
   "source": [
    "import logging"
   ]
  },
  {
   "cell_type": "code",
   "execution_count": 2,
   "metadata": {},
   "outputs": [],
   "source": [
    "class LoggerMixin(object):\n",
    "    @property\n",
    "    def logger(self):\n",
    "        name = '.'.join([\n",
    "            self.__module__,\n",
    "            self.__class__.__name__,\n",
    "            str(id(self))\n",
    "        ])\n",
    "        logger = logging.getLogger(name)\n",
    "        if (logger.hasHandlers()):\n",
    "            logger.handlers.clear()\n",
    "        chandler = logging.StreamHandler()\n",
    "#         chandler.setLevel(logging.DEBUG)\n",
    "        formatter = logging.Formatter('%(asctime)s - %(name)s - %(levelname)s - %(message)s')\n",
    "        chandler.setFormatter(formatter)\n",
    "        logger.addHandler(chandler)\n",
    "        logger.setLevel(logging.DEBUG)\n",
    "        return logger\n"
   ]
  },
  {
   "cell_type": "code",
   "execution_count": 3,
   "metadata": {},
   "outputs": [],
   "source": [
    "class Thing(LoggerMixin, object):\n",
    "    def __init__(self):\n",
    "        super().__init__()\n",
    "        self.logger.info(\"hello there!\")\n",
    "\n",
    "    def do_the_thing(self):\n",
    "        self.logger.debug(\"whoa\")"
   ]
  },
  {
   "cell_type": "code",
   "execution_count": 4,
   "metadata": {},
   "outputs": [
    {
     "name": "stderr",
     "output_type": "stream",
     "text": [
      "2019-10-08 13:10:08,421 - __main__.Thing.4510259968 - INFO - hello there!\n"
     ]
    }
   ],
   "source": [
    "t = Thing()"
   ]
  },
  {
   "cell_type": "code",
   "execution_count": 5,
   "metadata": {},
   "outputs": [
    {
     "name": "stderr",
     "output_type": "stream",
     "text": [
      "2019-10-08 13:10:08,433 - __main__.Thing.4510259968 - DEBUG - whoa\n"
     ]
    }
   ],
   "source": [
    "t.do_the_thing()"
   ]
  },
  {
   "cell_type": "code",
   "execution_count": 6,
   "metadata": {},
   "outputs": [],
   "source": [
    "logger = logging.getLogger(\"another logger\")\n",
    "logger.setLevel(logging.DEBUG)\n",
    "logging.debug(\"test\")"
   ]
  },
  {
   "cell_type": "code",
   "execution_count": 7,
   "metadata": {},
   "outputs": [
    {
     "name": "stderr",
     "output_type": "stream",
     "text": [
      "2019-10-08 13:10:08,467 - __main__.Thing.4510259968 - DEBUG - whoa\n",
      "DEBUG:__main__.Thing.4510259968:whoa\n"
     ]
    }
   ],
   "source": [
    "t.do_the_thing()"
   ]
  },
  {
   "cell_type": "code",
   "execution_count": null,
   "metadata": {},
   "outputs": [],
   "source": []
  }
 ],
 "metadata": {
  "kernelspec": {
   "display_name": "Python 3",
   "language": "python",
   "name": "python3"
  },
  "language_info": {
   "codemirror_mode": {
    "name": "ipython",
    "version": 3
   },
   "file_extension": ".py",
   "mimetype": "text/x-python",
   "name": "python",
   "nbconvert_exporter": "python",
   "pygments_lexer": "ipython3",
   "version": "3.7.2"
  }
 },
 "nbformat": 4,
 "nbformat_minor": 2
}
